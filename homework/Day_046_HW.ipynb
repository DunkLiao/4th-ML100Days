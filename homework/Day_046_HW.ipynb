{
 "cells": [
  {
   "cell_type": "markdown",
   "metadata": {},
   "source": [
    "### 專案名稱: 第四屆機器學習百日馬拉松\n",
    "### 功能描述: 第46天作業\n",
    "### 版權所有: Dunk  \n",
    "### 程式撰寫: Dunk  \n",
    "### 撰寫日期：2020/04/17\n",
    "### 改版日期:  \n",
    "### 改版備註:"
   ]
  },
  {
   "cell_type": "markdown",
   "metadata": {},
   "source": [
    "### 作業\n",
    "目前已經學過許多的模型，相信大家對整體流程應該比較掌握了，這次作業請改用**手寫辨識資料集**，步驟流程都是一樣的，請試著自己撰寫程式碼來完成所有步驟"
   ]
  },
  {
   "cell_type": "markdown",
   "metadata": {},
   "source": [
    "### ANS:"
   ]
  },
  {
   "cell_type": "markdown",
   "metadata": {},
   "source": [
    "#### 資料集說明\n",
    ">手寫辨識資料集，要做分類\n",
    ">- 辨識手寫數字0~9\n",
    "\n",
    "#### 欄位說明\n",
    "1. ('images', (1797L, 8L, 8L))共有 1797 張影像，影像大小為 8x8\n",
    "2. ('data', (1797L, 64L))data 則是將8x8的矩陣攤平成64個元素之一維向量\n",
    "3. ('target_names', (10L,)) 說明10種分類之對應 [0, 1, 2, 3, 4, 5, 6, 7, 8, 9]\n",
    "4. DESCR 資料之描述\n",
    "5. ('target', (1797L,))記錄1797張影像各自代表那一個數字\n",
    "\n",
    "#### 參考資料\n",
    "[load_digits用法說明](https://scikit-learn.org/stable/modules/generated/sklearn.datasets.load_digits.html \"load_digits用法說明\")\n",
    "\n",
    "[Ex 1: The digits 手寫數字辨識](https://machine-learning-python.kspax.io/datasets/ex1_the_digits_dataset \"Ex 1: The digits 手寫數字辨識\")\n",
    "\n",
    "[GradientBoostingClassifier用法](https://scikit-learn.org/stable/modules/generated/sklearn.ensemble.GradientBoostingClassifier.html \"GradientBoostingClassifier用法\")"
   ]
  },
  {
   "cell_type": "markdown",
   "metadata": {},
   "source": [
    "#### 匯入所需套件"
   ]
  },
  {
   "cell_type": "code",
   "execution_count": 47,
   "metadata": {},
   "outputs": [],
   "source": [
    "from sklearn import datasets, metrics\n",
    "from sklearn.model_selection import train_test_split\n",
    "from sklearn.ensemble import GradientBoostingClassifier"
   ]
  },
  {
   "cell_type": "code",
   "execution_count": 48,
   "metadata": {},
   "outputs": [],
   "source": [
    "digits = datasets.load_digits()"
   ]
  },
  {
   "cell_type": "markdown",
   "metadata": {},
   "source": [
    "#### 查看資料源"
   ]
  },
  {
   "cell_type": "code",
   "execution_count": 49,
   "metadata": {},
   "outputs": [
    {
     "data": {
      "text/plain": [
       "array([[ 0.,  0.,  5., ...,  0.,  0.,  0.],\n",
       "       [ 0.,  0.,  0., ..., 10.,  0.,  0.],\n",
       "       [ 0.,  0.,  0., ..., 16.,  9.,  0.],\n",
       "       ...,\n",
       "       [ 0.,  0.,  1., ...,  6.,  0.,  0.],\n",
       "       [ 0.,  0.,  2., ..., 12.,  0.,  0.],\n",
       "       [ 0.,  0., 10., ..., 12.,  1.,  0.]])"
      ]
     },
     "execution_count": 49,
     "metadata": {},
     "output_type": "execute_result"
    }
   ],
   "source": [
    "digits.data"
   ]
  },
  {
   "cell_type": "code",
   "execution_count": 50,
   "metadata": {},
   "outputs": [
    {
     "name": "stdout",
     "output_type": "stream",
     "text": [
      "[0 1 2 3 4 5 6 7 8 9]\n"
     ]
    }
   ],
   "source": [
    "import numpy as np\n",
    "arr_target = np.array(digits.target)\n",
    "print(np.unique(arr_target))"
   ]
  },
  {
   "cell_type": "code",
   "execution_count": 51,
   "metadata": {},
   "outputs": [],
   "source": [
    "# 切分訓練集與測試集\n",
    "x_train,x_test,y_train,y_test = train_test_split(digits.data,digits.target,test_size=0.25,random_state=4)\n",
    "\n",
    "# 使用GradientBoosting分類器\n",
    "gbc = GradientBoostingClassifier()\n",
    "\n",
    "# 進行訓練\n",
    "gbc.fit(x_train,y_train)\n",
    "\n",
    "# 預測測試集\n",
    "y_pred = gbc.predict(x_test)\n"
   ]
  },
  {
   "cell_type": "code",
   "execution_count": 52,
   "metadata": {},
   "outputs": [
    {
     "name": "stdout",
     "output_type": "stream",
     "text": [
      "Acuuracy:  0.9688888888888889\n"
     ]
    }
   ],
   "source": [
    "# 分類要驗證正確率(accucry)\n",
    "acc = metrics.accuracy_score(y_test,y_pred)\n",
    "print(\"Acuuracy: \", acc)"
   ]
  }
 ],
 "metadata": {
  "kernelspec": {
   "display_name": "Python 3",
   "language": "python",
   "name": "python3"
  },
  "language_info": {
   "codemirror_mode": {
    "name": "ipython",
    "version": 3
   },
   "file_extension": ".py",
   "mimetype": "text/x-python",
   "name": "python",
   "nbconvert_exporter": "python",
   "pygments_lexer": "ipython3",
   "version": "3.7.6"
  }
 },
 "nbformat": 4,
 "nbformat_minor": 2
}
