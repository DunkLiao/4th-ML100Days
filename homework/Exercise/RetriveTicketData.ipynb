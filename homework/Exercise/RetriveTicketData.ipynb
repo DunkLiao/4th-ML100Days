{
 "cells": [
  {
   "cell_type": "markdown",
   "metadata": {},
   "source": [
    "### 專案名稱: 機器學習練習\n",
    "### 功能描述: 支票領票時間預測\n",
    "### 版權所有: Dunk  \n",
    "### 程式撰寫: Dunk  \n",
    "### 撰寫日期：2020/04/15\n",
    "### 改版日期:  \n",
    "### 改版備註: 2020/04/20 增加特徵值"
   ]
  },
  {
   "cell_type": "markdown",
   "metadata": {},
   "source": [
    "#### 呼叫所需套件"
   ]
  },
  {
   "cell_type": "code",
   "execution_count": 30,
   "metadata": {},
   "outputs": [],
   "source": [
    "import os\n",
    "import numpy as np\n",
    "import pandas as pd\n",
    "import pprint\n",
    "from sklearn.model_selection import train_test_split\n",
    "from sklearn.metrics import mean_squared_error, r2_score, accuracy_score\n",
    "from sklearn import linear_model"
   ]
  },
  {
   "cell_type": "code",
   "execution_count": 31,
   "metadata": {},
   "outputs": [],
   "source": [
    "# 檢查 DataFrame 空缺值的狀態\n",
    "def na_check(df_data):\n",
    "    data_na = (df_data.isnull().sum() / len(df_data)) * 100\n",
    "    data_na = data_na.drop(data_na[data_na == 0].index).sort_values(ascending=False)\n",
    "    missing_data = pd.DataFrame({'Missing Ratio' :data_na})\n",
    "    display(missing_data.head(10))"
   ]
  },
  {
   "cell_type": "markdown",
   "metadata": {},
   "source": [
    "#### 設定資料來源"
   ]
  },
  {
   "cell_type": "code",
   "execution_count": 32,
   "metadata": {},
   "outputs": [
    {
     "name": "stdout",
     "output_type": "stream",
     "text": [
      "(3865, 12)\n",
      "(3865,)\n"
     ]
    },
    {
     "data": {
      "text/html": [
       "<div>\n",
       "<style scoped>\n",
       "    .dataframe tbody tr th:only-of-type {\n",
       "        vertical-align: middle;\n",
       "    }\n",
       "\n",
       "    .dataframe tbody tr th {\n",
       "        vertical-align: top;\n",
       "    }\n",
       "\n",
       "    .dataframe thead th {\n",
       "        text-align: right;\n",
       "    }\n",
       "</style>\n",
       "<table border=\"1\" class=\"dataframe\">\n",
       "  <thead>\n",
       "    <tr style=\"text-align: right;\">\n",
       "      <th></th>\n",
       "      <th>Missing Ratio</th>\n",
       "    </tr>\n",
       "  </thead>\n",
       "  <tbody>\n",
       "  </tbody>\n",
       "</table>\n",
       "</div>"
      ],
      "text/plain": [
       "Empty DataFrame\n",
       "Columns: [Missing Ratio]\n",
       "Index: []"
      ]
     },
     "metadata": {},
     "output_type": "display_data"
    },
    {
     "name": "stdout",
     "output_type": "stream",
     "text": [
      "None\n"
     ]
    }
   ],
   "source": [
    "# 設定 data_path\n",
    "dir_data = './data/'\n",
    "app_train = pd.read_csv(os.path.join(dir_data, 'TicketTrade_train.csv'))\n",
    "app_test = app_train['目標值']\n",
    "\n",
    "app_train['開庫月份'] = app_train['開庫日期'].apply(lambda x: int(str(x)[3:5]))\n",
    "app_train['開庫日份'] = app_train['開庫日期'].apply(lambda x: int(str(x)[5:7]))\n",
    "\n",
    "print(app_train.shape)\n",
    "print(app_test.shape)\n",
    "print(na_check(app_train))"
   ]
  },
  {
   "cell_type": "code",
   "execution_count": 33,
   "metadata": {},
   "outputs": [
    {
     "name": "stdout",
     "output_type": "stream",
     "text": [
      "<class 'pandas.core.frame.DataFrame'>\n",
      "RangeIndex: 3865 entries, 0 to 3864\n",
      "Data columns (total 12 columns):\n",
      "契約編號        3865 non-null object\n",
      "庫存支票本流水號    3865 non-null int64\n",
      "基金別頁編碼      3865 non-null object\n",
      "開庫日期        3865 non-null int64\n",
      "摘要          3865 non-null object\n",
      "基金別         3865 non-null object\n",
      "異動支票帳號      3865 non-null object\n",
      "異動支票號碼      3865 non-null object\n",
      "基金保管人簽收     3865 non-null object\n",
      "目標值         3865 non-null float64\n",
      "開庫月份        3865 non-null int64\n",
      "開庫日份        3865 non-null int64\n",
      "dtypes: float64(1), int64(4), object(7)\n",
      "memory usage: 362.5+ KB\n"
     ]
    }
   ],
   "source": [
    "app_train.info()"
   ]
  },
  {
   "cell_type": "code",
   "execution_count": 34,
   "metadata": {},
   "outputs": [
    {
     "data": {
      "text/html": [
       "<div>\n",
       "<style scoped>\n",
       "    .dataframe tbody tr th:only-of-type {\n",
       "        vertical-align: middle;\n",
       "    }\n",
       "\n",
       "    .dataframe tbody tr th {\n",
       "        vertical-align: top;\n",
       "    }\n",
       "\n",
       "    .dataframe thead th {\n",
       "        text-align: right;\n",
       "    }\n",
       "</style>\n",
       "<table border=\"1\" class=\"dataframe\">\n",
       "  <thead>\n",
       "    <tr style=\"text-align: right;\">\n",
       "      <th></th>\n",
       "      <th>庫存支票本流水號</th>\n",
       "      <th>開庫日期</th>\n",
       "      <th>目標值</th>\n",
       "      <th>開庫月份</th>\n",
       "      <th>開庫日份</th>\n",
       "    </tr>\n",
       "  </thead>\n",
       "  <tbody>\n",
       "    <tr>\n",
       "      <th>count</th>\n",
       "      <td>3865.000000</td>\n",
       "      <td>3.865000e+03</td>\n",
       "      <td>3865.000000</td>\n",
       "      <td>3865.000000</td>\n",
       "      <td>3865.000000</td>\n",
       "    </tr>\n",
       "    <tr>\n",
       "      <th>mean</th>\n",
       "      <td>13.285899</td>\n",
       "      <td>1.082663e+06</td>\n",
       "      <td>11.875286</td>\n",
       "      <td>7.306856</td>\n",
       "      <td>15.490298</td>\n",
       "    </tr>\n",
       "    <tr>\n",
       "      <th>std</th>\n",
       "      <td>7.412448</td>\n",
       "      <td>3.658992e+03</td>\n",
       "      <td>1.458522</td>\n",
       "      <td>3.486148</td>\n",
       "      <td>8.809754</td>\n",
       "    </tr>\n",
       "    <tr>\n",
       "      <th>min</th>\n",
       "      <td>1.000000</td>\n",
       "      <td>1.080508e+06</td>\n",
       "      <td>9.120000</td>\n",
       "      <td>1.000000</td>\n",
       "      <td>1.000000</td>\n",
       "    </tr>\n",
       "    <tr>\n",
       "      <th>25%</th>\n",
       "      <td>7.000000</td>\n",
       "      <td>1.080724e+06</td>\n",
       "      <td>10.780000</td>\n",
       "      <td>5.000000</td>\n",
       "      <td>8.000000</td>\n",
       "    </tr>\n",
       "    <tr>\n",
       "      <th>50%</th>\n",
       "      <td>12.000000</td>\n",
       "      <td>1.081003e+06</td>\n",
       "      <td>11.550000</td>\n",
       "      <td>8.000000</td>\n",
       "      <td>16.000000</td>\n",
       "    </tr>\n",
       "    <tr>\n",
       "      <th>75%</th>\n",
       "      <td>18.000000</td>\n",
       "      <td>1.081217e+06</td>\n",
       "      <td>13.000000</td>\n",
       "      <td>10.000000</td>\n",
       "      <td>22.000000</td>\n",
       "    </tr>\n",
       "    <tr>\n",
       "      <th>max</th>\n",
       "      <td>32.000000</td>\n",
       "      <td>1.090226e+06</td>\n",
       "      <td>17.720000</td>\n",
       "      <td>12.000000</td>\n",
       "      <td>31.000000</td>\n",
       "    </tr>\n",
       "  </tbody>\n",
       "</table>\n",
       "</div>"
      ],
      "text/plain": [
       "          庫存支票本流水號          開庫日期          目標值         開庫月份         開庫日份\n",
       "count  3865.000000  3.865000e+03  3865.000000  3865.000000  3865.000000\n",
       "mean     13.285899  1.082663e+06    11.875286     7.306856    15.490298\n",
       "std       7.412448  3.658992e+03     1.458522     3.486148     8.809754\n",
       "min       1.000000  1.080508e+06     9.120000     1.000000     1.000000\n",
       "25%       7.000000  1.080724e+06    10.780000     5.000000     8.000000\n",
       "50%      12.000000  1.081003e+06    11.550000     8.000000    16.000000\n",
       "75%      18.000000  1.081217e+06    13.000000    10.000000    22.000000\n",
       "max      32.000000  1.090226e+06    17.720000    12.000000    31.000000"
      ]
     },
     "execution_count": 34,
     "metadata": {},
     "output_type": "execute_result"
    }
   ],
   "source": [
    "app_train.describe()"
   ]
  },
  {
   "cell_type": "code",
   "execution_count": 35,
   "metadata": {},
   "outputs": [
    {
     "data": {
      "text/plain": [
       "契約編號         object\n",
       "庫存支票本流水號      int64\n",
       "基金別頁編碼       object\n",
       "開庫日期          int64\n",
       "摘要           object\n",
       "基金別          object\n",
       "異動支票帳號       object\n",
       "異動支票號碼       object\n",
       "基金保管人簽收      object\n",
       "目標值         float64\n",
       "開庫月份          int64\n",
       "開庫日份          int64\n",
       "dtype: object"
      ]
     },
     "execution_count": 35,
     "metadata": {},
     "output_type": "execute_result"
    }
   ],
   "source": [
    "# 欄位資料型態\n",
    "app_train.dtypes"
   ]
  },
  {
   "cell_type": "code",
   "execution_count": 36,
   "metadata": {},
   "outputs": [
    {
     "name": "stdout",
     "output_type": "stream",
     "text": [
      "7\n",
      "開庫日期       -0.243525\n",
      "契約編號       -0.135590\n",
      "異動支票帳號     -0.087143\n",
      "摘要         -0.082667\n",
      "基金別頁編碼     -0.076831\n",
      "開庫日份       -0.038248\n",
      "基金別        -0.034756\n",
      "庫存支票本流水號   -0.031390\n",
      "基金保管人簽收    -0.030456\n",
      "異動支票號碼      0.093561\n",
      "開庫月份        0.197444\n",
      "目標值         1.000000\n",
      "Name: 目標值, dtype: float64\n"
     ]
    },
    {
     "data": {
      "text/html": [
       "<div>\n",
       "<style scoped>\n",
       "    .dataframe tbody tr th:only-of-type {\n",
       "        vertical-align: middle;\n",
       "    }\n",
       "\n",
       "    .dataframe tbody tr th {\n",
       "        vertical-align: top;\n",
       "    }\n",
       "\n",
       "    .dataframe thead th {\n",
       "        text-align: right;\n",
       "    }\n",
       "</style>\n",
       "<table border=\"1\" class=\"dataframe\">\n",
       "  <thead>\n",
       "    <tr style=\"text-align: right;\">\n",
       "      <th></th>\n",
       "      <th>契約編號</th>\n",
       "      <th>庫存支票本流水號</th>\n",
       "      <th>基金別頁編碼</th>\n",
       "      <th>開庫日期</th>\n",
       "      <th>摘要</th>\n",
       "      <th>基金別</th>\n",
       "      <th>異動支票帳號</th>\n",
       "      <th>基金保管人簽收</th>\n",
       "      <th>開庫月份</th>\n",
       "      <th>開庫日份</th>\n",
       "    </tr>\n",
       "  </thead>\n",
       "  <tbody>\n",
       "    <tr>\n",
       "      <th>0</th>\n",
       "      <td>4</td>\n",
       "      <td>6</td>\n",
       "      <td>9</td>\n",
       "      <td>1080508</td>\n",
       "      <td>36</td>\n",
       "      <td>33</td>\n",
       "      <td>46</td>\n",
       "      <td>1</td>\n",
       "      <td>5</td>\n",
       "      <td>8</td>\n",
       "    </tr>\n",
       "    <tr>\n",
       "      <th>1</th>\n",
       "      <td>9</td>\n",
       "      <td>8</td>\n",
       "      <td>5</td>\n",
       "      <td>1080508</td>\n",
       "      <td>27</td>\n",
       "      <td>11</td>\n",
       "      <td>95</td>\n",
       "      <td>0</td>\n",
       "      <td>5</td>\n",
       "      <td>8</td>\n",
       "    </tr>\n",
       "    <tr>\n",
       "      <th>2</th>\n",
       "      <td>26</td>\n",
       "      <td>25</td>\n",
       "      <td>36</td>\n",
       "      <td>1080508</td>\n",
       "      <td>163</td>\n",
       "      <td>36</td>\n",
       "      <td>73</td>\n",
       "      <td>8</td>\n",
       "      <td>5</td>\n",
       "      <td>8</td>\n",
       "    </tr>\n",
       "    <tr>\n",
       "      <th>3</th>\n",
       "      <td>26</td>\n",
       "      <td>20</td>\n",
       "      <td>36</td>\n",
       "      <td>1080508</td>\n",
       "      <td>162</td>\n",
       "      <td>36</td>\n",
       "      <td>71</td>\n",
       "      <td>8</td>\n",
       "      <td>5</td>\n",
       "      <td>8</td>\n",
       "    </tr>\n",
       "    <tr>\n",
       "      <th>4</th>\n",
       "      <td>26</td>\n",
       "      <td>13</td>\n",
       "      <td>36</td>\n",
       "      <td>1080508</td>\n",
       "      <td>158</td>\n",
       "      <td>36</td>\n",
       "      <td>72</td>\n",
       "      <td>8</td>\n",
       "      <td>5</td>\n",
       "      <td>8</td>\n",
       "    </tr>\n",
       "    <tr>\n",
       "      <th>...</th>\n",
       "      <td>...</td>\n",
       "      <td>...</td>\n",
       "      <td>...</td>\n",
       "      <td>...</td>\n",
       "      <td>...</td>\n",
       "      <td>...</td>\n",
       "      <td>...</td>\n",
       "      <td>...</td>\n",
       "      <td>...</td>\n",
       "      <td>...</td>\n",
       "    </tr>\n",
       "    <tr>\n",
       "      <th>3860</th>\n",
       "      <td>2</td>\n",
       "      <td>10</td>\n",
       "      <td>10</td>\n",
       "      <td>1090226</td>\n",
       "      <td>37</td>\n",
       "      <td>20</td>\n",
       "      <td>31</td>\n",
       "      <td>2</td>\n",
       "      <td>2</td>\n",
       "      <td>26</td>\n",
       "    </tr>\n",
       "    <tr>\n",
       "      <th>3861</th>\n",
       "      <td>5</td>\n",
       "      <td>26</td>\n",
       "      <td>31</td>\n",
       "      <td>1090226</td>\n",
       "      <td>136</td>\n",
       "      <td>19</td>\n",
       "      <td>56</td>\n",
       "      <td>3</td>\n",
       "      <td>2</td>\n",
       "      <td>26</td>\n",
       "    </tr>\n",
       "    <tr>\n",
       "      <th>3862</th>\n",
       "      <td>14</td>\n",
       "      <td>21</td>\n",
       "      <td>18</td>\n",
       "      <td>1090226</td>\n",
       "      <td>82</td>\n",
       "      <td>10</td>\n",
       "      <td>7</td>\n",
       "      <td>10</td>\n",
       "      <td>2</td>\n",
       "      <td>26</td>\n",
       "    </tr>\n",
       "    <tr>\n",
       "      <th>3863</th>\n",
       "      <td>20</td>\n",
       "      <td>16</td>\n",
       "      <td>21</td>\n",
       "      <td>1090226</td>\n",
       "      <td>96</td>\n",
       "      <td>25</td>\n",
       "      <td>55</td>\n",
       "      <td>10</td>\n",
       "      <td>2</td>\n",
       "      <td>26</td>\n",
       "    </tr>\n",
       "    <tr>\n",
       "      <th>3864</th>\n",
       "      <td>23</td>\n",
       "      <td>20</td>\n",
       "      <td>11</td>\n",
       "      <td>1090226</td>\n",
       "      <td>53</td>\n",
       "      <td>26</td>\n",
       "      <td>13</td>\n",
       "      <td>2</td>\n",
       "      <td>2</td>\n",
       "      <td>26</td>\n",
       "    </tr>\n",
       "  </tbody>\n",
       "</table>\n",
       "<p>3865 rows × 10 columns</p>\n",
       "</div>"
      ],
      "text/plain": [
       "      契約編號  庫存支票本流水號  基金別頁編碼     開庫日期   摘要  基金別  異動支票帳號  基金保管人簽收  開庫月份  開庫日份\n",
       "0        4         6       9  1080508   36   33      46        1     5     8\n",
       "1        9         8       5  1080508   27   11      95        0     5     8\n",
       "2       26        25      36  1080508  163   36      73        8     5     8\n",
       "3       26        20      36  1080508  162   36      71        8     5     8\n",
       "4       26        13      36  1080508  158   36      72        8     5     8\n",
       "...    ...       ...     ...      ...  ...  ...     ...      ...   ...   ...\n",
       "3860     2        10      10  1090226   37   20      31        2     2    26\n",
       "3861     5        26      31  1090226  136   19      56        3     2    26\n",
       "3862    14        21      18  1090226   82   10       7       10     2    26\n",
       "3863    20        16      21  1090226   96   25      55       10     2    26\n",
       "3864    23        20      11  1090226   53   26      13        2     2    26\n",
       "\n",
       "[3865 rows x 10 columns]"
      ]
     },
     "execution_count": 36,
     "metadata": {},
     "output_type": "execute_result"
    }
   ],
   "source": [
    "# 種類類別型欄位轉標籤編碼 (Label Encoding)\n",
    "from sklearn.preprocessing import LabelEncoder\n",
    "le = LabelEncoder()\n",
    "# le_count = app_train['基金保管人簽收'].nunique()\n",
    "num_count = 0\n",
    "# 檢查每一個 column\n",
    "for col in app_train:\n",
    "    if app_train[col].dtype == 'object':        \n",
    "        # 就做 Label Encoder\n",
    "        le.fit(app_train[col])\n",
    "        app_train[col] = le.transform(app_train[col])                        \n",
    "        # 紀錄有多少個 columns 被標籤編碼過\n",
    "        num_count += 1\n",
    "        \n",
    "print(num_count)\n",
    "print(app_train.corr()['目標值'].sort_values())\n",
    "app_train = app_train.drop(['目標值','異動支票號碼'],axis=1)\n",
    "app_train"
   ]
  },
  {
   "cell_type": "code",
   "execution_count": 37,
   "metadata": {},
   "outputs": [],
   "source": [
    "# 切分訓練集/測試集\n",
    "x_train, x_test, y_train, y_test = train_test_split(app_train, app_test, test_size=0.2, random_state=4)\n",
    "\n",
    "# 建立一個線性回歸模型\n",
    "regr = linear_model.LinearRegression()\n",
    "\n",
    "# 將訓練資料丟進去模型訓練\n",
    "regr.fit(x_train, y_train)\n",
    "\n",
    "# 將測試資料丟進模型得到預測結果\n",
    "y_pred = regr.predict(x_test)"
   ]
  },
  {
   "cell_type": "code",
   "execution_count": 38,
   "metadata": {},
   "outputs": [
    {
     "name": "stdout",
     "output_type": "stream",
     "text": [
      "Mean squared error: 1.95\n"
     ]
    }
   ],
   "source": [
    "# 預測值與實際值的差距，使用 MSE\n",
    "print(\"Mean squared error: %.2f\"\n",
    "      % mean_squared_error(y_test, y_pred))"
   ]
  },
  {
   "cell_type": "markdown",
   "metadata": {},
   "source": [
    "#### 套用其他模型"
   ]
  },
  {
   "cell_type": "markdown",
   "metadata": {},
   "source": [
    "#### 使用決策樹回歸\n",
    "\n",
    "[函式用法](https://scikit-learn.org/stable/modules/generated/sklearn.tree.DecisionTreeRegressor.html \"函式用法\")"
   ]
  },
  {
   "cell_type": "code",
   "execution_count": 39,
   "metadata": {},
   "outputs": [],
   "source": [
    "from sklearn.tree import DecisionTreeRegressor\n",
    "\n",
    "# 切分訓練集/測試集\n",
    "x_train, x_test, y_train, y_test = train_test_split(app_train, app_test, test_size=0.2, random_state=4)\n",
    "\n",
    "# 建立模型\n",
    "dtr = DecisionTreeRegressor()\n",
    "\n",
    "# 訓練模型\n",
    "dtr.fit(x_train, y_train)\n",
    "\n",
    "# 預測測試集\n",
    "y_pred = dtr.predict(x_test)"
   ]
  },
  {
   "cell_type": "code",
   "execution_count": 40,
   "metadata": {},
   "outputs": [
    {
     "name": "stdout",
     "output_type": "stream",
     "text": [
      "Mean squared error: 1.10\n"
     ]
    }
   ],
   "source": [
    "# 預測值與實際值的差距，使用 MSE\n",
    "print(\"Mean squared error: %.2f\"\n",
    "      % mean_squared_error(y_test, y_pred))"
   ]
  },
  {
   "cell_type": "markdown",
   "metadata": {},
   "source": [
    "##### 使用隨機森林\n",
    "\n",
    "[函式用法](https://scikit-learn.org/stable/modules/generated/sklearn.ensemble.RandomForestRegressor.html \"函式用法\")"
   ]
  },
  {
   "cell_type": "code",
   "execution_count": 41,
   "metadata": {},
   "outputs": [],
   "source": [
    "from sklearn.ensemble import RandomForestRegressor\n",
    "\n",
    "# 切分訓練集/測試集\n",
    "x_train, x_test, y_train, y_test = train_test_split(app_train, app_test, test_size=0.2, random_state=4)\n",
    "\n",
    "# 建立模型\n",
    "clf = RandomForestRegressor()\n",
    "\n",
    "# 訓練模型\n",
    "clf.fit(x_train, y_train)\n",
    "\n",
    "# 預測測試集\n",
    "y_pred = clf.predict(x_test)"
   ]
  },
  {
   "cell_type": "code",
   "execution_count": 42,
   "metadata": {},
   "outputs": [
    {
     "name": "stdout",
     "output_type": "stream",
     "text": [
      "Mean squared error: 0.67\n"
     ]
    }
   ],
   "source": [
    "# 預測值與實際值的差距，使用 MSE\n",
    "print(\"Mean squared error: %.2f\"\n",
    "      % mean_squared_error(y_test, y_pred))"
   ]
  }
 ],
 "metadata": {
  "kernelspec": {
   "display_name": "Python 3",
   "language": "python",
   "name": "python3"
  },
  "language_info": {
   "codemirror_mode": {
    "name": "ipython",
    "version": 3
   },
   "file_extension": ".py",
   "mimetype": "text/x-python",
   "name": "python",
   "nbconvert_exporter": "python",
   "pygments_lexer": "ipython3",
   "version": "3.7.6"
  }
 },
 "nbformat": 4,
 "nbformat_minor": 2
}
