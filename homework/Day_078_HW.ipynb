{
 "cells": [
  {
   "cell_type": "markdown",
   "metadata": {},
   "source": [
    "### 專案名稱: 第四屆機器學習百日馬拉松\n",
    "### 功能描述: 第78天作業\n",
    "### 版權所有: Dunk  \n",
    "### 程式撰寫: Dunk  \n",
    "### 撰寫日期：2020/06/09\n",
    "### 改版日期:  \n",
    "### 改版備註:"
   ]
  },
  {
   "cell_type": "markdown",
   "metadata": {},
   "source": [
    "## Work\n",
    "1. 請嘗試將 preproc_x 替換成以每筆資料的 min/max 進行標準化至 -1 ~ 1 間，再進行訓練\n",
    "2. 請嘗試將 mlp 疊更深 (e.g 5~10 層)，進行訓練後觀察 learning curve 的走勢\n",
    "3. (optional) 請改用 GPU 進行訓練 (如果你有 GPU 的話)，比較使用 CPU 與 GPU 的訓練速度"
   ]
  },
  {
   "cell_type": "markdown",
   "metadata": {},
   "source": [
    "### ANS:"
   ]
  },
  {
   "cell_type": "code",
   "execution_count": 1,
   "metadata": {},
   "outputs": [
    {
     "data": {
      "text/plain": [
       "'\\nYour code here (optional)\\n確認硬體資源\\n'"
      ]
     },
     "execution_count": 1,
     "metadata": {},
     "output_type": "execute_result"
    }
   ],
   "source": [
    "## \n",
    "\"\"\"\n",
    "Your code here (optional)\n",
    "確認硬體資源\n",
    "\"\"\"\n",
    "## 確認硬體資源 (如果你是在 Linux, 若是在 Windows, 請參考 https://blog.csdn.net/idwtwt/article/details/78017565)\n",
    "# !nvidia-smi"
   ]
  },
  {
   "cell_type": "code",
   "execution_count": 2,
   "metadata": {},
   "outputs": [
    {
     "name": "stderr",
     "output_type": "stream",
     "text": [
      "Using TensorFlow backend.\n"
     ]
    }
   ],
   "source": [
    "import os\n",
    "import keras\n",
    "from sklearn.preprocessing import MinMaxScaler\n",
    "\n",
    "# 請嘗試設定 GPU：os.environ\n",
    "# 啟用 GPU, 將 GPU 設定在有空檔的 GPU\n",
    "# os.environ[\"CUDA_DEVICE_ORDER\"]=\"PCI_BUS_ID\" # 設定 smi 看到的 GPU ID 符合實際設定的順序 (若一台機器有多張不同型號的卡時，會有此類問題)\n",
    "# os.environ[\"CUDA_VISIBLE_DEVICES\"] = \"5\"\n",
    "# 本範例不需使用 GPU, 將 GPU 設定為 \"無\"\n",
    "os.environ[\"CUDA_VISIBLE_DEVICES\"] = \"\""
   ]
  },
  {
   "cell_type": "code",
   "execution_count": 3,
   "metadata": {},
   "outputs": [],
   "source": [
    "train, test = keras.datasets.cifar10.load_data()"
   ]
  },
  {
   "cell_type": "code",
   "execution_count": 4,
   "metadata": {},
   "outputs": [],
   "source": [
    "## 資料前處理\n",
    "def preproc_x(x, flatten=True):\n",
    "    x = 2*(((x - x.min()) / (x.max() - x.min()))-0.5)\n",
    "    if flatten:\n",
    "        x = x.reshape((len(x), -1))\n",
    "    return x\n",
    "\n",
    "def preproc_y(y, num_classes=10):\n",
    "    if y.shape[-1] == 1:\n",
    "        y = keras.utils.to_categorical(y, num_classes)\n",
    "    return y"
   ]
  },
  {
   "cell_type": "code",
   "execution_count": 5,
   "metadata": {},
   "outputs": [],
   "source": [
    "x_train, y_train = train\n",
    "x_test, y_test = test\n",
    "\n",
    "# Preproc the inputs\n",
    "x_train = preproc_x(x_train)\n",
    "x_test = preproc_x(x_test)\n",
    "\n",
    "# Preprc the outputs\n",
    "y_train = preproc_y(y_train)\n",
    "y_test = preproc_y(y_test)"
   ]
  },
  {
   "cell_type": "code",
   "execution_count": 6,
   "metadata": {},
   "outputs": [
    {
     "name": "stdout",
     "output_type": "stream",
     "text": [
      "Model: \"model_1\"\n",
      "_________________________________________________________________\n",
      "Layer (type)                 Output Shape              Param #   \n",
      "=================================================================\n",
      "input_1 (InputLayer)         (None, 3072)              0         \n",
      "_________________________________________________________________\n",
      "hidden_layer1 (Dense)        (None, 512)               1573376   \n",
      "_________________________________________________________________\n",
      "hidden_layer2 (Dense)        (None, 256)               131328    \n",
      "_________________________________________________________________\n",
      "hidden_layer3 (Dense)        (None, 128)               32896     \n",
      "_________________________________________________________________\n",
      "hidden_layer4 (Dense)        (None, 128)               16512     \n",
      "_________________________________________________________________\n",
      "hidden_layer5 (Dense)        (None, 128)               16512     \n",
      "_________________________________________________________________\n",
      "output (Dense)               (None, 10)                1290      \n",
      "=================================================================\n",
      "Total params: 1,771,914\n",
      "Trainable params: 1,771,914\n",
      "Non-trainable params: 0\n",
      "_________________________________________________________________\n"
     ]
    }
   ],
   "source": [
    "\"\"\"Code Here\n",
    "建立你的神經網路\n",
    "\"\"\"\n",
    "def build_mlp(input_shape, output_units=10, num_neurons=[512, 256, 128,128,128]):\n",
    "    input_layer = keras.layers.Input(input_shape)\n",
    "    \n",
    "    for i, n_units in enumerate(num_neurons):\n",
    "        if i == 0:\n",
    "            x = keras.layers.Dense(units=n_units, activation=\"relu\", name=\"hidden_layer\"+str(i+1))(input_layer)\n",
    "        else:\n",
    "            x = keras.layers.Dense(units=n_units, activation=\"relu\", name=\"hidden_layer\"+str(i+1))(x)\n",
    "    \n",
    "    out = keras.layers.Dense(units=output_units, activation=\"softmax\", name=\"output\")(x)\n",
    "    \n",
    "    model = keras.models.Model(inputs=[input_layer], outputs=[out])\n",
    "    return model\n",
    "\n",
    "model = build_mlp(input_shape=x_train.shape[1:])\n",
    "model.summary()"
   ]
  },
  {
   "cell_type": "code",
   "execution_count": 7,
   "metadata": {},
   "outputs": [],
   "source": [
    "## 超參數設定\n",
    "LEARNING_RATE = 0.001\n",
    "EPOCHS = 100\n",
    "BATCH_SIZE = 256"
   ]
  },
  {
   "cell_type": "code",
   "execution_count": 8,
   "metadata": {},
   "outputs": [],
   "source": [
    "optimizer = keras.optimizers.Adam(lr=LEARNING_RATE)\n",
    "model.compile(loss=\"categorical_crossentropy\", metrics=[\"accuracy\"], optimizer=optimizer)"
   ]
  },
  {
   "cell_type": "code",
   "execution_count": 9,
   "metadata": {},
   "outputs": [
    {
     "name": "stdout",
     "output_type": "stream",
     "text": [
      "Train on 50000 samples, validate on 10000 samples\n",
      "Epoch 1/100\n",
      "50000/50000 [==============================] - 16s 322us/step - loss: 1.6805 - accuracy: 0.4045 - val_loss: 1.5273 - val_accuracy: 0.4595\n",
      "Epoch 2/100\n",
      "50000/50000 [==============================] - 15s 309us/step - loss: 1.4605 - accuracy: 0.4852 - val_loss: 1.4364 - val_accuracy: 0.4989\n",
      "Epoch 3/100\n",
      "50000/50000 [==============================] - 16s 319us/step - loss: 1.3427 - accuracy: 0.5262 - val_loss: 1.4046 - val_accuracy: 0.5065\n",
      "Epoch 4/100\n",
      "50000/50000 [==============================] - 16s 314us/step - loss: 1.2445 - accuracy: 0.5625 - val_loss: 1.3951 - val_accuracy: 0.5124\n",
      "Epoch 5/100\n",
      "50000/50000 [==============================] - 15s 305us/step - loss: 1.1669 - accuracy: 0.5875 - val_loss: 1.3740 - val_accuracy: 0.5239\n",
      "Epoch 6/100\n",
      "50000/50000 [==============================] - 15s 299us/step - loss: 1.0863 - accuracy: 0.6160 - val_loss: 1.3587 - val_accuracy: 0.5274\n",
      "Epoch 7/100\n",
      "50000/50000 [==============================] - 15s 307us/step - loss: 1.0125 - accuracy: 0.6394 - val_loss: 1.3770 - val_accuracy: 0.5242\n",
      "Epoch 8/100\n",
      "50000/50000 [==============================] - 15s 299us/step - loss: 0.9502 - accuracy: 0.6638 - val_loss: 1.3823 - val_accuracy: 0.5348\n",
      "Epoch 9/100\n",
      "50000/50000 [==============================] - 14s 287us/step - loss: 0.8750 - accuracy: 0.6901 - val_loss: 1.4709 - val_accuracy: 0.5261\n",
      "Epoch 10/100\n",
      "50000/50000 [==============================] - 16s 313us/step - loss: 0.8131 - accuracy: 0.7103 - val_loss: 1.4315 - val_accuracy: 0.5422\n",
      "Epoch 11/100\n",
      "50000/50000 [==============================] - 15s 307us/step - loss: 0.7534 - accuracy: 0.7303 - val_loss: 1.5329 - val_accuracy: 0.5359\n",
      "Epoch 12/100\n",
      "50000/50000 [==============================] - 18s 361us/step - loss: 0.6944 - accuracy: 0.7530 - val_loss: 1.6312 - val_accuracy: 0.5375\n",
      "Epoch 13/100\n",
      "50000/50000 [==============================] - 17s 341us/step - loss: 0.6348 - accuracy: 0.7752 - val_loss: 1.6332 - val_accuracy: 0.5348\n",
      "Epoch 14/100\n",
      "50000/50000 [==============================] - 16s 321us/step - loss: 0.5765 - accuracy: 0.7960 - val_loss: 1.7553 - val_accuracy: 0.5309\n",
      "Epoch 15/100\n",
      "50000/50000 [==============================] - 15s 309us/step - loss: 0.5372 - accuracy: 0.8081 - val_loss: 1.8068 - val_accuracy: 0.5351\n",
      "Epoch 16/100\n",
      "50000/50000 [==============================] - 16s 315us/step - loss: 0.5063 - accuracy: 0.8195 - val_loss: 1.8379 - val_accuracy: 0.5365\n",
      "Epoch 17/100\n",
      "50000/50000 [==============================] - 16s 324us/step - loss: 0.4551 - accuracy: 0.8378 - val_loss: 1.9721 - val_accuracy: 0.5341\n",
      "Epoch 18/100\n",
      "50000/50000 [==============================] - 16s 314us/step - loss: 0.4147 - accuracy: 0.8521 - val_loss: 2.0462 - val_accuracy: 0.5297\n",
      "Epoch 19/100\n",
      "50000/50000 [==============================] - 16s 315us/step - loss: 0.3941 - accuracy: 0.8599 - val_loss: 2.1764 - val_accuracy: 0.5298\n",
      "Epoch 20/100\n",
      "50000/50000 [==============================] - 16s 319us/step - loss: 0.3590 - accuracy: 0.8730 - val_loss: 2.2878 - val_accuracy: 0.5264\n",
      "Epoch 21/100\n",
      "50000/50000 [==============================] - 16s 313us/step - loss: 0.3408 - accuracy: 0.8809 - val_loss: 2.3504 - val_accuracy: 0.5263\n",
      "Epoch 22/100\n",
      "50000/50000 [==============================] - 15s 307us/step - loss: 0.3269 - accuracy: 0.8862 - val_loss: 2.4266 - val_accuracy: 0.5318\n",
      "Epoch 23/100\n",
      "50000/50000 [==============================] - 16s 318us/step - loss: 0.2899 - accuracy: 0.8971 - val_loss: 2.4541 - val_accuracy: 0.5307\n",
      "Epoch 24/100\n",
      "50000/50000 [==============================] - 16s 310us/step - loss: 0.2962 - accuracy: 0.8962 - val_loss: 2.4766 - val_accuracy: 0.5257\n",
      "Epoch 25/100\n",
      "50000/50000 [==============================] - 15s 307us/step - loss: 0.2603 - accuracy: 0.9082 - val_loss: 2.7550 - val_accuracy: 0.5299\n",
      "Epoch 26/100\n",
      "50000/50000 [==============================] - 15s 301us/step - loss: 0.2411 - accuracy: 0.9156 - val_loss: 2.6964 - val_accuracy: 0.5272\n",
      "Epoch 27/100\n",
      "50000/50000 [==============================] - 15s 308us/step - loss: 0.2489 - accuracy: 0.9121 - val_loss: 2.7623 - val_accuracy: 0.5267\n",
      "Epoch 28/100\n",
      "50000/50000 [==============================] - 15s 298us/step - loss: 0.2316 - accuracy: 0.9174 - val_loss: 2.9103 - val_accuracy: 0.5159\n",
      "Epoch 29/100\n",
      "50000/50000 [==============================] - 15s 301us/step - loss: 0.2107 - accuracy: 0.9269 - val_loss: 2.9553 - val_accuracy: 0.5210\n",
      "Epoch 30/100\n",
      "50000/50000 [==============================] - 15s 297us/step - loss: 0.2159 - accuracy: 0.9259 - val_loss: 3.1422 - val_accuracy: 0.5334\n",
      "Epoch 31/100\n",
      "50000/50000 [==============================] - 15s 303us/step - loss: 0.1899 - accuracy: 0.9347 - val_loss: 3.0336 - val_accuracy: 0.5267\n",
      "Epoch 32/100\n",
      "50000/50000 [==============================] - 15s 306us/step - loss: 0.1832 - accuracy: 0.9370 - val_loss: 3.1587 - val_accuracy: 0.5244\n",
      "Epoch 33/100\n",
      "50000/50000 [==============================] - 15s 308us/step - loss: 0.1910 - accuracy: 0.9333 - val_loss: 3.1251 - val_accuracy: 0.5264\n",
      "Epoch 34/100\n",
      "50000/50000 [==============================] - 16s 313us/step - loss: 0.1724 - accuracy: 0.9403 - val_loss: 3.1751 - val_accuracy: 0.5294\n",
      "Epoch 35/100\n",
      "50000/50000 [==============================] - 15s 308us/step - loss: 0.1712 - accuracy: 0.9419 - val_loss: 3.3709 - val_accuracy: 0.5283\n",
      "Epoch 36/100\n",
      "50000/50000 [==============================] - 15s 297us/step - loss: 0.1743 - accuracy: 0.9403 - val_loss: 3.3570 - val_accuracy: 0.5343\n",
      "Epoch 37/100\n",
      "50000/50000 [==============================] - 15s 301us/step - loss: 0.1670 - accuracy: 0.9417 - val_loss: 3.3429 - val_accuracy: 0.5339\n",
      "Epoch 38/100\n",
      "50000/50000 [==============================] - 16s 318us/step - loss: 0.1543 - accuracy: 0.9473 - val_loss: 3.3776 - val_accuracy: 0.5281\n",
      "Epoch 39/100\n",
      "50000/50000 [==============================] - 15s 310us/step - loss: 0.1661 - accuracy: 0.9434 - val_loss: 3.2781 - val_accuracy: 0.5278\n",
      "Epoch 40/100\n",
      "50000/50000 [==============================] - 15s 310us/step - loss: 0.1409 - accuracy: 0.9515 - val_loss: 3.4399 - val_accuracy: 0.5276\n",
      "Epoch 41/100\n",
      "50000/50000 [==============================] - 15s 296us/step - loss: 0.1365 - accuracy: 0.9543 - val_loss: 3.5332 - val_accuracy: 0.5293\n",
      "Epoch 42/100\n",
      "50000/50000 [==============================] - 16s 311us/step - loss: 0.1463 - accuracy: 0.9503 - val_loss: 3.5787 - val_accuracy: 0.5291\n",
      "Epoch 43/100\n",
      "50000/50000 [==============================] - 15s 298us/step - loss: 0.1438 - accuracy: 0.9519 - val_loss: 3.6190 - val_accuracy: 0.5227\n",
      "Epoch 44/100\n",
      "50000/50000 [==============================] - 15s 305us/step - loss: 0.1436 - accuracy: 0.9508 - val_loss: 3.5533 - val_accuracy: 0.5340\n",
      "Epoch 45/100\n",
      "50000/50000 [==============================] - 15s 303us/step - loss: 0.1338 - accuracy: 0.9543 - val_loss: 3.4996 - val_accuracy: 0.5301\n",
      "Epoch 46/100\n",
      "50000/50000 [==============================] - 15s 307us/step - loss: 0.1220 - accuracy: 0.9598 - val_loss: 3.5725 - val_accuracy: 0.5296\n",
      "Epoch 47/100\n",
      "50000/50000 [==============================] - 16s 311us/step - loss: 0.1320 - accuracy: 0.9563 - val_loss: 3.5353 - val_accuracy: 0.5273\n",
      "Epoch 48/100\n",
      "50000/50000 [==============================] - 16s 310us/step - loss: 0.1249 - accuracy: 0.9587 - val_loss: 3.7170 - val_accuracy: 0.5262\n",
      "Epoch 49/100\n",
      "50000/50000 [==============================] - 15s 309us/step - loss: 0.1372 - accuracy: 0.9542 - val_loss: 3.7540 - val_accuracy: 0.5235\n",
      "Epoch 50/100\n",
      "50000/50000 [==============================] - 15s 305us/step - loss: 0.1252 - accuracy: 0.9576 - val_loss: 3.6766 - val_accuracy: 0.5302\n",
      "Epoch 51/100\n",
      "50000/50000 [==============================] - 15s 307us/step - loss: 0.1141 - accuracy: 0.9621 - val_loss: 3.8879 - val_accuracy: 0.5248\n",
      "Epoch 52/100\n",
      "50000/50000 [==============================] - 15s 309us/step - loss: 0.1103 - accuracy: 0.9626 - val_loss: 3.9746 - val_accuracy: 0.5261\n",
      "Epoch 53/100\n",
      "50000/50000 [==============================] - 15s 304us/step - loss: 0.1316 - accuracy: 0.9551 - val_loss: 3.7822 - val_accuracy: 0.5228\n",
      "Epoch 54/100\n",
      "50000/50000 [==============================] - 15s 294us/step - loss: 0.1187 - accuracy: 0.9605 - val_loss: 3.8817 - val_accuracy: 0.5349\n"
     ]
    },
    {
     "name": "stdout",
     "output_type": "stream",
     "text": [
      "Epoch 55/100\n",
      "50000/50000 [==============================] - 15s 297us/step - loss: 0.0965 - accuracy: 0.9674 - val_loss: 4.1243 - val_accuracy: 0.5280\n",
      "Epoch 56/100\n",
      "50000/50000 [==============================] - 16s 325us/step - loss: 0.1201 - accuracy: 0.9598 - val_loss: 3.8578 - val_accuracy: 0.5277\n",
      "Epoch 57/100\n",
      "50000/50000 [==============================] - 16s 313us/step - loss: 0.1196 - accuracy: 0.9601 - val_loss: 3.9036 - val_accuracy: 0.5310\n",
      "Epoch 58/100\n",
      "50000/50000 [==============================] - 16s 313us/step - loss: 0.0974 - accuracy: 0.9684 - val_loss: 3.9131 - val_accuracy: 0.5233\n",
      "Epoch 59/100\n",
      "50000/50000 [==============================] - 15s 306us/step - loss: 0.0792 - accuracy: 0.9737 - val_loss: 4.3330 - val_accuracy: 0.5365\n",
      "Epoch 60/100\n",
      "50000/50000 [==============================] - 15s 306us/step - loss: 0.1217 - accuracy: 0.9600 - val_loss: 4.1100 - val_accuracy: 0.5283\n",
      "Epoch 61/100\n",
      "50000/50000 [==============================] - 18s 357us/step - loss: 0.1064 - accuracy: 0.9645 - val_loss: 4.0743 - val_accuracy: 0.5221\n",
      "Epoch 62/100\n",
      "50000/50000 [==============================] - 17s 349us/step - loss: 0.1061 - accuracy: 0.9653 - val_loss: 4.0725 - val_accuracy: 0.5318\n",
      "Epoch 63/100\n",
      "50000/50000 [==============================] - 16s 327us/step - loss: 0.1005 - accuracy: 0.9671 - val_loss: 3.8389 - val_accuracy: 0.5297\n",
      "Epoch 64/100\n",
      "50000/50000 [==============================] - 16s 310us/step - loss: 0.0889 - accuracy: 0.9712 - val_loss: 4.2082 - val_accuracy: 0.5326\n",
      "Epoch 65/100\n",
      "50000/50000 [==============================] - 15s 294us/step - loss: 0.1119 - accuracy: 0.9633 - val_loss: 3.9113 - val_accuracy: 0.5303\n",
      "Epoch 66/100\n",
      "50000/50000 [==============================] - 15s 307us/step - loss: 0.0988 - accuracy: 0.9672 - val_loss: 4.0083 - val_accuracy: 0.5283\n",
      "Epoch 67/100\n",
      "50000/50000 [==============================] - 16s 312us/step - loss: 0.0988 - accuracy: 0.9677 - val_loss: 4.1942 - val_accuracy: 0.5293\n",
      "Epoch 68/100\n",
      "50000/50000 [==============================] - 15s 309us/step - loss: 0.0841 - accuracy: 0.9724 - val_loss: 4.0597 - val_accuracy: 0.5255\n",
      "Epoch 69/100\n",
      "50000/50000 [==============================] - 16s 313us/step - loss: 0.0896 - accuracy: 0.9716 - val_loss: 4.2304 - val_accuracy: 0.5280\n",
      "Epoch 70/100\n",
      "50000/50000 [==============================] - 16s 314us/step - loss: 0.0878 - accuracy: 0.9717 - val_loss: 4.0513 - val_accuracy: 0.5260\n",
      "Epoch 71/100\n",
      "50000/50000 [==============================] - 15s 304us/step - loss: 0.0911 - accuracy: 0.9704 - val_loss: 4.0160 - val_accuracy: 0.5307\n",
      "Epoch 72/100\n",
      "50000/50000 [==============================] - 16s 311us/step - loss: 0.0925 - accuracy: 0.9706 - val_loss: 4.1529 - val_accuracy: 0.5215\n",
      "Epoch 73/100\n",
      "50000/50000 [==============================] - 15s 304us/step - loss: 0.0811 - accuracy: 0.9725 - val_loss: 4.2516 - val_accuracy: 0.5347\n",
      "Epoch 74/100\n",
      "50000/50000 [==============================] - 15s 306us/step - loss: 0.0952 - accuracy: 0.9699 - val_loss: 4.1376 - val_accuracy: 0.5252\n",
      "Epoch 75/100\n",
      "50000/50000 [==============================] - 16s 311us/step - loss: 0.0965 - accuracy: 0.9680 - val_loss: 3.9952 - val_accuracy: 0.5314\n",
      "Epoch 76/100\n",
      "50000/50000 [==============================] - 16s 312us/step - loss: 0.0739 - accuracy: 0.9764 - val_loss: 4.1673 - val_accuracy: 0.5281\n",
      "Epoch 77/100\n",
      "50000/50000 [==============================] - 16s 320us/step - loss: 0.0914 - accuracy: 0.9706 - val_loss: 4.0850 - val_accuracy: 0.5269\n",
      "Epoch 78/100\n",
      "50000/50000 [==============================] - 15s 310us/step - loss: 0.0865 - accuracy: 0.9720 - val_loss: 4.0524 - val_accuracy: 0.5284\n",
      "Epoch 79/100\n",
      "50000/50000 [==============================] - 16s 312us/step - loss: 0.0827 - accuracy: 0.9732 - val_loss: 4.1336 - val_accuracy: 0.5252\n",
      "Epoch 80/100\n",
      "50000/50000 [==============================] - 16s 314us/step - loss: 0.0757 - accuracy: 0.9755 - val_loss: 4.2346 - val_accuracy: 0.5255\n",
      "Epoch 81/100\n",
      "50000/50000 [==============================] - 15s 299us/step - loss: 0.0823 - accuracy: 0.9733 - val_loss: 4.2057 - val_accuracy: 0.5197\n",
      "Epoch 82/100\n",
      "50000/50000 [==============================] - 15s 299us/step - loss: 0.0778 - accuracy: 0.9748 - val_loss: 4.1207 - val_accuracy: 0.5250\n",
      "Epoch 83/100\n",
      "50000/50000 [==============================] - 15s 304us/step - loss: 0.0845 - accuracy: 0.9726 - val_loss: 4.2525 - val_accuracy: 0.5313\n",
      "Epoch 84/100\n",
      "50000/50000 [==============================] - 15s 307us/step - loss: 0.0720 - accuracy: 0.9767 - val_loss: 4.1692 - val_accuracy: 0.5283\n",
      "Epoch 85/100\n",
      "50000/50000 [==============================] - 15s 308us/step - loss: 0.0824 - accuracy: 0.9732 - val_loss: 4.3189 - val_accuracy: 0.5328\n",
      "Epoch 86/100\n",
      "50000/50000 [==============================] - 16s 326us/step - loss: 0.0831 - accuracy: 0.9733 - val_loss: 4.1585 - val_accuracy: 0.5279\n",
      "Epoch 87/100\n",
      "50000/50000 [==============================] - 15s 310us/step - loss: 0.0734 - accuracy: 0.9765 - val_loss: 4.3180 - val_accuracy: 0.5340\n",
      "Epoch 88/100\n",
      "50000/50000 [==============================] - 16s 313us/step - loss: 0.0762 - accuracy: 0.9757 - val_loss: 4.3457 - val_accuracy: 0.5282\n",
      "Epoch 89/100\n",
      "50000/50000 [==============================] - 16s 320us/step - loss: 0.0850 - accuracy: 0.9728 - val_loss: 3.9330 - val_accuracy: 0.5260\n",
      "Epoch 90/100\n",
      "50000/50000 [==============================] - 16s 320us/step - loss: 0.0726 - accuracy: 0.9766 - val_loss: 4.2527 - val_accuracy: 0.5265\n",
      "Epoch 91/100\n",
      "50000/50000 [==============================] - 15s 306us/step - loss: 0.0770 - accuracy: 0.9757 - val_loss: 4.2182 - val_accuracy: 0.5277\n",
      "Epoch 92/100\n",
      "50000/50000 [==============================] - 16s 324us/step - loss: 0.0726 - accuracy: 0.9764 - val_loss: 4.3456 - val_accuracy: 0.5330\n",
      "Epoch 93/100\n",
      "50000/50000 [==============================] - 16s 325us/step - loss: 0.0606 - accuracy: 0.9807 - val_loss: 4.4342 - val_accuracy: 0.5297\n",
      "Epoch 94/100\n",
      "50000/50000 [==============================] - 16s 316us/step - loss: 0.0637 - accuracy: 0.9792 - val_loss: 4.5798 - val_accuracy: 0.5226\n",
      "Epoch 95/100\n",
      "50000/50000 [==============================] - 16s 311us/step - loss: 0.0694 - accuracy: 0.9781 - val_loss: 4.3212 - val_accuracy: 0.5258\n",
      "Epoch 96/100\n",
      "50000/50000 [==============================] - 15s 304us/step - loss: 0.0837 - accuracy: 0.9739 - val_loss: 4.2288 - val_accuracy: 0.5250\n",
      "Epoch 97/100\n",
      "50000/50000 [==============================] - 16s 323us/step - loss: 0.0761 - accuracy: 0.9753 - val_loss: 4.3300 - val_accuracy: 0.5286\n",
      "Epoch 98/100\n",
      "50000/50000 [==============================] - 15s 305us/step - loss: 0.0629 - accuracy: 0.9797 - val_loss: 4.4274 - val_accuracy: 0.5320\n",
      "Epoch 99/100\n",
      "50000/50000 [==============================] - 15s 308us/step - loss: 0.0744 - accuracy: 0.9766 - val_loss: 4.4527 - val_accuracy: 0.5277\n",
      "Epoch 100/100\n",
      "50000/50000 [==============================] - 16s 311us/step - loss: 0.0757 - accuracy: 0.9760 - val_loss: 4.3682 - val_accuracy: 0.5259\n"
     ]
    },
    {
     "data": {
      "text/plain": [
       "<keras.callbacks.callbacks.History at 0x2438ad48208>"
      ]
     },
     "execution_count": 9,
     "metadata": {},
     "output_type": "execute_result"
    }
   ],
   "source": [
    "model.fit(x_train, y_train, \n",
    "          epochs=EPOCHS, \n",
    "          batch_size=BATCH_SIZE, \n",
    "          validation_data=(x_test, y_test), \n",
    "          shuffle=True)"
   ]
  },
  {
   "cell_type": "code",
   "execution_count": 11,
   "metadata": {},
   "outputs": [
    {
     "data": {
      "image/png": "[encoded data removed]",
      "text/plain": [
       "<Figure size 432x288 with 1 Axes>"
      ]
     },
     "metadata": {
      "needs_background": "light"
     },
     "output_type": "display_data"
    },
    {
     "data": {
      "image/png": "[encoded data removed]",
      "text/plain": [
       "<Figure size 432x288 with 1 Axes>"
      ]
     },
     "metadata": {
      "needs_background": "light"
     },
     "output_type": "display_data"
    }
   ],
   "source": [
    "import matplotlib.pyplot as plt\n",
    "\n",
    "\n",
    "train_loss = model.history.history[\"loss\"]\n",
    "valid_loss = model.history.history[\"val_loss\"]\n",
    "\n",
    "train_acc = model.history.history[\"accuracy\"]\n",
    "valid_acc = model.history.history[\"val_accuracy\"]\n",
    "\n",
    "plt.plot(range(len(train_loss)), train_loss, label=\"train loss\")\n",
    "plt.plot(range(len(valid_loss)), valid_loss, label=\"valid loss\")\n",
    "plt.legend()\n",
    "plt.title(\"Loss\")\n",
    "plt.show()\n",
    "\n",
    "plt.plot(range(len(train_acc)), train_acc, label=\"train accuracy\")\n",
    "plt.plot(range(len(valid_acc)), valid_acc, label=\"valid accuracy\")\n",
    "plt.legend()\n",
    "plt.title(\"Accuracy\")\n",
    "plt.show()"
   ]
  }
 ],
 "metadata": {
  "kernelspec": {
   "display_name": "Python 3",
   "language": "python",
   "name": "python3"
  },
  "language_info": {
   "codemirror_mode": {
    "name": "ipython",
    "version": 3
   },
   "file_extension": ".py",
   "mimetype": "text/x-python",
   "name": "python",
   "nbconvert_exporter": "python",
   "pygments_lexer": "ipython3",
   "version": "3.7.4"
  }
 },
 "nbformat": 4,
 "nbformat_minor": 2
}
