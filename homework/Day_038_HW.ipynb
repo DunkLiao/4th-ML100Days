{
 "cells": [
  {
   "cell_type": "markdown",
   "metadata": {},
   "source": [
    "### 專案名稱: 第四屆機器學習百日馬拉松\n",
    "### 功能描述: 第38天作業\n",
    "### 版權所有: Dunk  \n",
    "### 程式撰寫: Dunk  \n",
    "### 撰寫日期：2020/04/10\n",
    "### 改版日期:  \n",
    "### 改版備註:"
   ]
  },
  {
   "cell_type": "markdown",
   "metadata": {},
   "source": [
    "## [作業重點]\n",
    "使用 Sklearn 中的線性迴歸模型，來訓練各種資料集，務必了解送進去模型訓練的**資料型態**為何，也請了解模型中各項參數的意義"
   ]
  },
  {
   "cell_type": "markdown",
   "metadata": {},
   "source": [
    "## 作業\n",
    "試著使用 sklearn datasets 的其他資料集 (wine, boston, ...)，來訓練自己的線性迴歸模型。"
   ]
  },
  {
   "cell_type": "markdown",
   "metadata": {},
   "source": [
    "### HINT: 注意 label 的型態，確定資料集的目標是分類還是回歸，在使用正確的模型訓練！"
   ]
  },
  {
   "cell_type": "markdown",
   "metadata": {},
   "source": [
    "### ANS:"
   ]
  },
  {
   "cell_type": "markdown",
   "metadata": {},
   "source": [
    "#### import 需要的套件"
   ]
  },
  {
   "cell_type": "code",
   "execution_count": 90,
   "metadata": {},
   "outputs": [],
   "source": [
    "import numpy as np\n",
    "import matplotlib.pyplot as plt\n",
    "from sklearn import datasets, linear_model\n",
    "from sklearn.model_selection import train_test_split\n",
    "from sklearn.metrics import mean_squared_error, r2_score, accuracy_score"
   ]
  },
  {
   "cell_type": "markdown",
   "metadata": {},
   "source": [
    "#### 選擇波士頓房地產\n",
    "[資料集說明](https://scikit-learn.org/stable/datasets/index.html#boston-dataset \"資料集說明\")\n",
    "\n",
    "[load_boston用法說明](https://scikit-learn.org/stable/modules/generated/sklearn.datasets.load_boston.html \"load_boston用法說明\")\n",
    "\n",
    "[波士頓房地產雲端評估(一)](https://machine-learning-python.kspax.io/application/linear_regression \"波士頓房地產雲端評估(一)\")\n"
   ]
  },
  {
   "cell_type": "markdown",
   "metadata": {},
   "source": [
    "此檔案使用scikit-learn 機器學習套件裡的linear regression演算法，來達成波士頓房地產價錢預測\n",
    "- 資料集：波士頓房產\n",
    "- 特徵：房地產客觀數據，如年份、平面大小\n",
    "- 預測目標：房地產價格\n",
    "- 機器學習方法：線性迴歸\n",
    "\n",
    ">機器學習的監督式學習中主要分為回歸問題與分類問題。\n",
    ">- 回歸代表預測的目標值為實數 (-∞ ⾄至 ∞)\n",
    ">- 分類代表預測的目標值為類別 (0 或 1)\n",
    ">- 本案例使用回歸"
   ]
  },
  {
   "cell_type": "code",
   "execution_count": 91,
   "metadata": {},
   "outputs": [],
   "source": [
    "# 讀取波士頓DataSet\n",
    "boston_X, boston_y = datasets.load_boston(return_X_y=True)"
   ]
  },
  {
   "cell_type": "markdown",
   "metadata": {},
   "source": [
    "#### 資料分析"
   ]
  },
  {
   "cell_type": "code",
   "execution_count": 92,
   "metadata": {},
   "outputs": [
    {
     "name": "stdout",
     "output_type": "stream",
     "text": [
      "boston_X_df\n",
      "         0     1     2    3      4      5     6       7    8      9    10  \\\n",
      "0  0.00632  18.0  2.31  0.0  0.538  6.575  65.2  4.0900  1.0  296.0  15.3   \n",
      "1  0.02731   0.0  7.07  0.0  0.469  6.421  78.9  4.9671  2.0  242.0  17.8   \n",
      "2  0.02729   0.0  7.07  0.0  0.469  7.185  61.1  4.9671  2.0  242.0  17.8   \n",
      "3  0.03237   0.0  2.18  0.0  0.458  6.998  45.8  6.0622  3.0  222.0  18.7   \n",
      "4  0.06905   0.0  2.18  0.0  0.458  7.147  54.2  6.0622  3.0  222.0  18.7   \n",
      "\n",
      "       11    12  \n",
      "0  396.90  4.98  \n",
      "1  396.90  9.14  \n",
      "2  392.83  4.03  \n",
      "3  394.63  2.94  \n",
      "4  396.90  5.33  \n",
      "--------------------\n",
      "boston_y_df\n",
      "      0\n",
      "0  24.0\n",
      "1  21.6\n",
      "2  34.7\n",
      "3  33.4\n",
      "4  36.2\n",
      "boston_X_df columns info\n",
      "float64    13\n",
      "dtype: int64\n",
      "               0           1           2           3           4           5   \\\n",
      "count  506.000000  506.000000  506.000000  506.000000  506.000000  506.000000   \n",
      "mean     3.613524   11.363636   11.136779    0.069170    0.554695    6.284634   \n",
      "std      8.601545   23.322453    6.860353    0.253994    0.115878    0.702617   \n",
      "min      0.006320    0.000000    0.460000    0.000000    0.385000    3.561000   \n",
      "25%      0.082045    0.000000    5.190000    0.000000    0.449000    5.885500   \n",
      "50%      0.256510    0.000000    9.690000    0.000000    0.538000    6.208500   \n",
      "75%      3.677083   12.500000   18.100000    0.000000    0.624000    6.623500   \n",
      "max     88.976200  100.000000   27.740000    1.000000    0.871000    8.780000   \n",
      "\n",
      "               6           7           8           9           10          11  \\\n",
      "count  506.000000  506.000000  506.000000  506.000000  506.000000  506.000000   \n",
      "mean    68.574901    3.795043    9.549407  408.237154   18.455534  356.674032   \n",
      "std     28.148861    2.105710    8.707259  168.537116    2.164946   91.294864   \n",
      "min      2.900000    1.129600    1.000000  187.000000   12.600000    0.320000   \n",
      "25%     45.025000    2.100175    4.000000  279.000000   17.400000  375.377500   \n",
      "50%     77.500000    3.207450    5.000000  330.000000   19.050000  391.440000   \n",
      "75%     94.075000    5.188425   24.000000  666.000000   20.200000  396.225000   \n",
      "max    100.000000   12.126500   24.000000  711.000000   22.000000  396.900000   \n",
      "\n",
      "               12  \n",
      "count  506.000000  \n",
      "mean    12.653063  \n",
      "std      7.141062  \n",
      "min      1.730000  \n",
      "25%      6.950000  \n",
      "50%     11.360000  \n",
      "75%     16.955000  \n",
      "max     37.970000  \n",
      "--------------------\n",
      "boston_y_df columns info\n",
      "float64    1\n",
      "dtype: int64\n",
      "                0\n",
      "count  506.000000\n",
      "mean    22.532806\n",
      "std      9.197104\n",
      "min      5.000000\n",
      "25%     17.025000\n",
      "50%     21.200000\n",
      "75%     25.000000\n",
      "max     50.000000\n"
     ]
    }
   ],
   "source": [
    "import pandas as pd\n",
    "boston_X_df = pd.DataFrame(boston_X)\n",
    "boston_y_df = pd.DataFrame(boston_y)\n",
    "\n",
    "# 資料內容\n",
    "print('boston_X_df')\n",
    "print(boston_X_df.head())\n",
    "print('--------------------')\n",
    "print('boston_y_df')\n",
    "print(boston_y_df.head())\n",
    "\n",
    "# 資料欄位\n",
    "print('boston_X_df columns info')\n",
    "print(boston_X_df.dtypes.value_counts())\n",
    "print(boston_X_df.describe())\n",
    "print('--------------------')\n",
    "print('boston_y_df columns info')\n",
    "print(boston_y_df.dtypes.value_counts())\n",
    "print(boston_y_df.describe())\n"
   ]
  },
  {
   "cell_type": "markdown",
   "metadata": {},
   "source": [
    "#### 回歸實作"
   ]
  },
  {
   "cell_type": "code",
   "execution_count": 93,
   "metadata": {},
   "outputs": [
    {
     "name": "stdout",
     "output_type": "stream",
     "text": [
      "Data shape:  (506, 1)\n"
     ]
    }
   ],
   "source": [
    "# 為方便視覺化，我們只使用資料集中的 1 個 feature (column)\n",
    "X = boston_X[:, np.newaxis, 2]\n",
    "\n",
    "# 可以看見有 506 筆資料與我們取出的其中一個 feature\n",
    "print(\"Data shape: \", X.shape)\n",
    "\n",
    "# 切分訓練集/測試集\n",
    "x_train, x_test, y_train, y_test = train_test_split(X, boston_y, test_size=0.1, random_state=4)\n",
    "\n",
    "# 建立一個線性回歸模型\n",
    "regr = linear_model.LinearRegression()\n",
    "\n",
    "# 將訓練資料丟進去模型訓練\n",
    "regr.fit(x_train, y_train)\n",
    "\n",
    "# 將測試資料丟進模型得到預測結果\n",
    "y_pred = regr.predict(x_test)"
   ]
  },
  {
   "cell_type": "code",
   "execution_count": 94,
   "metadata": {},
   "outputs": [
    {
     "name": "stdout",
     "output_type": "stream",
     "text": [
      "Coefficients:  [-0.64959885]\n",
      "Mean squared error: 63.06\n"
     ]
    }
   ],
   "source": [
    "# 可以看回歸模型的參數值\n",
    "print('Coefficients: ', regr.coef_)\n",
    "\n",
    "# 預測值與實際值的差距，使用 MSE\n",
    "print(\"Mean squared error: %.2f\"\n",
    "      % mean_squared_error(y_test, y_pred))"
   ]
  },
  {
   "cell_type": "code",
   "execution_count": 95,
   "metadata": {},
   "outputs": [
    {
     "data": {
      "image/png": "[encoded data removed]",
      "text/plain": [
       "<Figure size 432x288 with 1 Axes>"
      ]
     },
     "metadata": {
      "needs_background": "light"
     },
     "output_type": "display_data"
    }
   ],
   "source": [
    " # 畫出回歸模型與實際資料的分佈\n",
    "plt.scatter(x_test, y_test,  color='black')\n",
    "plt.plot(x_test, y_pred, color='blue', linewidth=3)\n",
    "plt.show()"
   ]
  },
  {
   "cell_type": "markdown",
   "metadata": {},
   "source": [
    "#### 選擇葡萄酒分類\n",
    "[資料集說明](https://scikit-learn.org/stable/datasets/index.html#wine-dataset \"資料集說明\")\n",
    "\n",
    "[load_wine用法說明](https://scikit-learn.org/stable/modules/generated/sklearn.datasets.load_wine.html \"load_wine用法說明\")\n",
    "\n",
    "[Support-Vector-Machine演算法 - 紅酒種類預測](https://syokujinau.github.io/2018/10/12/ML-course-note-SVM/ \"Support-Vector-Machine演算法 - 紅酒種類預測\")\n"
   ]
  },
  {
   "cell_type": "markdown",
   "metadata": {},
   "source": [
    "數據是由三個不同的種植者對意大利同一地區種植的葡萄酒進行化學分析的結果。對於這三種葡萄酒中的不同成分，進行了十三項不同的測量;\n",
    "此檔案使用scikit-learn 機器學習套件裡的Logistics regression演算法，來達成三種葡萄酒分類。\n",
    "- 資料集：葡萄酒資料集\n",
    "- 特徵：酒類客觀數據，如酒精含量、蘋果酸含量等等\n",
    "- 預測目標：三種葡萄酒分類\n",
    "- 機器學習方法：邏輯迴歸\n",
    "\n",
    ">機器學習的監督式學習中主要分為回歸問題與分類問題。\n",
    ">- 回歸代表預測的目標值為實數 (-∞ ⾄至 ∞)\n",
    ">- 分類代表預測的目標值為類別 (0 或 1)\n",
    ">- 本案例使用分類"
   ]
  },
  {
   "cell_type": "code",
   "execution_count": 96,
   "metadata": {},
   "outputs": [],
   "source": [
    "# 讀取葡萄酒 DataSet\n",
    "wine_X, wine_y = datasets.load_wine(return_X_y=True)"
   ]
  },
  {
   "cell_type": "markdown",
   "metadata": {},
   "source": [
    "#### 資料分析"
   ]
  },
  {
   "cell_type": "code",
   "execution_count": 97,
   "metadata": {},
   "outputs": [
    {
     "name": "stdout",
     "output_type": "stream",
     "text": [
      "wine_X_df\n",
      "       0     1     2     3      4     5     6     7     8     9    10    11  \\\n",
      "0  14.23  1.71  2.43  15.6  127.0  2.80  3.06  0.28  2.29  5.64  1.04  3.92   \n",
      "1  13.20  1.78  2.14  11.2  100.0  2.65  2.76  0.26  1.28  4.38  1.05  3.40   \n",
      "2  13.16  2.36  2.67  18.6  101.0  2.80  3.24  0.30  2.81  5.68  1.03  3.17   \n",
      "3  14.37  1.95  2.50  16.8  113.0  3.85  3.49  0.24  2.18  7.80  0.86  3.45   \n",
      "4  13.24  2.59  2.87  21.0  118.0  2.80  2.69  0.39  1.82  4.32  1.04  2.93   \n",
      "\n",
      "       12  \n",
      "0  1065.0  \n",
      "1  1050.0  \n",
      "2  1185.0  \n",
      "3  1480.0  \n",
      "4   735.0  \n",
      "--------------------\n",
      "wine_y_df\n",
      "   0\n",
      "0  0\n",
      "1  0\n",
      "2  0\n",
      "3  0\n",
      "4  0\n",
      "wine_X_df columns info\n",
      "float64    13\n",
      "dtype: int64\n",
      "               0           1           2           3           4           5   \\\n",
      "count  178.000000  178.000000  178.000000  178.000000  178.000000  178.000000   \n",
      "mean    13.000618    2.336348    2.366517   19.494944   99.741573    2.295112   \n",
      "std      0.811827    1.117146    0.274344    3.339564   14.282484    0.625851   \n",
      "min     11.030000    0.740000    1.360000   10.600000   70.000000    0.980000   \n",
      "25%     12.362500    1.602500    2.210000   17.200000   88.000000    1.742500   \n",
      "50%     13.050000    1.865000    2.360000   19.500000   98.000000    2.355000   \n",
      "75%     13.677500    3.082500    2.557500   21.500000  107.000000    2.800000   \n",
      "max     14.830000    5.800000    3.230000   30.000000  162.000000    3.880000   \n",
      "\n",
      "               6           7           8           9           10          11  \\\n",
      "count  178.000000  178.000000  178.000000  178.000000  178.000000  178.000000   \n",
      "mean     2.029270    0.361854    1.590899    5.058090    0.957449    2.611685   \n",
      "std      0.998859    0.124453    0.572359    2.318286    0.228572    0.709990   \n",
      "min      0.340000    0.130000    0.410000    1.280000    0.480000    1.270000   \n",
      "25%      1.205000    0.270000    1.250000    3.220000    0.782500    1.937500   \n",
      "50%      2.135000    0.340000    1.555000    4.690000    0.965000    2.780000   \n",
      "75%      2.875000    0.437500    1.950000    6.200000    1.120000    3.170000   \n",
      "max      5.080000    0.660000    3.580000   13.000000    1.710000    4.000000   \n",
      "\n",
      "                12  \n",
      "count   178.000000  \n",
      "mean    746.893258  \n",
      "std     314.907474  \n",
      "min     278.000000  \n",
      "25%     500.500000  \n",
      "50%     673.500000  \n",
      "75%     985.000000  \n",
      "max    1680.000000  \n",
      "--------------------\n",
      "wine_y_df columns info\n",
      "int32    1\n",
      "dtype: int64\n",
      "                0\n",
      "count  178.000000\n",
      "mean     0.938202\n",
      "std      0.775035\n",
      "min      0.000000\n",
      "25%      0.000000\n",
      "50%      1.000000\n",
      "75%      2.000000\n",
      "max      2.000000\n",
      "wine結果集\n",
      "[0 1 2]\n"
     ]
    }
   ],
   "source": [
    "import pandas as pd\n",
    "wine_X_df = pd.DataFrame(wine_X)\n",
    "wine_y_df = pd.DataFrame(wine_y)\n",
    "\n",
    "# 資料內容\n",
    "print('wine_X_df')\n",
    "print(wine_X_df.head())\n",
    "print('--------------------')\n",
    "print('wine_y_df')\n",
    "print(wine_y_df.head())\n",
    "\n",
    "# 資料欄位\n",
    "print('wine_X_df columns info')\n",
    "print(wine_X_df.dtypes.value_counts())\n",
    "print(wine_X_df.describe())\n",
    "print('--------------------')\n",
    "print('wine_y_df columns info')\n",
    "print(wine_y_df.dtypes.value_counts())\n",
    "print(wine_y_df.describe())\n",
    "\n",
    "# 結果集\n",
    "print('wine結果集')\n",
    "print(wine_y_df[0].unique())"
   ]
  },
  {
   "cell_type": "markdown",
   "metadata": {},
   "source": [
    "#### 分類實作"
   ]
  },
  {
   "cell_type": "code",
   "execution_count": 98,
   "metadata": {},
   "outputs": [],
   "source": [
    "import warnings\n",
    "warnings.filterwarnings('ignore')\n",
    "# 切分訓練集/測試集\n",
    "x_train, x_test, y_train, y_test = train_test_split(wine_X, wine_y, test_size=0.1, random_state=4)\n",
    "\n",
    "# 建立模型\n",
    "logreg = linear_model.LogisticRegression()\n",
    "\n",
    "# 訓練模型\n",
    "logreg.fit(x_train, y_train)\n",
    "\n",
    "# 預測測試集\n",
    "y_pred = logreg.predict(x_test)"
   ]
  },
  {
   "cell_type": "code",
   "execution_count": 99,
   "metadata": {},
   "outputs": [
    {
     "name": "stdout",
     "output_type": "stream",
     "text": [
      "Accuracy:  0.8888888888888888\n"
     ]
    }
   ],
   "source": [
    "#正確性\n",
    "acc = accuracy_score(y_test, y_pred)\n",
    "print(\"Accuracy: \", acc)"
   ]
  }
 ],
 "metadata": {
  "kernelspec": {
   "display_name": "Python 3",
   "language": "python",
   "name": "python3"
  },
  "language_info": {
   "codemirror_mode": {
    "name": "ipython",
    "version": 3
   },
   "file_extension": ".py",
   "mimetype": "text/x-python",
   "name": "python",
   "nbconvert_exporter": "python",
   "pygments_lexer": "ipython3",
   "version": "3.7.6"
  }
 },
 "nbformat": 4,
 "nbformat_minor": 2
}
