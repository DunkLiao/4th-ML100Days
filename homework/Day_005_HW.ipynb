{
 "cells": [
  {
   "cell_type": "markdown",
   "metadata": {},
   "source": [
    "### 專案名稱: 第四屆機器學習百日馬拉松\n",
    "### 功能描述: 第5天作業\n",
    "### 版權所有: Dunk  \n",
    "### 程式撰寫: Dunk  \n",
    "### 撰寫日期：2020/02/27\n",
    "### 改版日期:  \n",
    "### 改版備註:"
   ]
  },
  {
   "cell_type": "markdown",
   "metadata": {},
   "source": [
    "# [作業重點]\n",
    "- 練習創立 DataFrame (In[2])\n",
    "- 如何取出口數最多的國家 (In[3], Out[3])"
   ]
  },
  {
   "cell_type": "markdown",
   "metadata": {},
   "source": [
    "## 練習時間\n",
    "在小量的資料上，我們用眼睛就可以看得出來程式碼是否有跑出我們理想中的結果\n",
    "\n",
    "請嘗試想像一個你需要的資料結構 (裡面的值可以是隨機的)，然後用上述的方法把它變成 pandas DataFrame\n",
    "\n",
    "#### Ex: 想像一個 dataframe 有兩個欄位，一個是國家，一個是人口，求人口數最多的國家\n",
    "\n",
    "### Hints: [隨機產生數值](https://blog.csdn.net/christianashannon/article/details/78867204)"
   ]
  },
  {
   "cell_type": "code",
   "execution_count": 4,
   "metadata": {},
   "outputs": [],
   "source": [
    "import pandas as pd\n",
    "import numpy as np\n",
    "import pprint"
   ]
  },
  {
   "cell_type": "code",
   "execution_count": 37,
   "metadata": {},
   "outputs": [
    {
     "name": "stdout",
     "output_type": "stream",
     "text": [
      "                                     國名(英文)      國名(中文)  代碼  \\\n",
      "0                                   Albania       阿爾巴尼亞  AL   \n",
      "1                                   Algeria       阿爾及利亞  DZ   \n",
      "2                                    Angola         安哥拉  AO   \n",
      "3                                  Anguilla         安圭拉  AI   \n",
      "4                                 Argentina         阿根廷  AR   \n",
      "..                                      ...         ...  ..   \n",
      "80                                    Qatar          卡達  QA   \n",
      "81                                  Romania        羅馬尼亞  RO   \n",
      "82                       Russian Federation         俄羅斯  RU   \n",
      "83                                   Rwanda         盧安達  RW   \n",
      "84  Saint Christopher (St. Kitts) and Nevis  聖克里斯多福及尼維斯  KN   \n",
      "\n",
      "                      國名(英文).1 國名(中文).1 代碼.1  \n",
      "0             Dem Rep of Congo    剛果共和國   CD  \n",
      "1                      Denmark       丹麥   DK  \n",
      "2               Dominican Rep.     多明尼加   DO  \n",
      "3   Dominica (Commonwealth of)     多米尼克   DM  \n",
      "4                      Ecuador     厄瓜多爾   EC  \n",
      "..                         ...      ...  ...  \n",
      "80               Western Samoa     西薩摩亞   WS  \n",
      "81                       Yemen       葉門   YE  \n",
      "82                      Zambia      尚比亞   ZM  \n",
      "83                    Zimbabwe      辛巴威   ZW  \n",
      "84                         NaN      NaN  NaN  \n",
      "\n",
      "[85 rows x 6 columns]\n",
      "'---------------------------------'\n",
      "array([65682867, 56755036, 56882282, 21081788, 13315092, 35788921,\n",
      "       26735830, 93410762, 96319575, 91090292, 31632483, 76737383,\n",
      "       88358551, 88409749,  4981505, 13953367, 85652971,  4521373,\n",
      "        3344769, 98750923, 76893497, 30349564, 99052376, 42860080,\n",
      "       77751354, 62250665, 66209791, 46792155, 21498555, 97117135,\n",
      "       60221198, 79757501, 16861870, 52286002, 32049003, 61136438,\n",
      "       62194931, 65285250, 69537252, 59248434, 61306900, 55831368,\n",
      "       10959014, 56972561, 48900483, 20193880,  3385357, 44738553,\n",
      "       68574553, 16845364, 52157313, 95672411, 11392366, 69778859,\n",
      "       88883975, 13479854, 73506850, 13187277, 68979792, 37709731,\n",
      "       26939239, 23027075, 81200125, 86191493, 87796277, 66401385,\n",
      "       22335235,   271836,  3584702, 52631083,  8585377, 86544585,\n",
      "       85157821, 87655395, 17824013, 36601694, 67105583, 60304654,\n",
      "       34119117, 36433622, 89482491, 60031992, 55105831,  3366612,\n",
      "       58743503])\n",
      "'---------------------------------'\n",
      "                                         國家        人口\n",
      "0                                   Albania  65682867\n",
      "1                                   Algeria  56755036\n",
      "2                                    Angola  56882282\n",
      "3                                  Anguilla  21081788\n",
      "4                                 Argentina  13315092\n",
      "..                                      ...       ...\n",
      "80                                    Qatar  89482491\n",
      "81                                  Romania  60031992\n",
      "82                       Russian Federation  55105831\n",
      "83                                   Rwanda   3366612\n",
      "84  Saint Christopher (St. Kitts) and Nevis  58743503\n",
      "\n",
      "[85 rows x 2 columns]\n",
      "'---------------------------------'\n",
      "                        國家        人口\n",
      "22  Bosnia and Herzegovina  99052376\n"
     ]
    }
   ],
   "source": [
    "#讀取國家檔案名稱網頁\n",
    "url = \"https://www.post.gov.tw/post/internet/Postal/sz_a_e_info.jsp\"\n",
    "table = pd.read_html(url, encoding='utf-8')[0]\n",
    "pprint.pprint(table)\n",
    "pprint.pprint(\"---------------------------------\")\n",
    "\n",
    "#隨機建立人口資料\n",
    "seed = np.random.RandomState(42)\n",
    "total_population = seed.randint(0,100000000,len(table.index))\n",
    "pprint.pprint(total_population)\n",
    "pprint.pprint(\"---------------------------------\")\n",
    "\n",
    "#產生DataFrame\n",
    "population_df = pd.DataFrame({'國家':table[\"國名(英文)\"],'人口':total_population})\n",
    "pprint.pprint(population_df)\n",
    "pprint.pprint(\"---------------------------------\")\n",
    "\n",
    "#求人口最大的國家\n",
    "pprint.pprint(population_df[population_df['人口'] == population_df['人口'].max()])"
   ]
  },
  {
   "cell_type": "markdown",
   "metadata": {},
   "source": [
    "## 讀取 txt 檔\n",
    "* 請讀取 [text file](https://raw.githubusercontent.com/vashineyu/slides_and_others/master/tutorial/examples/imagenet_urls_examples.txt)\n",
    "* 懶人複製連結: https://raw.githubusercontent.com/vashineyu/slides_and_others/master/tutorial/examples/imagenet_urls_examples.txt\n",
    "\n",
    "### Hints: 使用 [Request](https://blog.gtwang.org/programming/python-requests-module-tutorial/) 抓取資料\n",
    "### Hints: [字串分割](http://www.runoob.com/python/att-string-split.html)\n",
    "### Hints: 例外處理: [Try-Except](https://pydoing.blogspot.com/2011/01/python-try.html)"
   ]
  },
  {
   "cell_type": "markdown",
   "metadata": {},
   "source": [
    "# [作業目標]\n",
    "- 試著讀取網頁上的圖片連結清單, 再以清單中網址讀取圖片"
   ]
  },
  {
   "cell_type": "markdown",
   "metadata": {},
   "source": [
    "# [作業重點]\n",
    "- 從網頁上讀取連結清單 (In[1], In[2])\n",
    "- 從清單網址讀取圖片 (In[6]~In[9], Out[6]~Out[9])"
   ]
  },
  {
   "cell_type": "code",
   "execution_count": 38,
   "metadata": {},
   "outputs": [],
   "source": [
    "## 假如我們不想把資料載到自己的電腦裡?\n",
    "# 把連結填入\n",
    "target_url = \"https://raw.githubusercontent.com/vashineyu/slides_and_others/master/tutorial/examples/imagenet_urls_examples.txt\""
   ]
  },
  {
   "cell_type": "code",
   "execution_count": 40,
   "metadata": {},
   "outputs": [
    {
     "name": "stderr",
     "output_type": "stream",
     "text": [
      "D:\\software\\WinPython\\python-3.7.6.amd64\\lib\\site-packages\\urllib3\\connectionpool.py:1004: InsecureRequestWarning: Unverified HTTPS request is being made. Adding certificate verification is strongly advised. See: https://urllib3.readthedocs.io/en/latest/advanced-usage.html#ssl-warnings\n",
      "  InsecureRequestWarning,\n"
     ]
    },
    {
     "name": "stdout",
     "output_type": "stream",
     "text": [
      "784594\n"
     ]
    },
    {
     "data": {
      "text/plain": [
       "'n00015388_157\\thttp://farm1.static.flickr.com/145/430300483_21e993670c.jpg\\nn00015388_238\\thttp://farm2'"
      ]
     },
     "execution_count": 40,
     "metadata": {},
     "output_type": "execute_result"
    }
   ],
   "source": [
    "import requests\n",
    "response = requests.get(target_url,verify=False)\n",
    "data = response.text\n",
    "\n",
    "# 用 request 傳送回來的資料不會認得斷行符號\n",
    "print(len(data))\n",
    "data[0:100]"
   ]
  },
  {
   "cell_type": "code",
   "execution_count": 41,
   "metadata": {},
   "outputs": [
    {
     "name": "stdout",
     "output_type": "stream",
     "text": [
      "9996\n"
     ]
    },
    {
     "data": {
      "text/plain": [
       "'n00015388_157\\thttp://farm1.static.flickr.com/145/430300483_21e993670c.jpg'"
      ]
     },
     "execution_count": 41,
     "metadata": {},
     "output_type": "execute_result"
    }
   ],
   "source": [
    "# 找到換行符號，用該符號做字串分割後，把它拿掉\n",
    "split_tag = '\\n'\n",
    "data = data.split(split_tag)\n",
    "print(len(data))\n",
    "data[0]"
   ]
  },
  {
   "cell_type": "markdown",
   "metadata": {},
   "source": [
    "## 將 txt 轉成 pandas dataframe"
   ]
  },
  {
   "cell_type": "code",
   "execution_count": 45,
   "metadata": {},
   "outputs": [],
   "source": [
    "import pandas as pd\n",
    "arrange_data ={}\n",
    "for k in range(data)\n",
    "arrange_data.add{'name'}\n",
    "# df = pd.DataFrame(arrange_data)\n",
    "# df.head()"
   ]
  },
  {
   "cell_type": "markdown",
   "metadata": {},
   "source": [
    "## 讀取圖片，請讀取上面 data frame 中的前 5 張圖片"
   ]
  },
  {
   "cell_type": "code",
   "execution_count": null,
   "metadata": {},
   "outputs": [],
   "source": [
    "from PIL import Image\n",
    "from io import BytesIO\n",
    "import numpy as np\n",
    "import matplotlib.pyplot as plt\n",
    "\n",
    "# 請用 df.loc[...] 得到第一筆資料的連結\n",
    "first_link = \n",
    "\n",
    "response = requests.get(first_link)\n",
    "img = Image.open(BytesIO(response.content))\n",
    "\n",
    "# Convert img to numpy array\n",
    "\n",
    "plt.imshow(img)\n",
    "plt.show()"
   ]
  },
  {
   "cell_type": "code",
   "execution_count": null,
   "metadata": {},
   "outputs": [],
   "source": [
    "def img2arr_fromURLs(url_list, resize = False):\n",
    "    \"\"\"\n",
    "    請完成這個 Function\n",
    "    Args\n",
    "        - url_list: list of URLs\n",
    "        - resize: bool\n",
    "    Return\n",
    "        - list of array\n",
    "    \"\"\"\n",
    "    \n",
    "    return img_list"
   ]
  },
  {
   "cell_type": "code",
   "execution_count": null,
   "metadata": {},
   "outputs": [],
   "source": [
    "result = img2arr_fromURLs(df[0:5][1].values)\n",
    "print(\"Total images that we got: %i \" % len(result)) # 如果不等於 5, 代表有些連結失效囉\n",
    "\n",
    "for im_get in result:\n",
    "    plt.imshow(im_get)\n",
    "    plt.show()"
   ]
  }
 ],
 "metadata": {
  "kernelspec": {
   "display_name": "Python 3",
   "language": "python",
   "name": "python3"
  },
  "language_info": {
   "codemirror_mode": {
    "name": "ipython",
    "version": 3
   },
   "file_extension": ".py",
   "mimetype": "text/x-python",
   "name": "python",
   "nbconvert_exporter": "python",
   "pygments_lexer": "ipython3",
   "version": "3.7.6"
  }
 },
 "nbformat": 4,
 "nbformat_minor": 2
}
