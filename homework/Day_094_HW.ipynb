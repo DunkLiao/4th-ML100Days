{
 "cells": [
  {
   "cell_type": "markdown",
   "metadata": {},
   "source": [
    "### 專案名稱: 第四屆機器學習百日馬拉松\n",
    "### 功能描述: 第94天作業\n",
    "### 版權所有: Dunk  \n",
    "### 程式撰寫: Dunk  \n",
    "### 撰寫日期：2020/06/29\n",
    "### 改版日期:  \n",
    "### 改版備註:"
   ]
  },
  {
   "cell_type": "markdown",
   "metadata": {},
   "source": [
    "# 作業目標:\n",
    "    了解 Convolution 卷積的組成"
   ]
  },
  {
   "cell_type": "markdown",
   "metadata": {},
   "source": [
    "# 作業重點:\n",
    "    修改 a_slice_prev, 檢查 Z 的輸出"
   ]
  },
  {
   "cell_type": "markdown",
   "metadata": {},
   "source": [
    "### ANS:"
   ]
  },
  {
   "cell_type": "code",
   "execution_count": 60,
   "metadata": {},
   "outputs": [],
   "source": [
    "import numpy as np"
   ]
  },
  {
   "cell_type": "code",
   "execution_count": 61,
   "metadata": {},
   "outputs": [],
   "source": [
    "# GRADED FUNCTION: conv_single_step\n",
    "def conv_single_step(a_slice_prev, W, b):\n",
    "    \"\"\"\n",
    "    定義一層 Kernel (內核), 使用的參數說明如下\n",
    "    Arguments:\n",
    "        a_slice_prev -- 輸入資料的維度\n",
    "        W -- 權重, 被使用在 a_slice_prev\n",
    "        b -- 偏差參數 \n",
    "    Returns:\n",
    "        Z -- 滑動窗口（W，b）卷積在前一個 feature map 上的結果\n",
    "    \"\"\"\n",
    "\n",
    "    # 定義一個元素介於 a_slice and W\n",
    "    s = a_slice_prev * W\n",
    "    # 加總所有的 \"s\" 並指定給Z.\n",
    "    Z = np.sum(s)\n",
    "    # Add bias b to Z. 這是 float() 函數,\n",
    "    Z = float(Z + b)\n",
    "\n",
    "    return Z"
   ]
  },
  {
   "cell_type": "code",
   "execution_count": 62,
   "metadata": {},
   "outputs": [
    {
     "name": "stdout",
     "output_type": "stream",
     "text": [
      "shape is (2,2,1)\n",
      "Z = 3.027931858262864\n",
      "shape is (2,2,2)\n",
      "Z = 5.356930357545693\n",
      "shape is (2,2,3)\n",
      "Z = 2.3410402861052764\n",
      "shape is (4,4,1)\n",
      "Z = -1.7334289119940802\n",
      "shape is (4,4,2)\n",
      "Z = -5.107364272571706\n",
      "shape is (4,4,3)\n",
      "Z = -6.999089450680221\n",
      "shape is (8,8,1)\n",
      "Z = 9.026279119316857\n",
      "shape is (8,8,2)\n",
      "Z = 15.928941096256452\n",
      "shape is (8,8,3)\n",
      "Z = -5.897160569766038\n",
      "shape is (16,16,1)\n",
      "Z = 11.954675594834528\n",
      "shape is (16,16,2)\n",
      "Z = 9.091436875117742\n",
      "shape is (16,16,3)\n",
      "Z = 40.77882090645472\n",
      "shape is (32,32,1)\n",
      "Z = -22.796283530454424\n",
      "shape is (32,32,2)\n",
      "Z = 25.414878432890568\n",
      "shape is (32,32,3)\n",
      "Z = 30.046217995633093\n"
     ]
    }
   ],
   "source": [
    "import itertools\n",
    "\n",
    "iters = 0 #initial iters\n",
    "iters_history = []\n",
    "z_history = []\n",
    "\n",
    "shape_item=[2,4,8,16,32]\n",
    "shape_dim =[1,2,3]\n",
    "for item,dim in itertools.product(shape_item,shape_dim):\n",
    "    print('shape is ({0},{0},{1})'.format(item,dim))\n",
    "    np.random.seed(1)\n",
    "    #定義一個 4x4x3 的 feature map\n",
    "    a_slice_prev = np.random.randn(item, item, dim)\n",
    "    W = np.random.randn(item, item, dim)\n",
    "    b = np.random.randn(1, 1, 1)\n",
    "\n",
    "    #取得計算後,卷績矩陣的值\n",
    "    Z = conv_single_step(a_slice_prev, W, b)\n",
    "    print(\"Z =\", Z)\n",
    "    iters = iters + 1\n",
    "    iters_history.append(iters)\n",
    "    z_history.append(Z)    "
   ]
  },
  {
   "cell_type": "code",
   "execution_count": 63,
   "metadata": {},
   "outputs": [
    {
     "data": {
      "image/png": "[encoded data removed]",
      "text/plain": [
       "<Figure size 432x288 with 1 Axes>"
      ]
     },
     "metadata": {
      "needs_background": "light"
     },
     "output_type": "display_data"
    }
   ],
   "source": [
    "# 顯示結果並繪圖\n",
    "import matplotlib.pyplot as plt\n",
    "%matplotlib inline\n",
    "\n",
    "plt.title(\"the z output\")\n",
    "plt.plot(iters_history, z_history, 'o-', ms=3, lw=1.5, color='black')\n",
    "plt.xlabel(r'$iters$', fontsize=16)\n",
    "plt.ylabel(r'$z value$', fontsize=16)\n",
    "plt.show()"
   ]
  }
 ],
 "metadata": {
  "kernelspec": {
   "display_name": "Python 3",
   "language": "python",
   "name": "python3"
  },
  "language_info": {
   "codemirror_mode": {
    "name": "ipython",
    "version": 3
   },
   "file_extension": ".py",
   "mimetype": "text/x-python",
   "name": "python",
   "nbconvert_exporter": "python",
   "pygments_lexer": "ipython3",
   "version": "3.7.4"
  }
 },
 "nbformat": 4,
 "nbformat_minor": 2
}
