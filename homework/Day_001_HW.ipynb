{
 "cells": [
  {
   "cell_type": "markdown",
   "metadata": {},
   "source": [
    "<img src=\"http://2.bp.blogspot.com/-H2m-BFydExw/Wkc9gJQE8GI/AAAAAAAAcZI/pJhLUIEj9zMe2fmVsQuK2UWFbrVagaongCK4BGAYYCw/s0/%25E6%2588%2590%25E5%258A%259F%25E9%2581%258E%25E7%25A8%258B.png\"\n",
    "style=\"width:100px;height:100px;float:left\"><br/><br/><br/><br/><br/>  \n",
    "### 專案名稱: 第四屆機器學習百日馬拉松\n",
    "### 功能描述: 第1天作業\n",
    "### 版權所有: Dunk  \n",
    "### 程式撰寫: Dunk  \n",
    "### 撰寫日期：2020/02/20\n",
    "### 改版日期:  \n",
    "### 改版備註:  "
   ]
  },
  {
   "cell_type": "markdown",
   "metadata": {},
   "source": [
    "## 練習時間\n",
    "#### 請寫一個函式用來計算 Mean Square Error\n",
    "$ MSE = \\frac{1}{n}\\sum_{i=1}^{n}{(Y_i - \\hat{Y}_i)^2} $\n",
    "\n",
    "### Hint: [如何取平方](https://googoodesign.gitbooks.io/-ezpython/unit-1.html)"
   ]
  },
  {
   "cell_type": "markdown",
   "metadata": {},
   "source": [
    "# [作業目標]\n",
    "- 仿造範例的MAE函數, 自己寫一個MSE函數(參考上面公式)"
   ]
  },
  {
   "cell_type": "markdown",
   "metadata": {},
   "source": [
    "# [作業重點]\n",
    "- 注意程式的縮排\n",
    "- 是否能將數學公式, 轉換為 Python 的函式組合? (In[2], Out[2])"
   ]
  },
  {
   "cell_type": "code",
   "execution_count": 18,
   "metadata": {},
   "outputs": [],
   "source": [
    "# 載入基礎套件與代稱\n",
    "import numpy as np\n",
    "import matplotlib.pyplot as plt"
   ]
  },
  {
   "cell_type": "code",
   "execution_count": 19,
   "metadata": {},
   "outputs": [],
   "source": [
    "def mean_absolute_error(y, yp):\n",
    "    \"\"\"\n",
    "    計算 MAE\n",
    "    Args:\n",
    "        - y: 實際值\n",
    "        - yp: 預測值\n",
    "    Return:\n",
    "        - mae: MAE\n",
    "    \"\"\"\n",
    "    mae = MAE = sum(abs(y - yp)) / len(y)\n",
    "    return mae\n",
    "\n",
    "# 定義 mean_squared_error 這個函數, 計算並傳回 MSE\n",
    "def mean_squared_error(y, yp):\n",
    "    \"\"\"\n",
    "    計算 MSE\n",
    "    Args:\n",
    "        - y: 實際值\n",
    "        - yp: 預測值\n",
    "    Return:\n",
    "        - mse: MSE\n",
    "    \"\"\"\n",
    "    mse = MSE = sum(abs(y - yp)**2) / len(y)\n",
    "    return mse"
   ]
  },
  {
   "cell_type": "code",
   "execution_count": 20,
   "metadata": {},
   "outputs": [
    {
     "data": {
      "image/png": "[encoded data removed]",
      "text/plain": [
       "<Figure size 432x288 with 1 Axes>"
      ]
     },
     "metadata": {},
     "output_type": "display_data"
    }
   ],
   "source": [
    "# 與範例相同, 不另外解說\n",
    "w = 3\n",
    "b = 0.5\n",
    "x_lin = np.linspace(0, 100, 101)\n",
    "y = (x_lin + np.random.randn(101) * 5) * w + b\n",
    "\n",
    "plt.plot(x_lin, y, 'b.', label = 'data points')\n",
    "plt.title(\"Assume we have data points\")\n",
    "plt.legend(loc = 2)\n",
    "plt.show()"
   ]
  },
  {
   "cell_type": "code",
   "execution_count": 21,
   "metadata": {},
   "outputs": [
    {
     "data": {
      "image/png": "[encoded data removed]",
      "text/plain": [
       "<Figure size 432x288 with 1 Axes>"
      ]
     },
     "metadata": {},
     "output_type": "display_data"
    }
   ],
   "source": [
    "# 與範例相同, 不另外解說\n",
    "y_hat = x_lin * w + b\n",
    "plt.plot(x_lin, y, 'b.', label = 'data')\n",
    "plt.plot(x_lin, y_hat, 'r-', label = 'prediction')\n",
    "plt.title(\"Assume we have data points (And the prediction)\")\n",
    "plt.legend(loc = 2)\n",
    "plt.show()"
   ]
  },
  {
   "cell_type": "code",
   "execution_count": 22,
   "metadata": {},
   "outputs": [
    {
     "name": "stdout",
     "output_type": "stream",
     "text": [
      "The Mean squared error is 195.763\n",
      "The Mean absolute error is 11.384\n"
     ]
    }
   ],
   "source": [
    "# 執行 Function, 確認有沒有正常執行\n",
    "MSE = mean_squared_error(y, y_hat)\n",
    "MAE = mean_absolute_error(y, y_hat)\n",
    "print(\"The Mean squared error is %.3f\" % (MSE))\n",
    "print(\"The Mean absolute error is %.3f\" % (MAE))"
   ]
  },
  {
   "cell_type": "markdown",
   "metadata": {},
   "source": [
    "# [作業2]\n",
    "\n",
    "請上 Kaggle, 在 Competitions 或 Dataset 中找一組競賽或資料並寫下：\n",
    "\n",
    "1. 你選的這組資料為何重要\n",
    "\n",
    "2. 資料從何而來 (tips: 譬如提供者是誰、以什麼方式蒐集)\n",
    "\n",
    "3. 蒐集而來的資料型態為何\n",
    "\n",
    "4. 這組資料想解決的問題如何評估"
   ]
  },
  {
   "cell_type": "markdown",
   "metadata": {},
   "source": [
    "## Ans:\n",
    "我找的是分析五大人格特質，網址如下。\n",
    "\n",
    "### https://www.kaggle.com/tunguz/big-five-personality-test\n",
    "\n",
    "#### 背景:\n",
    "https://zh.wikipedia.org/wiki/%E4%BA%94%E5%A4%A7%E6%80%A7%E6%A0%BC%E7%89%B9%E8%B4%A8\n",
    "\n",
    "在眾多的人格評量中，因為使用的因素分析方法不同等原因，所以不同研究者得到的人格特質數目不相同，但總體上可以分為五大性格特質，即：\n",
    "\n",
    "- 「經驗開放性（Openness to experience）」：高分者具有好奇的、富創造力的、獨創的、非傳統性等特質。\n",
    "- 「盡責性（Conscientiousness）」：高分者具有努力的、自我要求的、有組織的、負責的、堅忍的等特質。\n",
    "- 「外向性（Extraversion）」：高分者具有健談的、好社交的、熱情的、主動的及人際取向等特質。\n",
    "- 「親和性（Agreeableness）」：高分者具有可信賴的、溫和的、助人的、好心腸的、寬恕的、仁慈的等特質。\n",
    "- 「情緒不穩定性（Neuroticism）」：高分者具有焦慮、緊張、不安、情緒化、自卑等特質。\n",
    "\n",
    "從個人性格發展角度上來說，「五大性格」在進入職場後大約四年趨於穩定。同時研究數據還發現，即使經歷重大人生事件，成人的性格特質也不會發生太大的變化。穩定性是特質的突出特點。相較於狀態（states）和情緒（moods），特質不隨環境變化而改變。\n",
    "\n",
    "#### 1. 你選的這組資料為何重要\n",
    "   \n",
    "   因為區分出人格特質，有下列應用:\n",
    "   \n",
    "-   對於大學填寫科系時，提供有效的分析更符合日後職業及就業心理素質。 \n",
    "-   可以在進行銷售管理，提供更符合個性的使用者體驗；符合人們真實的需求與滿意度。   \n",
    "\n",
    "#### 2. 資料從何而來 (tips: 譬如提供者是誰、以什麼方式蒐集)\n",
    "   \n",
    "   透過Open Psychometrics線上收集的問卷答案，2016-2018年度共1,015,342份。\n",
    "   \n",
    "   https://openpsychometrics.org/tests/IPIP-BFFM/\n",
    "\n",
    "#### 3. 蒐集而來的資料型態為何\n",
    "\n",
    "   該資料是通過上面線上問券蒐集的，彙整成csv檔案；年度期間為2016-2018，分析根據參照下列網頁說明。\n",
    "   \n",
    "   https://ipip.ori.org/newBigFive5broadKey.htm\n",
    "   \n",
    "   參與者被告知，他們的回答將在測試開始時被記錄並用於研究，並要求他們在測試結束時確認其同意。問券項目顯示網頁上，並且使用單選按鈕以5    分制對每個項目進行評級。頁面上的順序為EXT1，AGR1，CSN1，EST1，OPN1，EXT2等；標度標為1 =不同意，3 =中立，5 =同意。\n",
    "\n",
    "<img src='.\\Day_001_1.png'/>\n",
    "<img src='.\\Day_001_2.png'/>\n",
    "\n",
    "#### 4. 這組資料想解決的問題如何評估\n",
    "    利用回歸分析，計算每個使用者的回答的相似度，目前想用k nearest neighbor 預測分析資料。"
   ]
  },
  {
   "cell_type": "markdown",
   "metadata": {},
   "source": [
    "\n",
    "# [作業3]\n",
    "\n",
    "想像你經營一個自由載客車隊，你希望能透過數據分析以提升業績，請你思考並描述你如何規劃整體的分析/解決方案：\n",
    "\n",
    "1. 核心問題為何 (tips：如何定義 「提升業績 & 你的假設」)\n",
    "\n",
    "2. 資料從何而來 (tips：哪些資料可能會對你想問的問題產生影響 & 資料如何蒐集)\n",
    "\n",
    "3. 蒐集而來的資料型態為何\n",
    "\n",
    "4. 你要回答的問題，其如何評估 (tips：你的假設如何驗證)"
   ]
  },
  {
   "cell_type": "markdown",
   "metadata": {},
   "source": [
    "## Ans:\n",
    "#### 1.  核心問題為何 (tips：如何定義 「提升業績 & 你的假設」)\n",
    "   1. 提升業績 : 營收 = 來客數 * 客單價。\n",
    "   2. 提升來客數 = 提高平均搭乘人數 = 減少載客週轉時數\n",
    "   3. 提升客單價 = 拉長乘客搭車時間及距離 。\n",
    "   \n",
    "   \n",
    "   - 因為司機有固定載客人的區域，所以首先要區分各區域的平均搭乘人數，相對搭乘的週轉週期\n",
    "   提高有時候會有客人等不到司機，需要動態調整司機排班機制。\n",
    "   \n",
    "   - 當乘客搭車距離到其他區域時(例:跨縣市)，也會影響到同一個司機回到原載客區域的\n",
    "   的時間，增加載客週轉時數；形成tradeoff。   \n",
    "\n",
    "#### 2. 資料從何而來 (tips：哪些資料可能會對你想問的問題產生影響 & 資料如何蒐集)\n",
    "##### - 設計乘車資料app(手機版及網頁版)，不接受客人以現金支付，以第三方支付或者刷信用卡支付車資。\n",
    "   - 對於使用乘車資料app的客人:利用手機app搜集載客資訊。\n",
    "   \n",
    "   - 對於無使用乘車資料appapp的客人:司機自行使用手機app登打\n",
    "   \n",
    "   - 每日針對上述兩項方式蒐集資料(資訊流)，與金流進行核帳與修正。\n",
    "\n",
    "#### 3. 蒐集而來的資料型態為何\n",
    "   - 資料用資料庫方式儲存，可進行線上分析，欄位包含客戶id(app帳號或第三方支付帳號或信用卡卡號)、上車地點、下車地點、上車時間、下車時間及金額等等。\n",
    "\n",
    "#### 4. 你要回答的問題，其如何評估 (tips：你的假設如何驗證)\n",
    "   1. 統計每位司機每天的收入及行車路線。\n",
    "   \n",
    "   2. 針對載客數多的乘車地點，計算平均搭乘的時間(ie 上午9點在福心工廠平均有3.2個客人，平均搭乘距離為3.5公里)。\n",
    "   \n",
    "   3. 針對載客數少的乘車地點，計算平均搭乘的時間(ie 中午12點在福音公司平均有0.2個客人，平均搭乘距離為7公里)。\n",
    "   \n",
    "   4. 乘車資料app針對步驟2資料(載客數多)，app推播通知該區域司機先排班到該地點。\n",
    "   \n",
    "   5. 乘車資料app針對步驟3資料(載客數少)，app推播通知該時段搭乘過的客人有乘車優惠，並可自由選擇合作司機。\n",
    "   \n",
    "   6. 對步驟4及步驟5，每日蒐集資料後回歸分析排班策略及營收報表。   "
   ]
  }
 ],
 "metadata": {
  "anaconda-cloud": {},
  "kernelspec": {
   "display_name": "Python 3",
   "language": "python",
   "name": "python3"
  },
  "language_info": {
   "codemirror_mode": {
    "name": "ipython",
    "version": 3
   },
   "file_extension": ".py",
   "mimetype": "text/x-python",
   "name": "python",
   "nbconvert_exporter": "python",
   "pygments_lexer": "ipython3",
   "version": "3.5.4"
  }
 },
 "nbformat": 4,
 "nbformat_minor": 1
}
