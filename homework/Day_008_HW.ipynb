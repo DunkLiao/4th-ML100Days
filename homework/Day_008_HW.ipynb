{
 "cells": [
  {
   "cell_type": "markdown",
   "metadata": {},
   "source": [
    "### 專案名稱: 第四屆機器學習百日馬拉松\n",
    "### 功能描述: 第8天作業\n",
    "### 版權所有: Dunk  \n",
    "### 程式撰寫: Dunk  \n",
    "### 撰寫日期：2020/03/04\n",
    "### 改版日期:  \n",
    "### 改版備註:"
   ]
  },
  {
   "cell_type": "markdown",
   "metadata": {},
   "source": [
    "# [作業目標]\n",
    "- 對資料做更多處理 : 顯示特定欄位的統計值與直方圖"
   ]
  },
  {
   "cell_type": "markdown",
   "metadata": {},
   "source": [
    "# [作業重點]\n",
    "- 試著顯示特定欄位的基礎統計數值 (In[4], Out[4], Hint : describe())\n",
    "- 試著顯示特定欄位的直方圖 (In[5], Out[5], Hint : .hist())"
   ]
  },
  {
   "cell_type": "code",
   "execution_count": 44,
   "metadata": {},
   "outputs": [],
   "source": [
    "# Import 需要的套件\n",
    "import os\n",
    "import numpy as np\n",
    "import pandas as pd\n",
    "\n",
    "# 設定 data_path\n",
    "dir_data = './data/'"
   ]
  },
  {
   "cell_type": "code",
   "execution_count": 45,
   "metadata": {},
   "outputs": [],
   "source": [
    "f_app_train = os.path.join(dir_data, 'application_train.csv')\n",
    "app_train = pd.read_csv(f_app_train)"
   ]
  },
  {
   "cell_type": "code",
   "execution_count": 46,
   "metadata": {},
   "outputs": [],
   "source": [
    "import matplotlib.pyplot as plt\n",
    "%matplotlib inline"
   ]
  },
  {
   "cell_type": "markdown",
   "metadata": {},
   "source": [
    "## 練習時間"
   ]
  },
  {
   "cell_type": "markdown",
   "metadata": {},
   "source": [
    "觀察有興趣的欄位的資料分佈，並嘗試找出有趣的訊息\n",
    "#### Eg\n",
    "- 計算任意欄位的平均數及標準差\n",
    "- 畫出任意欄位的[直方圖](https://zh.wikipedia.org/zh-tw/%E7%9B%B4%E6%96%B9%E5%9B%BE)\n",
    "\n",
    "### Hints:\n",
    "- [Descriptive Statistics For pandas Dataframe](https://chrisalbon.com/python/data_wrangling/pandas_dataframe_descriptive_stats/)\n",
    "- [pandas 中的繪圖函數](https://amaozhao.gitbooks.io/pandas-notebook/content/pandas%E4%B8%AD%E7%9A%84%E7%BB%98%E5%9B%BE%E5%87%BD%E6%95%B0.html)\n"
   ]
  },
  {
   "cell_type": "markdown",
   "metadata": {
    "collapsed": true
   },
   "source": [
    "### ANS:"
   ]
  },
  {
   "cell_type": "code",
   "execution_count": 47,
   "metadata": {},
   "outputs": [
    {
     "name": "stdout",
     "output_type": "stream",
     "text": [
      "   SK_ID_CURR  TARGET NAME_CONTRACT_TYPE CODE_GENDER FLAG_OWN_CAR  \\\n",
      "0      100002       1         Cash loans           M            N   \n",
      "1      100003       0         Cash loans           F            N   \n",
      "2      100004       0    Revolving loans           M            Y   \n",
      "3      100006       0         Cash loans           F            N   \n",
      "4      100007       0         Cash loans           M            N   \n",
      "\n",
      "  FLAG_OWN_REALTY  CNT_CHILDREN  AMT_INCOME_TOTAL  AMT_CREDIT  AMT_ANNUITY  \\\n",
      "0               Y             0          202500.0    406597.5      24700.5   \n",
      "1               N             0          270000.0   1293502.5      35698.5   \n",
      "2               Y             0           67500.0    135000.0       6750.0   \n",
      "3               Y             0          135000.0    312682.5      29686.5   \n",
      "4               Y             0          121500.0    513000.0      21865.5   \n",
      "\n",
      "   ...  FLAG_DOCUMENT_18 FLAG_DOCUMENT_19 FLAG_DOCUMENT_20 FLAG_DOCUMENT_21  \\\n",
      "0  ...                 0                0                0                0   \n",
      "1  ...                 0                0                0                0   \n",
      "2  ...                 0                0                0                0   \n",
      "3  ...                 0                0                0                0   \n",
      "4  ...                 0                0                0                0   \n",
      "\n",
      "  AMT_REQ_CREDIT_BUREAU_HOUR AMT_REQ_CREDIT_BUREAU_DAY  \\\n",
      "0                        0.0                       0.0   \n",
      "1                        0.0                       0.0   \n",
      "2                        0.0                       0.0   \n",
      "3                        NaN                       NaN   \n",
      "4                        0.0                       0.0   \n",
      "\n",
      "   AMT_REQ_CREDIT_BUREAU_WEEK  AMT_REQ_CREDIT_BUREAU_MON  \\\n",
      "0                         0.0                        0.0   \n",
      "1                         0.0                        0.0   \n",
      "2                         0.0                        0.0   \n",
      "3                         NaN                        NaN   \n",
      "4                         0.0                        0.0   \n",
      "\n",
      "   AMT_REQ_CREDIT_BUREAU_QRT  AMT_REQ_CREDIT_BUREAU_YEAR  \n",
      "0                        0.0                         1.0  \n",
      "1                        0.0                         0.0  \n",
      "2                        0.0                         0.0  \n",
      "3                        NaN                         NaN  \n",
      "4                        0.0                         0.0  \n",
      "\n",
      "[5 rows x 122 columns]\n"
     ]
    }
   ],
   "source": [
    "#先顯示部份資料\n",
    "import pprint\n",
    "pprint.pprint(app_train.head())"
   ]
  },
  {
   "cell_type": "code",
   "execution_count": 48,
   "metadata": {},
   "outputs": [
    {
     "name": "stdout",
     "output_type": "stream",
     "text": [
      "0          406597.5\n",
      "1         1293502.5\n",
      "2          135000.0\n",
      "3          312682.5\n",
      "4          513000.0\n",
      "            ...    \n",
      "307506     254700.0\n",
      "307507     269550.0\n",
      "307508     677664.0\n",
      "307509     370107.0\n",
      "307510     675000.0\n",
      "Name: AMT_CREDIT, Length: 307511, dtype: float64\n",
      "'---------------------'\n",
      "column AMT_CREDIT avg is 599025.9997057016，std is 402490.776995946\n"
     ]
    },
    {
     "data": {
      "text/plain": [
       "array([[<matplotlib.axes._subplots.AxesSubplot object at 0x0000000022920888>]],\n",
       "      dtype=object)"
      ]
     },
     "execution_count": 48,
     "metadata": {},
     "output_type": "execute_result"
    },
    {
     "data": {
      "image/png": "[encoded data removed]",
      "text/plain": [
       "<Figure size 432x288 with 1 Axes>"
      ]
     },
     "metadata": {
      "needs_background": "light"
     },
     "output_type": "display_data"
    }
   ],
   "source": [
    "#設定欄位為AMT_CREDIT\n",
    "#針對計算平均數及標準差\n",
    "name = 'AMT_CREDIT'\n",
    "pprint.pprint(app_train[name])\n",
    "pprint.pprint('---------------------')\n",
    "print('column {0} avg is {1}，std is {2}'.format(name,app_train[name].mean(),app_train[name].std()))\n",
    "#畫出直方圖\n",
    "app_train.hist(column=name)"
   ]
  },
  {
   "cell_type": "code",
   "execution_count": 49,
   "metadata": {},
   "outputs": [
    {
     "name": "stdout",
     "output_type": "stream",
     "text": [
      "Index(['SK_ID_CURR', 'TARGET', 'NAME_CONTRACT_TYPE', 'CODE_GENDER',\n",
      "       'FLAG_OWN_CAR', 'FLAG_OWN_REALTY', 'CNT_CHILDREN', 'AMT_INCOME_TOTAL',\n",
      "       'AMT_CREDIT', 'AMT_ANNUITY',\n",
      "       ...\n",
      "       'FLAG_DOCUMENT_18', 'FLAG_DOCUMENT_19', 'FLAG_DOCUMENT_20',\n",
      "       'FLAG_DOCUMENT_21', 'AMT_REQ_CREDIT_BUREAU_HOUR',\n",
      "       'AMT_REQ_CREDIT_BUREAU_DAY', 'AMT_REQ_CREDIT_BUREAU_WEEK',\n",
      "       'AMT_REQ_CREDIT_BUREAU_MON', 'AMT_REQ_CREDIT_BUREAU_QRT',\n",
      "       'AMT_REQ_CREDIT_BUREAU_YEAR'],\n",
      "      dtype='object', length=122)\n",
      "'---------------------'\n",
      "float64    65\n",
      "int64      41\n",
      "object     16\n",
      "dtype: int64\n"
     ]
    }
   ],
   "source": [
    "#找出欄位定義\n",
    "pprint.pprint(app_train.columns)\n",
    "pprint.pprint('---------------------')\n",
    "#顯示各種欄位種類\n",
    "pprint.pprint(app_train.dtypes.value_counts())"
   ]
  },
  {
   "cell_type": "code",
   "execution_count": 50,
   "metadata": {},
   "outputs": [
    {
     "name": "stdout",
     "output_type": "stream",
     "text": [
      "41 Integer Features : ['SK_ID_CURR', 'TARGET', 'CNT_CHILDREN', 'DAYS_BIRTH', 'DAYS_EMPLOYED', 'DAYS_ID_PUBLISH', 'FLAG_MOBIL', 'FLAG_EMP_PHONE', 'FLAG_WORK_PHONE', 'FLAG_CONT_MOBILE', 'FLAG_PHONE', 'FLAG_EMAIL', 'REGION_RATING_CLIENT', 'REGION_RATING_CLIENT_W_CITY', 'HOUR_APPR_PROCESS_START', 'REG_REGION_NOT_LIVE_REGION', 'REG_REGION_NOT_WORK_REGION', 'LIVE_REGION_NOT_WORK_REGION', 'REG_CITY_NOT_LIVE_CITY', 'REG_CITY_NOT_WORK_CITY', 'LIVE_CITY_NOT_WORK_CITY', 'FLAG_DOCUMENT_2', 'FLAG_DOCUMENT_3', 'FLAG_DOCUMENT_4', 'FLAG_DOCUMENT_5', 'FLAG_DOCUMENT_6', 'FLAG_DOCUMENT_7', 'FLAG_DOCUMENT_8', 'FLAG_DOCUMENT_9', 'FLAG_DOCUMENT_10', 'FLAG_DOCUMENT_11', 'FLAG_DOCUMENT_12', 'FLAG_DOCUMENT_13', 'FLAG_DOCUMENT_14', 'FLAG_DOCUMENT_15', 'FLAG_DOCUMENT_16', 'FLAG_DOCUMENT_17', 'FLAG_DOCUMENT_18', 'FLAG_DOCUMENT_19', 'FLAG_DOCUMENT_20', 'FLAG_DOCUMENT_21']\n",
      "\n",
      "65 Float Features : ['AMT_INCOME_TOTAL', 'AMT_CREDIT', 'AMT_ANNUITY', 'AMT_GOODS_PRICE', 'REGION_POPULATION_RELATIVE', 'DAYS_REGISTRATION', 'OWN_CAR_AGE', 'CNT_FAM_MEMBERS', 'EXT_SOURCE_1', 'EXT_SOURCE_2', 'EXT_SOURCE_3', 'APARTMENTS_AVG', 'BASEMENTAREA_AVG', 'YEARS_BEGINEXPLUATATION_AVG', 'YEARS_BUILD_AVG', 'COMMONAREA_AVG', 'ELEVATORS_AVG', 'ENTRANCES_AVG', 'FLOORSMAX_AVG', 'FLOORSMIN_AVG', 'LANDAREA_AVG', 'LIVINGAPARTMENTS_AVG', 'LIVINGAREA_AVG', 'NONLIVINGAPARTMENTS_AVG', 'NONLIVINGAREA_AVG', 'APARTMENTS_MODE', 'BASEMENTAREA_MODE', 'YEARS_BEGINEXPLUATATION_MODE', 'YEARS_BUILD_MODE', 'COMMONAREA_MODE', 'ELEVATORS_MODE', 'ENTRANCES_MODE', 'FLOORSMAX_MODE', 'FLOORSMIN_MODE', 'LANDAREA_MODE', 'LIVINGAPARTMENTS_MODE', 'LIVINGAREA_MODE', 'NONLIVINGAPARTMENTS_MODE', 'NONLIVINGAREA_MODE', 'APARTMENTS_MEDI', 'BASEMENTAREA_MEDI', 'YEARS_BEGINEXPLUATATION_MEDI', 'YEARS_BUILD_MEDI', 'COMMONAREA_MEDI', 'ELEVATORS_MEDI', 'ENTRANCES_MEDI', 'FLOORSMAX_MEDI', 'FLOORSMIN_MEDI', 'LANDAREA_MEDI', 'LIVINGAPARTMENTS_MEDI', 'LIVINGAREA_MEDI', 'NONLIVINGAPARTMENTS_MEDI', 'NONLIVINGAREA_MEDI', 'TOTALAREA_MODE', 'OBS_30_CNT_SOCIAL_CIRCLE', 'DEF_30_CNT_SOCIAL_CIRCLE', 'OBS_60_CNT_SOCIAL_CIRCLE', 'DEF_60_CNT_SOCIAL_CIRCLE', 'DAYS_LAST_PHONE_CHANGE', 'AMT_REQ_CREDIT_BUREAU_HOUR', 'AMT_REQ_CREDIT_BUREAU_DAY', 'AMT_REQ_CREDIT_BUREAU_WEEK', 'AMT_REQ_CREDIT_BUREAU_MON', 'AMT_REQ_CREDIT_BUREAU_QRT', 'AMT_REQ_CREDIT_BUREAU_YEAR']\n",
      "\n",
      "16 Object Features : ['NAME_CONTRACT_TYPE', 'CODE_GENDER', 'FLAG_OWN_CAR', 'FLAG_OWN_REALTY', 'NAME_TYPE_SUITE', 'NAME_INCOME_TYPE', 'NAME_EDUCATION_TYPE', 'NAME_FAMILY_STATUS', 'NAME_HOUSING_TYPE', 'OCCUPATION_TYPE', 'WEEKDAY_APPR_PROCESS_START', 'ORGANIZATION_TYPE', 'FONDKAPREMONT_MODE', 'HOUSETYPE_MODE', 'WALLSMATERIAL_MODE', 'EMERGENCYSTATE_MODE']\n"
     ]
    }
   ],
   "source": [
    "#確定只有 int64, float64, object 三種類型後, 分別將欄位名稱存於三個 list 中\n",
    "int_features = []\n",
    "float_features = []\n",
    "object_features = []\n",
    "for dtype, feature in zip(app_train.dtypes, app_train.columns):\n",
    "    if dtype == 'float64':\n",
    "        float_features.append(feature)\n",
    "    elif dtype == 'int64':\n",
    "        int_features.append(feature)\n",
    "    else:\n",
    "        object_features.append(feature)\n",
    "print(f'{len(int_features)} Integer Features : {int_features}\\n')\n",
    "print(f'{len(float_features)} Float Features : {float_features}\\n')\n",
    "print(f'{len(object_features)} Object Features : {object_features}')"
   ]
  },
  {
   "cell_type": "code",
   "execution_count": 51,
   "metadata": {},
   "outputs": [
    {
     "name": "stdout",
     "output_type": "stream",
     "text": [
      "column SK_ID_CURR avg is 278180.51857657125，std is 102790.17534842374\n",
      "column TARGET avg is 0.08072881945686496，std is 0.272418645647685\n",
      "column CNT_CHILDREN avg is 0.4170517477423572，std is 0.7221213844389559\n",
      "column DAYS_BIRTH avg is -16036.995066843137，std is 4363.988631785526\n",
      "column DAYS_EMPLOYED avg is 63815.04590404896，std is 141275.7665186621\n",
      "column DAYS_ID_PUBLISH avg is -2994.2023732484367，std is 1509.450419003031\n",
      "column FLAG_MOBIL avg is 0.9999967480838083，std is 0.0018033070153584427\n",
      "column FLAG_EMP_PHONE avg is 0.8198893698111612，std is 0.38428019893910226\n",
      "column FLAG_WORK_PHONE avg is 0.1993684778755882，std is 0.399526228149481\n",
      "column FLAG_CONT_MOBILE avg is 0.9981334001060125，std is 0.04316389414260104\n",
      "column FLAG_PHONE avg is 0.28106636835755466，std is 0.44952054685618487\n",
      "column FLAG_EMAIL avg is 0.0567199222141647，std is 0.23130703972354083\n",
      "column REGION_RATING_CLIENT avg is 2.0524631639193394，std is 0.5090339028159309\n",
      "column REGION_RATING_CLIENT_W_CITY avg is 2.031520823645333，std is 0.5027370329151815\n",
      "column HOUR_APPR_PROCESS_START avg is 12.063418869568894，std is 3.265832255439005\n",
      "column REG_REGION_NOT_LIVE_REGION avg is 0.015144173704355291，std is 0.1221264762820422\n",
      "column REG_REGION_NOT_WORK_REGION avg is 0.05076891558350758，std is 0.21952582879715415\n",
      "column LIVE_REGION_NOT_WORK_REGION avg is 0.04065870814377372，std is 0.19749861882882908\n",
      "column REG_CITY_NOT_LIVE_CITY avg is 0.07817281333025486，std is 0.26844377237329226\n",
      "column REG_CITY_NOT_WORK_CITY avg is 0.23045354475124466，std is 0.42112383591502345\n",
      "column LIVE_CITY_NOT_WORK_CITY avg is 0.17955455252007246，std is 0.38381661538643724\n",
      "column FLAG_DOCUMENT_2 avg is 4.2274910491006824e-05，std is 0.006501789045473359\n",
      "column FLAG_DOCUMENT_3 avg is 0.7100233812774177，std is 0.45375196843225896\n",
      "column FLAG_DOCUMENT_4 avg is 8.129790479039775e-05，std is 0.009016183216502365\n",
      "column FLAG_DOCUMENT_5 avg is 0.015114906458630749，std is 0.1220102228137952\n",
      "column FLAG_DOCUMENT_6 avg is 0.0880553866365756，std is 0.2833758928634348\n",
      "column FLAG_DOCUMENT_7 avg is 0.00019186305530533867，std is 0.013850157676953384\n",
      "column FLAG_DOCUMENT_8 avg is 0.08137595077899652，std is 0.27341204894479115\n",
      "column FLAG_DOCUMENT_9 avg is 0.00389579559755586，std is 0.062294710800275266\n",
      "column FLAG_DOCUMENT_10 avg is 2.276341334131137e-05，std is 0.004771055354074948\n",
      "column FLAG_DOCUMENT_11 avg is 0.003912055178513939，std is 0.06242406326687307\n",
      "column FLAG_DOCUMENT_12 avg is 6.503832383231819e-06，std is 0.0025502570916056816\n",
      "column FLAG_DOCUMENT_13 avg is 0.003525077151711646，std is 0.059267718073907814\n",
      "column FLAG_DOCUMENT_14 avg is 0.0029364803210291664，std is 0.054109767376285214\n",
      "column FLAG_DOCUMENT_15 avg is 0.0012097128232811183，std is 0.03475993882766619\n",
      "column FLAG_DOCUMENT_16 avg is 0.009928100133003373，std is 0.09914416233781621\n",
      "column FLAG_DOCUMENT_17 avg is 0.0002666571277125046，std is 0.016327488741600966\n",
      "column FLAG_DOCUMENT_18 avg is 0.008129790479039774，std is 0.08979823610939226\n",
      "column FLAG_DOCUMENT_19 avg is 0.0005951006630657115，std is 0.024387465065840774\n",
      "column FLAG_DOCUMENT_20 avg is 0.0005072989258920819，std is 0.022517620268457914\n",
      "column FLAG_DOCUMENT_21 avg is 0.0003349473677364387，std is 0.01829853182241794\n"
     ]
    }
   ],
   "source": [
    "#針對int64計算平均數及標準差\n",
    "for name in int_features:\n",
    "     print('column {0} avg is {1}，std is {2}'.format(name,app_train[name].mean(),app_train[name].std()))"
   ]
  },
  {
   "cell_type": "code",
   "execution_count": 52,
   "metadata": {},
   "outputs": [
    {
     "name": "stdout",
     "output_type": "stream",
     "text": [
      "column AMT_INCOME_TOTAL avg is 168797.9192969845，std is 237123.14627883647\n",
      "column AMT_CREDIT avg is 599025.9997057016，std is 402490.776995946\n",
      "column AMT_ANNUITY avg is 27108.573909183444，std is 14493.737315117392\n",
      "column AMT_GOODS_PRICE avg is 538396.2074288895，std is 369446.4605400129\n",
      "column REGION_POPULATION_RELATIVE avg is 0.02086811205778947，std is 0.013831280122699869\n",
      "column DAYS_REGISTRATION avg is -4986.120327538419，std is 3522.88632096305\n",
      "column OWN_CAR_AGE avg is 12.061090818687727，std is 11.944811582242346\n",
      "column CNT_FAM_MEMBERS avg is 2.152665450442101，std is 0.9106815691773334\n",
      "column EXT_SOURCE_1 avg is 0.5021298056566621，std is 0.21106224927392553\n",
      "column EXT_SOURCE_2 avg is 0.5143926741308463，std is 0.1910601549849387\n",
      "column EXT_SOURCE_3 avg is 0.5108529061800121，std is 0.19484436446376072\n",
      "column APARTMENTS_AVG avg is 0.11744049917466033，std is 0.10824029130030667\n",
      "column BASEMENTAREA_AVG avg is 0.08844221905180052，std is 0.08243815873569478\n",
      "column YEARS_BEGINEXPLUATATION_AVG avg is 0.9777348581622732，std is 0.05922331435835884\n",
      "column YEARS_BUILD_AVG avg is 0.752471432592686，std is 0.11327992663225028\n",
      "column COMMONAREA_AVG avg is 0.04462071541135205，std is 0.0760357450504098\n",
      "column ELEVATORS_AVG avg is 0.07894151232418305，std is 0.13457600110026235\n",
      "column ENTRANCES_AVG avg is 0.1497246700681123，std is 0.1000491207603038\n",
      "column FLOORSMAX_AVG avg is 0.2262819070368362，std is 0.14464069954794426\n",
      "column FLOORSMIN_AVG avg is 0.23189350049050692，std is 0.161380288800189\n",
      "column LANDAREA_AVG avg is 0.06633318417239835，std is 0.0811836407017809\n",
      "column LIVINGAPARTMENTS_AVG avg is 0.10077477495068154，std is 0.09257613396049696\n",
      "column LIVINGAREA_AVG avg is 0.10739901933259607，std is 0.11056452318371773\n",
      "column NONLIVINGAPARTMENTS_AVG avg is 0.008808672617213057，std is 0.047731662050336146\n",
      "column NONLIVINGAREA_AVG avg is 0.02835775707579772，std is 0.06952318332120722\n",
      "column APARTMENTS_MODE avg is 0.11423100693296864，std is 0.10793603908753796\n",
      "column BASEMENTAREA_MODE avg is 0.08754321224758604，std is 0.08430717486923314\n",
      "column YEARS_BEGINEXPLUATATION_MODE avg is 0.9770653729428284，std is 0.06457543708049779\n",
      "column YEARS_BUILD_MODE avg is 0.759637322733821，std is 0.11011102734194693\n",
      "column COMMONAREA_MODE avg is 0.042553137750146755，std is 0.07444452253838403\n",
      "column ELEVATORS_MODE avg is 0.07448973610915821，std is 0.1322561441504732\n",
      "column ENTRANCES_MODE avg is 0.14519265864574382，std is 0.1009769881602024\n",
      "column FLOORSMAX_MODE avg is 0.22231504747867964，std is 0.1437094065953209\n",
      "column FLOORSMIN_MODE avg is 0.22805849255070593，std is 0.16115977149541197\n",
      "column LANDAREA_MODE avg is 0.06495768445657842，std is 0.08175027780844098\n",
      "column LIVINGAPARTMENTS_MODE avg is 0.1056448567494209，std is 0.09788044657878618\n",
      "column LIVINGAREA_MODE avg is 0.1059750504371198，std is 0.11184526587783401\n",
      "column NONLIVINGAPARTMENTS_MODE avg is 0.008076387544283468，std is 0.04627626621983214\n",
      "column NONLIVINGAREA_MODE avg is 0.02702231968598884，std is 0.07025385904395566\n",
      "column APARTMENTS_MEDI avg is 0.11784992076592354，std is 0.10907590600115753\n",
      "column BASEMENTAREA_MEDI avg is 0.08795485466574764，std is 0.0821787495146414\n",
      "column YEARS_BEGINEXPLUATATION_MEDI avg is 0.9777522640694213，std is 0.05989731850511867\n",
      "column YEARS_BUILD_MEDI avg is 0.7557462721917102，std is 0.11206630964404966\n",
      "column COMMONAREA_MEDI avg is 0.044595101785290435，std is 0.07614426224091592\n",
      "column ELEVATORS_MEDI avg is 0.07807784431137002，std is 0.1344671476907157\n",
      "column ENTRANCES_MEDI avg is 0.14921278072876187，std is 0.10036839449766627\n",
      "column FLOORSMAX_MEDI avg is 0.22589659009280993，std is 0.14506702591938314\n",
      "column FLOORSMIN_MEDI avg is 0.23162493804929254，std is 0.1619335414572564\n",
      "column LANDAREA_MEDI avg is 0.06716874904939986，std is 0.08216701028006211\n",
      "column LIVINGAPARTMENTS_MEDI avg is 0.10195447324073251，std is 0.09364233271154587\n",
      "column LIVINGAREA_MEDI avg is 0.10860673604899224，std is 0.11226025867535097\n",
      "column NONLIVINGAPARTMENTS_MEDI avg is 0.008651013330213151，std is 0.047414727907790825\n",
      "column NONLIVINGAREA_MEDI avg is 0.028235920597262987，std is 0.07016648150680234\n",
      "column TOTALAREA_MODE avg is 0.10254666268544003，std is 0.10746232414961776\n",
      "column OBS_30_CNT_SOCIAL_CIRCLE avg is 1.4222454239942575，std is 2.400988746111826\n",
      "column DEF_30_CNT_SOCIAL_CIRCLE avg is 0.1434206662533851，std is 0.4466984293825373\n",
      "column OBS_60_CNT_SOCIAL_CIRCLE avg is 1.4052921791901856，std is 2.3798033519768955\n",
      "column DEF_60_CNT_SOCIAL_CIRCLE avg is 0.10004894123788705，std is 0.36229080397523755\n",
      "column DAYS_LAST_PHONE_CHANGE avg is -962.8587883320868，std is 826.8084870404405\n",
      "column AMT_REQ_CREDIT_BUREAU_HOUR avg is 0.006402448193930645，std is 0.08384912844777125\n",
      "column AMT_REQ_CREDIT_BUREAU_DAY avg is 0.0070002105326475985，std is 0.11075740632418819\n",
      "column AMT_REQ_CREDIT_BUREAU_WEEK avg is 0.0343619356973142，std is 0.20468487581284914\n",
      "column AMT_REQ_CREDIT_BUREAU_MON avg is 0.26739526000781977，std is 0.9160023961540442\n",
      "column AMT_REQ_CREDIT_BUREAU_QRT avg is 0.26547414959848414，std is 0.7940556483196873\n",
      "column AMT_REQ_CREDIT_BUREAU_YEAR avg is 1.899974435321363，std is 1.869294998182222\n"
     ]
    }
   ],
   "source": [
    "#針對float64計算平均數及標準差\n",
    "for name in float_features:\n",
    "     print('column {0} avg is {1}，std is {2}'.format(name,app_train[name].mean(),app_train[name].std()))"
   ]
  },
  {
   "cell_type": "markdown",
   "metadata": {},
   "source": [
    "#### 參考網址\n",
    "https://stackoverflow.com/questions/42496508/histogram-on-pandas-column/42497430\n",
    "https://chrisalbon.com/python/data_wrangling/pandas_dataframe_descriptive_stats/\n",
    "https://amaozhao.gitbooks.io/pandas-notebook/content/pandas%E4%B8%AD%E7%9A%84%E7%BB%98%E5%9B%BE%E5%87%BD%E6%95%B0.html"
   ]
  }
 ],
 "metadata": {
  "kernelspec": {
   "display_name": "Python 3",
   "language": "python",
   "name": "python3"
  },
  "language_info": {
   "codemirror_mode": {
    "name": "ipython",
    "version": 3
   },
   "file_extension": ".py",
   "mimetype": "text/x-python",
   "name": "python",
   "nbconvert_exporter": "python",
   "pygments_lexer": "ipython3",
   "version": "3.7.6"
  }
 },
 "nbformat": 4,
 "nbformat_minor": 2
}
