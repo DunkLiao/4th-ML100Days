{
 "cells": [
  {
   "cell_type": "markdown",
   "metadata": {},
   "source": [
    "### 專案名稱: 第四屆機器學習百日馬拉松\n",
    "### 功能描述: 第35天作業\n",
    "### 版權所有: Dunk  \n",
    "### 程式撰寫: Dunk  \n",
    "### 撰寫日期：2020/04/08\n",
    "### 改版日期:  \n",
    "### 改版備註: 2020/04/09 修正答案"
   ]
  },
  {
   "cell_type": "markdown",
   "metadata": {},
   "source": [
    "## 練習時間\n",
    "相信大家對回歸問題及分類問題都有初步的了解。今天的作業希望大家搜尋有關 multi-label 的案例問題。下圖是電影 \"奇異博士\" 的分類。可以看到同時有 \"Action\", \"Adventure\", \"Fantasy\" 的類別存在，代表這是個多標籤的問題。 "
   ]
  },
  {
   "cell_type": "markdown",
   "metadata": {},
   "source": [
    "![image](https://cdn-images-1.medium.com/max/1000/1*r0gYXMSQf5VhdMyl2bRDyg.png)"
   ]
  },
  {
   "cell_type": "markdown",
   "metadata": {},
   "source": [
    "## 請搜尋目標為多標籤問題 (Multi-label) 的機器學習案例，了解其資料來源、目標以及評估指標為何\n",
    "## Hint: 服飾"
   ]
  },
  {
   "cell_type": "markdown",
   "metadata": {},
   "source": [
    "### ANS:"
   ]
  },
  {
   "cell_type": "markdown",
   "metadata": {},
   "source": [
    "#### 參考來源\n",
    "多標籤分類(multi-label classification)\n",
    "\n",
    "https://www.itread01.com/content/1543650558.html\n",
    "\n",
    "基於keras實現多標籤分類（multi-label classification）\n",
    "\n",
    "https://www.itread01.com/content/1542075307.html\n",
    "\n",
    "##### 資料來源\n",
    "- 通過使用Bing影象搜尋API（Microsoft’s Bing Image Search API）建立影象資料（需要線上註冊獲得api key，使用key進行影象搜尋）\n",
    ">資料集包含六個類別的2,167個影象，包括：\n",
    ">>- 黑色牛仔褲（344影象）\n",
    ">>- 藍色連衣裙（386影象）\n",
    ">>- 藍色牛仔褲（356影象）\n",
    ">>- 藍色襯衫（369影象）\n",
    ">>- 紅色連衣裙（380影象）\n",
    ">>- 紅色襯衫（332影象）\n",
    "\n",
    "##### 評估指標\n",
    "- 包括兩個主要步驟：\n",
    ">>1. 使用sigmoid啟用替換網路末端的softmax啟用\n",
    ">>2. 二值交叉熵作為分類交叉熵損失函式\n",
    "\n",
    "##### 目標\n",
    ">網路無法預測沒有在訓練集中出現過的資料樣品，如果出現的次數過少，預測的效果也不會很好，解決辦法是增大資料集，這樣可能非常不容易，還有一種用的已經很多的方法用在大的資料集上訓練得到的權重資料對網路做初始化，提高模型的泛化能力。"
   ]
  },
  {
   "cell_type": "markdown",
   "metadata": {},
   "source": [
    "#### 正解\n",
    "請參考這篇[部落格文章](https://medium.com/coinmonks/multi-label-classification-blog-tags-prediction-using-nlp-b0b5ee6686fc)"
   ]
  },
  {
   "cell_type": "markdown",
   "metadata": {},
   "source": [
    "- 資料來源: 使用爬蟲的方式，爬取 medium 的文章以及其對應的 tags 來當成 label;爬下來的目標會長的如下\n",
    "![image](https://cdn-images-1.medium.com/max/800/1*PTrY1rOQm7km9RwQnYGRjQ.png)"
   ]
  },
  {
   "cell_type": "markdown",
   "metadata": {},
   "source": [
    "- 目標:使用機器學習與自然語言處理的技巧，對一篇文章作自動分類的對應的 tag\n",
    "- 評估指標: 使用 accuracy_score 來評估模型訓練的成果"
   ]
  }
 ],
 "metadata": {
  "kernelspec": {
   "display_name": "Python 3",
   "language": "python",
   "name": "python3"
  },
  "language_info": {
   "codemirror_mode": {
    "name": "ipython",
    "version": 3
   },
   "file_extension": ".py",
   "mimetype": "text/x-python",
   "name": "python",
   "nbconvert_exporter": "python",
   "pygments_lexer": "ipython3",
   "version": "3.7.6"
  }
 },
 "nbformat": 4,
 "nbformat_minor": 2
}
