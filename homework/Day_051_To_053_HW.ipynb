{
 "cells": [
  {
   "cell_type": "markdown",
   "metadata": {},
   "source": [
    "### 專案名稱: 第四屆機器學習百日馬拉松\n",
    "### 功能描述: 第51~53天作業(期中考)\n",
    "### 版權所有: Dunk  \n",
    "### 程式撰寫: Dunk  \n",
    "### 撰寫日期：2020/04/27\n",
    "### 改版日期:  \n",
    "### 改版備註: \n",
    "### 2020/04/29 增加梯度提升機及隨機森林\n",
    "### 2020/04/30 增加資料清洗與評估結果顯示\n",
    "### 2020/05/04 增加資料清洗"
   ]
  },
  {
   "cell_type": "markdown",
   "metadata": {},
   "source": [
    "請至以下Kaggle競賽平台期中考連結參加考試，請按join competition加入測驗 \n",
    "\n",
    "並將任一次提交完成畫面截圖，上傳到github並回到官網完成提交。(提交畫面截圖範例)\n",
    "\n",
    "https://www.kaggle.com/t/4e455552ac9b4a088ccae16e27d22be8"
   ]
  },
  {
   "cell_type": "markdown",
   "metadata": {},
   "source": [
    "### ANS:"
   ]
  },
  {
   "cell_type": "markdown",
   "metadata": {},
   "source": [
    "#### 前處理 Processing步驟\n",
    "1. 資料讀取\n",
    "2. 格式調整\n",
    "3. 填補缺值\n",
    "4. 去離群值\n",
    "5. 特徵縮放"
   ]
  },
  {
   "cell_type": "markdown",
   "metadata": {},
   "source": [
    "####  1. 資料讀取\n",
    "#### 匯入所需套件"
   ]
  },
  {
   "cell_type": "code",
   "execution_count": 32,
   "metadata": {},
   "outputs": [
    {
     "name": "stdout",
     "output_type": "stream",
     "text": [
      "(113, 22)\n",
      "(33, 21)\n"
     ]
    }
   ],
   "source": [
    "# 做完特徵工程前的所有準備 (與前範例相同)\n",
    "import os\n",
    "import pandas as pd\n",
    "import numpy as np\n",
    "import copy, time\n",
    "import pprint\n",
    "import warnings\n",
    "warnings.filterwarnings('ignore')\n",
    "from IPython.display import display\n",
    "from sklearn.preprocessing import MinMaxScaler,StandardScaler\n",
    "from sklearn.model_selection import cross_val_score,train_test_split,GridSearchCV\n",
    "from sklearn.linear_model import LogisticRegression\n",
    "from sklearn.preprocessing import LabelEncoder\n",
    "from sklearn.metrics import accuracy_score,f1_score,recall_score,precision_score\n",
    "from sklearn.ensemble import GradientBoostingClassifier, RandomForestClassifier\n",
    "\n",
    "data_path = 'data/'\n",
    "df_train = pd.read_csv(data_path + 'train_data.csv')\n",
    "df_test = pd.read_csv(data_path + 'test_features.csv')\n",
    "index_name = 'name'\n",
    "df_train = df_train.set_index(df_train[index_name])\n",
    "df_test = df_test.set_index(df_test[index_name])\n",
    "print(df_train.shape)\n",
    "print(df_test.shape)"
   ]
  },
  {
   "cell_type": "markdown",
   "metadata": {},
   "source": [
    "####  2. 格式調整"
   ]
  },
  {
   "cell_type": "code",
   "execution_count": 33,
   "metadata": {},
   "outputs": [],
   "source": [
    "# 重組資料成為訓練 / 預測用格式\n",
    "target_col = 'poi'\n",
    "key_col = 'name'\n",
    "df_train[target_col] = df_train[target_col].map(lambda i: 1 if i == True else 0)\n",
    "train_Y = df_train[target_col]\n",
    "ids = df_test[key_col]\n",
    "df_train_nokey = df_train.drop([key_col] , axis=1)\n",
    "df_test_nokey = df_test.drop([key_col] , axis=1)\n",
    "df = pd.concat([df_train_nokey,df_test_nokey])"
   ]
  },
  {
   "cell_type": "code",
   "execution_count": 34,
   "metadata": {},
   "outputs": [
    {
     "data": {
      "text/html": [
       "<div>\n",
       "<style scoped>\n",
       "    .dataframe tbody tr th:only-of-type {\n",
       "        vertical-align: middle;\n",
       "    }\n",
       "\n",
       "    .dataframe tbody tr th {\n",
       "        vertical-align: top;\n",
       "    }\n",
       "\n",
       "    .dataframe thead th {\n",
       "        text-align: right;\n",
       "    }\n",
       "</style>\n",
       "<table border=\"1\" class=\"dataframe\">\n",
       "  <thead>\n",
       "    <tr style=\"text-align: right;\">\n",
       "      <th></th>\n",
       "      <th>Column Type</th>\n",
       "      <th>Count</th>\n",
       "    </tr>\n",
       "  </thead>\n",
       "  <tbody>\n",
       "    <tr>\n",
       "      <th>0</th>\n",
       "      <td>float64</td>\n",
       "      <td>20</td>\n",
       "    </tr>\n",
       "    <tr>\n",
       "      <th>1</th>\n",
       "      <td>object</td>\n",
       "      <td>1</td>\n",
       "    </tr>\n",
       "  </tbody>\n",
       "</table>\n",
       "</div>"
      ],
      "text/plain": [
       "  Column Type  Count\n",
       "0     float64     20\n",
       "1      object      1"
      ]
     },
     "execution_count": 34,
     "metadata": {},
     "output_type": "execute_result"
    }
   ],
   "source": [
    "# 秀出資料欄位的類型與數量\n",
    "dtype_df = df.dtypes.reset_index()\n",
    "dtype_df.columns = [\"Count\", \"Column Type\"]\n",
    "dtype_df = dtype_df.groupby(\"Column Type\").aggregate('count').reset_index()\n",
    "dtype_df"
   ]
  },
  {
   "cell_type": "code",
   "execution_count": 35,
   "metadata": {},
   "outputs": [
    {
     "name": "stdout",
     "output_type": "stream",
     "text": [
      "20 num Features : ['bonus', 'deferral_payments', 'deferred_income', 'director_fees', 'exercised_stock_options', 'expenses', 'from_messages', 'from_poi_to_this_person', 'from_this_person_to_poi', 'loan_advances', 'long_term_incentive', 'other', 'poi', 'restricted_stock', 'restricted_stock_deferred', 'salary', 'shared_receipt_with_poi', 'to_messages', 'total_payments', 'total_stock_value']\n",
      "\n",
      "1 Object Features : ['email_address']\n"
     ]
    }
   ],
   "source": [
    "#確定只有 int64, float64, object 三種類型後, 分別將欄位名稱存於二個 list(數值及文字) 中\n",
    "num_features = []\n",
    "object_features = []\n",
    "for dtype, feature in zip(df.dtypes, df.columns):\n",
    "    if dtype == 'float64' or dtype == 'int64':\n",
    "        num_features.append(feature)    \n",
    "    else:\n",
    "        object_features.append(feature)\n",
    "print(f'{len(num_features)} num Features : {num_features}\\n')\n",
    "print(f'{len(object_features)} Object Features : {object_features}')"
   ]
  },
  {
   "cell_type": "code",
   "execution_count": 36,
   "metadata": {},
   "outputs": [
    {
     "name": "stdout",
     "output_type": "stream",
     "text": [
      "'column[bonus]s value is from 97343619.0 to 70000.0'\n"
     ]
    },
    {
     "data": {
      "image/png": "[encoded data removed]",
      "text/plain": [
       "<Figure size 432x288 with 1 Axes>"
      ]
     },
     "metadata": {
      "needs_background": "light"
     },
     "output_type": "display_data"
    },
    {
     "name": "stdout",
     "output_type": "stream",
     "text": [
      "'column[deferral_payments]s value is from 32083396.0 to -102500.0'\n"
     ]
    },
    {
     "data": {
      "image/png": "[encoded data removed]",
      "text/plain": [
       "<Figure size 432x288 with 1 Axes>"
      ]
     },
     "metadata": {
      "needs_background": "light"
     },
     "output_type": "display_data"
    },
    {
     "name": "stdout",
     "output_type": "stream",
     "text": [
      "'column[deferred_income]s value is from -833.0 to -27992891.0'\n"
     ]
    },
    {
     "data": {
      "image/png": "[encoded data removed]",
      "text/plain": [
       "<Figure size 432x288 with 1 Axes>"
      ]
     },
     "metadata": {
      "needs_background": "light"
     },
     "output_type": "display_data"
    },
    {
     "name": "stdout",
     "output_type": "stream",
     "text": [
      "'column[director_fees]s value is from 1398517.0 to 3285.0'\n"
     ]
    },
    {
     "data": {
      "image/png": "[encoded data removed]",
      "text/plain": [
       "<Figure size 432x288 with 1 Axes>"
      ]
     },
     "metadata": {
      "needs_background": "light"
     },
     "output_type": "display_data"
    },
    {
     "name": "stdout",
     "output_type": "stream",
     "text": [
      "'column[exercised_stock_options]s value is from 311764000.0 to 3285.0'\n"
     ]
    },
    {
     "data": {
      "image/png": "[encoded data removed]",
      "text/plain": [
       "<Figure size 432x288 with 1 Axes>"
      ]
     },
     "metadata": {
      "needs_background": "light"
     },
     "output_type": "display_data"
    },
    {
     "name": "stdout",
     "output_type": "stream",
     "text": [
      "'column[expenses]s value is from 5235198.0 to 148.0'\n"
     ]
    },
    {
     "data": {
      "image/png": "[encoded data removed]",
      "text/plain": [
       "<Figure size 432x288 with 1 Axes>"
      ]
     },
     "metadata": {
      "needs_background": "light"
     },
     "output_type": "display_data"
    },
    {
     "name": "stdout",
     "output_type": "stream",
     "text": [
      "'column[from_messages]s value is from 14368.0 to 12.0'\n"
     ]
    },
    {
     "data": {
      "image/png": "[encoded data removed]",
      "text/plain": [
       "<Figure size 432x288 with 1 Axes>"
      ]
     },
     "metadata": {
      "needs_background": "light"
     },
     "output_type": "display_data"
    },
    {
     "name": "stdout",
     "output_type": "stream",
     "text": [
      "'column[from_poi_to_this_person]s value is from 528.0 to 0.0'\n"
     ]
    },
    {
     "data": {
      "image/png": "[encoded data removed]",
      "text/plain": [
       "<Figure size 432x288 with 1 Axes>"
      ]
     },
     "metadata": {
      "needs_background": "light"
     },
     "output_type": "display_data"
    },
    {
     "name": "stdout",
     "output_type": "stream",
     "text": [
      "'column[from_this_person_to_poi]s value is from 609.0 to 0.0'\n"
     ]
    },
    {
     "data": {
      "image/png": "[encoded data removed]",
      "text/plain": [
       "<Figure size 432x288 with 1 Axes>"
      ]
     },
     "metadata": {
      "needs_background": "light"
     },
     "output_type": "display_data"
    },
    {
     "name": "stdout",
     "output_type": "stream",
     "text": [
      "'column[loan_advances]s value is from 83925000.0 to 400000.0'\n"
     ]
    },
    {
     "data": {
      "image/png": "[encoded data removed]",
      "text/plain": [
       "<Figure size 432x288 with 1 Axes>"
      ]
     },
     "metadata": {
      "needs_background": "light"
     },
     "output_type": "display_data"
    },
    {
     "name": "stdout",
     "output_type": "stream",
     "text": [
      "'column[long_term_incentive]s value is from 48521928.0 to 69223.0'\n"
     ]
    },
    {
     "data": {
      "image/png": "[encoded data removed]",
      "text/plain": [
       "<Figure size 432x288 with 1 Axes>"
      ]
     },
     "metadata": {
      "needs_background": "light"
     },
     "output_type": "display_data"
    },
    {
     "name": "stdout",
     "output_type": "stream",
     "text": [
      "'column[other]s value is from 42667589.0 to 2.0'\n"
     ]
    },
    {
     "data": {
      "image/png": "[encoded data removed]",
      "text/plain": [
       "<Figure size 432x288 with 1 Axes>"
      ]
     },
     "metadata": {
      "needs_background": "light"
     },
     "output_type": "display_data"
    },
    {
     "name": "stdout",
     "output_type": "stream",
     "text": [
      "'column[poi]s value is from 1.0 to 0.0'\n"
     ]
    },
    {
     "data": {
      "image/png": "[encoded data removed]",
      "text/plain": [
       "<Figure size 432x288 with 1 Axes>"
      ]
     },
     "metadata": {
      "needs_background": "light"
     },
     "output_type": "display_data"
    },
    {
     "name": "stdout",
     "output_type": "stream",
     "text": [
      "'column[restricted_stock]s value is from 130322299.0 to -2604490.0'\n"
     ]
    },
    {
     "data": {
      "image/png": "[encoded data removed]",
      "text/plain": [
       "<Figure size 432x288 with 1 Axes>"
      ]
     },
     "metadata": {
      "needs_background": "light"
     },
     "output_type": "display_data"
    },
    {
     "name": "stdout",
     "output_type": "stream",
     "text": [
      "'column[restricted_stock_deferred]s value is from 15456290.0 to -7576788.0'\n"
     ]
    },
    {
     "data": {
      "image/png": "[encoded data removed]",
      "text/plain": [
       "<Figure size 432x288 with 1 Axes>"
      ]
     },
     "metadata": {
      "needs_background": "light"
     },
     "output_type": "display_data"
    },
    {
     "name": "stdout",
     "output_type": "stream",
     "text": [
      "'column[salary]s value is from 26704229.0 to 477.0'\n"
     ]
    },
    {
     "data": {
      "image/png": "[encoded data removed]",
      "text/plain": [
       "<Figure size 432x288 with 1 Axes>"
      ]
     },
     "metadata": {
      "needs_background": "light"
     },
     "output_type": "display_data"
    },
    {
     "name": "stdout",
     "output_type": "stream",
     "text": [
      "'column[shared_receipt_with_poi]s value is from 5521.0 to 2.0'\n"
     ]
    },
    {
     "data": {
      "image/png": "[encoded data removed]",
      "text/plain": [
       "<Figure size 432x288 with 1 Axes>"
      ]
     },
     "metadata": {
      "needs_background": "light"
     },
     "output_type": "display_data"
    },
    {
     "name": "stdout",
     "output_type": "stream",
     "text": [
      "'column[to_messages]s value is from 15149.0 to 57.0'\n"
     ]
    },
    {
     "data": {
      "image/png": "[encoded data removed]",
      "text/plain": [
       "<Figure size 432x288 with 1 Axes>"
      ]
     },
     "metadata": {
      "needs_background": "light"
     },
     "output_type": "display_data"
    },
    {
     "name": "stdout",
     "output_type": "stream",
     "text": [
      "'column[total_payments]s value is from 309886585.0 to 148.0'\n"
     ]
    },
    {
     "data": {
      "image/png": "[encoded data removed]",
      "text/plain": [
       "<Figure size 432x288 with 1 Axes>"
      ]
     },
     "metadata": {
      "needs_background": "light"
     },
     "output_type": "display_data"
    },
    {
     "name": "stdout",
     "output_type": "stream",
     "text": [
      "'column[total_stock_value]s value is from 434509511.0 to -44093.0'\n"
     ]
    },
    {
     "data": {
      "image/png": "[encoded data removed]",
      "text/plain": [
       "<Figure size 432x288 with 1 Axes>"
      ]
     },
     "metadata": {
      "needs_background": "light"
     },
     "output_type": "display_data"
    }
   ],
   "source": [
    "# 繪製廂型圖\n",
    "import matplotlib.pyplot as plt\n",
    "%matplotlib inline\n",
    "\n",
    "# 檢視數值欄位的數值範圍\n",
    "# 參考網址\n",
    "# https://www.itread01.com/content/1541665023.html\n",
    "for col in num_features:    \n",
    "    pprint.pprint('column[{0}]''s value is from {1} to {2}'.format(col,df[col].max(),df[col].min()))\n",
    "    \n",
    "    fig,axes = plt.subplots()\n",
    "    df[col].plot(kind='box',ax=axes)\n",
    "    axes.set_ylabel('values of {0}'.format(col))\n",
    "    plt.show()"
   ]
  },
  {
   "cell_type": "code",
   "execution_count": 37,
   "metadata": {},
   "outputs": [
    {
     "name": "stdout",
     "output_type": "stream",
     "text": [
      "email_address    111\n",
      "dtype: int64\n",
      "----------------------\n",
      "poi                            2\n",
      "loan_advances                  4\n",
      "director_fees                 17\n",
      "restricted_stock_deferred     18\n",
      "deferral_payments             39\n",
      "from_this_person_to_poi       41\n",
      "bonus                         41\n",
      "deferred_income               44\n",
      "long_term_incentive           52\n",
      "from_poi_to_this_person       57\n",
      "from_messages                 64\n",
      "shared_receipt_with_poi       83\n",
      "to_messages                   86\n",
      "other                         92\n",
      "expenses                      94\n",
      "salary                        94\n",
      "restricted_stock              97\n",
      "exercised_stock_options      101\n",
      "total_stock_value            124\n",
      "total_payments               125\n",
      "dtype: int64\n",
      "name\n",
      "RICE KENNETH D          1.0\n",
      "SKILLING JEFFREY K      1.0\n",
      "SHELBY REX              1.0\n",
      "KOPPER MICHAEL J        1.0\n",
      "CALGER CHRISTOPHER F    1.0\n",
      "                       ... \n",
      "BIBI PHILIPPE A         NaN\n",
      "SHERRIFF JOHN R         NaN\n",
      "GIBBS DANA R            NaN\n",
      "LINDHOLM TOD A          NaN\n",
      "MCMAHON JEFFREY         NaN\n",
      "Name: poi, Length: 146, dtype: float64\n"
     ]
    }
   ],
   "source": [
    "# 欄位值計算\n",
    "print(df.select_dtypes(include=[\"object\"]).apply(pd.Series.nunique, axis = 0).sort_values())\n",
    "print('----------------------')\n",
    "print(df.select_dtypes(include=[\"float64\"]).apply(pd.Series.nunique, axis = 0).sort_values())\n",
    "print(df['poi'])"
   ]
  },
  {
   "cell_type": "code",
   "execution_count": 38,
   "metadata": {},
   "outputs": [
    {
     "data": {
      "text/html": [
       "<div>\n",
       "<style scoped>\n",
       "    .dataframe tbody tr th:only-of-type {\n",
       "        vertical-align: middle;\n",
       "    }\n",
       "\n",
       "    .dataframe tbody tr th {\n",
       "        vertical-align: top;\n",
       "    }\n",
       "\n",
       "    .dataframe thead th {\n",
       "        text-align: right;\n",
       "    }\n",
       "</style>\n",
       "<table border=\"1\" class=\"dataframe\">\n",
       "  <thead>\n",
       "    <tr style=\"text-align: right;\">\n",
       "      <th></th>\n",
       "      <th>bonus</th>\n",
       "      <th>deferral_payments</th>\n",
       "      <th>deferred_income</th>\n",
       "      <th>director_fees</th>\n",
       "      <th>exercised_stock_options</th>\n",
       "      <th>expenses</th>\n",
       "      <th>from_messages</th>\n",
       "      <th>from_poi_to_this_person</th>\n",
       "      <th>from_this_person_to_poi</th>\n",
       "      <th>loan_advances</th>\n",
       "      <th>long_term_incentive</th>\n",
       "      <th>other</th>\n",
       "      <th>poi</th>\n",
       "      <th>restricted_stock</th>\n",
       "      <th>restricted_stock_deferred</th>\n",
       "      <th>salary</th>\n",
       "      <th>shared_receipt_with_poi</th>\n",
       "      <th>to_messages</th>\n",
       "      <th>total_payments</th>\n",
       "      <th>total_stock_value</th>\n",
       "    </tr>\n",
       "    <tr>\n",
       "      <th>name</th>\n",
       "      <th></th>\n",
       "      <th></th>\n",
       "      <th></th>\n",
       "      <th></th>\n",
       "      <th></th>\n",
       "      <th></th>\n",
       "      <th></th>\n",
       "      <th></th>\n",
       "      <th></th>\n",
       "      <th></th>\n",
       "      <th></th>\n",
       "      <th></th>\n",
       "      <th></th>\n",
       "      <th></th>\n",
       "      <th></th>\n",
       "      <th></th>\n",
       "      <th></th>\n",
       "      <th></th>\n",
       "      <th></th>\n",
       "      <th></th>\n",
       "    </tr>\n",
       "  </thead>\n",
       "  <tbody>\n",
       "    <tr>\n",
       "      <th>RICE KENNETH D</th>\n",
       "      <td>1750000.0</td>\n",
       "      <td>NaN</td>\n",
       "      <td>-3504386.0</td>\n",
       "      <td>NaN</td>\n",
       "      <td>19794175.0</td>\n",
       "      <td>46950.0</td>\n",
       "      <td>18.0</td>\n",
       "      <td>42.0</td>\n",
       "      <td>4.0</td>\n",
       "      <td>NaN</td>\n",
       "      <td>1617011.0</td>\n",
       "      <td>174839.0</td>\n",
       "      <td>1.0</td>\n",
       "      <td>2748364.0</td>\n",
       "      <td>NaN</td>\n",
       "      <td>420636.0</td>\n",
       "      <td>864.0</td>\n",
       "      <td>905.0</td>\n",
       "      <td>505050.0</td>\n",
       "      <td>22542539.0</td>\n",
       "    </tr>\n",
       "    <tr>\n",
       "      <th>SKILLING JEFFREY K</th>\n",
       "      <td>5600000.0</td>\n",
       "      <td>NaN</td>\n",
       "      <td>NaN</td>\n",
       "      <td>NaN</td>\n",
       "      <td>19250000.0</td>\n",
       "      <td>29336.0</td>\n",
       "      <td>108.0</td>\n",
       "      <td>88.0</td>\n",
       "      <td>30.0</td>\n",
       "      <td>NaN</td>\n",
       "      <td>1920000.0</td>\n",
       "      <td>22122.0</td>\n",
       "      <td>1.0</td>\n",
       "      <td>6843672.0</td>\n",
       "      <td>NaN</td>\n",
       "      <td>1111258.0</td>\n",
       "      <td>2042.0</td>\n",
       "      <td>3627.0</td>\n",
       "      <td>8682716.0</td>\n",
       "      <td>26093672.0</td>\n",
       "    </tr>\n",
       "    <tr>\n",
       "      <th>SHELBY REX</th>\n",
       "      <td>200000.0</td>\n",
       "      <td>NaN</td>\n",
       "      <td>-4167.0</td>\n",
       "      <td>NaN</td>\n",
       "      <td>1624396.0</td>\n",
       "      <td>22884.0</td>\n",
       "      <td>39.0</td>\n",
       "      <td>13.0</td>\n",
       "      <td>14.0</td>\n",
       "      <td>NaN</td>\n",
       "      <td>NaN</td>\n",
       "      <td>1573324.0</td>\n",
       "      <td>1.0</td>\n",
       "      <td>869220.0</td>\n",
       "      <td>NaN</td>\n",
       "      <td>211844.0</td>\n",
       "      <td>91.0</td>\n",
       "      <td>225.0</td>\n",
       "      <td>2003885.0</td>\n",
       "      <td>2493616.0</td>\n",
       "    </tr>\n",
       "    <tr>\n",
       "      <th>KOPPER MICHAEL J</th>\n",
       "      <td>800000.0</td>\n",
       "      <td>NaN</td>\n",
       "      <td>NaN</td>\n",
       "      <td>NaN</td>\n",
       "      <td>NaN</td>\n",
       "      <td>118134.0</td>\n",
       "      <td>NaN</td>\n",
       "      <td>NaN</td>\n",
       "      <td>NaN</td>\n",
       "      <td>NaN</td>\n",
       "      <td>602671.0</td>\n",
       "      <td>907502.0</td>\n",
       "      <td>1.0</td>\n",
       "      <td>985032.0</td>\n",
       "      <td>NaN</td>\n",
       "      <td>224305.0</td>\n",
       "      <td>NaN</td>\n",
       "      <td>NaN</td>\n",
       "      <td>2652612.0</td>\n",
       "      <td>985032.0</td>\n",
       "    </tr>\n",
       "    <tr>\n",
       "      <th>CALGER CHRISTOPHER F</th>\n",
       "      <td>1250000.0</td>\n",
       "      <td>NaN</td>\n",
       "      <td>-262500.0</td>\n",
       "      <td>NaN</td>\n",
       "      <td>NaN</td>\n",
       "      <td>35818.0</td>\n",
       "      <td>144.0</td>\n",
       "      <td>199.0</td>\n",
       "      <td>25.0</td>\n",
       "      <td>NaN</td>\n",
       "      <td>375304.0</td>\n",
       "      <td>486.0</td>\n",
       "      <td>1.0</td>\n",
       "      <td>126027.0</td>\n",
       "      <td>NaN</td>\n",
       "      <td>240189.0</td>\n",
       "      <td>2188.0</td>\n",
       "      <td>2598.0</td>\n",
       "      <td>1639297.0</td>\n",
       "      <td>126027.0</td>\n",
       "    </tr>\n",
       "  </tbody>\n",
       "</table>\n",
       "</div>"
      ],
      "text/plain": [
       "                          bonus  deferral_payments  deferred_income  \\\n",
       "name                                                                  \n",
       "RICE KENNETH D        1750000.0                NaN       -3504386.0   \n",
       "SKILLING JEFFREY K    5600000.0                NaN              NaN   \n",
       "SHELBY REX             200000.0                NaN          -4167.0   \n",
       "KOPPER MICHAEL J       800000.0                NaN              NaN   \n",
       "CALGER CHRISTOPHER F  1250000.0                NaN        -262500.0   \n",
       "\n",
       "                      director_fees  exercised_stock_options  expenses  \\\n",
       "name                                                                     \n",
       "RICE KENNETH D                  NaN               19794175.0   46950.0   \n",
       "SKILLING JEFFREY K              NaN               19250000.0   29336.0   \n",
       "SHELBY REX                      NaN                1624396.0   22884.0   \n",
       "KOPPER MICHAEL J                NaN                      NaN  118134.0   \n",
       "CALGER CHRISTOPHER F            NaN                      NaN   35818.0   \n",
       "\n",
       "                      from_messages  from_poi_to_this_person  \\\n",
       "name                                                           \n",
       "RICE KENNETH D                 18.0                     42.0   \n",
       "SKILLING JEFFREY K            108.0                     88.0   \n",
       "SHELBY REX                     39.0                     13.0   \n",
       "KOPPER MICHAEL J                NaN                      NaN   \n",
       "CALGER CHRISTOPHER F          144.0                    199.0   \n",
       "\n",
       "                      from_this_person_to_poi  loan_advances  \\\n",
       "name                                                           \n",
       "RICE KENNETH D                            4.0            NaN   \n",
       "SKILLING JEFFREY K                       30.0            NaN   \n",
       "SHELBY REX                               14.0            NaN   \n",
       "KOPPER MICHAEL J                          NaN            NaN   \n",
       "CALGER CHRISTOPHER F                     25.0            NaN   \n",
       "\n",
       "                      long_term_incentive      other  poi  restricted_stock  \\\n",
       "name                                                                          \n",
       "RICE KENNETH D                  1617011.0   174839.0  1.0         2748364.0   \n",
       "SKILLING JEFFREY K              1920000.0    22122.0  1.0         6843672.0   \n",
       "SHELBY REX                            NaN  1573324.0  1.0          869220.0   \n",
       "KOPPER MICHAEL J                 602671.0   907502.0  1.0          985032.0   \n",
       "CALGER CHRISTOPHER F             375304.0      486.0  1.0          126027.0   \n",
       "\n",
       "                      restricted_stock_deferred     salary  \\\n",
       "name                                                         \n",
       "RICE KENNETH D                              NaN   420636.0   \n",
       "SKILLING JEFFREY K                          NaN  1111258.0   \n",
       "SHELBY REX                                  NaN   211844.0   \n",
       "KOPPER MICHAEL J                            NaN   224305.0   \n",
       "CALGER CHRISTOPHER F                        NaN   240189.0   \n",
       "\n",
       "                      shared_receipt_with_poi  to_messages  total_payments  \\\n",
       "name                                                                         \n",
       "RICE KENNETH D                          864.0        905.0        505050.0   \n",
       "SKILLING JEFFREY K                     2042.0       3627.0       8682716.0   \n",
       "SHELBY REX                               91.0        225.0       2003885.0   \n",
       "KOPPER MICHAEL J                          NaN          NaN       2652612.0   \n",
       "CALGER CHRISTOPHER F                   2188.0       2598.0       1639297.0   \n",
       "\n",
       "                      total_stock_value  \n",
       "name                                     \n",
       "RICE KENNETH D               22542539.0  \n",
       "SKILLING JEFFREY K           26093672.0  \n",
       "SHELBY REX                    2493616.0  \n",
       "KOPPER MICHAEL J               985032.0  \n",
       "CALGER CHRISTOPHER F           126027.0  "
      ]
     },
     "execution_count": 38,
     "metadata": {},
     "output_type": "execute_result"
    }
   ],
   "source": [
    "# 削減類別欄位, 只剩數值型欄位\n",
    "df_num_only = df[num_features]\n",
    "train_num = train_Y.shape[0]\n",
    "df_num_only.head()"
   ]
  },
  {
   "cell_type": "code",
   "execution_count": 39,
   "metadata": {},
   "outputs": [
    {
     "name": "stdout",
     "output_type": "stream",
     "text": [
      "Series([], dtype: float64)\n",
      "----------------------\n",
      "poi                            2\n",
      "loan_advances                  4\n",
      "director_fees                 17\n",
      "restricted_stock_deferred     18\n",
      "deferral_payments             39\n",
      "from_this_person_to_poi       41\n",
      "bonus                         41\n",
      "deferred_income               44\n",
      "long_term_incentive           52\n",
      "from_poi_to_this_person       57\n",
      "from_messages                 64\n",
      "shared_receipt_with_poi       83\n",
      "to_messages                   86\n",
      "other                         92\n",
      "expenses                      94\n",
      "salary                        94\n",
      "restricted_stock              97\n",
      "exercised_stock_options      101\n",
      "total_stock_value            124\n",
      "total_payments               125\n",
      "dtype: int64\n"
     ]
    }
   ],
   "source": [
    "# 欄位值計算\n",
    "print(df_num_only.select_dtypes(include=[\"object\"]).apply(pd.Series.nunique, axis = 0).sort_values())\n",
    "print('----------------------')\n",
    "print(df_num_only.select_dtypes(include=[\"float64\"]).apply(pd.Series.nunique, axis = 0).sort_values())"
   ]
  },
  {
   "cell_type": "code",
   "execution_count": 40,
   "metadata": {},
   "outputs": [
    {
     "name": "stdout",
     "output_type": "stream",
     "text": [
      "0.7521739130434784\n",
      "0.9023715415019762\n",
      "0.8494071146245059\n",
      "0.7968379446640317\n"
     ]
    }
   ],
   "source": [
    "# 空值補 -1, 做羅吉斯迴歸\n",
    "import pprint\n",
    "df_m1 = df_num_only.fillna(-1)\n",
    "train_X = df_m1[:train_num]\n",
    "estimator = LogisticRegression()\n",
    "pprint.pprint(cross_val_score(estimator, train_X, train_Y, cv=5).mean())\n",
    "\n",
    "# 空值補上平均值\n",
    "df_m2 = df_num_only.fillna(df_num_only.mean())\n",
    "train_X = df_m2[:train_num]\n",
    "estimator = LogisticRegression()\n",
    "pprint.pprint(cross_val_score(estimator, train_X, train_Y, cv=5).mean())\n",
    "\n",
    "# 空值補上中位值\n",
    "df_m3 = df_num_only.fillna(df_num_only.median())\n",
    "train_X = df_m3[:train_num]\n",
    "estimator = LogisticRegression()\n",
    "pprint.pprint(cross_val_score(estimator, train_X, train_Y, cv=5).mean())\n",
    "\n",
    "# 空值補上0\n",
    "df_m4 = df_num_only.fillna(0)\n",
    "train_X = df_m4[:train_num]\n",
    "estimator = LogisticRegression()\n",
    "pprint.pprint(cross_val_score(estimator, train_X, train_Y, cv=5).mean())"
   ]
  },
  {
   "cell_type": "markdown",
   "metadata": {},
   "source": [
    "#### 由上面計算結果，補上平均值的效果最好"
   ]
  },
  {
   "cell_type": "code",
   "execution_count": 41,
   "metadata": {},
   "outputs": [
    {
     "name": "stdout",
     "output_type": "stream",
     "text": [
      "1.0\n"
     ]
    }
   ],
   "source": [
    "# 空值補平均值, 搭配最小最大化\n",
    "df_1 = df_num_only.fillna(df_num_only.mean())\n",
    "df_temp = MinMaxScaler().fit_transform(df_1)\n",
    "train_X = df_temp[:train_num]\n",
    "estimator = LogisticRegression()\n",
    "pprint.pprint(cross_val_score(estimator, train_X, train_Y, cv=5).mean())"
   ]
  },
  {
   "cell_type": "code",
   "execution_count": 42,
   "metadata": {},
   "outputs": [
    {
     "name": "stdout",
     "output_type": "stream",
     "text": [
      "1.0\n"
     ]
    }
   ],
   "source": [
    "# 空值補平均值, 搭配標準化\n",
    "df_1 = df_num_only.fillna(df_num_only.mean())\n",
    "df_temp = StandardScaler().fit_transform(df_1)\n",
    "train_X = df_temp[:train_num]\n",
    "estimator = LogisticRegression()\n",
    "pprint.pprint(cross_val_score(estimator, train_X, train_Y, cv=5).mean())"
   ]
  },
  {
   "cell_type": "markdown",
   "metadata": {},
   "source": [
    "#### 3.填補缺值"
   ]
  },
  {
   "cell_type": "code",
   "execution_count": 43,
   "metadata": {
    "scrolled": true,
    "slideshow": {
     "slide_type": "subslide"
    }
   },
   "outputs": [
    {
     "data": {
      "text/html": [
       "<div>\n",
       "<style scoped>\n",
       "    .dataframe tbody tr th:only-of-type {\n",
       "        vertical-align: middle;\n",
       "    }\n",
       "\n",
       "    .dataframe tbody tr th {\n",
       "        vertical-align: top;\n",
       "    }\n",
       "\n",
       "    .dataframe thead th {\n",
       "        text-align: right;\n",
       "    }\n",
       "</style>\n",
       "<table border=\"1\" class=\"dataframe\">\n",
       "  <thead>\n",
       "    <tr style=\"text-align: right;\">\n",
       "      <th></th>\n",
       "      <th>bonus</th>\n",
       "      <th>deferral_payments</th>\n",
       "      <th>deferred_income</th>\n",
       "      <th>director_fees</th>\n",
       "      <th>exercised_stock_options</th>\n",
       "      <th>expenses</th>\n",
       "      <th>from_messages</th>\n",
       "      <th>from_poi_to_this_person</th>\n",
       "      <th>from_this_person_to_poi</th>\n",
       "      <th>loan_advances</th>\n",
       "      <th>long_term_incentive</th>\n",
       "      <th>other</th>\n",
       "      <th>poi</th>\n",
       "      <th>restricted_stock</th>\n",
       "      <th>restricted_stock_deferred</th>\n",
       "      <th>salary</th>\n",
       "      <th>shared_receipt_with_poi</th>\n",
       "      <th>to_messages</th>\n",
       "      <th>total_payments</th>\n",
       "      <th>total_stock_value</th>\n",
       "    </tr>\n",
       "  </thead>\n",
       "  <tbody>\n",
       "    <tr>\n",
       "      <th>count</th>\n",
       "      <td>8.200000e+01</td>\n",
       "      <td>3.900000e+01</td>\n",
       "      <td>4.900000e+01</td>\n",
       "      <td>1.700000e+01</td>\n",
       "      <td>1.020000e+02</td>\n",
       "      <td>9.500000e+01</td>\n",
       "      <td>86.000000</td>\n",
       "      <td>86.000000</td>\n",
       "      <td>86.000000</td>\n",
       "      <td>4.000000e+00</td>\n",
       "      <td>6.600000e+01</td>\n",
       "      <td>9.300000e+01</td>\n",
       "      <td>113.000000</td>\n",
       "      <td>1.100000e+02</td>\n",
       "      <td>1.800000e+01</td>\n",
       "      <td>9.500000e+01</td>\n",
       "      <td>86.000000</td>\n",
       "      <td>86.000000</td>\n",
       "      <td>1.250000e+02</td>\n",
       "      <td>1.260000e+02</td>\n",
       "    </tr>\n",
       "    <tr>\n",
       "      <th>mean</th>\n",
       "      <td>2.374235e+06</td>\n",
       "      <td>1.642674e+06</td>\n",
       "      <td>-1.140475e+06</td>\n",
       "      <td>1.668049e+05</td>\n",
       "      <td>5.987054e+06</td>\n",
       "      <td>1.087289e+05</td>\n",
       "      <td>608.790698</td>\n",
       "      <td>64.895349</td>\n",
       "      <td>41.232558</td>\n",
       "      <td>4.196250e+07</td>\n",
       "      <td>1.470361e+06</td>\n",
       "      <td>9.190650e+05</td>\n",
       "      <td>0.115044</td>\n",
       "      <td>2.321741e+06</td>\n",
       "      <td>1.664106e+05</td>\n",
       "      <td>5.621943e+05</td>\n",
       "      <td>1176.465116</td>\n",
       "      <td>2073.860465</td>\n",
       "      <td>5.081526e+06</td>\n",
       "      <td>6.773957e+06</td>\n",
       "    </tr>\n",
       "    <tr>\n",
       "      <th>std</th>\n",
       "      <td>1.071333e+07</td>\n",
       "      <td>5.161930e+06</td>\n",
       "      <td>4.025406e+06</td>\n",
       "      <td>3.198914e+05</td>\n",
       "      <td>3.106201e+07</td>\n",
       "      <td>5.335348e+05</td>\n",
       "      <td>1841.033949</td>\n",
       "      <td>86.979244</td>\n",
       "      <td>100.073111</td>\n",
       "      <td>4.708321e+07</td>\n",
       "      <td>5.942759e+06</td>\n",
       "      <td>4.589253e+06</td>\n",
       "      <td>0.320497</td>\n",
       "      <td>1.251828e+07</td>\n",
       "      <td>4.201494e+06</td>\n",
       "      <td>2.716369e+06</td>\n",
       "      <td>1178.317641</td>\n",
       "      <td>2582.700981</td>\n",
       "      <td>2.906172e+07</td>\n",
       "      <td>3.895777e+07</td>\n",
       "    </tr>\n",
       "    <tr>\n",
       "      <th>min</th>\n",
       "      <td>7.000000e+04</td>\n",
       "      <td>-1.025000e+05</td>\n",
       "      <td>-2.799289e+07</td>\n",
       "      <td>3.285000e+03</td>\n",
       "      <td>3.285000e+03</td>\n",
       "      <td>1.480000e+02</td>\n",
       "      <td>12.000000</td>\n",
       "      <td>0.000000</td>\n",
       "      <td>0.000000</td>\n",
       "      <td>4.000000e+05</td>\n",
       "      <td>6.922300e+04</td>\n",
       "      <td>2.000000e+00</td>\n",
       "      <td>0.000000</td>\n",
       "      <td>-2.604490e+06</td>\n",
       "      <td>-7.576788e+06</td>\n",
       "      <td>4.770000e+02</td>\n",
       "      <td>2.000000</td>\n",
       "      <td>57.000000</td>\n",
       "      <td>1.480000e+02</td>\n",
       "      <td>-4.409300e+04</td>\n",
       "    </tr>\n",
       "    <tr>\n",
       "      <th>25%</th>\n",
       "      <td>4.312500e+05</td>\n",
       "      <td>8.157300e+04</td>\n",
       "      <td>-6.948620e+05</td>\n",
       "      <td>9.878400e+04</td>\n",
       "      <td>5.278862e+05</td>\n",
       "      <td>2.261400e+04</td>\n",
       "      <td>22.750000</td>\n",
       "      <td>10.000000</td>\n",
       "      <td>1.000000</td>\n",
       "      <td>1.600000e+06</td>\n",
       "      <td>2.812500e+05</td>\n",
       "      <td>1.215000e+03</td>\n",
       "      <td>0.000000</td>\n",
       "      <td>2.540180e+05</td>\n",
       "      <td>-3.896218e+05</td>\n",
       "      <td>2.118160e+05</td>\n",
       "      <td>249.750000</td>\n",
       "      <td>541.250000</td>\n",
       "      <td>3.944750e+05</td>\n",
       "      <td>4.945102e+05</td>\n",
       "    </tr>\n",
       "    <tr>\n",
       "      <th>50%</th>\n",
       "      <td>7.693750e+05</td>\n",
       "      <td>2.274490e+05</td>\n",
       "      <td>-1.597920e+05</td>\n",
       "      <td>1.085790e+05</td>\n",
       "      <td>1.310814e+06</td>\n",
       "      <td>4.695000e+04</td>\n",
       "      <td>41.000000</td>\n",
       "      <td>35.000000</td>\n",
       "      <td>8.000000</td>\n",
       "      <td>4.176250e+07</td>\n",
       "      <td>4.420350e+05</td>\n",
       "      <td>5.238200e+04</td>\n",
       "      <td>0.000000</td>\n",
       "      <td>4.517400e+05</td>\n",
       "      <td>-1.469750e+05</td>\n",
       "      <td>2.599960e+05</td>\n",
       "      <td>740.500000</td>\n",
       "      <td>1211.000000</td>\n",
       "      <td>1.101393e+06</td>\n",
       "      <td>1.102872e+06</td>\n",
       "    </tr>\n",
       "    <tr>\n",
       "      <th>75%</th>\n",
       "      <td>1.200000e+06</td>\n",
       "      <td>1.002672e+06</td>\n",
       "      <td>-3.834600e+04</td>\n",
       "      <td>1.137840e+05</td>\n",
       "      <td>2.547724e+06</td>\n",
       "      <td>7.995250e+04</td>\n",
       "      <td>145.500000</td>\n",
       "      <td>72.250000</td>\n",
       "      <td>24.750000</td>\n",
       "      <td>8.212500e+07</td>\n",
       "      <td>9.386720e+05</td>\n",
       "      <td>3.620960e+05</td>\n",
       "      <td>0.000000</td>\n",
       "      <td>1.002370e+06</td>\n",
       "      <td>-7.500975e+04</td>\n",
       "      <td>3.121170e+05</td>\n",
       "      <td>1888.250000</td>\n",
       "      <td>2634.750000</td>\n",
       "      <td>2.093263e+06</td>\n",
       "      <td>2.949847e+06</td>\n",
       "    </tr>\n",
       "    <tr>\n",
       "      <th>max</th>\n",
       "      <td>9.734362e+07</td>\n",
       "      <td>3.208340e+07</td>\n",
       "      <td>-8.330000e+02</td>\n",
       "      <td>1.398517e+06</td>\n",
       "      <td>3.117640e+08</td>\n",
       "      <td>5.235198e+06</td>\n",
       "      <td>14368.000000</td>\n",
       "      <td>528.000000</td>\n",
       "      <td>609.000000</td>\n",
       "      <td>8.392500e+07</td>\n",
       "      <td>4.852193e+07</td>\n",
       "      <td>4.266759e+07</td>\n",
       "      <td>1.000000</td>\n",
       "      <td>1.303223e+08</td>\n",
       "      <td>1.545629e+07</td>\n",
       "      <td>2.670423e+07</td>\n",
       "      <td>5521.000000</td>\n",
       "      <td>15149.000000</td>\n",
       "      <td>3.098866e+08</td>\n",
       "      <td>4.345095e+08</td>\n",
       "    </tr>\n",
       "  </tbody>\n",
       "</table>\n",
       "</div>"
      ],
      "text/plain": [
       "              bonus  deferral_payments  deferred_income  director_fees  \\\n",
       "count  8.200000e+01       3.900000e+01     4.900000e+01   1.700000e+01   \n",
       "mean   2.374235e+06       1.642674e+06    -1.140475e+06   1.668049e+05   \n",
       "std    1.071333e+07       5.161930e+06     4.025406e+06   3.198914e+05   \n",
       "min    7.000000e+04      -1.025000e+05    -2.799289e+07   3.285000e+03   \n",
       "25%    4.312500e+05       8.157300e+04    -6.948620e+05   9.878400e+04   \n",
       "50%    7.693750e+05       2.274490e+05    -1.597920e+05   1.085790e+05   \n",
       "75%    1.200000e+06       1.002672e+06    -3.834600e+04   1.137840e+05   \n",
       "max    9.734362e+07       3.208340e+07    -8.330000e+02   1.398517e+06   \n",
       "\n",
       "       exercised_stock_options      expenses  from_messages  \\\n",
       "count             1.020000e+02  9.500000e+01      86.000000   \n",
       "mean              5.987054e+06  1.087289e+05     608.790698   \n",
       "std               3.106201e+07  5.335348e+05    1841.033949   \n",
       "min               3.285000e+03  1.480000e+02      12.000000   \n",
       "25%               5.278862e+05  2.261400e+04      22.750000   \n",
       "50%               1.310814e+06  4.695000e+04      41.000000   \n",
       "75%               2.547724e+06  7.995250e+04     145.500000   \n",
       "max               3.117640e+08  5.235198e+06   14368.000000   \n",
       "\n",
       "       from_poi_to_this_person  from_this_person_to_poi  loan_advances  \\\n",
       "count                86.000000                86.000000   4.000000e+00   \n",
       "mean                 64.895349                41.232558   4.196250e+07   \n",
       "std                  86.979244               100.073111   4.708321e+07   \n",
       "min                   0.000000                 0.000000   4.000000e+05   \n",
       "25%                  10.000000                 1.000000   1.600000e+06   \n",
       "50%                  35.000000                 8.000000   4.176250e+07   \n",
       "75%                  72.250000                24.750000   8.212500e+07   \n",
       "max                 528.000000               609.000000   8.392500e+07   \n",
       "\n",
       "       long_term_incentive         other         poi  restricted_stock  \\\n",
       "count         6.600000e+01  9.300000e+01  113.000000      1.100000e+02   \n",
       "mean          1.470361e+06  9.190650e+05    0.115044      2.321741e+06   \n",
       "std           5.942759e+06  4.589253e+06    0.320497      1.251828e+07   \n",
       "min           6.922300e+04  2.000000e+00    0.000000     -2.604490e+06   \n",
       "25%           2.812500e+05  1.215000e+03    0.000000      2.540180e+05   \n",
       "50%           4.420350e+05  5.238200e+04    0.000000      4.517400e+05   \n",
       "75%           9.386720e+05  3.620960e+05    0.000000      1.002370e+06   \n",
       "max           4.852193e+07  4.266759e+07    1.000000      1.303223e+08   \n",
       "\n",
       "       restricted_stock_deferred        salary  shared_receipt_with_poi  \\\n",
       "count               1.800000e+01  9.500000e+01                86.000000   \n",
       "mean                1.664106e+05  5.621943e+05              1176.465116   \n",
       "std                 4.201494e+06  2.716369e+06              1178.317641   \n",
       "min                -7.576788e+06  4.770000e+02                 2.000000   \n",
       "25%                -3.896218e+05  2.118160e+05               249.750000   \n",
       "50%                -1.469750e+05  2.599960e+05               740.500000   \n",
       "75%                -7.500975e+04  3.121170e+05              1888.250000   \n",
       "max                 1.545629e+07  2.670423e+07              5521.000000   \n",
       "\n",
       "        to_messages  total_payments  total_stock_value  \n",
       "count     86.000000    1.250000e+02       1.260000e+02  \n",
       "mean    2073.860465    5.081526e+06       6.773957e+06  \n",
       "std     2582.700981    2.906172e+07       3.895777e+07  \n",
       "min       57.000000    1.480000e+02      -4.409300e+04  \n",
       "25%      541.250000    3.944750e+05       4.945102e+05  \n",
       "50%     1211.000000    1.101393e+06       1.102872e+06  \n",
       "75%     2634.750000    2.093263e+06       2.949847e+06  \n",
       "max    15149.000000    3.098866e+08       4.345095e+08  "
      ]
     },
     "execution_count": 43,
     "metadata": {},
     "output_type": "execute_result"
    }
   ],
   "source": [
    "#檢查統計值\n",
    "df.describe()"
   ]
  },
  {
   "cell_type": "code",
   "execution_count": 44,
   "metadata": {},
   "outputs": [
    {
     "name": "stdout",
     "output_type": "stream",
     "text": [
      "146\n",
      "index[total]:1\n",
      "index[THE TRAVEL AGENCY IN THE PARK]:1\n",
      "144\n"
     ]
    }
   ],
   "source": [
    "# TOTAL 及 THE TRAVEL AGENCY IN THE PARK 是合計欄(非個人資料)，要刪除\n",
    "#驗證資料內容前先複製一份\n",
    "dt_eval = df.copy()\n",
    "print(dt_eval.shape[0])\n",
    "print('index[total]:{0}'.format(str(len(dt_eval[dt_eval.index == 'TOTAL']))))\n",
    "print('index[THE TRAVEL AGENCY IN THE PARK]:{0}'.format(str(len(dt_eval[dt_eval.index\\\n",
    "== 'THE TRAVEL AGENCY IN THE PARK']))))\n",
    "\n",
    "dt_eval = dt_eval.drop(dt_eval.loc[dt_eval.index=='TOTAL'].index)\n",
    "dt_eval = dt_eval.drop(dt_eval.loc[dt_eval.index=='THE TRAVEL AGENCY IN THE PARK'].index)\n",
    "print(dt_eval.shape[0])"
   ]
  },
  {
   "cell_type": "code",
   "execution_count": 45,
   "metadata": {},
   "outputs": [
    {
     "name": "stdout",
     "output_type": "stream",
     "text": [
      "(23, 21)\n",
      "(2, 21)\n"
     ]
    },
    {
     "data": {
      "text/html": [
       "<div>\n",
       "<style scoped>\n",
       "    .dataframe tbody tr th:only-of-type {\n",
       "        vertical-align: middle;\n",
       "    }\n",
       "\n",
       "    .dataframe tbody tr th {\n",
       "        vertical-align: top;\n",
       "    }\n",
       "\n",
       "    .dataframe thead th {\n",
       "        text-align: right;\n",
       "    }\n",
       "</style>\n",
       "<table border=\"1\" class=\"dataframe\">\n",
       "  <thead>\n",
       "    <tr style=\"text-align: right;\">\n",
       "      <th></th>\n",
       "      <th>bonus</th>\n",
       "      <th>deferral_payments</th>\n",
       "      <th>deferred_income</th>\n",
       "      <th>director_fees</th>\n",
       "      <th>email_address</th>\n",
       "      <th>exercised_stock_options</th>\n",
       "      <th>expenses</th>\n",
       "      <th>from_messages</th>\n",
       "      <th>from_poi_to_this_person</th>\n",
       "      <th>from_this_person_to_poi</th>\n",
       "      <th>...</th>\n",
       "      <th>long_term_incentive</th>\n",
       "      <th>other</th>\n",
       "      <th>poi</th>\n",
       "      <th>restricted_stock</th>\n",
       "      <th>restricted_stock_deferred</th>\n",
       "      <th>salary</th>\n",
       "      <th>shared_receipt_with_poi</th>\n",
       "      <th>to_messages</th>\n",
       "      <th>total_payments</th>\n",
       "      <th>total_stock_value</th>\n",
       "    </tr>\n",
       "    <tr>\n",
       "      <th>name</th>\n",
       "      <th></th>\n",
       "      <th></th>\n",
       "      <th></th>\n",
       "      <th></th>\n",
       "      <th></th>\n",
       "      <th></th>\n",
       "      <th></th>\n",
       "      <th></th>\n",
       "      <th></th>\n",
       "      <th></th>\n",
       "      <th></th>\n",
       "      <th></th>\n",
       "      <th></th>\n",
       "      <th></th>\n",
       "      <th></th>\n",
       "      <th></th>\n",
       "      <th></th>\n",
       "      <th></th>\n",
       "      <th></th>\n",
       "      <th></th>\n",
       "      <th></th>\n",
       "    </tr>\n",
       "  </thead>\n",
       "  <tbody>\n",
       "    <tr>\n",
       "      <th>BELFER ROBERT</th>\n",
       "      <td>0.0</td>\n",
       "      <td>-102500.0</td>\n",
       "      <td>0.0</td>\n",
       "      <td>3285.0</td>\n",
       "      <td>NaN</td>\n",
       "      <td>3285.0</td>\n",
       "      <td>0.0</td>\n",
       "      <td>NaN</td>\n",
       "      <td>NaN</td>\n",
       "      <td>NaN</td>\n",
       "      <td>...</td>\n",
       "      <td>0.0</td>\n",
       "      <td>0.0</td>\n",
       "      <td>0.0</td>\n",
       "      <td>NaN</td>\n",
       "      <td>44093.0</td>\n",
       "      <td>0.0</td>\n",
       "      <td>NaN</td>\n",
       "      <td>NaN</td>\n",
       "      <td>102500.0</td>\n",
       "      <td>-44093.0</td>\n",
       "    </tr>\n",
       "    <tr>\n",
       "      <th>BHATNAGAR SANJAY</th>\n",
       "      <td>0.0</td>\n",
       "      <td>0.0</td>\n",
       "      <td>0.0</td>\n",
       "      <td>137864.0</td>\n",
       "      <td>sanjay.bhatnagar@enron.com</td>\n",
       "      <td>2604490.0</td>\n",
       "      <td>0.0</td>\n",
       "      <td>29.0</td>\n",
       "      <td>0.0</td>\n",
       "      <td>1.0</td>\n",
       "      <td>...</td>\n",
       "      <td>0.0</td>\n",
       "      <td>137864.0</td>\n",
       "      <td>NaN</td>\n",
       "      <td>-2604490.0</td>\n",
       "      <td>15456290.0</td>\n",
       "      <td>0.0</td>\n",
       "      <td>463.0</td>\n",
       "      <td>523.0</td>\n",
       "      <td>15456290.0</td>\n",
       "      <td>NaN</td>\n",
       "    </tr>\n",
       "  </tbody>\n",
       "</table>\n",
       "<p>2 rows × 21 columns</p>\n",
       "</div>"
      ],
      "text/plain": [
       "                  bonus  deferral_payments  deferred_income  director_fees  \\\n",
       "name                                                                         \n",
       "BELFER ROBERT       0.0          -102500.0              0.0         3285.0   \n",
       "BHATNAGAR SANJAY    0.0                0.0              0.0       137864.0   \n",
       "\n",
       "                               email_address  exercised_stock_options  \\\n",
       "name                                                                    \n",
       "BELFER ROBERT                            NaN                   3285.0   \n",
       "BHATNAGAR SANJAY  sanjay.bhatnagar@enron.com                2604490.0   \n",
       "\n",
       "                  expenses  from_messages  from_poi_to_this_person  \\\n",
       "name                                                                 \n",
       "BELFER ROBERT          0.0            NaN                      NaN   \n",
       "BHATNAGAR SANJAY       0.0           29.0                      0.0   \n",
       "\n",
       "                  from_this_person_to_poi  ...  long_term_incentive     other  \\\n",
       "name                                       ...                                  \n",
       "BELFER ROBERT                         NaN  ...                  0.0       0.0   \n",
       "BHATNAGAR SANJAY                      1.0  ...                  0.0  137864.0   \n",
       "\n",
       "                  poi  restricted_stock  restricted_stock_deferred  salary  \\\n",
       "name                                                                         \n",
       "BELFER ROBERT     0.0               NaN                    44093.0     0.0   \n",
       "BHATNAGAR SANJAY  NaN        -2604490.0                 15456290.0     0.0   \n",
       "\n",
       "                  shared_receipt_with_poi  to_messages  total_payments  \\\n",
       "name                                                                     \n",
       "BELFER ROBERT                         NaN          NaN        102500.0   \n",
       "BHATNAGAR SANJAY                    463.0        523.0      15456290.0   \n",
       "\n",
       "                  total_stock_value  \n",
       "name                                 \n",
       "BELFER ROBERT              -44093.0  \n",
       "BHATNAGAR SANJAY                NaN  \n",
       "\n",
       "[2 rows x 21 columns]"
      ]
     },
     "execution_count": 45,
     "metadata": {},
     "output_type": "execute_result"
    }
   ],
   "source": [
    "# 計算付款資料合理性\n",
    "payment_data = ['salary','bonus','long_term_incentive','deferred_income','deferral_payments','loan_advances','other'\\\n",
    "               ,'expenses','director_fees','total_payments']\n",
    "errors = (dt_eval[dt_eval[payment_data[:-1]].sum(axis='columns') !=dt_eval['total_payments']])\n",
    "print(errors.shape)\n",
    "dt_eval[payment_data] = dt_eval[payment_data].fillna(0)\n",
    "errors = (dt_eval[dt_eval[payment_data[:-1]].sum(axis='columns') !=dt_eval['total_payments']])\n",
    "# 補零後，還是有兩筆資料有問題\n",
    "print(errors.shape)\n",
    "errors"
   ]
  },
  {
   "cell_type": "code",
   "execution_count": 46,
   "metadata": {},
   "outputs": [
    {
     "name": "stdout",
     "output_type": "stream",
     "text": [
      "(20, 21)\n",
      "(2, 21)\n"
     ]
    },
    {
     "data": {
      "text/html": [
       "<div>\n",
       "<style scoped>\n",
       "    .dataframe tbody tr th:only-of-type {\n",
       "        vertical-align: middle;\n",
       "    }\n",
       "\n",
       "    .dataframe tbody tr th {\n",
       "        vertical-align: top;\n",
       "    }\n",
       "\n",
       "    .dataframe thead th {\n",
       "        text-align: right;\n",
       "    }\n",
       "</style>\n",
       "<table border=\"1\" class=\"dataframe\">\n",
       "  <thead>\n",
       "    <tr style=\"text-align: right;\">\n",
       "      <th></th>\n",
       "      <th>bonus</th>\n",
       "      <th>deferral_payments</th>\n",
       "      <th>deferred_income</th>\n",
       "      <th>director_fees</th>\n",
       "      <th>email_address</th>\n",
       "      <th>exercised_stock_options</th>\n",
       "      <th>expenses</th>\n",
       "      <th>from_messages</th>\n",
       "      <th>from_poi_to_this_person</th>\n",
       "      <th>from_this_person_to_poi</th>\n",
       "      <th>...</th>\n",
       "      <th>long_term_incentive</th>\n",
       "      <th>other</th>\n",
       "      <th>poi</th>\n",
       "      <th>restricted_stock</th>\n",
       "      <th>restricted_stock_deferred</th>\n",
       "      <th>salary</th>\n",
       "      <th>shared_receipt_with_poi</th>\n",
       "      <th>to_messages</th>\n",
       "      <th>total_payments</th>\n",
       "      <th>total_stock_value</th>\n",
       "    </tr>\n",
       "    <tr>\n",
       "      <th>name</th>\n",
       "      <th></th>\n",
       "      <th></th>\n",
       "      <th></th>\n",
       "      <th></th>\n",
       "      <th></th>\n",
       "      <th></th>\n",
       "      <th></th>\n",
       "      <th></th>\n",
       "      <th></th>\n",
       "      <th></th>\n",
       "      <th></th>\n",
       "      <th></th>\n",
       "      <th></th>\n",
       "      <th></th>\n",
       "      <th></th>\n",
       "      <th></th>\n",
       "      <th></th>\n",
       "      <th></th>\n",
       "      <th></th>\n",
       "      <th></th>\n",
       "      <th></th>\n",
       "    </tr>\n",
       "  </thead>\n",
       "  <tbody>\n",
       "    <tr>\n",
       "      <th>BELFER ROBERT</th>\n",
       "      <td>0.0</td>\n",
       "      <td>-102500.0</td>\n",
       "      <td>0.0</td>\n",
       "      <td>3285.0</td>\n",
       "      <td>NaN</td>\n",
       "      <td>3285.0</td>\n",
       "      <td>0.0</td>\n",
       "      <td>NaN</td>\n",
       "      <td>NaN</td>\n",
       "      <td>NaN</td>\n",
       "      <td>...</td>\n",
       "      <td>0.0</td>\n",
       "      <td>0.0</td>\n",
       "      <td>0.0</td>\n",
       "      <td>0.0</td>\n",
       "      <td>44093.0</td>\n",
       "      <td>0.0</td>\n",
       "      <td>NaN</td>\n",
       "      <td>NaN</td>\n",
       "      <td>102500.0</td>\n",
       "      <td>-44093.0</td>\n",
       "    </tr>\n",
       "    <tr>\n",
       "      <th>BHATNAGAR SANJAY</th>\n",
       "      <td>0.0</td>\n",
       "      <td>0.0</td>\n",
       "      <td>0.0</td>\n",
       "      <td>137864.0</td>\n",
       "      <td>sanjay.bhatnagar@enron.com</td>\n",
       "      <td>2604490.0</td>\n",
       "      <td>0.0</td>\n",
       "      <td>29.0</td>\n",
       "      <td>0.0</td>\n",
       "      <td>1.0</td>\n",
       "      <td>...</td>\n",
       "      <td>0.0</td>\n",
       "      <td>137864.0</td>\n",
       "      <td>NaN</td>\n",
       "      <td>-2604490.0</td>\n",
       "      <td>15456290.0</td>\n",
       "      <td>0.0</td>\n",
       "      <td>463.0</td>\n",
       "      <td>523.0</td>\n",
       "      <td>15456290.0</td>\n",
       "      <td>0.0</td>\n",
       "    </tr>\n",
       "  </tbody>\n",
       "</table>\n",
       "<p>2 rows × 21 columns</p>\n",
       "</div>"
      ],
      "text/plain": [
       "                  bonus  deferral_payments  deferred_income  director_fees  \\\n",
       "name                                                                         \n",
       "BELFER ROBERT       0.0          -102500.0              0.0         3285.0   \n",
       "BHATNAGAR SANJAY    0.0                0.0              0.0       137864.0   \n",
       "\n",
       "                               email_address  exercised_stock_options  \\\n",
       "name                                                                    \n",
       "BELFER ROBERT                            NaN                   3285.0   \n",
       "BHATNAGAR SANJAY  sanjay.bhatnagar@enron.com                2604490.0   \n",
       "\n",
       "                  expenses  from_messages  from_poi_to_this_person  \\\n",
       "name                                                                 \n",
       "BELFER ROBERT          0.0            NaN                      NaN   \n",
       "BHATNAGAR SANJAY       0.0           29.0                      0.0   \n",
       "\n",
       "                  from_this_person_to_poi  ...  long_term_incentive     other  \\\n",
       "name                                       ...                                  \n",
       "BELFER ROBERT                         NaN  ...                  0.0       0.0   \n",
       "BHATNAGAR SANJAY                      1.0  ...                  0.0  137864.0   \n",
       "\n",
       "                  poi  restricted_stock  restricted_stock_deferred  salary  \\\n",
       "name                                                                         \n",
       "BELFER ROBERT     0.0               0.0                    44093.0     0.0   \n",
       "BHATNAGAR SANJAY  NaN        -2604490.0                 15456290.0     0.0   \n",
       "\n",
       "                  shared_receipt_with_poi  to_messages  total_payments  \\\n",
       "name                                                                     \n",
       "BELFER ROBERT                         NaN          NaN        102500.0   \n",
       "BHATNAGAR SANJAY                    463.0        523.0      15456290.0   \n",
       "\n",
       "                  total_stock_value  \n",
       "name                                 \n",
       "BELFER ROBERT              -44093.0  \n",
       "BHATNAGAR SANJAY                0.0  \n",
       "\n",
       "[2 rows x 21 columns]"
      ]
     },
     "execution_count": 46,
     "metadata": {},
     "output_type": "execute_result"
    }
   ],
   "source": [
    "# 計算股票資產資料合理性\n",
    "stock_data = ['exercised_stock_options','restricted_stock','restricted_stock_deferred',\\\n",
    "             'total_stock_value']\n",
    "errors = (dt_eval[dt_eval[stock_data[:-1]].sum(axis='columns') !=dt_eval['total_stock_value']])\n",
    "print(errors.shape)\n",
    "dt_eval[stock_data] = dt_eval[stock_data].fillna(0)\n",
    "errors = (dt_eval[dt_eval[stock_data[:-1]].sum(axis='columns') !=dt_eval['total_stock_value']])\n",
    "# 補零後，還是有兩筆資料有問題\n",
    "print(errors.shape)\n",
    "errors"
   ]
  },
  {
   "cell_type": "code",
   "execution_count": 47,
   "metadata": {},
   "outputs": [
    {
     "name": "stdout",
     "output_type": "stream",
     "text": [
      "2\n",
      "2\n",
      "0\n",
      "0\n"
     ]
    }
   ],
   "source": [
    "# 查看有問題的兩筆資料，發現資料位移\n",
    "#驗證資料內容前先複製一份\n",
    "dt_eval = df.copy()\n",
    "dt_eval[payment_data] = dt_eval[payment_data].fillna(0)\n",
    "dt_eval[stock_data] = dt_eval[stock_data].fillna(0)\n",
    "\n",
    "# Check for any more errors with the payment data\n",
    "print(len(dt_eval[dt_eval[payment_data[:-1]].sum(axis='columns') !=dt_eval['total_payments']]))\n",
    "# Check for any errors with the stock data\n",
    "print(len(dt_eval[dt_eval[stock_data[:-1]].sum(axis='columns') !=dt_eval['total_stock_value']]))\n",
    "\n",
    "# 'BELFER ROBERT' 資料發現左移,向右SHIFT\n",
    "key_name = 'BELFER ROBERT'\n",
    "payment_len = dt_eval[payment_data[:-1]].shape[1]\n",
    "stock_len = dt_eval[stock_data[:-1]].shape[1]\n",
    "\n",
    "for i in range(payment_len):\n",
    "    dt_eval.loc[key_name,payment_data[i]] = dt_eval.loc[key_name,payment_data[i+1]]\n",
    "dt_eval.loc[key_name,payment_data[payment_len]] = dt_eval.loc[key_name,stock_data[0]]\n",
    "\n",
    "for i in range(stock_len):\n",
    "    dt_eval.loc[key_name,stock_data[i]] = float(dt_eval.loc[key_name,stock_data[i+1]])\n",
    "dt_eval.loc[key_name,stock_data[stock_len]] = 0\n",
    "\n",
    "\n",
    "# 'BELFER ROBERT' 資料發現右移,向左SHIFT\n",
    "key_name = 'BHATNAGAR SANJAY'\n",
    "\n",
    "for i in np.arange(1,stock_len+1)[::-1]:\n",
    "    dt_eval.loc[key_name,stock_data[i]] = float(dt_eval.loc[key_name,stock_data[i-1]])\n",
    "dt_eval.loc[key_name,stock_data[0]] = dt_eval.loc[key_name,payment_data[payment_len]]\n",
    "\n",
    "for i in np.arange(1,payment_len+1)[::-1]:\n",
    "    dt_eval.loc[key_name,payment_data[i]] = dt_eval.loc[key_name,payment_data[i-1]]\n",
    "dt_eval.loc[key_name,payment_data[0]] = 0\n",
    "\n",
    "# Check for any more errors with the payment data\n",
    "print(len(dt_eval[dt_eval[payment_data[:-1]].sum(axis='columns') !=dt_eval['total_payments']]))\n",
    "# Check for any errors with the stock data\n",
    "print(len(dt_eval[dt_eval[stock_data[:-1]].sum(axis='columns') !=dt_eval['total_stock_value']]))"
   ]
  },
  {
   "cell_type": "code",
   "execution_count": 48,
   "metadata": {},
   "outputs": [
    {
     "name": "stdout",
     "output_type": "stream",
     "text": [
      "column [from_this_person_to_poi] pass!\n",
      "column [from_poi_to_this_person] pass!\n",
      "column [to_messages] pass!\n",
      "column [shared_receipt_with_poi] pass!\n",
      "column [to_messages] pass!\n",
      "column [from_messages] pass!\n"
     ]
    }
   ],
   "source": [
    "# 檢查次數項目是否為正整數(大於等於0)\n",
    "email_data=['from_this_person_to_poi','from_poi_to_this_person','to_messages',\\\n",
    "            'shared_receipt_with_poi','to_messages','from_messages']\n",
    "for col_name in email_data:    \n",
    "    if all(dt_eval[col_name].dropna().unique()>=0):\n",
    "        print('column [{0}] pass!'.format(col_name))        \n",
    "    else:\n",
    "        print('column [{0}] fail!'.format(col_name))\n",
    "        print(dt_eval[col_name].dropna().unique())"
   ]
  },
  {
   "cell_type": "markdown",
   "metadata": {},
   "source": [
    "#### 4.去離群值"
   ]
  },
  {
   "cell_type": "code",
   "execution_count": 49,
   "metadata": {},
   "outputs": [],
   "source": [
    "# 檢查 DataFrame 空缺值的狀態\n",
    "def na_check(df_data):\n",
    "    data_na = (df_data.isnull().sum() / len(df_data)) * 100\n",
    "    data_na = data_na.drop(data_na[data_na == 0].index).sort_values(ascending=False)\n",
    "    missing_data = pd.DataFrame({'Missing Ratio' :data_na})\n",
    "    display(missing_data)"
   ]
  },
  {
   "cell_type": "code",
   "execution_count": 50,
   "metadata": {},
   "outputs": [
    {
     "data": {
      "text/html": [
       "<div>\n",
       "<style scoped>\n",
       "    .dataframe tbody tr th:only-of-type {\n",
       "        vertical-align: middle;\n",
       "    }\n",
       "\n",
       "    .dataframe tbody tr th {\n",
       "        vertical-align: top;\n",
       "    }\n",
       "\n",
       "    .dataframe thead th {\n",
       "        text-align: right;\n",
       "    }\n",
       "</style>\n",
       "<table border=\"1\" class=\"dataframe\">\n",
       "  <thead>\n",
       "    <tr style=\"text-align: right;\">\n",
       "      <th></th>\n",
       "      <th>Missing Ratio</th>\n",
       "    </tr>\n",
       "  </thead>\n",
       "  <tbody>\n",
       "    <tr>\n",
       "      <th>to_messages</th>\n",
       "      <td>41.095890</td>\n",
       "    </tr>\n",
       "    <tr>\n",
       "      <th>shared_receipt_with_poi</th>\n",
       "      <td>41.095890</td>\n",
       "    </tr>\n",
       "    <tr>\n",
       "      <th>from_this_person_to_poi</th>\n",
       "      <td>41.095890</td>\n",
       "    </tr>\n",
       "    <tr>\n",
       "      <th>from_poi_to_this_person</th>\n",
       "      <td>41.095890</td>\n",
       "    </tr>\n",
       "    <tr>\n",
       "      <th>from_messages</th>\n",
       "      <td>41.095890</td>\n",
       "    </tr>\n",
       "    <tr>\n",
       "      <th>email_address</th>\n",
       "      <td>23.972603</td>\n",
       "    </tr>\n",
       "    <tr>\n",
       "      <th>poi</th>\n",
       "      <td>22.602740</td>\n",
       "    </tr>\n",
       "  </tbody>\n",
       "</table>\n",
       "</div>"
      ],
      "text/plain": [
       "                         Missing Ratio\n",
       "to_messages                  41.095890\n",
       "shared_receipt_with_poi      41.095890\n",
       "from_this_person_to_poi      41.095890\n",
       "from_poi_to_this_person      41.095890\n",
       "from_messages                41.095890\n",
       "email_address                23.972603\n",
       "poi                          22.602740"
      ]
     },
     "metadata": {},
     "output_type": "display_data"
    }
   ],
   "source": [
    "#顯示訓練集其中資料遺失比例\n",
    "na_check(dt_eval)"
   ]
  },
  {
   "cell_type": "code",
   "execution_count": 52,
   "metadata": {},
   "outputs": [
    {
     "name": "stdout",
     "output_type": "stream",
     "text": [
      "bonus                             0\n",
      "deferral_payments                 0\n",
      "deferred_income                   0\n",
      "director_fees                     0\n",
      "email_address                   NaN\n",
      "exercised_stock_options           0\n",
      "expenses                          0\n",
      "from_messages                   NaN\n",
      "from_poi_to_this_person         NaN\n",
      "from_this_person_to_poi         NaN\n",
      "loan_advances                     0\n",
      "long_term_incentive               0\n",
      "other                        362096\n",
      "poi                               0\n",
      "restricted_stock                  0\n",
      "restricted_stock_deferred         0\n",
      "salary                            0\n",
      "shared_receipt_with_poi         NaN\n",
      "to_messages                     NaN\n",
      "total_payments               362096\n",
      "total_stock_value                 0\n",
      "Name: THE TRAVEL AGENCY IN THE PARK, dtype: object\n"
     ]
    }
   ],
   "source": [
    "# 針對email次數設定,用平均值補齊\n",
    "# Fill in the NaN email data with the mean of column grouped by poi/\n",
    "# non_poi\n",
    "from sklearn.impute import SimpleImputer\n",
    "# 填補器 : 設定缺失值補平均值\n",
    "# imputer = SimpleImputer(missing_values=np.nan, strategy='mean')\n",
    "# dt_eval_meet = dt_eval.drop(dt_eval.loc[dt_eval.index=='TOTAL'].index)\n",
    "# dt_eval_meet = dt_eval_meet.drop(dt_eval_meet.loc[dt_eval_meet.index\\\n",
    "#                                                   =='THE TRAVEL AGENCY IN THE PARK'].index)\n",
    "# df_poi = dt_eval_meet[dt_eval_meet['poi'] == True]\n",
    "# df_nonpoi = dt_eval_meet[dt_eval_meet['poi']==False]\n",
    "# df_nan = dt_eval_meet[pd.isna(dt_eval_meet['poi'])]\n",
    "# df_poi.loc[:, email_data] = imputer.fit_transform(df_poi.loc[:,email_data]);\n",
    "# df_nonpoi.loc[:, email_data] = imputer.fit_transform(df_nonpoi.loc[:,email_data]);\n",
    "# df_nan.loc[:, email_data] = imputer.fit_transform(df_nan.loc[:,email_data]);\n",
    "# dt_eval = df_poi.append(df_nonpoi)\n",
    "# dt_eval = dt_eval.append(df_nan)\n",
    "print(dt_eval.loc['THE TRAVEL AGENCY IN THE PARK'])"
   ]
  },
  {
   "cell_type": "code",
   "execution_count": 22,
   "metadata": {},
   "outputs": [
    {
     "data": {
      "text/html": [
       "<div>\n",
       "<style scoped>\n",
       "    .dataframe tbody tr th:only-of-type {\n",
       "        vertical-align: middle;\n",
       "    }\n",
       "\n",
       "    .dataframe tbody tr th {\n",
       "        vertical-align: top;\n",
       "    }\n",
       "\n",
       "    .dataframe thead th {\n",
       "        text-align: right;\n",
       "    }\n",
       "</style>\n",
       "<table border=\"1\" class=\"dataframe\">\n",
       "  <thead>\n",
       "    <tr style=\"text-align: right;\">\n",
       "      <th></th>\n",
       "      <th>Missing Ratio</th>\n",
       "    </tr>\n",
       "  </thead>\n",
       "  <tbody>\n",
       "    <tr>\n",
       "      <th>email_address</th>\n",
       "      <td>22.916667</td>\n",
       "    </tr>\n",
       "    <tr>\n",
       "      <th>poi</th>\n",
       "      <td>22.222222</td>\n",
       "    </tr>\n",
       "  </tbody>\n",
       "</table>\n",
       "</div>"
      ],
      "text/plain": [
       "               Missing Ratio\n",
       "email_address      22.916667\n",
       "poi                22.222222"
      ]
     },
     "metadata": {},
     "output_type": "display_data"
    }
   ],
   "source": [
    "#顯示訓練集其中資料遺失比例(只剩poi跟email_address)\n",
    "na_check(dt_eval)"
   ]
  },
  {
   "cell_type": "code",
   "execution_count": 23,
   "metadata": {},
   "outputs": [
    {
     "data": {
      "text/plain": [
       "name\n",
       "LAY KENNETH L         13\n",
       "FREVERT MARK A        12\n",
       "SKILLING JEFFREY K     8\n",
       "BAXTER JOHN C          8\n",
       "BELDEN TIMOTHY N       8\n",
       "LAVORATO JOHN J        8\n",
       "KEAN STEVEN J          7\n",
       "WHALLEY LAWRENCE G     7\n",
       "RICE KENNETH D         6\n",
       "KITCHEN LOUISE         5\n",
       "HAEDICKE MARK E        5\n",
       "BECK SALLY W           5\n",
       "dtype: int64"
      ]
     },
     "execution_count": 23,
     "metadata": {},
     "output_type": "execute_result"
    }
   ],
   "source": [
    "IQR = dt_eval.quantile(q=0.75) - dt_eval.quantile(q=0.25)\n",
    "first_quartile = dt_eval.quantile(q=0.25)\n",
    "third_quartile = dt_eval.quantile(q=0.75)\n",
    "outliers = dt_eval[(dt_eval>(third_quartile + 1.5*IQR) ) | (dt_eval<(first_quartile\n",
    "- 1.5*IQR) )].count(axis=1)\n",
    "outliers.sort_values(axis=0, ascending=False, inplace=True)\n",
    "outliers.head(12)"
   ]
  },
  {
   "cell_type": "code",
   "execution_count": 24,
   "metadata": {},
   "outputs": [],
   "source": [
    "# dt_eval['poi'].value_counts()\n",
    "# # Remove the outlier individuals\n",
    "# dt_eval.drop(axis=0, labels=['FREVERT MARK A', 'LAVORATO JOHN J',\n",
    "# 'WHALLEY LAWRENCE G', 'BAXTER JOHN C'], inplace=True)\n",
    "# # Find the number of poi and non poi now in the data\n",
    "# dt_eval['poi'].value_counts()"
   ]
  },
  {
   "cell_type": "markdown",
   "metadata": {},
   "source": [
    "### 特徵工程"
   ]
  },
  {
   "cell_type": "code",
   "execution_count": 25,
   "metadata": {},
   "outputs": [
    {
     "name": "stdout",
     "output_type": "stream",
     "text": [
      "Training data shape:  (109, 19)\n",
      "Testing data shape:  (32, 19)\n"
     ]
    }
   ],
   "source": [
    "from sklearn.preprocessing import MinMaxScaler\n",
    "from sklearn.impute import SimpleImputer\n",
    "# 特徵欄位清單(只取數值欄位)\n",
    "target_col = 'poi'\n",
    "key_col = 'name'\n",
    "\n",
    "# 切分訓練集與測試集\n",
    "\n",
    "df_train_pre = dt_eval[pd.isna(dt_eval[target_col])==False].copy()\n",
    "df_train_pre = df_train_pre.drop(df_train_pre.loc[df_train_pre.index=='TOTAL'].index)\n",
    "df_train_pre = df_train_pre.drop(df_train_pre.loc[df_train_pre.index=='THE TRAVEL AGENCY IN THE PARK'].index)\n",
    "labels=['FREVERT MARK A', 'LAVORATO JOHN J','WHALLEY LAWRENCE G', 'BAXTER JOHN C']\n",
    "for lab in labels:\n",
    "    df_train_pre = df_train_pre.drop(df_train_pre.loc[df_train_pre.index==lab].index)\n",
    "\n",
    "train_Y = df_train_pre[target_col]\n",
    "df_train_pre = df_train_pre[num_features]\n",
    "df_train_pre = df_train_pre.drop([target_col] , axis=1)\n",
    "                               \n",
    "df_test_pre = dt_eval[pd.isna(dt_eval[target_col])==True].copy()\n",
    "df_test_pre = df_test_pre[num_features]\n",
    "df_test_pre = df_test_pre.drop([target_col] , axis=1)\n",
    "ids = df_test[key_col]\n",
    "\n",
    "\n",
    "# 縮放器 : 設定特徵縮放到 0~1 區間\n",
    "scaler = MinMaxScaler(feature_range = (0, 1))\n",
    "\n",
    "# 縮放器載入, 對 train, test 進行縮放轉換\n",
    "df_train_pre = scaler.fit_transform(df_train_pre)\n",
    "df_test_pre = scaler.fit_transform(df_test_pre)\n",
    "\n",
    "# 切分訓練集與測試集\n",
    "train_X = df_train_pre\n",
    "test_X = df_test_pre\n",
    "\n",
    "print('Training data shape: ', train_X.shape)\n",
    "print('Testing data shape: ', test_X.shape)"
   ]
  },
  {
   "cell_type": "markdown",
   "metadata": {},
   "source": [
    "#### Fit the model (1) 羅吉斯迴歸"
   ]
  },
  {
   "cell_type": "markdown",
   "metadata": {},
   "source": [
    "##### 驗證訓練集\n",
    "[Pandas: Appending a row to a dataframe and specify its index label](https://stackoverflow.com/questions/16824607/pandas-appending-a-row-to-a-dataframe-and-specify-its-index-label \"Pandas: Appending a row to a dataframe and specify its index label\")"
   ]
  },
  {
   "cell_type": "code",
   "execution_count": 26,
   "metadata": {},
   "outputs": [],
   "source": [
    "df_eval_result = pd.DataFrame(columns=['accuracy_score','f1_score','precision_score','recall_score'])\n",
    "def show_eval_result(y_test,y_pred , model_name):\n",
    "    # 分類要驗證正確率(accucry)\n",
    "    acc = accuracy_score(y_test,y_pred)\n",
    "    print(\"accuracy_score: \", acc)\n",
    "    f1 = f1_score(y_test,y_pred)\n",
    "    print(\"f1_score: \", f1)\n",
    "    # 使用 Precision 評估\n",
    "    precision = precision_score(y_test,y_pred)\n",
    "    print(\"precision_score: \", precision)\n",
    "    # 使用 recall 評估\n",
    "    recall  = recall_score(y_test,y_pred)\n",
    "    print(\"recall_score: \", recall)\n",
    "    row = pd.Series({'accuracy_score':acc,'f1_score':f1,'precision_score':precision,'recall_score':recall},name=model_name)\n",
    "    return row"
   ]
  },
  {
   "cell_type": "code",
   "execution_count": 27,
   "metadata": {},
   "outputs": [
    {
     "name": "stdout",
     "output_type": "stream",
     "text": [
      "accuracy_score:  0.8928571428571429\n",
      "f1_score:  0.0\n",
      "precision_score:  0.0\n",
      "recall_score:  0.0\n"
     ]
    }
   ],
   "source": [
    "# 切分訓練集與測試集\n",
    "x_train,x_test,y_train,y_test = train_test_split(train_X,train_Y,test_size=0.25,random_state=4)\n",
    "\n",
    "# 使用羅吉斯迴歸\n",
    "lr =  LogisticRegression(C = 0.0001)\n",
    "\n",
    "# 進行訓練\n",
    "lr.fit(x_train,y_train)\n",
    "\n",
    "# 預測測試集\n",
    "y_pred = lr.predict(x_test)\n",
    "\n",
    "# 分類要驗證正確率(accucry)\n",
    "df_eval_result = df_eval_result.append(show_eval_result(y_test,y_pred,'lr'))"
   ]
  },
  {
   "cell_type": "code",
   "execution_count": 28,
   "metadata": {},
   "outputs": [
    {
     "data": {
      "text/plain": [
       "LogisticRegression(C=0.0001, class_weight=None, dual=False, fit_intercept=True,\n",
       "                   intercept_scaling=1, l1_ratio=None, max_iter=100,\n",
       "                   multi_class='auto', n_jobs=None, penalty='l2',\n",
       "                   random_state=None, solver='lbfgs', tol=0.0001, verbose=0,\n",
       "                   warm_start=False)"
      ]
     },
     "execution_count": 28,
     "metadata": {},
     "output_type": "execute_result"
    }
   ],
   "source": [
    "# 設定模型與模型參數\n",
    "lr = LogisticRegression(C = 0.0001)\n",
    "lr.fit(train_X, train_Y)"
   ]
  },
  {
   "cell_type": "code",
   "execution_count": 29,
   "metadata": {},
   "outputs": [
    {
     "ename": "ValueError",
     "evalue": "array length 32 does not match index length 33",
     "output_type": "error",
     "traceback": [
      "\u001b[1;31m---------------------------------------------------------------------------\u001b[0m",
      "\u001b[1;31mValueError\u001b[0m                                Traceback (most recent call last)",
      "\u001b[1;32m<ipython-input-29-0c04828f78d5>\u001b[0m in \u001b[0;36m<module>\u001b[1;34m\u001b[0m\n\u001b[0;32m      2\u001b[0m \u001b[0moutput_path\u001b[0m \u001b[1;33m=\u001b[0m \u001b[1;34m'output/'\u001b[0m\u001b[1;33m\u001b[0m\u001b[1;33m\u001b[0m\u001b[0m\n\u001b[0;32m      3\u001b[0m \u001b[0mlr_pred\u001b[0m \u001b[1;33m=\u001b[0m \u001b[0mlr\u001b[0m\u001b[1;33m.\u001b[0m\u001b[0mpredict_proba\u001b[0m\u001b[1;33m(\u001b[0m\u001b[0mtest_X\u001b[0m\u001b[1;33m)\u001b[0m\u001b[1;33m[\u001b[0m\u001b[1;33m:\u001b[0m\u001b[1;33m,\u001b[0m \u001b[1;36m1\u001b[0m\u001b[1;33m]\u001b[0m\u001b[1;33m\u001b[0m\u001b[1;33m\u001b[0m\u001b[0m\n\u001b[1;32m----> 4\u001b[1;33m \u001b[0msubmit\u001b[0m \u001b[1;33m=\u001b[0m \u001b[0mpd\u001b[0m\u001b[1;33m.\u001b[0m\u001b[0mDataFrame\u001b[0m\u001b[1;33m(\u001b[0m\u001b[1;33m{\u001b[0m\u001b[1;34m'name'\u001b[0m\u001b[1;33m:\u001b[0m \u001b[0mids\u001b[0m\u001b[1;33m,\u001b[0m \u001b[1;34m'poi'\u001b[0m\u001b[1;33m:\u001b[0m \u001b[0mlr_pred\u001b[0m\u001b[1;33m}\u001b[0m\u001b[1;33m)\u001b[0m\u001b[1;33m\u001b[0m\u001b[1;33m\u001b[0m\u001b[0m\n\u001b[0m\u001b[0;32m      5\u001b[0m \u001b[0mf_app_result\u001b[0m \u001b[1;33m=\u001b[0m \u001b[0mos\u001b[0m\u001b[1;33m.\u001b[0m\u001b[0mpath\u001b[0m\u001b[1;33m.\u001b[0m\u001b[0mjoin\u001b[0m\u001b[1;33m(\u001b[0m\u001b[0moutput_path\u001b[0m\u001b[1;33m,\u001b[0m \u001b[1;34m'Day_051_To_053_lr.csv'\u001b[0m\u001b[1;33m)\u001b[0m\u001b[1;33m\u001b[0m\u001b[1;33m\u001b[0m\u001b[0m\n\u001b[0;32m      6\u001b[0m \u001b[0msubmit\u001b[0m\u001b[1;33m.\u001b[0m\u001b[0mto_csv\u001b[0m\u001b[1;33m(\u001b[0m\u001b[0mf_app_result\u001b[0m\u001b[1;33m,\u001b[0m\u001b[0mindex\u001b[0m\u001b[1;33m=\u001b[0m\u001b[1;32mFalse\u001b[0m\u001b[1;33m)\u001b[0m\u001b[1;33m\u001b[0m\u001b[1;33m\u001b[0m\u001b[0m\n",
      "\u001b[1;32mD:\\ProgramData\\Anaconda3\\lib\\site-packages\\pandas\\core\\frame.py\u001b[0m in \u001b[0;36m__init__\u001b[1;34m(self, data, index, columns, dtype, copy)\u001b[0m\n\u001b[0;32m    433\u001b[0m             )\n\u001b[0;32m    434\u001b[0m         \u001b[1;32melif\u001b[0m \u001b[0misinstance\u001b[0m\u001b[1;33m(\u001b[0m\u001b[0mdata\u001b[0m\u001b[1;33m,\u001b[0m \u001b[0mdict\u001b[0m\u001b[1;33m)\u001b[0m\u001b[1;33m:\u001b[0m\u001b[1;33m\u001b[0m\u001b[1;33m\u001b[0m\u001b[0m\n\u001b[1;32m--> 435\u001b[1;33m             \u001b[0mmgr\u001b[0m \u001b[1;33m=\u001b[0m \u001b[0minit_dict\u001b[0m\u001b[1;33m(\u001b[0m\u001b[0mdata\u001b[0m\u001b[1;33m,\u001b[0m \u001b[0mindex\u001b[0m\u001b[1;33m,\u001b[0m \u001b[0mcolumns\u001b[0m\u001b[1;33m,\u001b[0m \u001b[0mdtype\u001b[0m\u001b[1;33m=\u001b[0m\u001b[0mdtype\u001b[0m\u001b[1;33m)\u001b[0m\u001b[1;33m\u001b[0m\u001b[1;33m\u001b[0m\u001b[0m\n\u001b[0m\u001b[0;32m    436\u001b[0m         \u001b[1;32melif\u001b[0m \u001b[0misinstance\u001b[0m\u001b[1;33m(\u001b[0m\u001b[0mdata\u001b[0m\u001b[1;33m,\u001b[0m \u001b[0mma\u001b[0m\u001b[1;33m.\u001b[0m\u001b[0mMaskedArray\u001b[0m\u001b[1;33m)\u001b[0m\u001b[1;33m:\u001b[0m\u001b[1;33m\u001b[0m\u001b[1;33m\u001b[0m\u001b[0m\n\u001b[0;32m    437\u001b[0m             \u001b[1;32mimport\u001b[0m \u001b[0mnumpy\u001b[0m\u001b[1;33m.\u001b[0m\u001b[0mma\u001b[0m\u001b[1;33m.\u001b[0m\u001b[0mmrecords\u001b[0m \u001b[1;32mas\u001b[0m \u001b[0mmrecords\u001b[0m\u001b[1;33m\u001b[0m\u001b[1;33m\u001b[0m\u001b[0m\n",
      "\u001b[1;32mD:\\ProgramData\\Anaconda3\\lib\\site-packages\\pandas\\core\\internals\\construction.py\u001b[0m in \u001b[0;36minit_dict\u001b[1;34m(data, index, columns, dtype)\u001b[0m\n\u001b[0;32m    252\u001b[0m             \u001b[0marr\u001b[0m \u001b[1;32mif\u001b[0m \u001b[1;32mnot\u001b[0m \u001b[0mis_datetime64tz_dtype\u001b[0m\u001b[1;33m(\u001b[0m\u001b[0marr\u001b[0m\u001b[1;33m)\u001b[0m \u001b[1;32melse\u001b[0m \u001b[0marr\u001b[0m\u001b[1;33m.\u001b[0m\u001b[0mcopy\u001b[0m\u001b[1;33m(\u001b[0m\u001b[1;33m)\u001b[0m \u001b[1;32mfor\u001b[0m \u001b[0marr\u001b[0m \u001b[1;32min\u001b[0m \u001b[0marrays\u001b[0m\u001b[1;33m\u001b[0m\u001b[1;33m\u001b[0m\u001b[0m\n\u001b[0;32m    253\u001b[0m         ]\n\u001b[1;32m--> 254\u001b[1;33m     \u001b[1;32mreturn\u001b[0m \u001b[0marrays_to_mgr\u001b[0m\u001b[1;33m(\u001b[0m\u001b[0marrays\u001b[0m\u001b[1;33m,\u001b[0m \u001b[0mdata_names\u001b[0m\u001b[1;33m,\u001b[0m \u001b[0mindex\u001b[0m\u001b[1;33m,\u001b[0m \u001b[0mcolumns\u001b[0m\u001b[1;33m,\u001b[0m \u001b[0mdtype\u001b[0m\u001b[1;33m=\u001b[0m\u001b[0mdtype\u001b[0m\u001b[1;33m)\u001b[0m\u001b[1;33m\u001b[0m\u001b[1;33m\u001b[0m\u001b[0m\n\u001b[0m\u001b[0;32m    255\u001b[0m \u001b[1;33m\u001b[0m\u001b[0m\n\u001b[0;32m    256\u001b[0m \u001b[1;33m\u001b[0m\u001b[0m\n",
      "\u001b[1;32mD:\\ProgramData\\Anaconda3\\lib\\site-packages\\pandas\\core\\internals\\construction.py\u001b[0m in \u001b[0;36marrays_to_mgr\u001b[1;34m(arrays, arr_names, index, columns, dtype)\u001b[0m\n\u001b[0;32m     62\u001b[0m     \u001b[1;31m# figure out the index, if necessary\u001b[0m\u001b[1;33m\u001b[0m\u001b[1;33m\u001b[0m\u001b[1;33m\u001b[0m\u001b[0m\n\u001b[0;32m     63\u001b[0m     \u001b[1;32mif\u001b[0m \u001b[0mindex\u001b[0m \u001b[1;32mis\u001b[0m \u001b[1;32mNone\u001b[0m\u001b[1;33m:\u001b[0m\u001b[1;33m\u001b[0m\u001b[1;33m\u001b[0m\u001b[0m\n\u001b[1;32m---> 64\u001b[1;33m         \u001b[0mindex\u001b[0m \u001b[1;33m=\u001b[0m \u001b[0mextract_index\u001b[0m\u001b[1;33m(\u001b[0m\u001b[0marrays\u001b[0m\u001b[1;33m)\u001b[0m\u001b[1;33m\u001b[0m\u001b[1;33m\u001b[0m\u001b[0m\n\u001b[0m\u001b[0;32m     65\u001b[0m     \u001b[1;32melse\u001b[0m\u001b[1;33m:\u001b[0m\u001b[1;33m\u001b[0m\u001b[1;33m\u001b[0m\u001b[0m\n\u001b[0;32m     66\u001b[0m         \u001b[0mindex\u001b[0m \u001b[1;33m=\u001b[0m \u001b[0mensure_index\u001b[0m\u001b[1;33m(\u001b[0m\u001b[0mindex\u001b[0m\u001b[1;33m)\u001b[0m\u001b[1;33m\u001b[0m\u001b[1;33m\u001b[0m\u001b[0m\n",
      "\u001b[1;32mD:\\ProgramData\\Anaconda3\\lib\\site-packages\\pandas\\core\\internals\\construction.py\u001b[0m in \u001b[0;36mextract_index\u001b[1;34m(data)\u001b[0m\n\u001b[0;32m    376\u001b[0m                         \u001b[1;34mf\"length {len(index)}\"\u001b[0m\u001b[1;33m\u001b[0m\u001b[1;33m\u001b[0m\u001b[0m\n\u001b[0;32m    377\u001b[0m                     )\n\u001b[1;32m--> 378\u001b[1;33m                     \u001b[1;32mraise\u001b[0m \u001b[0mValueError\u001b[0m\u001b[1;33m(\u001b[0m\u001b[0mmsg\u001b[0m\u001b[1;33m)\u001b[0m\u001b[1;33m\u001b[0m\u001b[1;33m\u001b[0m\u001b[0m\n\u001b[0m\u001b[0;32m    379\u001b[0m             \u001b[1;32melse\u001b[0m\u001b[1;33m:\u001b[0m\u001b[1;33m\u001b[0m\u001b[1;33m\u001b[0m\u001b[0m\n\u001b[0;32m    380\u001b[0m                 \u001b[0mindex\u001b[0m \u001b[1;33m=\u001b[0m \u001b[0mibase\u001b[0m\u001b[1;33m.\u001b[0m\u001b[0mdefault_index\u001b[0m\u001b[1;33m(\u001b[0m\u001b[0mlengths\u001b[0m\u001b[1;33m[\u001b[0m\u001b[1;36m0\u001b[0m\u001b[1;33m]\u001b[0m\u001b[1;33m)\u001b[0m\u001b[1;33m\u001b[0m\u001b[1;33m\u001b[0m\u001b[0m\n",
      "\u001b[1;31mValueError\u001b[0m: array length 32 does not match index length 33"
     ]
    }
   ],
   "source": [
    "# 儲存預測結果(羅吉斯迴歸)\n",
    "output_path = 'output/'\n",
    "lr_pred = lr.predict_proba(test_X)[:, 1]\n",
    "submit = pd.DataFrame({'name': ids, 'poi': lr_pred})\n",
    "f_app_result = os.path.join(output_path, 'Day_051_To_053_lr.csv')\n",
    "submit.to_csv(f_app_result,index=False)"
   ]
  },
  {
   "cell_type": "markdown",
   "metadata": {},
   "source": [
    "#### Fit the model (2) 梯度提升機"
   ]
  },
  {
   "cell_type": "markdown",
   "metadata": {},
   "source": [
    "##### 驗證訓練集"
   ]
  },
  {
   "cell_type": "code",
   "execution_count": null,
   "metadata": {},
   "outputs": [],
   "source": [
    "# 切分訓練集與測試集\n",
    "x_train,x_test,y_train,y_test = train_test_split(train_X,train_Y,test_size=0.25,random_state=4)\n",
    "\n",
    "# 使用梯度提升機\n",
    "gdbt =  GradientBoostingClassifier()\n",
    "\n",
    "# 進行訓練\n",
    "gdbt.fit(x_train,y_train)\n",
    "\n",
    "# 預測測試集\n",
    "y_pred = gdbt.predict(x_test)\n",
    "\n",
    "# 分類要驗證正確率(accucry)\n",
    "df_eval_result = df_eval_result.append(show_eval_result(y_test,y_pred,'gdbt'))"
   ]
  },
  {
   "cell_type": "code",
   "execution_count": null,
   "metadata": {},
   "outputs": [],
   "source": [
    "# 設定模型與模型參數\n",
    "gdbt =  GradientBoostingClassifier()\n",
    "gdbt.fit(train_X, train_Y)"
   ]
  },
  {
   "cell_type": "code",
   "execution_count": null,
   "metadata": {},
   "outputs": [],
   "source": [
    "# 儲存預測結果(梯度提升機預測檔 )\n",
    "output_path = 'output/'\n",
    "gdbt_pred = gdbt.predict_proba(test_X)[:, 1]\n",
    "submit = pd.DataFrame({'name': ids, 'poi': gdbt_pred})\n",
    "f_app_result = os.path.join(output_path, 'Day_051_To_053_gdbt.csv')\n",
    "submit.to_csv(f_app_result,index=False)"
   ]
  },
  {
   "cell_type": "markdown",
   "metadata": {},
   "source": [
    "#### Fit the model (3) 隨機森林"
   ]
  },
  {
   "cell_type": "markdown",
   "metadata": {},
   "source": [
    "##### 驗證訓練集"
   ]
  },
  {
   "cell_type": "code",
   "execution_count": null,
   "metadata": {},
   "outputs": [],
   "source": [
    "# 切分訓練集與測試集\n",
    "x_train,x_test,y_train,y_test = train_test_split(train_X,train_Y,test_size=0.25,random_state=4)\n",
    "\n",
    "# 使用隨機森林\n",
    "rf =  RandomForestClassifier()\n",
    "\n",
    "# 進行訓練\n",
    "rf.fit(x_train,y_train)\n",
    "\n",
    "# 預測測試集\n",
    "y_pred = rf.predict(x_test)\n",
    "\n",
    "# 分類要驗證正確率(accucry)\n",
    "df_eval_result = df_eval_result.append(show_eval_result(y_test,y_pred,'rf'))"
   ]
  },
  {
   "cell_type": "code",
   "execution_count": null,
   "metadata": {},
   "outputs": [],
   "source": [
    "# 設定模型與模型參數\n",
    "rf =  RandomForestClassifier()\n",
    "rf.fit(train_X, train_Y)"
   ]
  },
  {
   "cell_type": "code",
   "execution_count": null,
   "metadata": {},
   "outputs": [],
   "source": [
    "# 儲存預測結果(隨機森林預測檔 )\n",
    "output_path = 'output/'\n",
    "rf_pred = rf.predict_proba(test_X)[:, 1]\n",
    "submit = pd.DataFrame({'name': ids, 'poi': rf_pred})\n",
    "f_app_result = os.path.join(output_path, 'Day_051_To_053_rf.csv')\n",
    "submit.to_csv(f_app_result,index=False)"
   ]
  },
  {
   "cell_type": "markdown",
   "metadata": {},
   "source": [
    "#### Fit the model (4) 堆疊泛化 ( Stacking)"
   ]
  },
  {
   "cell_type": "markdown",
   "metadata": {},
   "source": [
    "##### 驗證訓練集"
   ]
  },
  {
   "cell_type": "code",
   "execution_count": null,
   "metadata": {},
   "outputs": [],
   "source": [
    "from mlxtend.classifier import StackingClassifier\n",
    "# 切分訓練集與測試集\n",
    "x_train,x_test,y_train,y_test = train_test_split(train_X,train_Y,test_size=0.25,random_state=4)\n",
    "\n",
    "# 使用三種模型 : 邏輯斯迴歸 / 梯度提升機 / 隨機森林\n",
    "lr =  LogisticRegression()\n",
    "gdbt =  GradientBoostingClassifier()\n",
    "rf =  RandomForestClassifier()\n",
    "# 進行訓練\n",
    "lr.fit(x_train,y_train)\n",
    "gdbt.fit(x_train,y_train)\n",
    "rf.fit(x_train,y_train)\n",
    "\n",
    "# stacking\n",
    "meta_estimator = GradientBoostingClassifier(tol=100, subsample=0.70, n_estimators=50, \n",
    "                                           max_features='sqrt', max_depth=4, learning_rate=0.3)\n",
    "\n",
    "stacking = StackingClassifier(classifiers = [lr, gdbt, rf], meta_classifier=meta_estimator,\\\n",
    "                              use_probas=True, average_probas=False)\n",
    "\n",
    "stacking.fit(x_train,y_train)\n",
    "# 預測測試集\n",
    "y_pred = stacking.predict(x_test)\n",
    "\n",
    "# 分類要驗證正確率(accucry)\n",
    "df_eval_result = df_eval_result.append(show_eval_result(y_test,y_pred,'stacking'))"
   ]
  },
  {
   "cell_type": "code",
   "execution_count": null,
   "metadata": {},
   "outputs": [],
   "source": [
    "# 使用三種模型 : 邏輯斯迴歸 / 梯度提升機 / 隨機森林\n",
    "lr =  LogisticRegression()\n",
    "gdbt =  GradientBoostingClassifier()\n",
    "rf =  RandomForestClassifier()\n",
    "# 進行訓練\n",
    "lr.fit(train_X, train_Y)\n",
    "gdbt.fit(train_X, train_Y)\n",
    "rf.fit(train_X, train_Y)\n",
    "\n",
    "# stacking\n",
    "meta_estimator = GradientBoostingClassifier(tol=100, subsample=0.70, n_estimators=50, \n",
    "                                           max_features='sqrt', max_depth=4, learning_rate=0.3)\n",
    "\n",
    "stacking = StackingClassifier(classifiers = [lr, gdbt, rf], meta_classifier=meta_estimator,\\\n",
    "                              use_probas=True, average_probas=False)\n",
    "\n",
    "stacking.fit(train_X, train_Y)"
   ]
  },
  {
   "cell_type": "code",
   "execution_count": null,
   "metadata": {},
   "outputs": [],
   "source": [
    "# 儲存預測結果(堆疊泛化 )\n",
    "output_path = 'output/'\n",
    "stacking_pred = stacking.predict_proba(test_X)[:, 1]\n",
    "submit = pd.DataFrame({'name': ids, 'poi': stacking_pred})\n",
    "f_app_result = os.path.join(output_path, 'Day_051_To_053_stacking.csv')\n",
    "submit.to_csv(f_app_result,index=False)"
   ]
  },
  {
   "cell_type": "markdown",
   "metadata": {},
   "source": [
    "#### Fit the model (5) AdaBoostClassifier"
   ]
  },
  {
   "cell_type": "markdown",
   "metadata": {},
   "source": [
    "##### 驗證訓練集"
   ]
  },
  {
   "cell_type": "code",
   "execution_count": null,
   "metadata": {},
   "outputs": [],
   "source": [
    "from sklearn.ensemble import AdaBoostClassifier\n",
    "# 切分訓練集與測試集\n",
    "x_train,x_test,y_train,y_test = train_test_split(train_X,train_Y,test_size=0.25,random_state=4)\n",
    "\n",
    "# 使用隨機森林\n",
    "abc =  AdaBoostClassifier(n_estimators=100)\n",
    "\n",
    "# 進行訓練\n",
    "abc.fit(x_train,y_train)\n",
    "\n",
    "# 預測測試集\n",
    "y_pred = abc.predict(x_test)\n",
    "\n",
    "# 分類要驗證正確率(accucry)\n",
    "df_eval_result = df_eval_result.append(show_eval_result(y_test,y_pred,'abc'))"
   ]
  },
  {
   "cell_type": "code",
   "execution_count": null,
   "metadata": {},
   "outputs": [],
   "source": [
    "# 設定模型與模型參數\n",
    "abc =  AdaBoostClassifier(n_estimators=100)\n",
    "abc.fit(train_X, train_Y)"
   ]
  },
  {
   "cell_type": "code",
   "execution_count": null,
   "metadata": {},
   "outputs": [],
   "source": [
    "# 儲存預測結果(隨機森林預測檔 )\n",
    "output_path = 'output/'\n",
    "abc_pred = abc.predict_proba(test_X)[:, 1]\n",
    "submit = pd.DataFrame({'name': ids, 'poi': rf_pred})\n",
    "f_app_result = os.path.join(output_path, 'Day_051_To_053_abc.csv')\n",
    "submit.to_csv(f_app_result,index=False)"
   ]
  },
  {
   "cell_type": "code",
   "execution_count": null,
   "metadata": {},
   "outputs": [],
   "source": [
    "# 顯示評估結果\n",
    "df_eval_result"
   ]
  }
 ],
 "metadata": {
  "kernelspec": {
   "display_name": "Python 3",
   "language": "python",
   "name": "python3"
  },
  "language_info": {
   "codemirror_mode": {
    "name": "ipython",
    "version": 3
   },
   "file_extension": ".py",
   "mimetype": "text/x-python",
   "name": "python",
   "nbconvert_exporter": "python",
   "pygments_lexer": "ipython3",
   "version": "3.7.6"
  }
 },
 "nbformat": 4,
 "nbformat_minor": 2
}
