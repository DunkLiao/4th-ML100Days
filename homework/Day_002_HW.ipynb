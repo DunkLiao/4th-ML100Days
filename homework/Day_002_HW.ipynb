{
 "cells": [
  {
   "cell_type": "markdown",
   "metadata": {},
   "source": [
    "### 專案名稱: 第四屆機器學習百日馬拉松\n",
    "### 功能描述: 第2天作業\n",
    "### 版權所有: Dunk  \n",
    "### 程式撰寫: Dunk  \n",
    "### 撰寫日期：2020/02/20\n",
    "### 改版日期:  \n",
    "### 改版備註:"
   ]
  },
  {
   "cell_type": "markdown",
   "metadata": {},
   "source": [
    "## [作業目標]\n",
    "了解機器學習適合應用的領域與範疇。"
   ]
  },
  {
   "cell_type": "markdown",
   "metadata": {},
   "source": [
    "## [作業重點]\n",
    "透過瞭解機器學習的運作方式，找出非常適用機器學習應用的領域及其原因"
   ]
  },
  {
   "cell_type": "markdown",
   "metadata": {},
   "source": [
    "## 作業\n",
    "請找出一個你認為機器學習可以發光發熱的領域並闡述原因? "
   ]
  },
  {
   "attachments": {},
   "cell_type": "markdown",
   "metadata": {},
   "source": [
    "## Ans:\n",
    "我認為機器學習可以在機器人流程自動化(RPA)發光發熱。\n",
    "   \n",
    "### 背景說明\n",
    "什麼是機器人流程自動化?\n",
    "   \n",
    "#### https://www.automationanywhere.com/tw/robotic-process-automation\n",
    "在程式軟體的幫助下，部署機器人自動執行任務，減少執行勞務之人力；用程式模擬人類操作之行為。\n",
    "- 模仿人的行為、串接不同系統、取代重複性的工作、降低成本、降低失誤率等…。\n",
    "- 跨系統無侵入性的自動化軟體(巨集、按鍵機器人)。\n",
    "   \n",
    "#### 適合業務場景\n",
    "- 重複性高\n",
    "- 流程簡單清楚\n",
    "- 跨系統/跨頁面操作\n",
    "<img src=\"https://s4.itho.me/sites/default/files/960-875_feng_mian_gu_shi_rpa-5.jpg\"/>\n",
    "\n",
    "#### 適合業務類型\n",
    "- 資料比對/整理\n",
    "- 報表製作\n",
    "- 郵件通知\n",
    "\n",
    "#### 流程設計\n",
    ">- 流程標準化\n",
    ">>1. 問題定義\n",
    ">>2. 確認標準流程作業\n",
    ">>3. 權限定義\n",
    ">- 流程優化\n",
    ">>1. 簡化流程\n",
    ">>2. 授權機制流程\n",
    ">- 流程自動化\n",
    ">>1. 完成通知機制\n",
    ">>2. 確認標準流程作業\n",
    ">>3. 降低影響既有作業\n",
    "\n",
    "### 原因\n",
    "RPA目前有下列幾項需要加強的地方:\n",
    "\n",
    ">- 辨識功能錯誤率:如何在執行發生異常時，統計異常發生率及原因。\n",
    ">>#### idea : 利用資料蒐集後，分群是常用的技術，發生原因可由tracelog經由npl分析出來，監督學習（Supervised learning）可應用的場景；進一步預測出下次發生異常的時間、機率及原因，可供維運人員改善。\n",
    ">- 需有明確流程定義:有時候使用者並無法完整提出流程，或者流程過於壟長並非最佳執行路徑。\n",
    ">>#### idea : 流程優化也是可以發揮的地方，無監督學習（Unsupervised learning）可應用的場景；原始數據具有非常高的維度特徵，並且一些特徵是冗餘的或與流程無關的，降低維度有助於找到真實的，潛在的關係，進而找出最佳執行路徑。\n",
    ">- 無軌跡追蹤機制:目前市面套裝軟體並無提供軌跡追蹤，對於監理較重的產業(i.e 金融業)，無法提供查核報表。\n",
    ">- 權限控管機制:各公司組織不同，需逐一設計。\n",
    "\n",
    "<img src=\"https://s4.itho.me/sites/default/files/images/600-1-875%20%E5%B0%81%E9%9D%A2%E6%95%85%E4%BA%8B%20(RPA)-5.jpg\"/>\n",
    "### 參考資料\n",
    "https://www.automationanywhere.com/tw/robotic-process-automation\n",
    "\n",
    "https://buzzorange.com/techorange/2017/05/25/which-method-in-ai/\n",
    "\n",
    "https://www.ithome.com.tw/tech/124228"
   ]
  }
 ],
 "metadata": {
  "kernelspec": {
   "display_name": "Python 3",
   "language": "python",
   "name": "python3"
  },
  "language_info": {
   "codemirror_mode": {
    "name": "ipython",
    "version": 3
   },
   "file_extension": ".py",
   "mimetype": "text/x-python",
   "name": "python",
   "nbconvert_exporter": "python",
   "pygments_lexer": "ipython3",
   "version": "3.5.4"
  }
 },
 "nbformat": 4,
 "nbformat_minor": 2
}
