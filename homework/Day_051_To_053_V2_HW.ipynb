{
 "cells": [
  {
   "cell_type": "markdown",
   "metadata": {},
   "source": [
    "### 專案名稱: 第四屆機器學習百日馬拉松\n",
    "### 功能描述: 第51~53天作業(期中考)_V2\n",
    "### 版權所有: Dunk  \n",
    "### 程式撰寫: Dunk  \n",
    "### 撰寫日期：2020/05/06\n",
    "### 改版日期: \n",
    "### 2020/05/07 增加結果存檔\n",
    "### 2020/05/08 調整離峰值處理\n",
    "### 改版備註: \n",
    "### 參考網址\n",
    "https://www.kaggle.com/tsilveira/machine-learning-tutorial-enron-e-mails"
   ]
  },
  {
   "cell_type": "markdown",
   "metadata": {},
   "source": [
    "請至以下Kaggle競賽平台期中考連結參加考試，請按join competition加入測驗 \n",
    "\n",
    "並將任一次提交完成畫面截圖，上傳到github並回到官網完成提交。(提交畫面截圖範例)\n",
    "\n",
    "https://www.kaggle.com/t/4e455552ac9b4a088ccae16e27d22be8"
   ]
  },
  {
   "cell_type": "markdown",
   "metadata": {},
   "source": [
    "### ANS:"
   ]
  },
  {
   "cell_type": "markdown",
   "metadata": {},
   "source": [
    "## 目錄\n",
    "* <a href=\"#sec1\">1. 簡介</a>\n",
    "  * <a href=\"#sec1.1\"> 1.1. 匯入所需套件 </a>\n",
    "\n",
    "* <a href=\"#sec2\">2. 資料清洗</a>\n",
    "  * <a href=\"#sec2.1\"> 2.1. 匯入資料集 </a>\n",
    "  * <a href=\"#sec2.2\"> 2.2. 分析資料型態與分布 </a>\n",
    "  * <a href=\"#sec2.3\"> 2.3. 資料填補分析 </a>\n",
    "  * <a href=\"#sec2.4\"> 2.4. 缺失值填補 </a>\n",
    "  * <a href=\"#sec2.5\"> 2.5. 離峰值處理 </a>\n",
    "  * <a href=\"#sec2.6\"> 2.6. 異常值處理 </a>\n",
    "  * <a href=\"#sec2.7\"> 2.7. 資料檢查 </a>\n",
    "\n",
    "* <a href=\"#sec3\">3. 特徵工程</a>\n",
    "  * <a href=\"#sec3.1\"> 3.1. 特徵分析 </a>\n",
    "  * <a href=\"#sec3.2\"> 3.2. 特徵選擇 </a>\n",
    "  * <a href=\"#sec3.3\"> 3.3. 特徵縮放 </a>\n",
    "  \n",
    "* <a href=\"#sec4\">4. 套用模型</a>\n",
    "  * <a href=\"#sec4.1\"> 4.1. Naive Bayes classifier </a>\n",
    "  * <a href=\"#sec4.2\"> 4.2. AdaBoost classifier </a> \n",
    "  * <a href=\"#sec4.3\"> 4.3. SVM classifier </a>\n",
    "  * <a href=\"#sec4.4\"> 4.4. Conclusions </a>"
   ]
  },
  {
   "cell_type": "markdown",
   "metadata": {},
   "source": [
    "<a id='sec1'></a>\n",
    "### 1. 簡介\n",
    "該項目是Udacity Data Analyst Nanodegree的一部分，涉及機器學習入門模塊。其主要範圍是根據因安然（Enron）醜聞而公開的財務和電子郵件數據來構建感興趣的人（POI）標識符，如下所述。\n",
    "2000年，安然（Enron）是美國最大的公司之一。到2002年，由於廣泛的公司欺詐行為，該公司破產了。在最終的聯邦調查中，大量的通常是機密信息被輸入到公共記錄中，包括成千上萬的電子郵件和高級管理人員的詳細財務數據。"
   ]
  },
  {
   "cell_type": "markdown",
   "metadata": {},
   "source": [
    "<a id='sec1.1'></a>\n",
    "#### 1.1. 匯入套件及資料\n",
    "本節為將在此python筆記本中使用的所有套件匯入"
   ]
  },
  {
   "cell_type": "code",
   "execution_count": 87,
   "metadata": {},
   "outputs": [],
   "source": [
    "# 做完特徵工程前的所有準備 (與前範例相同)\n",
    "import os\n",
    "import pandas as pd\n",
    "import numpy as np\n",
    "import copy\n",
    "import warnings\n",
    "warnings.filterwarnings('ignore')\n",
    "from IPython.display import display\n",
    "import seaborn as sns\n",
    "import matplotlib.pyplot as plt\n",
    "\n",
    "from sklearn.model_selection import cross_val_score,train_test_split,GridSearchCV,StratifiedShuffleSplit\n",
    "from sklearn.metrics import accuracy_score,f1_score,recall_score,precision_score\n",
    "from sklearn.feature_selection import SelectKBest, f_classif\n",
    "from sklearn import svm\n",
    "\n",
    "### Importing Models from sklearn\n",
    "from sklearn.tree import DecisionTreeClassifier\n",
    "from sklearn.naive_bayes import GaussianNB\n",
    "from sklearn.ensemble import RandomForestClassifier\n",
    "from sklearn.svm import SVC\n",
    "from sklearn.neighbors import KNeighborsClassifier\n",
    "from sklearn.ensemble import AdaBoostClassifier\n",
    "from sklearn.linear_model import LogisticRegression\n",
    "from sklearn.ensemble import GradientBoostingClassifier"
   ]
  },
  {
   "cell_type": "code",
   "execution_count": 88,
   "metadata": {},
   "outputs": [],
   "source": [
    "## Importing \"manually\" some functions provided by Udacity and available at \n",
    "## https://github.com/tbnsilveira/DAND-MachineLearning/blob/master/tools/feature_format.py\n",
    "def featureFormat( dictionary, features, remove_NaN=True, remove_all_zeroes=True, remove_any_zeroes=False, sort_keys = False):\n",
    "    \"\"\" convert dictionary to numpy array of features\n",
    "        remove_NaN = True will convert \"NaN\" string to 0.0\n",
    "        remove_all_zeroes = True will omit any data points for which\n",
    "            all the features you seek are 0.0\n",
    "        remove_any_zeroes = True will omit any data points for which\n",
    "            any of the features you seek are 0.0\n",
    "        sort_keys = True sorts keys by alphabetical order. Setting the value as\n",
    "            a string opens the corresponding pickle file with a preset key\n",
    "            order (this is used for Python 3 compatibility, and sort_keys\n",
    "            should be left as False for the course mini-projects).\n",
    "        NOTE: first feature is assumed to be 'poi' and is not checked for\n",
    "            removal for zero or missing values.\n",
    "    \"\"\"\n",
    "    return_list = []\n",
    "    # Key order - first branch is for Python 3 compatibility on mini-projects,\n",
    "    # second branch is for compatibility on final project.\n",
    "    if isinstance(sort_keys, str):\n",
    "        import pickle\n",
    "        keys = pickle.load(open(sort_keys, \"rb\"))\n",
    "    elif sort_keys:\n",
    "        keys = sorted(dictionary.keys())\n",
    "    else:\n",
    "        keys = dictionary.keys()\n",
    "\n",
    "    for key in keys:\n",
    "        tmp_list = []\n",
    "        for feature in features:\n",
    "            try:\n",
    "                dictionary[key][feature]\n",
    "            except KeyError:\n",
    "                print(\"error: key \", feature, \" not present\")\n",
    "                return\n",
    "            value = dictionary[key][feature]\n",
    "            if value==\"NaN\" and remove_NaN:\n",
    "                value = 0\n",
    "            tmp_list.append( float(value) )\n",
    "\n",
    "        # Logic for deciding whether or not to add the data point.\n",
    "        append = True\n",
    "        # exclude 'poi' class as criteria.\n",
    "        if features[0] == 'poi':\n",
    "            test_list = tmp_list[1:]\n",
    "        else:\n",
    "            test_list = tmp_list\n",
    "        ### if all features are zero and you want to remove\n",
    "        ### data points that are all zero, do that here\n",
    "        if remove_all_zeroes:\n",
    "            append = False\n",
    "            for item in test_list:\n",
    "                if item != 0 and item != \"NaN\":\n",
    "                    append = True\n",
    "                    break\n",
    "        ### if any features for a given data point are zero\n",
    "        ### and you want to remove data points with any zeroes,\n",
    "        ### handle that here\n",
    "        if remove_any_zeroes:\n",
    "            if 0 in test_list or \"NaN\" in test_list:\n",
    "                append = False\n",
    "        ### Append the data point if flagged for addition.\n",
    "        if append:\n",
    "            return_list.append( np.array(tmp_list) )\n",
    "    return np.array(return_list)\n",
    "\n",
    "def targetFeatureSplit( data ):\n",
    "    \"\"\" given a numpy array like the one returned from featureFormat, separate out the first feature and put it into its own list\n",
    "    (this should be the quantity you want to predict) return targets and features as separate lists (sklearn can generally \n",
    "    handle both lists and numpy arrays as input formats when training/predicting) \"\"\"\n",
    "    target = []\n",
    "    features = []\n",
    "    for item in data:\n",
    "        target.append( item[0] )\n",
    "        features.append( item[1:] )\n",
    "    return target, features"
   ]
  },
  {
   "cell_type": "markdown",
   "metadata": {},
   "source": [
    "<a id='sec2'></a>\n",
    "### 2. 資料清洗"
   ]
  },
  {
   "cell_type": "markdown",
   "metadata": {},
   "source": [
    "<a id='sec2.1'></a>\n",
    "#### 2.1. 匯入資料集"
   ]
  },
  {
   "cell_type": "code",
   "execution_count": 89,
   "metadata": {},
   "outputs": [
    {
     "name": "stdout",
     "output_type": "stream",
     "text": [
      "(113, 22)\n",
      "(33, 21)\n"
     ]
    }
   ],
   "source": [
    "data_path = 'data/'\n",
    "df_train = pd.read_csv(data_path + 'train_data.csv')\n",
    "df_test = pd.read_csv(data_path + 'test_features.csv')\n",
    "index_name = 'name'\n",
    "df_train = df_train.set_index(df_train[index_name])\n",
    "df_test = df_test.set_index(df_test[index_name])\n",
    "print(df_train.shape)\n",
    "print(df_test.shape)"
   ]
  },
  {
   "cell_type": "markdown",
   "metadata": {},
   "source": [
    "<a id='sec2.2'></a>\n",
    "#### 2.2. 分析資料型態與分布"
   ]
  },
  {
   "cell_type": "code",
   "execution_count": 90,
   "metadata": {},
   "outputs": [
    {
     "name": "stdout",
     "output_type": "stream",
     "text": [
      "(113, 21)\n",
      "(33, 20)\n"
     ]
    }
   ],
   "source": [
    "# 重組資料成為訓練 / 預測用格式\n",
    "target_col = 'poi'\n",
    "key_col = 'name'\n",
    "df_train[target_col] = df_train[target_col].map(lambda i: 1 if i == True else 0)\n",
    "ids = df_test[key_col]\n",
    "df_train = df_train.drop([key_col] , axis=1)\n",
    "df_test = df_test.drop([key_col] , axis=1)\n",
    "print(df_train.shape)\n",
    "print(df_test.shape)"
   ]
  },
  {
   "cell_type": "code",
   "execution_count": 91,
   "metadata": {},
   "outputs": [
    {
     "data": {
      "text/html": [
       "<div>\n",
       "<style scoped>\n",
       "    .dataframe tbody tr th:only-of-type {\n",
       "        vertical-align: middle;\n",
       "    }\n",
       "\n",
       "    .dataframe tbody tr th {\n",
       "        vertical-align: top;\n",
       "    }\n",
       "\n",
       "    .dataframe thead th {\n",
       "        text-align: right;\n",
       "    }\n",
       "</style>\n",
       "<table border=\"1\" class=\"dataframe\">\n",
       "  <thead>\n",
       "    <tr style=\"text-align: right;\">\n",
       "      <th></th>\n",
       "      <th>Column Type</th>\n",
       "      <th>Count</th>\n",
       "    </tr>\n",
       "  </thead>\n",
       "  <tbody>\n",
       "    <tr>\n",
       "      <th>0</th>\n",
       "      <td>int64</td>\n",
       "      <td>1</td>\n",
       "    </tr>\n",
       "    <tr>\n",
       "      <th>1</th>\n",
       "      <td>float64</td>\n",
       "      <td>19</td>\n",
       "    </tr>\n",
       "    <tr>\n",
       "      <th>2</th>\n",
       "      <td>object</td>\n",
       "      <td>1</td>\n",
       "    </tr>\n",
       "  </tbody>\n",
       "</table>\n",
       "</div>"
      ],
      "text/plain": [
       "  Column Type  Count\n",
       "0       int64      1\n",
       "1     float64     19\n",
       "2      object      1"
      ]
     },
     "execution_count": 91,
     "metadata": {},
     "output_type": "execute_result"
    }
   ],
   "source": [
    "# 秀出資料欄位的類型與數量\n",
    "dtype_df = df_train.dtypes.reset_index()\n",
    "dtype_df.columns = [\"Count\", \"Column Type\"]\n",
    "dtype_df = dtype_df.groupby(\"Column Type\").aggregate('count').reset_index()\n",
    "dtype_df"
   ]
  },
  {
   "cell_type": "code",
   "execution_count": 92,
   "metadata": {},
   "outputs": [
    {
     "name": "stdout",
     "output_type": "stream",
     "text": [
      "19 num Features : ['bonus', 'deferral_payments', 'deferred_income', 'director_fees', 'exercised_stock_options', 'expenses', 'from_messages', 'from_poi_to_this_person', 'from_this_person_to_poi', 'loan_advances', 'long_term_incentive', 'other', 'restricted_stock', 'restricted_stock_deferred', 'salary', 'shared_receipt_with_poi', 'to_messages', 'total_payments', 'total_stock_value']\n",
      "\n",
      "1 Object Features : ['email_address']\n"
     ]
    }
   ],
   "source": [
    "#確定只有 int64, float64, object 三種類型後, 分別將欄位名稱存於二個 list(數值及文字) 中\n",
    "num_features = []\n",
    "object_features = []\n",
    "for dtype, feature in zip(df_train.dtypes, df_train.columns):\n",
    "    if dtype == 'float64' or dtype == 'int64':\n",
    "        num_features.append(feature)    \n",
    "    else:\n",
    "        object_features.append(feature)\n",
    "# 將poi值移除\n",
    "num_features.remove('poi')        \n",
    "print(f'{len(num_features)} num Features : {num_features}\\n')\n",
    "print(f'{len(object_features)} Object Features : {object_features}')"
   ]
  },
  {
   "cell_type": "code",
   "execution_count": 93,
   "metadata": {},
   "outputs": [],
   "source": [
    "def visualize3Feats(dataset, features):\n",
    "    '''Shows the distribution and the boxplot for the given features of a pandas.Dataframe:\n",
    "        dataset = pandas dataframe.\n",
    "        features = list of features of interest'''\n",
    "    ## Building the Figure:\n",
    "    fig, axes = plt.subplots(2,3,figsize=(15,6), sharex=False)\n",
    "    for col, feat in enumerate(features):\n",
    "        dataset[feat].plot(kind='kde', ax=axes[0,col])\n",
    "        sns.boxplot(x=dataset[feat], ax=axes[1,col])\n",
    "        axes[0,col].set_xlim(dataset[feat].min(), dataset[feat].max()*1.1);\n",
    "        axes[1,col].set_xlim(dataset[feat].min(), dataset[feat].max()*1.1);\n",
    "    return"
   ]
  },
  {
   "cell_type": "code",
   "execution_count": 94,
   "metadata": {},
   "outputs": [
    {
     "data": {
      "image/png": "[encoded data removed]",
      "text/plain": [
       "<Figure size 1080x432 with 6 Axes>"
      ]
     },
     "metadata": {
      "needs_background": "light"
     },
     "output_type": "display_data"
    },
    {
     "data": {
      "image/png": "[encoded data removed]",
      "text/plain": [
       "<Figure size 1080x432 with 6 Axes>"
      ]
     },
     "metadata": {
      "needs_background": "light"
     },
     "output_type": "display_data"
    },
    {
     "data": {
      "image/png": "[encoded data removed]",
      "text/plain": [
       "<Figure size 1080x432 with 6 Axes>"
      ]
     },
     "metadata": {
      "needs_background": "light"
     },
     "output_type": "display_data"
    },
    {
     "data": {
      "image/png": "[encoded data removed]",
      "text/plain": [
       "<Figure size 1080x432 with 6 Axes>"
      ]
     },
     "metadata": {
      "needs_background": "light"
     },
     "output_type": "display_data"
    },
    {
     "data": {
      "image/png": "[encoded data removed]",
      "text/plain": [
       "<Figure size 1080x432 with 6 Axes>"
      ]
     },
     "metadata": {
      "needs_background": "light"
     },
     "output_type": "display_data"
    },
    {
     "data": {
      "image/png": "[encoded data removed]",
      "text/plain": [
       "<Figure size 1080x432 with 6 Axes>"
      ]
     },
     "metadata": {
      "needs_background": "light"
     },
     "output_type": "display_data"
    },
    {
     "data": {
      "image/png": "[encoded data removed]",
      "text/plain": [
       "<Figure size 1080x432 with 6 Axes>"
      ]
     },
     "metadata": {
      "needs_background": "light"
     },
     "output_type": "display_data"
    }
   ],
   "source": [
    "### 繪製KDE圖型及箱型圖:\n",
    "numPlots = int(np.ceil(len(num_features)/3.))\n",
    "for i in range(numPlots):\n",
    "    shift = i*3\n",
    "    visualize3Feats(df_train,num_features[0+shift:3+shift])"
   ]
  },
  {
   "cell_type": "code",
   "execution_count": 95,
   "metadata": {},
   "outputs": [
    {
     "name": "stdout",
     "output_type": "stream",
     "text": [
      "email_address    83\n",
      "dtype: int64\n",
      "----------------------\n",
      "poi    2\n",
      "dtype: int64\n",
      "----------------------\n",
      "loan_advances                 2\n",
      "restricted_stock_deferred    10\n",
      "director_fees                13\n",
      "deferral_payments            28\n",
      "deferred_income              30\n",
      "from_this_person_to_poi      32\n",
      "bonus                        33\n",
      "long_term_incentive          40\n",
      "from_poi_to_this_person      45\n",
      "from_messages                51\n",
      "shared_receipt_with_poi      64\n",
      "to_messages                  65\n",
      "other                        69\n",
      "expenses                     72\n",
      "restricted_stock             73\n",
      "salary                       73\n",
      "exercised_stock_options      80\n",
      "total_payments               96\n",
      "total_stock_value            96\n",
      "dtype: int64\n"
     ]
    }
   ],
   "source": [
    "# 欄位值計算\n",
    "print(df_train.select_dtypes(include=[\"object\"]).apply(pd.Series.nunique, axis = 0).sort_values())\n",
    "print('----------------------')\n",
    "print(df_train.select_dtypes(include=[\"int64\"]).apply(pd.Series.nunique, axis = 0).sort_values())\n",
    "print('----------------------')\n",
    "print(df_train.select_dtypes(include=[\"float64\"]).apply(pd.Series.nunique, axis = 0).sort_values())\n",
    "# 欄位值計算"
   ]
  },
  {
   "cell_type": "code",
   "execution_count": 96,
   "metadata": {},
   "outputs": [
    {
     "name": "stdout",
     "output_type": "stream",
     "text": [
      "email_address    28\n",
      "dtype: int64\n",
      "----------------------\n",
      "Series([], dtype: float64)\n",
      "----------------------\n",
      "loan_advances                 2\n",
      "director_fees                 4\n",
      "restricted_stock_deferred     8\n",
      "deferral_payments            11\n",
      "deferred_income              15\n",
      "long_term_incentive          16\n",
      "from_this_person_to_poi      16\n",
      "bonus                        18\n",
      "from_poi_to_this_person      18\n",
      "from_messages                19\n",
      "exercised_stock_options      21\n",
      "salary                       21\n",
      "shared_receipt_with_poi      21\n",
      "to_messages                  21\n",
      "expenses                     22\n",
      "other                        24\n",
      "restricted_stock             27\n",
      "total_stock_value            28\n",
      "total_payments               29\n",
      "dtype: int64\n"
     ]
    }
   ],
   "source": [
    "# 欄位值計算\n",
    "print(df_test.select_dtypes(include=[\"object\"]).apply(pd.Series.nunique, axis = 0).sort_values())\n",
    "print('----------------------')\n",
    "print(df_test.select_dtypes(include=[\"int64\"]).apply(pd.Series.nunique, axis = 0).sort_values())\n",
    "print('----------------------')\n",
    "print(df_test.select_dtypes(include=[\"float64\"]).apply(pd.Series.nunique, axis = 0).sort_values())\n",
    "# 欄位值計算"
   ]
  },
  {
   "cell_type": "code",
   "execution_count": 97,
   "metadata": {},
   "outputs": [],
   "source": [
    "## Only numerical features are being considered here\n",
    "financialFeatures = ['salary','bonus', 'exercised_stock_options', 'restricted_stock', 'shared_receipt_with_poi',\n",
    "                     'total_payments', 'expenses', 'total_stock_value', 'deferred_income', 'long_term_incentive']\n",
    "behavioralFeatures = ['to_messages', 'from_messages', 'from_poi_to_this_person', 'from_this_person_to_poi', 'other']\n",
    "allFeatures = ['salary','bonus', 'exercised_stock_options', 'restricted_stock', 'shared_receipt_with_poi',\n",
    "               'total_payments', 'expenses', 'total_stock_value', 'deferred_income', 'long_term_incentive',\n",
    "               'to_messages', 'from_messages', 'from_poi_to_this_person', 'from_this_person_to_poi', 'other']"
   ]
  },
  {
   "cell_type": "markdown",
   "metadata": {},
   "source": [
    "<a id='sec2.3'></a>\n",
    "#### 2.3. 資料填補分析"
   ]
  },
  {
   "cell_type": "code",
   "execution_count": 98,
   "metadata": {
    "scrolled": true,
    "slideshow": {
     "slide_type": "subslide"
    }
   },
   "outputs": [
    {
     "data": {
      "text/html": [
       "<div>\n",
       "<style scoped>\n",
       "    .dataframe tbody tr th:only-of-type {\n",
       "        vertical-align: middle;\n",
       "    }\n",
       "\n",
       "    .dataframe tbody tr th {\n",
       "        vertical-align: top;\n",
       "    }\n",
       "\n",
       "    .dataframe thead th {\n",
       "        text-align: right;\n",
       "    }\n",
       "</style>\n",
       "<table border=\"1\" class=\"dataframe\">\n",
       "  <thead>\n",
       "    <tr style=\"text-align: right;\">\n",
       "      <th></th>\n",
       "      <th>count</th>\n",
       "      <th>mean</th>\n",
       "      <th>std</th>\n",
       "      <th>min</th>\n",
       "      <th>25%</th>\n",
       "      <th>50%</th>\n",
       "      <th>75%</th>\n",
       "      <th>max</th>\n",
       "    </tr>\n",
       "  </thead>\n",
       "  <tbody>\n",
       "    <tr>\n",
       "      <th>bonus</th>\n",
       "      <td>61.0</td>\n",
       "      <td>1.147436e+06</td>\n",
       "      <td>1.505189e+06</td>\n",
       "      <td>70000.0</td>\n",
       "      <td>450000.00</td>\n",
       "      <td>750000.0</td>\n",
       "      <td>1000000.00</td>\n",
       "      <td>8000000.0</td>\n",
       "    </tr>\n",
       "    <tr>\n",
       "      <th>deferral_payments</th>\n",
       "      <td>28.0</td>\n",
       "      <td>6.344374e+05</td>\n",
       "      <td>8.603646e+05</td>\n",
       "      <td>-102500.0</td>\n",
       "      <td>76567.50</td>\n",
       "      <td>195190.0</td>\n",
       "      <td>834205.25</td>\n",
       "      <td>2964506.0</td>\n",
       "    </tr>\n",
       "    <tr>\n",
       "      <th>deferred_income</th>\n",
       "      <td>34.0</td>\n",
       "      <td>-4.625664e+05</td>\n",
       "      <td>8.095392e+05</td>\n",
       "      <td>-3504386.0</td>\n",
       "      <td>-552703.25</td>\n",
       "      <td>-117534.0</td>\n",
       "      <td>-27083.25</td>\n",
       "      <td>-1042.0</td>\n",
       "    </tr>\n",
       "    <tr>\n",
       "      <th>director_fees</th>\n",
       "      <td>13.0</td>\n",
       "      <td>8.939785e+04</td>\n",
       "      <td>4.114339e+04</td>\n",
       "      <td>3285.0</td>\n",
       "      <td>101250.00</td>\n",
       "      <td>108579.0</td>\n",
       "      <td>112492.00</td>\n",
       "      <td>125034.0</td>\n",
       "    </tr>\n",
       "    <tr>\n",
       "      <th>exercised_stock_options</th>\n",
       "      <td>81.0</td>\n",
       "      <td>2.985081e+06</td>\n",
       "      <td>6.004174e+06</td>\n",
       "      <td>3285.0</td>\n",
       "      <td>400478.00</td>\n",
       "      <td>850010.0</td>\n",
       "      <td>2165172.00</td>\n",
       "      <td>34348384.0</td>\n",
       "    </tr>\n",
       "    <tr>\n",
       "      <th>expenses</th>\n",
       "      <td>73.0</td>\n",
       "      <td>5.104055e+04</td>\n",
       "      <td>4.759668e+04</td>\n",
       "      <td>148.0</td>\n",
       "      <td>18834.00</td>\n",
       "      <td>41953.0</td>\n",
       "      <td>59175.00</td>\n",
       "      <td>228763.0</td>\n",
       "    </tr>\n",
       "    <tr>\n",
       "      <th>from_messages</th>\n",
       "      <td>65.0</td>\n",
       "      <td>7.113231e+02</td>\n",
       "      <td>2.074498e+03</td>\n",
       "      <td>12.0</td>\n",
       "      <td>19.00</td>\n",
       "      <td>45.0</td>\n",
       "      <td>215.00</td>\n",
       "      <td>14368.0</td>\n",
       "    </tr>\n",
       "    <tr>\n",
       "      <th>from_poi_to_this_person</th>\n",
       "      <td>65.0</td>\n",
       "      <td>6.480000e+01</td>\n",
       "      <td>9.186321e+01</td>\n",
       "      <td>0.0</td>\n",
       "      <td>10.00</td>\n",
       "      <td>28.0</td>\n",
       "      <td>88.00</td>\n",
       "      <td>528.0</td>\n",
       "    </tr>\n",
       "    <tr>\n",
       "      <th>from_this_person_to_poi</th>\n",
       "      <td>65.0</td>\n",
       "      <td>4.009231e+01</td>\n",
       "      <td>8.890141e+01</td>\n",
       "      <td>0.0</td>\n",
       "      <td>0.00</td>\n",
       "      <td>7.0</td>\n",
       "      <td>27.00</td>\n",
       "      <td>411.0</td>\n",
       "    </tr>\n",
       "    <tr>\n",
       "      <th>loan_advances</th>\n",
       "      <td>2.0</td>\n",
       "      <td>4.096250e+07</td>\n",
       "      <td>5.736404e+07</td>\n",
       "      <td>400000.0</td>\n",
       "      <td>20681250.00</td>\n",
       "      <td>40962500.0</td>\n",
       "      <td>61243750.00</td>\n",
       "      <td>81525000.0</td>\n",
       "    </tr>\n",
       "    <tr>\n",
       "      <th>long_term_incentive</th>\n",
       "      <td>49.0</td>\n",
       "      <td>7.926171e+05</td>\n",
       "      <td>9.504645e+05</td>\n",
       "      <td>71023.0</td>\n",
       "      <td>275000.00</td>\n",
       "      <td>422158.0</td>\n",
       "      <td>831809.00</td>\n",
       "      <td>5145434.0</td>\n",
       "    </tr>\n",
       "    <tr>\n",
       "      <th>other</th>\n",
       "      <td>69.0</td>\n",
       "      <td>4.471774e+05</td>\n",
       "      <td>1.341564e+06</td>\n",
       "      <td>2.0</td>\n",
       "      <td>972.00</td>\n",
       "      <td>52382.0</td>\n",
       "      <td>362096.00</td>\n",
       "      <td>10359729.0</td>\n",
       "    </tr>\n",
       "    <tr>\n",
       "      <th>poi</th>\n",
       "      <td>113.0</td>\n",
       "      <td>1.150442e-01</td>\n",
       "      <td>3.204966e-01</td>\n",
       "      <td>0.0</td>\n",
       "      <td>0.00</td>\n",
       "      <td>0.0</td>\n",
       "      <td>0.00</td>\n",
       "      <td>1.0</td>\n",
       "    </tr>\n",
       "    <tr>\n",
       "      <th>restricted_stock</th>\n",
       "      <td>82.0</td>\n",
       "      <td>1.294855e+06</td>\n",
       "      <td>2.498335e+06</td>\n",
       "      <td>44093.0</td>\n",
       "      <td>268922.00</td>\n",
       "      <td>462822.5</td>\n",
       "      <td>966490.50</td>\n",
       "      <td>14761694.0</td>\n",
       "    </tr>\n",
       "    <tr>\n",
       "      <th>restricted_stock_deferred</th>\n",
       "      <td>10.0</td>\n",
       "      <td>-2.218857e+05</td>\n",
       "      <td>2.051914e+05</td>\n",
       "      <td>-560222.0</td>\n",
       "      <td>-389621.75</td>\n",
       "      <td>-139856.5</td>\n",
       "      <td>-77953.25</td>\n",
       "      <td>44093.0</td>\n",
       "    </tr>\n",
       "    <tr>\n",
       "      <th>salary</th>\n",
       "      <td>73.0</td>\n",
       "      <td>2.739025e+05</td>\n",
       "      <td>1.716647e+05</td>\n",
       "      <td>477.0</td>\n",
       "      <td>206121.00</td>\n",
       "      <td>251654.0</td>\n",
       "      <td>288589.00</td>\n",
       "      <td>1111258.0</td>\n",
       "    </tr>\n",
       "    <tr>\n",
       "      <th>shared_receipt_with_poi</th>\n",
       "      <td>65.0</td>\n",
       "      <td>1.111369e+03</td>\n",
       "      <td>1.165852e+03</td>\n",
       "      <td>2.0</td>\n",
       "      <td>178.00</td>\n",
       "      <td>599.0</td>\n",
       "      <td>1902.00</td>\n",
       "      <td>4527.0</td>\n",
       "    </tr>\n",
       "    <tr>\n",
       "      <th>to_messages</th>\n",
       "      <td>65.0</td>\n",
       "      <td>2.156062e+03</td>\n",
       "      <td>2.811677e+03</td>\n",
       "      <td>57.0</td>\n",
       "      <td>517.00</td>\n",
       "      <td>1088.0</td>\n",
       "      <td>2649.00</td>\n",
       "      <td>15149.0</td>\n",
       "    </tr>\n",
       "    <tr>\n",
       "      <th>total_payments</th>\n",
       "      <td>96.0</td>\n",
       "      <td>2.590977e+06</td>\n",
       "      <td>1.056645e+07</td>\n",
       "      <td>148.0</td>\n",
       "      <td>302402.50</td>\n",
       "      <td>1106740.0</td>\n",
       "      <td>1985668.25</td>\n",
       "      <td>103559793.0</td>\n",
       "    </tr>\n",
       "    <tr>\n",
       "      <th>total_stock_value</th>\n",
       "      <td>98.0</td>\n",
       "      <td>3.527136e+06</td>\n",
       "      <td>7.182997e+06</td>\n",
       "      <td>-44093.0</td>\n",
       "      <td>421151.75</td>\n",
       "      <td>997971.0</td>\n",
       "      <td>2493616.00</td>\n",
       "      <td>49110078.0</td>\n",
       "    </tr>\n",
       "  </tbody>\n",
       "</table>\n",
       "</div>"
      ],
      "text/plain": [
       "                           count          mean           std        min  \\\n",
       "bonus                       61.0  1.147436e+06  1.505189e+06    70000.0   \n",
       "deferral_payments           28.0  6.344374e+05  8.603646e+05  -102500.0   \n",
       "deferred_income             34.0 -4.625664e+05  8.095392e+05 -3504386.0   \n",
       "director_fees               13.0  8.939785e+04  4.114339e+04     3285.0   \n",
       "exercised_stock_options     81.0  2.985081e+06  6.004174e+06     3285.0   \n",
       "expenses                    73.0  5.104055e+04  4.759668e+04      148.0   \n",
       "from_messages               65.0  7.113231e+02  2.074498e+03       12.0   \n",
       "from_poi_to_this_person     65.0  6.480000e+01  9.186321e+01        0.0   \n",
       "from_this_person_to_poi     65.0  4.009231e+01  8.890141e+01        0.0   \n",
       "loan_advances                2.0  4.096250e+07  5.736404e+07   400000.0   \n",
       "long_term_incentive         49.0  7.926171e+05  9.504645e+05    71023.0   \n",
       "other                       69.0  4.471774e+05  1.341564e+06        2.0   \n",
       "poi                        113.0  1.150442e-01  3.204966e-01        0.0   \n",
       "restricted_stock            82.0  1.294855e+06  2.498335e+06    44093.0   \n",
       "restricted_stock_deferred   10.0 -2.218857e+05  2.051914e+05  -560222.0   \n",
       "salary                      73.0  2.739025e+05  1.716647e+05      477.0   \n",
       "shared_receipt_with_poi     65.0  1.111369e+03  1.165852e+03        2.0   \n",
       "to_messages                 65.0  2.156062e+03  2.811677e+03       57.0   \n",
       "total_payments              96.0  2.590977e+06  1.056645e+07      148.0   \n",
       "total_stock_value           98.0  3.527136e+06  7.182997e+06   -44093.0   \n",
       "\n",
       "                                   25%         50%          75%          max  \n",
       "bonus                        450000.00    750000.0   1000000.00    8000000.0  \n",
       "deferral_payments             76567.50    195190.0    834205.25    2964506.0  \n",
       "deferred_income             -552703.25   -117534.0    -27083.25      -1042.0  \n",
       "director_fees                101250.00    108579.0    112492.00     125034.0  \n",
       "exercised_stock_options      400478.00    850010.0   2165172.00   34348384.0  \n",
       "expenses                      18834.00     41953.0     59175.00     228763.0  \n",
       "from_messages                    19.00        45.0       215.00      14368.0  \n",
       "from_poi_to_this_person          10.00        28.0        88.00        528.0  \n",
       "from_this_person_to_poi           0.00         7.0        27.00        411.0  \n",
       "loan_advances              20681250.00  40962500.0  61243750.00   81525000.0  \n",
       "long_term_incentive          275000.00    422158.0    831809.00    5145434.0  \n",
       "other                           972.00     52382.0    362096.00   10359729.0  \n",
       "poi                               0.00         0.0         0.00          1.0  \n",
       "restricted_stock             268922.00    462822.5    966490.50   14761694.0  \n",
       "restricted_stock_deferred   -389621.75   -139856.5    -77953.25      44093.0  \n",
       "salary                       206121.00    251654.0    288589.00    1111258.0  \n",
       "shared_receipt_with_poi         178.00       599.0      1902.00       4527.0  \n",
       "to_messages                     517.00      1088.0      2649.00      15149.0  \n",
       "total_payments               302402.50   1106740.0   1985668.25  103559793.0  \n",
       "total_stock_value            421151.75    997971.0   2493616.00   49110078.0  "
      ]
     },
     "execution_count": 98,
     "metadata": {},
     "output_type": "execute_result"
    }
   ],
   "source": [
    "#檢查統計值\n",
    "df_train.describe().transpose()"
   ]
  },
  {
   "cell_type": "code",
   "execution_count": 99,
   "metadata": {},
   "outputs": [
    {
     "data": {
      "text/html": [
       "<div>\n",
       "<style scoped>\n",
       "    .dataframe tbody tr th:only-of-type {\n",
       "        vertical-align: middle;\n",
       "    }\n",
       "\n",
       "    .dataframe tbody tr th {\n",
       "        vertical-align: top;\n",
       "    }\n",
       "\n",
       "    .dataframe thead th {\n",
       "        text-align: right;\n",
       "    }\n",
       "</style>\n",
       "<table border=\"1\" class=\"dataframe\">\n",
       "  <thead>\n",
       "    <tr style=\"text-align: right;\">\n",
       "      <th></th>\n",
       "      <th>count</th>\n",
       "      <th>mean</th>\n",
       "      <th>std</th>\n",
       "      <th>min</th>\n",
       "      <th>25%</th>\n",
       "      <th>50%</th>\n",
       "      <th>75%</th>\n",
       "      <th>max</th>\n",
       "    </tr>\n",
       "  </thead>\n",
       "  <tbody>\n",
       "    <tr>\n",
       "      <th>bonus</th>\n",
       "      <td>21.0</td>\n",
       "      <td>5.937791e+06</td>\n",
       "      <td>2.097902e+07</td>\n",
       "      <td>100000.0</td>\n",
       "      <td>425000.00</td>\n",
       "      <td>1000000.0</td>\n",
       "      <td>2000000.00</td>\n",
       "      <td>97343619.0</td>\n",
       "    </tr>\n",
       "    <tr>\n",
       "      <th>deferral_payments</th>\n",
       "      <td>11.0</td>\n",
       "      <td>4.209095e+06</td>\n",
       "      <td>9.442610e+06</td>\n",
       "      <td>51365.0</td>\n",
       "      <td>232265.00</td>\n",
       "      <td>564348.0</td>\n",
       "      <td>2637936.50</td>\n",
       "      <td>32083396.0</td>\n",
       "    </tr>\n",
       "    <tr>\n",
       "      <th>deferred_income</th>\n",
       "      <td>15.0</td>\n",
       "      <td>-2.677068e+06</td>\n",
       "      <td>7.096873e+06</td>\n",
       "      <td>-27992891.0</td>\n",
       "      <td>-1809217.00</td>\n",
       "      <td>-235000.0</td>\n",
       "      <td>-129288.00</td>\n",
       "      <td>-833.0</td>\n",
       "    </tr>\n",
       "    <tr>\n",
       "      <th>director_fees</th>\n",
       "      <td>4.0</td>\n",
       "      <td>4.183778e+05</td>\n",
       "      <td>6.547074e+05</td>\n",
       "      <td>38346.0</td>\n",
       "      <td>83674.50</td>\n",
       "      <td>118324.0</td>\n",
       "      <td>453027.25</td>\n",
       "      <td>1398517.0</td>\n",
       "    </tr>\n",
       "    <tr>\n",
       "      <th>exercised_stock_options</th>\n",
       "      <td>21.0</td>\n",
       "      <td>1.756609e+07</td>\n",
       "      <td>6.746116e+07</td>\n",
       "      <td>765920.0</td>\n",
       "      <td>1030329.00</td>\n",
       "      <td>2027865.0</td>\n",
       "      <td>4160672.00</td>\n",
       "      <td>311764000.0</td>\n",
       "    </tr>\n",
       "    <tr>\n",
       "      <th>expenses</th>\n",
       "      <td>22.0</td>\n",
       "      <td>3.001494e+05</td>\n",
       "      <td>1.102936e+06</td>\n",
       "      <td>2151.0</td>\n",
       "      <td>34283.75</td>\n",
       "      <td>61817.0</td>\n",
       "      <td>96182.00</td>\n",
       "      <td>5235198.0</td>\n",
       "    </tr>\n",
       "    <tr>\n",
       "      <th>from_messages</th>\n",
       "      <td>21.0</td>\n",
       "      <td>2.914286e+02</td>\n",
       "      <td>7.026554e+02</td>\n",
       "      <td>12.0</td>\n",
       "      <td>25.00</td>\n",
       "      <td>29.0</td>\n",
       "      <td>75.00</td>\n",
       "      <td>3069.0</td>\n",
       "    </tr>\n",
       "    <tr>\n",
       "      <th>from_poi_to_this_person</th>\n",
       "      <td>21.0</td>\n",
       "      <td>6.519048e+01</td>\n",
       "      <td>7.175278e+01</td>\n",
       "      <td>0.0</td>\n",
       "      <td>28.00</td>\n",
       "      <td>40.0</td>\n",
       "      <td>64.00</td>\n",
       "      <td>242.0</td>\n",
       "    </tr>\n",
       "    <tr>\n",
       "      <th>from_this_person_to_poi</th>\n",
       "      <td>21.0</td>\n",
       "      <td>4.476190e+01</td>\n",
       "      <td>1.313537e+02</td>\n",
       "      <td>0.0</td>\n",
       "      <td>1.00</td>\n",
       "      <td>12.0</td>\n",
       "      <td>21.00</td>\n",
       "      <td>609.0</td>\n",
       "    </tr>\n",
       "    <tr>\n",
       "      <th>loan_advances</th>\n",
       "      <td>2.0</td>\n",
       "      <td>4.296250e+07</td>\n",
       "      <td>5.792972e+07</td>\n",
       "      <td>2000000.0</td>\n",
       "      <td>22481250.00</td>\n",
       "      <td>42962500.0</td>\n",
       "      <td>63443750.00</td>\n",
       "      <td>83925000.0</td>\n",
       "    </tr>\n",
       "    <tr>\n",
       "      <th>long_term_incentive</th>\n",
       "      <td>17.0</td>\n",
       "      <td>3.423860e+06</td>\n",
       "      <td>1.163191e+07</td>\n",
       "      <td>69223.0</td>\n",
       "      <td>350000.00</td>\n",
       "      <td>461912.0</td>\n",
       "      <td>974293.00</td>\n",
       "      <td>48521928.0</td>\n",
       "    </tr>\n",
       "    <tr>\n",
       "      <th>other</th>\n",
       "      <td>24.0</td>\n",
       "      <td>2.275742e+06</td>\n",
       "      <td>8.737002e+06</td>\n",
       "      <td>69.0</td>\n",
       "      <td>1651.00</td>\n",
       "      <td>74607.0</td>\n",
       "      <td>331291.50</td>\n",
       "      <td>42667589.0</td>\n",
       "    </tr>\n",
       "    <tr>\n",
       "      <th>restricted_stock</th>\n",
       "      <td>28.0</td>\n",
       "      <td>5.329051e+06</td>\n",
       "      <td>2.452196e+07</td>\n",
       "      <td>-2604490.0</td>\n",
       "      <td>208734.25</td>\n",
       "      <td>423547.5</td>\n",
       "      <td>1300855.00</td>\n",
       "      <td>130322299.0</td>\n",
       "    </tr>\n",
       "    <tr>\n",
       "      <th>restricted_stock_deferred</th>\n",
       "      <td>8.0</td>\n",
       "      <td>6.517809e+05</td>\n",
       "      <td>6.506284e+06</td>\n",
       "      <td>-7576788.0</td>\n",
       "      <td>-683146.00</td>\n",
       "      <td>-223782.5</td>\n",
       "      <td>-70201.50</td>\n",
       "      <td>15456290.0</td>\n",
       "    </tr>\n",
       "    <tr>\n",
       "      <th>salary</th>\n",
       "      <td>22.0</td>\n",
       "      <td>1.518799e+06</td>\n",
       "      <td>5.628470e+06</td>\n",
       "      <td>76399.0</td>\n",
       "      <td>219613.50</td>\n",
       "      <td>272847.0</td>\n",
       "      <td>369283.00</td>\n",
       "      <td>26704229.0</td>\n",
       "    </tr>\n",
       "    <tr>\n",
       "      <th>shared_receipt_with_poi</th>\n",
       "      <td>21.0</td>\n",
       "      <td>1.377952e+03</td>\n",
       "      <td>1.222687e+03</td>\n",
       "      <td>3.0</td>\n",
       "      <td>702.00</td>\n",
       "      <td>1074.0</td>\n",
       "      <td>1604.00</td>\n",
       "      <td>5521.0</td>\n",
       "    </tr>\n",
       "    <tr>\n",
       "      <th>to_messages</th>\n",
       "      <td>21.0</td>\n",
       "      <td>1.819429e+03</td>\n",
       "      <td>1.720857e+03</td>\n",
       "      <td>58.0</td>\n",
       "      <td>807.00</td>\n",
       "      <td>1607.0</td>\n",
       "      <td>2350.00</td>\n",
       "      <td>7991.0</td>\n",
       "    </tr>\n",
       "    <tr>\n",
       "      <th>total_payments</th>\n",
       "      <td>29.0</td>\n",
       "      <td>1.332610e+07</td>\n",
       "      <td>5.718233e+07</td>\n",
       "      <td>2151.0</td>\n",
       "      <td>564348.00</td>\n",
       "      <td>1061827.0</td>\n",
       "      <td>3676340.00</td>\n",
       "      <td>309886585.0</td>\n",
       "    </tr>\n",
       "    <tr>\n",
       "      <th>total_stock_value</th>\n",
       "      <td>28.0</td>\n",
       "      <td>1.813783e+07</td>\n",
       "      <td>8.166322e+07</td>\n",
       "      <td>47304.0</td>\n",
       "      <td>985366.00</td>\n",
       "      <td>1838142.0</td>\n",
       "      <td>3250301.75</td>\n",
       "      <td>434509511.0</td>\n",
       "    </tr>\n",
       "  </tbody>\n",
       "</table>\n",
       "</div>"
      ],
      "text/plain": [
       "                           count          mean           std         min  \\\n",
       "bonus                       21.0  5.937791e+06  2.097902e+07    100000.0   \n",
       "deferral_payments           11.0  4.209095e+06  9.442610e+06     51365.0   \n",
       "deferred_income             15.0 -2.677068e+06  7.096873e+06 -27992891.0   \n",
       "director_fees                4.0  4.183778e+05  6.547074e+05     38346.0   \n",
       "exercised_stock_options     21.0  1.756609e+07  6.746116e+07    765920.0   \n",
       "expenses                    22.0  3.001494e+05  1.102936e+06      2151.0   \n",
       "from_messages               21.0  2.914286e+02  7.026554e+02        12.0   \n",
       "from_poi_to_this_person     21.0  6.519048e+01  7.175278e+01         0.0   \n",
       "from_this_person_to_poi     21.0  4.476190e+01  1.313537e+02         0.0   \n",
       "loan_advances                2.0  4.296250e+07  5.792972e+07   2000000.0   \n",
       "long_term_incentive         17.0  3.423860e+06  1.163191e+07     69223.0   \n",
       "other                       24.0  2.275742e+06  8.737002e+06        69.0   \n",
       "restricted_stock            28.0  5.329051e+06  2.452196e+07  -2604490.0   \n",
       "restricted_stock_deferred    8.0  6.517809e+05  6.506284e+06  -7576788.0   \n",
       "salary                      22.0  1.518799e+06  5.628470e+06     76399.0   \n",
       "shared_receipt_with_poi     21.0  1.377952e+03  1.222687e+03         3.0   \n",
       "to_messages                 21.0  1.819429e+03  1.720857e+03        58.0   \n",
       "total_payments              29.0  1.332610e+07  5.718233e+07      2151.0   \n",
       "total_stock_value           28.0  1.813783e+07  8.166322e+07     47304.0   \n",
       "\n",
       "                                   25%         50%          75%          max  \n",
       "bonus                        425000.00   1000000.0   2000000.00   97343619.0  \n",
       "deferral_payments            232265.00    564348.0   2637936.50   32083396.0  \n",
       "deferred_income            -1809217.00   -235000.0   -129288.00       -833.0  \n",
       "director_fees                 83674.50    118324.0    453027.25    1398517.0  \n",
       "exercised_stock_options     1030329.00   2027865.0   4160672.00  311764000.0  \n",
       "expenses                      34283.75     61817.0     96182.00    5235198.0  \n",
       "from_messages                    25.00        29.0        75.00       3069.0  \n",
       "from_poi_to_this_person          28.00        40.0        64.00        242.0  \n",
       "from_this_person_to_poi           1.00        12.0        21.00        609.0  \n",
       "loan_advances              22481250.00  42962500.0  63443750.00   83925000.0  \n",
       "long_term_incentive          350000.00    461912.0    974293.00   48521928.0  \n",
       "other                          1651.00     74607.0    331291.50   42667589.0  \n",
       "restricted_stock             208734.25    423547.5   1300855.00  130322299.0  \n",
       "restricted_stock_deferred   -683146.00   -223782.5    -70201.50   15456290.0  \n",
       "salary                       219613.50    272847.0    369283.00   26704229.0  \n",
       "shared_receipt_with_poi         702.00      1074.0      1604.00       5521.0  \n",
       "to_messages                     807.00      1607.0      2350.00       7991.0  \n",
       "total_payments               564348.00   1061827.0   3676340.00  309886585.0  \n",
       "total_stock_value            985366.00   1838142.0   3250301.75  434509511.0  "
      ]
     },
     "execution_count": 99,
     "metadata": {},
     "output_type": "execute_result"
    }
   ],
   "source": [
    "df_test.describe().transpose()"
   ]
  },
  {
   "cell_type": "code",
   "execution_count": 100,
   "metadata": {},
   "outputs": [],
   "source": [
    "# 檢查 DataFrame 空缺值的狀態\n",
    "def na_check(df_data):\n",
    "    data_na = (df_data.isnull().sum() / len(df_data)) * 100\n",
    "    data_na = data_na.drop(data_na[data_na == 0].index).sort_values(ascending=False)\n",
    "    missing_data = pd.DataFrame({'Missing Ratio' :data_na})\n",
    "    display(missing_data)"
   ]
  },
  {
   "cell_type": "code",
   "execution_count": 101,
   "metadata": {},
   "outputs": [
    {
     "data": {
      "text/html": [
       "<div>\n",
       "<style scoped>\n",
       "    .dataframe tbody tr th:only-of-type {\n",
       "        vertical-align: middle;\n",
       "    }\n",
       "\n",
       "    .dataframe tbody tr th {\n",
       "        vertical-align: top;\n",
       "    }\n",
       "\n",
       "    .dataframe thead th {\n",
       "        text-align: right;\n",
       "    }\n",
       "</style>\n",
       "<table border=\"1\" class=\"dataframe\">\n",
       "  <thead>\n",
       "    <tr style=\"text-align: right;\">\n",
       "      <th></th>\n",
       "      <th>Missing Ratio</th>\n",
       "    </tr>\n",
       "  </thead>\n",
       "  <tbody>\n",
       "    <tr>\n",
       "      <th>loan_advances</th>\n",
       "      <td>98.230088</td>\n",
       "    </tr>\n",
       "    <tr>\n",
       "      <th>restricted_stock_deferred</th>\n",
       "      <td>91.150442</td>\n",
       "    </tr>\n",
       "    <tr>\n",
       "      <th>director_fees</th>\n",
       "      <td>88.495575</td>\n",
       "    </tr>\n",
       "    <tr>\n",
       "      <th>deferral_payments</th>\n",
       "      <td>75.221239</td>\n",
       "    </tr>\n",
       "    <tr>\n",
       "      <th>deferred_income</th>\n",
       "      <td>69.911504</td>\n",
       "    </tr>\n",
       "    <tr>\n",
       "      <th>long_term_incentive</th>\n",
       "      <td>56.637168</td>\n",
       "    </tr>\n",
       "    <tr>\n",
       "      <th>bonus</th>\n",
       "      <td>46.017699</td>\n",
       "    </tr>\n",
       "    <tr>\n",
       "      <th>from_messages</th>\n",
       "      <td>42.477876</td>\n",
       "    </tr>\n",
       "    <tr>\n",
       "      <th>from_poi_to_this_person</th>\n",
       "      <td>42.477876</td>\n",
       "    </tr>\n",
       "    <tr>\n",
       "      <th>from_this_person_to_poi</th>\n",
       "      <td>42.477876</td>\n",
       "    </tr>\n",
       "    <tr>\n",
       "      <th>shared_receipt_with_poi</th>\n",
       "      <td>42.477876</td>\n",
       "    </tr>\n",
       "    <tr>\n",
       "      <th>to_messages</th>\n",
       "      <td>42.477876</td>\n",
       "    </tr>\n",
       "    <tr>\n",
       "      <th>other</th>\n",
       "      <td>38.938053</td>\n",
       "    </tr>\n",
       "    <tr>\n",
       "      <th>expenses</th>\n",
       "      <td>35.398230</td>\n",
       "    </tr>\n",
       "    <tr>\n",
       "      <th>salary</th>\n",
       "      <td>35.398230</td>\n",
       "    </tr>\n",
       "    <tr>\n",
       "      <th>exercised_stock_options</th>\n",
       "      <td>28.318584</td>\n",
       "    </tr>\n",
       "    <tr>\n",
       "      <th>restricted_stock</th>\n",
       "      <td>27.433628</td>\n",
       "    </tr>\n",
       "    <tr>\n",
       "      <th>email_address</th>\n",
       "      <td>26.548673</td>\n",
       "    </tr>\n",
       "    <tr>\n",
       "      <th>total_payments</th>\n",
       "      <td>15.044248</td>\n",
       "    </tr>\n",
       "    <tr>\n",
       "      <th>total_stock_value</th>\n",
       "      <td>13.274336</td>\n",
       "    </tr>\n",
       "  </tbody>\n",
       "</table>\n",
       "</div>"
      ],
      "text/plain": [
       "                           Missing Ratio\n",
       "loan_advances                  98.230088\n",
       "restricted_stock_deferred      91.150442\n",
       "director_fees                  88.495575\n",
       "deferral_payments              75.221239\n",
       "deferred_income                69.911504\n",
       "long_term_incentive            56.637168\n",
       "bonus                          46.017699\n",
       "from_messages                  42.477876\n",
       "from_poi_to_this_person        42.477876\n",
       "from_this_person_to_poi        42.477876\n",
       "shared_receipt_with_poi        42.477876\n",
       "to_messages                    42.477876\n",
       "other                          38.938053\n",
       "expenses                       35.398230\n",
       "salary                         35.398230\n",
       "exercised_stock_options        28.318584\n",
       "restricted_stock               27.433628\n",
       "email_address                  26.548673\n",
       "total_payments                 15.044248\n",
       "total_stock_value              13.274336"
      ]
     },
     "metadata": {},
     "output_type": "display_data"
    },
    {
     "data": {
      "text/html": [
       "<div>\n",
       "<style scoped>\n",
       "    .dataframe tbody tr th:only-of-type {\n",
       "        vertical-align: middle;\n",
       "    }\n",
       "\n",
       "    .dataframe tbody tr th {\n",
       "        vertical-align: top;\n",
       "    }\n",
       "\n",
       "    .dataframe thead th {\n",
       "        text-align: right;\n",
       "    }\n",
       "</style>\n",
       "<table border=\"1\" class=\"dataframe\">\n",
       "  <thead>\n",
       "    <tr style=\"text-align: right;\">\n",
       "      <th></th>\n",
       "      <th>Missing Ratio</th>\n",
       "    </tr>\n",
       "  </thead>\n",
       "  <tbody>\n",
       "    <tr>\n",
       "      <th>loan_advances</th>\n",
       "      <td>93.939394</td>\n",
       "    </tr>\n",
       "    <tr>\n",
       "      <th>director_fees</th>\n",
       "      <td>87.878788</td>\n",
       "    </tr>\n",
       "    <tr>\n",
       "      <th>restricted_stock_deferred</th>\n",
       "      <td>75.757576</td>\n",
       "    </tr>\n",
       "    <tr>\n",
       "      <th>deferral_payments</th>\n",
       "      <td>66.666667</td>\n",
       "    </tr>\n",
       "    <tr>\n",
       "      <th>deferred_income</th>\n",
       "      <td>54.545455</td>\n",
       "    </tr>\n",
       "    <tr>\n",
       "      <th>long_term_incentive</th>\n",
       "      <td>48.484848</td>\n",
       "    </tr>\n",
       "    <tr>\n",
       "      <th>from_this_person_to_poi</th>\n",
       "      <td>36.363636</td>\n",
       "    </tr>\n",
       "    <tr>\n",
       "      <th>from_poi_to_this_person</th>\n",
       "      <td>36.363636</td>\n",
       "    </tr>\n",
       "    <tr>\n",
       "      <th>exercised_stock_options</th>\n",
       "      <td>36.363636</td>\n",
       "    </tr>\n",
       "    <tr>\n",
       "      <th>from_messages</th>\n",
       "      <td>36.363636</td>\n",
       "    </tr>\n",
       "    <tr>\n",
       "      <th>bonus</th>\n",
       "      <td>36.363636</td>\n",
       "    </tr>\n",
       "    <tr>\n",
       "      <th>shared_receipt_with_poi</th>\n",
       "      <td>36.363636</td>\n",
       "    </tr>\n",
       "    <tr>\n",
       "      <th>to_messages</th>\n",
       "      <td>36.363636</td>\n",
       "    </tr>\n",
       "    <tr>\n",
       "      <th>expenses</th>\n",
       "      <td>33.333333</td>\n",
       "    </tr>\n",
       "    <tr>\n",
       "      <th>salary</th>\n",
       "      <td>33.333333</td>\n",
       "    </tr>\n",
       "    <tr>\n",
       "      <th>other</th>\n",
       "      <td>27.272727</td>\n",
       "    </tr>\n",
       "    <tr>\n",
       "      <th>restricted_stock</th>\n",
       "      <td>15.151515</td>\n",
       "    </tr>\n",
       "    <tr>\n",
       "      <th>email_address</th>\n",
       "      <td>15.151515</td>\n",
       "    </tr>\n",
       "    <tr>\n",
       "      <th>total_stock_value</th>\n",
       "      <td>15.151515</td>\n",
       "    </tr>\n",
       "    <tr>\n",
       "      <th>total_payments</th>\n",
       "      <td>12.121212</td>\n",
       "    </tr>\n",
       "  </tbody>\n",
       "</table>\n",
       "</div>"
      ],
      "text/plain": [
       "                           Missing Ratio\n",
       "loan_advances                  93.939394\n",
       "director_fees                  87.878788\n",
       "restricted_stock_deferred      75.757576\n",
       "deferral_payments              66.666667\n",
       "deferred_income                54.545455\n",
       "long_term_incentive            48.484848\n",
       "from_this_person_to_poi        36.363636\n",
       "from_poi_to_this_person        36.363636\n",
       "exercised_stock_options        36.363636\n",
       "from_messages                  36.363636\n",
       "bonus                          36.363636\n",
       "shared_receipt_with_poi        36.363636\n",
       "to_messages                    36.363636\n",
       "expenses                       33.333333\n",
       "salary                         33.333333\n",
       "other                          27.272727\n",
       "restricted_stock               15.151515\n",
       "email_address                  15.151515\n",
       "total_stock_value              15.151515\n",
       "total_payments                 12.121212"
      ]
     },
     "metadata": {},
     "output_type": "display_data"
    }
   ],
   "source": [
    "na_check(df_train)\n",
    "na_check(df_test)"
   ]
  },
  {
   "cell_type": "markdown",
   "metadata": {},
   "source": [
    "<a id='sec2.4'></a>\n",
    "#### 2.4. 缺失值填補"
   ]
  },
  {
   "cell_type": "code",
   "execution_count": 102,
   "metadata": {},
   "outputs": [],
   "source": [
    "# 付款資料\n",
    "payment_data = ['salary','bonus','long_term_incentive','deferred_income','deferral_payments','loan_advances','other'\\\n",
    "               ,'expenses','director_fees','total_payments']\n",
    "# 股票資產資料\n",
    "stock_data = ['exercised_stock_options','restricted_stock','restricted_stock_deferred',\\\n",
    "             'total_stock_value']\n",
    "# 郵件次數資料\n",
    "email_data=['from_this_person_to_poi','from_poi_to_this_person','to_messages',\\\n",
    "            'shared_receipt_with_poi','to_messages','from_messages']\n",
    "\n",
    "\n",
    "# 缺失值補0(email次數,付款資料,股票資產資料)\n",
    "df_train[num_features] = df_train[num_features].fillna(0)\n",
    "df_test[num_features] = df_test[num_features].fillna(0)"
   ]
  },
  {
   "cell_type": "code",
   "execution_count": 103,
   "metadata": {},
   "outputs": [
    {
     "data": {
      "text/html": [
       "<div>\n",
       "<style scoped>\n",
       "    .dataframe tbody tr th:only-of-type {\n",
       "        vertical-align: middle;\n",
       "    }\n",
       "\n",
       "    .dataframe tbody tr th {\n",
       "        vertical-align: top;\n",
       "    }\n",
       "\n",
       "    .dataframe thead th {\n",
       "        text-align: right;\n",
       "    }\n",
       "</style>\n",
       "<table border=\"1\" class=\"dataframe\">\n",
       "  <thead>\n",
       "    <tr style=\"text-align: right;\">\n",
       "      <th></th>\n",
       "      <th>Missing Ratio</th>\n",
       "    </tr>\n",
       "  </thead>\n",
       "  <tbody>\n",
       "    <tr>\n",
       "      <th>email_address</th>\n",
       "      <td>26.548673</td>\n",
       "    </tr>\n",
       "  </tbody>\n",
       "</table>\n",
       "</div>"
      ],
      "text/plain": [
       "               Missing Ratio\n",
       "email_address      26.548673"
      ]
     },
     "metadata": {},
     "output_type": "display_data"
    },
    {
     "data": {
      "text/html": [
       "<div>\n",
       "<style scoped>\n",
       "    .dataframe tbody tr th:only-of-type {\n",
       "        vertical-align: middle;\n",
       "    }\n",
       "\n",
       "    .dataframe tbody tr th {\n",
       "        vertical-align: top;\n",
       "    }\n",
       "\n",
       "    .dataframe thead th {\n",
       "        text-align: right;\n",
       "    }\n",
       "</style>\n",
       "<table border=\"1\" class=\"dataframe\">\n",
       "  <thead>\n",
       "    <tr style=\"text-align: right;\">\n",
       "      <th></th>\n",
       "      <th>Missing Ratio</th>\n",
       "    </tr>\n",
       "  </thead>\n",
       "  <tbody>\n",
       "    <tr>\n",
       "      <th>email_address</th>\n",
       "      <td>15.151515</td>\n",
       "    </tr>\n",
       "  </tbody>\n",
       "</table>\n",
       "</div>"
      ],
      "text/plain": [
       "               Missing Ratio\n",
       "email_address      15.151515"
      ]
     },
     "metadata": {},
     "output_type": "display_data"
    }
   ],
   "source": [
    "#顯示訓練集其中資料遺失比例(只剩email_address)\n",
    "na_check(df_train)\n",
    "na_check(df_test)"
   ]
  },
  {
   "cell_type": "markdown",
   "metadata": {},
   "source": [
    "<a id='sec2.5'></a>\n",
    "#### 2.5. 離峰值處理"
   ]
  },
  {
   "cell_type": "code",
   "execution_count": 104,
   "metadata": {},
   "outputs": [
    {
     "name": "stdout",
     "output_type": "stream",
     "text": [
      "df_train outlier\n",
      "0    112\n",
      "1      1\n",
      "Name: outlier, dtype: int64\n",
      "df_test outlier\n",
      "0    32\n",
      "1     1\n",
      "Name: outlier, dtype: int64\n"
     ]
    },
    {
     "data": {
      "image/png": "[encoded data removed]",
      "text/plain": [
       "<Figure size 864x432 with 2 Axes>"
      ]
     },
     "metadata": {
      "needs_background": "light"
     },
     "output_type": "display_data"
    }
   ],
   "source": [
    "# TOTAL 及 THE TRAVEL AGENCY IN THE PARK 是合計欄(非個人資料)，要刪除\n",
    "### Visualizing Salary v/s Balance Graphs for outlier identification\n",
    "figure, (axes1, axes2) = plt.subplots(ncols=2, figsize=(12, 6))\n",
    "\n",
    "axes1.scatter(df_train.salary, df_train.bonus)\n",
    "axes1.set_xlabel(\"Salary ($)\", fontsize=15)\n",
    "axes1.set_ylabel(\"Bonus ($)\", fontsize=15)\n",
    "axes1.set_title(\"Before Outlier Removal\", fontsize=15)\n",
    "axes1.spines['right'].set_visible(False)\n",
    "axes1.spines['top'].set_visible(False)\n",
    "\n",
    "# print('index[total]:{0}'.format(str(len(df_train[df_train.index == 'TOTAL']))))\n",
    "# print('index[THE TRAVEL AGENCY IN THE PARK]:{0}'.format(str(len(df_train[df_train.index\\\n",
    "# == 'THE TRAVEL AGENCY IN THE PARK']))))\n",
    "# # Dropping the outliers\n",
    "# outlier_set = ['TOTAL','THE TRAVEL AGENCY IN THE PARK']\n",
    "# for outle in outlier_set:\n",
    "#     if outle in df_train.index:\n",
    "#         df_train.drop([outle], axis = 0, inplace=True)        \n",
    "# print('index[total]:{0}'.format(str(len(df_train[df_train.index == 'TOTAL']))))\n",
    "# print('index[THE TRAVEL AGENCY IN THE PARK]:{0}'.format(str(len(df_train[df_train.index\\\n",
    "# == 'THE TRAVEL AGENCY IN THE PARK']))))\n",
    "# print(df_train.shape)\n",
    "\n",
    "# 離峰值增加欄位住記\n",
    "df_train['outlier']= 0\n",
    "df_test['outlier']= 0\n",
    "outlier_set = ['TOTAL','THE TRAVEL AGENCY IN THE PARK']\n",
    "for indexs in outlier_set:\n",
    "    if indexs in df_train.index:\n",
    "        df_train.loc[indexs,'outlier'] = 1\n",
    "    if indexs in df_test.index:\n",
    "        df_test.loc[indexs,'outlier'] = 1\n",
    "\n",
    "print('df_train outlier')\n",
    "print(df_train['outlier'].value_counts())\n",
    "print('df_test outlier')\n",
    "print(df_test['outlier'].value_counts())\n",
    "\n",
    "axes2.scatter(df_train.salary, df_train.bonus)\n",
    "axes2.set_xlabel(\"Salary ($)\", fontsize=15)\n",
    "axes2.set_ylabel(\"Bonus ($)\", fontsize=15)\n",
    "axes2.set_title(\"After Outlier Removal\", fontsize=15)\n",
    "axes2.spines['right'].set_visible(False)\n",
    "axes2.spines['top'].set_visible(False)\n",
    "\n",
    "figure.tight_layout()\n",
    "plt.show()\n"
   ]
  },
  {
   "cell_type": "markdown",
   "metadata": {},
   "source": [
    "<a id='sec2.6'></a>\n",
    "#### 2.6. 異常值處理"
   ]
  },
  {
   "cell_type": "code",
   "execution_count": 105,
   "metadata": {},
   "outputs": [],
   "source": [
    "#驗證資料內容前先複製一份\n",
    "dt_eval = pd.concat([df_train,df_test])"
   ]
  },
  {
   "cell_type": "code",
   "execution_count": 106,
   "metadata": {},
   "outputs": [
    {
     "name": "stdout",
     "output_type": "stream",
     "text": [
      "(2, 22)\n"
     ]
    },
    {
     "data": {
      "text/html": [
       "<div>\n",
       "<style scoped>\n",
       "    .dataframe tbody tr th:only-of-type {\n",
       "        vertical-align: middle;\n",
       "    }\n",
       "\n",
       "    .dataframe tbody tr th {\n",
       "        vertical-align: top;\n",
       "    }\n",
       "\n",
       "    .dataframe thead th {\n",
       "        text-align: right;\n",
       "    }\n",
       "</style>\n",
       "<table border=\"1\" class=\"dataframe\">\n",
       "  <thead>\n",
       "    <tr style=\"text-align: right;\">\n",
       "      <th></th>\n",
       "      <th>bonus</th>\n",
       "      <th>deferral_payments</th>\n",
       "      <th>deferred_income</th>\n",
       "      <th>director_fees</th>\n",
       "      <th>email_address</th>\n",
       "      <th>exercised_stock_options</th>\n",
       "      <th>expenses</th>\n",
       "      <th>from_messages</th>\n",
       "      <th>from_poi_to_this_person</th>\n",
       "      <th>from_this_person_to_poi</th>\n",
       "      <th>...</th>\n",
       "      <th>other</th>\n",
       "      <th>outlier</th>\n",
       "      <th>poi</th>\n",
       "      <th>restricted_stock</th>\n",
       "      <th>restricted_stock_deferred</th>\n",
       "      <th>salary</th>\n",
       "      <th>shared_receipt_with_poi</th>\n",
       "      <th>to_messages</th>\n",
       "      <th>total_payments</th>\n",
       "      <th>total_stock_value</th>\n",
       "    </tr>\n",
       "    <tr>\n",
       "      <th>name</th>\n",
       "      <th></th>\n",
       "      <th></th>\n",
       "      <th></th>\n",
       "      <th></th>\n",
       "      <th></th>\n",
       "      <th></th>\n",
       "      <th></th>\n",
       "      <th></th>\n",
       "      <th></th>\n",
       "      <th></th>\n",
       "      <th></th>\n",
       "      <th></th>\n",
       "      <th></th>\n",
       "      <th></th>\n",
       "      <th></th>\n",
       "      <th></th>\n",
       "      <th></th>\n",
       "      <th></th>\n",
       "      <th></th>\n",
       "      <th></th>\n",
       "      <th></th>\n",
       "    </tr>\n",
       "  </thead>\n",
       "  <tbody>\n",
       "    <tr>\n",
       "      <th>BELFER ROBERT</th>\n",
       "      <td>0.0</td>\n",
       "      <td>-102500.0</td>\n",
       "      <td>0.0</td>\n",
       "      <td>3285.0</td>\n",
       "      <td>NaN</td>\n",
       "      <td>3285.0</td>\n",
       "      <td>0.0</td>\n",
       "      <td>0.0</td>\n",
       "      <td>0.0</td>\n",
       "      <td>0.0</td>\n",
       "      <td>...</td>\n",
       "      <td>0.0</td>\n",
       "      <td>0</td>\n",
       "      <td>0.0</td>\n",
       "      <td>0.0</td>\n",
       "      <td>44093.0</td>\n",
       "      <td>0.0</td>\n",
       "      <td>0.0</td>\n",
       "      <td>0.0</td>\n",
       "      <td>102500.0</td>\n",
       "      <td>-44093.0</td>\n",
       "    </tr>\n",
       "    <tr>\n",
       "      <th>BHATNAGAR SANJAY</th>\n",
       "      <td>0.0</td>\n",
       "      <td>0.0</td>\n",
       "      <td>0.0</td>\n",
       "      <td>137864.0</td>\n",
       "      <td>sanjay.bhatnagar@enron.com</td>\n",
       "      <td>2604490.0</td>\n",
       "      <td>0.0</td>\n",
       "      <td>29.0</td>\n",
       "      <td>0.0</td>\n",
       "      <td>1.0</td>\n",
       "      <td>...</td>\n",
       "      <td>137864.0</td>\n",
       "      <td>0</td>\n",
       "      <td>NaN</td>\n",
       "      <td>-2604490.0</td>\n",
       "      <td>15456290.0</td>\n",
       "      <td>0.0</td>\n",
       "      <td>463.0</td>\n",
       "      <td>523.0</td>\n",
       "      <td>15456290.0</td>\n",
       "      <td>0.0</td>\n",
       "    </tr>\n",
       "  </tbody>\n",
       "</table>\n",
       "<p>2 rows × 22 columns</p>\n",
       "</div>"
      ],
      "text/plain": [
       "                  bonus  deferral_payments  deferred_income  director_fees  \\\n",
       "name                                                                         \n",
       "BELFER ROBERT       0.0          -102500.0              0.0         3285.0   \n",
       "BHATNAGAR SANJAY    0.0                0.0              0.0       137864.0   \n",
       "\n",
       "                               email_address  exercised_stock_options  \\\n",
       "name                                                                    \n",
       "BELFER ROBERT                            NaN                   3285.0   \n",
       "BHATNAGAR SANJAY  sanjay.bhatnagar@enron.com                2604490.0   \n",
       "\n",
       "                  expenses  from_messages  from_poi_to_this_person  \\\n",
       "name                                                                 \n",
       "BELFER ROBERT          0.0            0.0                      0.0   \n",
       "BHATNAGAR SANJAY       0.0           29.0                      0.0   \n",
       "\n",
       "                  from_this_person_to_poi  ...     other  outlier  poi  \\\n",
       "name                                       ...                           \n",
       "BELFER ROBERT                         0.0  ...       0.0        0  0.0   \n",
       "BHATNAGAR SANJAY                      1.0  ...  137864.0        0  NaN   \n",
       "\n",
       "                  restricted_stock  restricted_stock_deferred  salary  \\\n",
       "name                                                                    \n",
       "BELFER ROBERT                  0.0                    44093.0     0.0   \n",
       "BHATNAGAR SANJAY        -2604490.0                 15456290.0     0.0   \n",
       "\n",
       "                  shared_receipt_with_poi  to_messages  total_payments  \\\n",
       "name                                                                     \n",
       "BELFER ROBERT                         0.0          0.0        102500.0   \n",
       "BHATNAGAR SANJAY                    463.0        523.0      15456290.0   \n",
       "\n",
       "                  total_stock_value  \n",
       "name                                 \n",
       "BELFER ROBERT              -44093.0  \n",
       "BHATNAGAR SANJAY                0.0  \n",
       "\n",
       "[2 rows x 22 columns]"
      ]
     },
     "execution_count": 106,
     "metadata": {},
     "output_type": "execute_result"
    }
   ],
   "source": [
    "# 計算付款資料合理性\n",
    "errors = (dt_eval[dt_eval[payment_data[:-1]].sum(axis='columns') !=dt_eval['total_payments']])\n",
    "print(errors.shape)\n",
    "errors"
   ]
  },
  {
   "cell_type": "code",
   "execution_count": 107,
   "metadata": {},
   "outputs": [
    {
     "name": "stdout",
     "output_type": "stream",
     "text": [
      "(2, 22)\n"
     ]
    },
    {
     "data": {
      "text/html": [
       "<div>\n",
       "<style scoped>\n",
       "    .dataframe tbody tr th:only-of-type {\n",
       "        vertical-align: middle;\n",
       "    }\n",
       "\n",
       "    .dataframe tbody tr th {\n",
       "        vertical-align: top;\n",
       "    }\n",
       "\n",
       "    .dataframe thead th {\n",
       "        text-align: right;\n",
       "    }\n",
       "</style>\n",
       "<table border=\"1\" class=\"dataframe\">\n",
       "  <thead>\n",
       "    <tr style=\"text-align: right;\">\n",
       "      <th></th>\n",
       "      <th>bonus</th>\n",
       "      <th>deferral_payments</th>\n",
       "      <th>deferred_income</th>\n",
       "      <th>director_fees</th>\n",
       "      <th>email_address</th>\n",
       "      <th>exercised_stock_options</th>\n",
       "      <th>expenses</th>\n",
       "      <th>from_messages</th>\n",
       "      <th>from_poi_to_this_person</th>\n",
       "      <th>from_this_person_to_poi</th>\n",
       "      <th>...</th>\n",
       "      <th>other</th>\n",
       "      <th>outlier</th>\n",
       "      <th>poi</th>\n",
       "      <th>restricted_stock</th>\n",
       "      <th>restricted_stock_deferred</th>\n",
       "      <th>salary</th>\n",
       "      <th>shared_receipt_with_poi</th>\n",
       "      <th>to_messages</th>\n",
       "      <th>total_payments</th>\n",
       "      <th>total_stock_value</th>\n",
       "    </tr>\n",
       "    <tr>\n",
       "      <th>name</th>\n",
       "      <th></th>\n",
       "      <th></th>\n",
       "      <th></th>\n",
       "      <th></th>\n",
       "      <th></th>\n",
       "      <th></th>\n",
       "      <th></th>\n",
       "      <th></th>\n",
       "      <th></th>\n",
       "      <th></th>\n",
       "      <th></th>\n",
       "      <th></th>\n",
       "      <th></th>\n",
       "      <th></th>\n",
       "      <th></th>\n",
       "      <th></th>\n",
       "      <th></th>\n",
       "      <th></th>\n",
       "      <th></th>\n",
       "      <th></th>\n",
       "      <th></th>\n",
       "    </tr>\n",
       "  </thead>\n",
       "  <tbody>\n",
       "    <tr>\n",
       "      <th>BELFER ROBERT</th>\n",
       "      <td>0.0</td>\n",
       "      <td>-102500.0</td>\n",
       "      <td>0.0</td>\n",
       "      <td>3285.0</td>\n",
       "      <td>NaN</td>\n",
       "      <td>3285.0</td>\n",
       "      <td>0.0</td>\n",
       "      <td>0.0</td>\n",
       "      <td>0.0</td>\n",
       "      <td>0.0</td>\n",
       "      <td>...</td>\n",
       "      <td>0.0</td>\n",
       "      <td>0</td>\n",
       "      <td>0.0</td>\n",
       "      <td>0.0</td>\n",
       "      <td>44093.0</td>\n",
       "      <td>0.0</td>\n",
       "      <td>0.0</td>\n",
       "      <td>0.0</td>\n",
       "      <td>102500.0</td>\n",
       "      <td>-44093.0</td>\n",
       "    </tr>\n",
       "    <tr>\n",
       "      <th>BHATNAGAR SANJAY</th>\n",
       "      <td>0.0</td>\n",
       "      <td>0.0</td>\n",
       "      <td>0.0</td>\n",
       "      <td>137864.0</td>\n",
       "      <td>sanjay.bhatnagar@enron.com</td>\n",
       "      <td>2604490.0</td>\n",
       "      <td>0.0</td>\n",
       "      <td>29.0</td>\n",
       "      <td>0.0</td>\n",
       "      <td>1.0</td>\n",
       "      <td>...</td>\n",
       "      <td>137864.0</td>\n",
       "      <td>0</td>\n",
       "      <td>NaN</td>\n",
       "      <td>-2604490.0</td>\n",
       "      <td>15456290.0</td>\n",
       "      <td>0.0</td>\n",
       "      <td>463.0</td>\n",
       "      <td>523.0</td>\n",
       "      <td>15456290.0</td>\n",
       "      <td>0.0</td>\n",
       "    </tr>\n",
       "  </tbody>\n",
       "</table>\n",
       "<p>2 rows × 22 columns</p>\n",
       "</div>"
      ],
      "text/plain": [
       "                  bonus  deferral_payments  deferred_income  director_fees  \\\n",
       "name                                                                         \n",
       "BELFER ROBERT       0.0          -102500.0              0.0         3285.0   \n",
       "BHATNAGAR SANJAY    0.0                0.0              0.0       137864.0   \n",
       "\n",
       "                               email_address  exercised_stock_options  \\\n",
       "name                                                                    \n",
       "BELFER ROBERT                            NaN                   3285.0   \n",
       "BHATNAGAR SANJAY  sanjay.bhatnagar@enron.com                2604490.0   \n",
       "\n",
       "                  expenses  from_messages  from_poi_to_this_person  \\\n",
       "name                                                                 \n",
       "BELFER ROBERT          0.0            0.0                      0.0   \n",
       "BHATNAGAR SANJAY       0.0           29.0                      0.0   \n",
       "\n",
       "                  from_this_person_to_poi  ...     other  outlier  poi  \\\n",
       "name                                       ...                           \n",
       "BELFER ROBERT                         0.0  ...       0.0        0  0.0   \n",
       "BHATNAGAR SANJAY                      1.0  ...  137864.0        0  NaN   \n",
       "\n",
       "                  restricted_stock  restricted_stock_deferred  salary  \\\n",
       "name                                                                    \n",
       "BELFER ROBERT                  0.0                    44093.0     0.0   \n",
       "BHATNAGAR SANJAY        -2604490.0                 15456290.0     0.0   \n",
       "\n",
       "                  shared_receipt_with_poi  to_messages  total_payments  \\\n",
       "name                                                                     \n",
       "BELFER ROBERT                         0.0          0.0        102500.0   \n",
       "BHATNAGAR SANJAY                    463.0        523.0      15456290.0   \n",
       "\n",
       "                  total_stock_value  \n",
       "name                                 \n",
       "BELFER ROBERT              -44093.0  \n",
       "BHATNAGAR SANJAY                0.0  \n",
       "\n",
       "[2 rows x 22 columns]"
      ]
     },
     "execution_count": 107,
     "metadata": {},
     "output_type": "execute_result"
    }
   ],
   "source": [
    "# 計算股票資產資料合理性\n",
    "errors = (dt_eval[dt_eval[stock_data[:-1]].sum(axis='columns') !=dt_eval['total_stock_value']])\n",
    "print(errors.shape)\n",
    "errors"
   ]
  },
  {
   "cell_type": "code",
   "execution_count": 108,
   "metadata": {},
   "outputs": [
    {
     "name": "stdout",
     "output_type": "stream",
     "text": [
      "1\n",
      "1\n",
      "find BELFER ROBERT !\n",
      "0\n",
      "0\n"
     ]
    }
   ],
   "source": [
    "# 查看有問題的兩筆資料，發現資料位移\n",
    "# 處理訓練集\n",
    "# Check for any more errors with the payment data\n",
    "print(len(df_train[df_train[payment_data[:-1]].sum(axis='columns') !=df_train['total_payments']]))\n",
    "# Check for any errors with the stock data\n",
    "print(len(df_train[df_train[stock_data[:-1]].sum(axis='columns') !=df_train['total_stock_value']]))\n",
    "\n",
    "payment_len = df_train[payment_data[:-1]].shape[1]\n",
    "stock_len = df_train[stock_data[:-1]].shape[1]\n",
    "\n",
    "# 'BELFER ROBERT' 資料發現左移,向右SHIFT\n",
    "key_name = 'BELFER ROBERT'\n",
    "key_name in df_train.index\n",
    "if key_name in df_train.index:\n",
    "    print('find {0} !'.format(str(key_name)))\n",
    "    for i in range(payment_len):\n",
    "        df_train.loc[key_name,payment_data[i]] = df_train.loc[key_name,payment_data[i+1]]\n",
    "    df_train.loc[key_name,payment_data[payment_len]] = df_train.loc[key_name,stock_data[0]]\n",
    "\n",
    "    for i in range(stock_len):\n",
    "        df_train.loc[key_name,stock_data[i]] = float(df_train.loc[key_name,stock_data[i+1]])\n",
    "    df_train.loc[key_name,stock_data[stock_len]] = 0\n",
    "\n",
    "\n",
    "# 'BHATNAGAR SANJAY' 資料發現右移,向左SHIFT\n",
    "key_name = 'BHATNAGAR SANJAY'\n",
    "if key_name in df_train.index:\n",
    "    print('find {0} !'.format(str(key_name)))\n",
    "    for i in np.arange(1,stock_len+1)[::-1]:\n",
    "        df_train.loc[key_name,stock_data[i]] = float(df_train.loc[key_name,stock_data[i-1]])\n",
    "    df_train.loc[key_name,stock_data[0]] = df_train.loc[key_name,payment_data[payment_len]]\n",
    "\n",
    "    for i in np.arange(1,payment_len+1)[::-1]:\n",
    "        df_train.loc[key_name,payment_data[i]] = df_train.loc[key_name,payment_data[i-1]]\n",
    "    df_train.loc[key_name,payment_data[0]] = 0\n",
    "\n",
    "# Check for any more errors with the payment data\n",
    "print(len(df_train[df_train[payment_data[:-1]].sum(axis='columns') !=df_train['total_payments']]))\n",
    "# Check for any errors with the stock data\n",
    "print(len(df_train[df_train[stock_data[:-1]].sum(axis='columns') !=df_train['total_stock_value']]))"
   ]
  },
  {
   "cell_type": "code",
   "execution_count": 109,
   "metadata": {},
   "outputs": [
    {
     "name": "stdout",
     "output_type": "stream",
     "text": [
      "1\n",
      "1\n",
      "find BHATNAGAR SANJAY !\n",
      "0\n",
      "0\n"
     ]
    }
   ],
   "source": [
    "# 查看有問題的兩筆資料，發現資料位移\n",
    "# 處理測試集\n",
    "# Check for any more errors with the payment data\n",
    "print(len(df_test[df_test[payment_data[:-1]].sum(axis='columns') !=df_test['total_payments']]))\n",
    "# Check for any errors with the stock data\n",
    "print(len(df_test[df_test[stock_data[:-1]].sum(axis='columns') !=df_test['total_stock_value']]))\n",
    "\n",
    "payment_len = df_test[payment_data[:-1]].shape[1]\n",
    "stock_len = df_test[stock_data[:-1]].shape[1]\n",
    "\n",
    "# 'BELFER ROBERT' 資料發現左移,向右SHIFT\n",
    "key_name = 'BELFER ROBERT'\n",
    "key_name in df_test.index\n",
    "if key_name in df_test.index:\n",
    "    print('find {0} !'.format(str(key_name)))\n",
    "    for i in range(payment_len):\n",
    "        df_test.loc[key_name,payment_data[i]] = df_test.loc[key_name,payment_data[i+1]]\n",
    "    df_test.loc[key_name,payment_data[payment_len]] = df_test.loc[key_name,stock_data[0]]\n",
    "\n",
    "    for i in range(stock_len):\n",
    "        df_test.loc[key_name,stock_data[i]] = float(df_test.loc[key_name,stock_data[i+1]])\n",
    "    df_test.loc[key_name,stock_data[stock_len]] = 0\n",
    "\n",
    "\n",
    "# 'BHATNAGAR SANJAY' 資料發現右移,向左SHIFT\n",
    "key_name = 'BHATNAGAR SANJAY'\n",
    "if key_name in df_test.index:\n",
    "    print('find {0} !'.format(str(key_name)))\n",
    "    for i in np.arange(1,stock_len+1)[::-1]:\n",
    "        df_test.loc[key_name,stock_data[i]] = float(df_test.loc[key_name,stock_data[i-1]])\n",
    "    df_test.loc[key_name,stock_data[0]] = df_test.loc[key_name,payment_data[payment_len]]\n",
    "\n",
    "    for i in np.arange(1,payment_len+1)[::-1]:\n",
    "        df_test.loc[key_name,payment_data[i]] = df_test.loc[key_name,payment_data[i-1]]\n",
    "    df_test.loc[key_name,payment_data[0]] = 0\n",
    "\n",
    "# Check for any more errors with the payment data\n",
    "print(len(df_test[df_test[payment_data[:-1]].sum(axis='columns') !=df_test['total_payments']]))\n",
    "# Check for any errors with the stock data\n",
    "print(len(df_test[df_test[stock_data[:-1]].sum(axis='columns') !=df_test['total_stock_value']]))"
   ]
  },
  {
   "cell_type": "code",
   "execution_count": 110,
   "metadata": {},
   "outputs": [
    {
     "name": "stdout",
     "output_type": "stream",
     "text": [
      "column [from_this_person_to_poi] pass!\n",
      "column [from_poi_to_this_person] pass!\n",
      "column [to_messages] pass!\n",
      "column [shared_receipt_with_poi] pass!\n",
      "column [to_messages] pass!\n",
      "column [from_messages] pass!\n"
     ]
    }
   ],
   "source": [
    "# 檢查次數項目是否為正整數(大於等於0)\n",
    "for col_name in email_data:    \n",
    "    if all(dt_eval[col_name].dropna().unique()>=0):\n",
    "        print('column [{0}] pass!'.format(col_name))        \n",
    "    else:\n",
    "        print('column [{0}] fail!'.format(col_name))\n",
    "        print(dt_eval[col_name].dropna().unique())"
   ]
  },
  {
   "cell_type": "markdown",
   "metadata": {},
   "source": [
    "<a id='sec2.7'></a>\n",
    "#### 2.7. 資料檢查"
   ]
  },
  {
   "cell_type": "code",
   "execution_count": 111,
   "metadata": {},
   "outputs": [
    {
     "data": {
      "text/html": [
       "<div>\n",
       "<style scoped>\n",
       "    .dataframe tbody tr th:only-of-type {\n",
       "        vertical-align: middle;\n",
       "    }\n",
       "\n",
       "    .dataframe tbody tr th {\n",
       "        vertical-align: top;\n",
       "    }\n",
       "\n",
       "    .dataframe thead th {\n",
       "        text-align: right;\n",
       "    }\n",
       "</style>\n",
       "<table border=\"1\" class=\"dataframe\">\n",
       "  <thead>\n",
       "    <tr style=\"text-align: right;\">\n",
       "      <th></th>\n",
       "      <th>Missing Ratio</th>\n",
       "    </tr>\n",
       "  </thead>\n",
       "  <tbody>\n",
       "    <tr>\n",
       "      <th>email_address</th>\n",
       "      <td>26.548673</td>\n",
       "    </tr>\n",
       "  </tbody>\n",
       "</table>\n",
       "</div>"
      ],
      "text/plain": [
       "               Missing Ratio\n",
       "email_address      26.548673"
      ]
     },
     "metadata": {},
     "output_type": "display_data"
    },
    {
     "data": {
      "text/html": [
       "<div>\n",
       "<style scoped>\n",
       "    .dataframe tbody tr th:only-of-type {\n",
       "        vertical-align: middle;\n",
       "    }\n",
       "\n",
       "    .dataframe tbody tr th {\n",
       "        vertical-align: top;\n",
       "    }\n",
       "\n",
       "    .dataframe thead th {\n",
       "        text-align: right;\n",
       "    }\n",
       "</style>\n",
       "<table border=\"1\" class=\"dataframe\">\n",
       "  <thead>\n",
       "    <tr style=\"text-align: right;\">\n",
       "      <th></th>\n",
       "      <th>Missing Ratio</th>\n",
       "    </tr>\n",
       "  </thead>\n",
       "  <tbody>\n",
       "    <tr>\n",
       "      <th>email_address</th>\n",
       "      <td>15.151515</td>\n",
       "    </tr>\n",
       "  </tbody>\n",
       "</table>\n",
       "</div>"
      ],
      "text/plain": [
       "               Missing Ratio\n",
       "email_address      15.151515"
      ]
     },
     "metadata": {},
     "output_type": "display_data"
    }
   ],
   "source": [
    "#顯示訓練集與測試集其中資料遺失比例(只剩email_address)\n",
    "na_check(df_train)\n",
    "na_check(df_test)"
   ]
  },
  {
   "cell_type": "markdown",
   "metadata": {},
   "source": [
    "<a id='sec3'></a>\n",
    "### 3.特徵工程\n",
    "**Note:** the initial approach was to split the dataset and to build out new features from the test data. However, since the 'poi_id.py' suggested by Udacity splits the data only after the feature engineering, we will then use the original dataset, splitting it up only before machine learning training."
   ]
  },
  {
   "cell_type": "markdown",
   "metadata": {},
   "source": [
    "<a id='sec3.1'></a>\n",
    "#### 3.1. 特徵分析\n",
    "Considering feature extraction, high correlated variables usually are useless for machine learning classification. In this case, it's better to use uncorrelated variables as features, in the way they are orthogonal to each other and so brings on different information aspects from data.  \n",
    "\n",
    "To check which features are correlated or not we will then use a method from pandas library (http://pandas.pydata.org/pandas-docs/version/0.22/generated/pandas.DataFrame.corr.html) and show it through a heatmap to make easier the visualization, as follow:"
   ]
  },
  {
   "cell_type": "code",
   "execution_count": 112,
   "metadata": {},
   "outputs": [
    {
     "data": {
      "image/png": "[encoded data removed]",
      "text/plain": [
       "<Figure size 1008x720 with 2 Axes>"
      ]
     },
     "metadata": {
      "needs_background": "light"
     },
     "output_type": "display_data"
    }
   ],
   "source": [
    "#繪製熱點圖\n",
    "## Calculating the correlation among features by Pearson method\n",
    "correlationDataframe = df_train[allFeatures].corr()\n",
    "\n",
    "# Drawing a heatmap with the numeric values in each cell\n",
    "fig1, ax = plt.subplots(figsize=(14,10))\n",
    "fig1.subplots_adjust(top=.945)\n",
    "plt.suptitle('Features correlation from the Enron POI dataset', fontsize=14, fontweight='bold')\n",
    "\n",
    "cbar_kws = {'orientation':\"vertical\", 'pad':0.025, 'aspect':70}\n",
    "sns.heatmap(correlationDataframe, annot=True, fmt='.2f', linewidths=.3, ax=ax, cbar_kws=cbar_kws);"
   ]
  },
  {
   "cell_type": "markdown",
   "metadata": {},
   "source": [
    "<a id='sec3.2'></a>\n",
    "#### 3.2. 特徵選擇\n",
    "Since the financial features are highly correlated, as seen above, we will now apply PCA to generate an only one new feature from them. "
   ]
  },
  {
   "cell_type": "code",
   "execution_count": 113,
   "metadata": {},
   "outputs": [],
   "source": [
    "from sklearn.decomposition import PCA"
   ]
  },
  {
   "cell_type": "code",
   "execution_count": 114,
   "metadata": {},
   "outputs": [
    {
     "data": {
      "text/plain": [
       "['salary',\n",
       " 'bonus',\n",
       " 'exercised_stock_options',\n",
       " 'restricted_stock',\n",
       " 'shared_receipt_with_poi',\n",
       " 'total_payments',\n",
       " 'expenses',\n",
       " 'total_stock_value',\n",
       " 'deferred_income',\n",
       " 'long_term_incentive']"
      ]
     },
     "execution_count": 114,
     "metadata": {},
     "output_type": "execute_result"
    }
   ],
   "source": [
    "## Listing the financial features\n",
    "financialFeatures"
   ]
  },
  {
   "cell_type": "code",
   "execution_count": 115,
   "metadata": {},
   "outputs": [
    {
     "data": {
      "text/plain": [
       "PCA(copy=True, iterated_power='auto', n_components=1, random_state=None,\n",
       "    svd_solver='auto', tol=0.0, whiten=False)"
      ]
     },
     "execution_count": 115,
     "metadata": {},
     "output_type": "execute_result"
    }
   ],
   "source": [
    "## Defining only one resulting component:\n",
    "pca = PCA(n_components=1)\n",
    "pca.fit(df_train[financialFeatures])"
   ]
  },
  {
   "cell_type": "code",
   "execution_count": 116,
   "metadata": {},
   "outputs": [
    {
     "data": {
      "image/png": "[encoded data removed]",
      "text/plain": [
       "<Figure size 402.375x360 with 6 Axes>"
      ]
     },
     "metadata": {
      "needs_background": "light"
     },
     "output_type": "display_data"
    },
    {
     "data": {
      "image/png": "[encoded data removed]",
      "text/plain": [
       "<Figure size 402.375x360 with 6 Axes>"
      ]
     },
     "metadata": {
      "needs_background": "light"
     },
     "output_type": "display_data"
    }
   ],
   "source": [
    "pcaComponents = pca.fit_transform(df_train[financialFeatures])\n",
    "df_train['financial'] = pcaComponents\n",
    "sns.pairplot(df_train,hue='poi',vars=['salary','bonus'], diag_kind='kde');\n",
    "sns.pairplot(df_train,hue='poi',vars=['salary','financial'], diag_kind='kde');"
   ]
  },
  {
   "cell_type": "code",
   "execution_count": 117,
   "metadata": {},
   "outputs": [],
   "source": [
    "pcaComponents = pca.fit_transform(df_test[financialFeatures])\n",
    "df_test['financial'] = pcaComponents"
   ]
  },
  {
   "cell_type": "code",
   "execution_count": 118,
   "metadata": {},
   "outputs": [],
   "source": [
    "## Adding up the new 'financial' feature to the 'allFeatures' list:\n",
    "allFeatures.append('financial')\n",
    "financialFeatures.append('financial')\n",
    "allFeatures.append('outlier')\n",
    "financialFeatures.append('outlier')"
   ]
  },
  {
   "cell_type": "code",
   "execution_count": 119,
   "metadata": {},
   "outputs": [
    {
     "data": {
      "text/plain": [
       "['salary',\n",
       " 'bonus',\n",
       " 'exercised_stock_options',\n",
       " 'restricted_stock',\n",
       " 'shared_receipt_with_poi',\n",
       " 'total_payments',\n",
       " 'expenses',\n",
       " 'total_stock_value',\n",
       " 'deferred_income',\n",
       " 'long_term_incentive',\n",
       " 'to_messages',\n",
       " 'from_messages',\n",
       " 'from_poi_to_this_person',\n",
       " 'from_this_person_to_poi',\n",
       " 'other',\n",
       " 'financial',\n",
       " 'outlier']"
      ]
     },
     "execution_count": 119,
     "metadata": {},
     "output_type": "execute_result"
    }
   ],
   "source": [
    "allFeatures"
   ]
  },
  {
   "cell_type": "markdown",
   "metadata": {},
   "source": [
    "The code below is based on the example available in http://scikit-learn.org/stable/auto_examples/feature_selection/plot_feature_selection.html#sphx-glr-auto-examples-feature-selection-plot-feature-selection-py, in which an univariate feature selection is applied. "
   ]
  },
  {
   "cell_type": "code",
   "execution_count": 120,
   "metadata": {},
   "outputs": [
    {
     "data": {
      "text/plain": [
       "SelectPercentile(percentile=5,\n",
       "                 score_func=<function f_classif at 0x000000000D4A3708>)"
      ]
     },
     "execution_count": 120,
     "metadata": {},
     "output_type": "execute_result"
    }
   ],
   "source": [
    "from sklearn.feature_selection import SelectPercentile, f_classif\n",
    "\n",
    "selectorDataset = df_train[financialFeatures]\n",
    "selectorLabel = df_train['poi']\n",
    "\n",
    "# #############################################################################\n",
    "# Univariate feature selection with F-test for feature scoring\n",
    "# We use the default selection function: the 5% most significant features\n",
    "selector = SelectPercentile(f_classif, percentile=5)\n",
    "selector.fit(selectorDataset, selectorLabel)"
   ]
  },
  {
   "cell_type": "code",
   "execution_count": 121,
   "metadata": {},
   "outputs": [
    {
     "data": {
      "text/plain": [
       "<BarContainer object of 12 artists>"
      ]
     },
     "execution_count": 121,
     "metadata": {},
     "output_type": "execute_result"
    },
    {
     "data": {
      "image/png": "[encoded data removed]",
      "text/plain": [
       "<Figure size 432x288 with 1 Axes>"
      ]
     },
     "metadata": {
      "needs_background": "light"
     },
     "output_type": "display_data"
    }
   ],
   "source": [
    "## Plotting the features selection: \n",
    "X_indices = np.arange(selectorDataset.shape[-1])\n",
    "scores = -np.log10(selector.pvalues_)\n",
    "scores /= scores.max()\n",
    "plt.bar(X_indices, scores, width=.2,\n",
    "        label=r'Univariate score ($-Log(p_{value})$)', color='darkorange',\n",
    "        edgecolor='black')"
   ]
  },
  {
   "cell_type": "code",
   "execution_count": 122,
   "metadata": {},
   "outputs": [
    {
     "data": {
      "text/plain": [
       "12"
      ]
     },
     "execution_count": 122,
     "metadata": {},
     "output_type": "execute_result"
    }
   ],
   "source": [
    "len(scores)"
   ]
  },
  {
   "cell_type": "code",
   "execution_count": 123,
   "metadata": {},
   "outputs": [
    {
     "name": "stdout",
     "output_type": "stream",
     "text": [
      "salary :  0.7023228093091374\n",
      "bonus :  0.4037437978084236\n",
      "exercised_stock_options :  1.0\n",
      "restricted_stock :  0.3731972499945856\n",
      "shared_receipt_with_poi :  0.11078453107585005\n",
      "total_payments :  0.377324720020806\n",
      "expenses :  0.31801380695678655\n",
      "total_stock_value :  0.9346874215457623\n",
      "deferred_income :  0.2519893798095256\n",
      "long_term_incentive :  0.24491760886073027\n",
      "financial :  0.6926552173613756\n",
      "outlier :  0.020714147793199734\n"
     ]
    }
   ],
   "source": [
    "## Printing out the selected financial features: \n",
    "selectedFeatures = []  #'poi' must be the first one due to the evaluation methods defined by Udacity.\n",
    "for ix, pval in enumerate(scores):\n",
    "    print(financialFeatures[ix],': ',pval)\n",
    "    if (pval >= 0.45):\n",
    "        selectedFeatures.append(financialFeatures[ix])"
   ]
  },
  {
   "cell_type": "code",
   "execution_count": 124,
   "metadata": {},
   "outputs": [
    {
     "data": {
      "text/plain": [
       "['salary', 'exercised_stock_options', 'total_stock_value', 'financial']"
      ]
     },
     "execution_count": 124,
     "metadata": {},
     "output_type": "execute_result"
    }
   ],
   "source": [
    "selectedFeatures"
   ]
  },
  {
   "cell_type": "markdown",
   "metadata": {},
   "source": [
    "##### Alternative feature selection\n",
    "Since the PCA applied to the financial features creates a new variable ('financial') which contains the most important components of the others, one alternative is to append it to the behavioral features selected before, in what we call *strategicFeatures*. In the next sections we will evaluate the performance of applying machine learning in this two classes of features."
   ]
  },
  {
   "cell_type": "code",
   "execution_count": 125,
   "metadata": {},
   "outputs": [],
   "source": [
    "strategicFeatures = behavioralFeatures + ['financial']"
   ]
  },
  {
   "cell_type": "code",
   "execution_count": 126,
   "metadata": {},
   "outputs": [
    {
     "data": {
      "text/plain": [
       "['to_messages',\n",
       " 'from_messages',\n",
       " 'from_poi_to_this_person',\n",
       " 'from_this_person_to_poi',\n",
       " 'other',\n",
       " 'financial']"
      ]
     },
     "execution_count": 126,
     "metadata": {},
     "output_type": "execute_result"
    }
   ],
   "source": [
    "strategicFeatures"
   ]
  },
  {
   "cell_type": "markdown",
   "metadata": {},
   "source": [
    "<a id='sec3.3'></a>\n",
    "#### 3.3. 特徵縮放\n",
    "Besides some of the machine learning algorithms chosen for this analysis (Naive Bayes and Adaboost) are invariant to feature scaling (Ref: https://stats.stackexchange.com/questions/244507/what-algorithms-need-feature-scaling-beside-from-svm), since we are also interested in using SVM it is important to apply feature scaling in our dataset. Furthermore, the \"strategicFeatures\" mixes two types of data, the financial data from PCA and the behavioral data from the number of emails sent."
   ]
  },
  {
   "cell_type": "code",
   "execution_count": 127,
   "metadata": {},
   "outputs": [],
   "source": [
    "from sklearn.preprocessing import MinMaxScaler\n",
    "\n",
    "scaler = MinMaxScaler()\n",
    "scaler.fit(df_train[allFeatures])\n",
    "df_train[allFeatures] = scaler.transform(df_train[allFeatures])\n",
    "df_test[allFeatures] = scaler.transform(df_test[allFeatures])"
   ]
  },
  {
   "cell_type": "code",
   "execution_count": 128,
   "metadata": {},
   "outputs": [
    {
     "name": "stdout",
     "output_type": "stream",
     "text": [
      "113\n"
     ]
    }
   ],
   "source": [
    "## Converting back the pandas Dataframe to the dictionary structure, in order to use the Udacity evaluating code.\n",
    "my_dataset = df_train.to_dict(orient='index')\n",
    "features_list = ['poi'] + selectedFeatures\n",
    "#features_list = strategicFeatures\n",
    "\n",
    "### Extract features and labels from dataset for local testing\n",
    "data = featureFormat(my_dataset, features_list, sort_keys = True)\n",
    "labels, features = targetFeatureSplit(data)\n",
    "test_X = df_test[selectedFeatures].values.tolist()\n",
    "print(len(my_dataset))"
   ]
  },
  {
   "cell_type": "markdown",
   "metadata": {},
   "source": [
    "<a id='sec4'></a>\n",
    "### 4. 套用模型"
   ]
  },
  {
   "cell_type": "markdown",
   "metadata": {},
   "source": [
    "#### Pick up an Algorithm(選擇模型)\n",
    "\n",
    "Different algorithms were attempted using the above mentioned feature list.\n",
    "I tried **Decision Tree Classifier**, **Random Forest Classifier**, **Ada Boost Classifier**, **Gaussian Naive Bayes**, **K-Nearest Neighbors**"
   ]
  },
  {
   "cell_type": "code",
   "execution_count": 129,
   "metadata": {},
   "outputs": [],
   "source": [
    "# Splitting up the data\n",
    "features_train, features_test, labels_train, labels_test = \\\n",
    "    train_test_split(features, labels, test_size=0.3, random_state=42)"
   ]
  },
  {
   "cell_type": "code",
   "execution_count": 130,
   "metadata": {},
   "outputs": [],
   "source": [
    "## Defining an evaluation metric based on (http://scikit-learn.org/stable/modules/model_evaluation.html)\n",
    "from sklearn.metrics import classification_report\n",
    "def evaluateClassif(clf):\n",
    "    classes=['Non-POI','POI']  ## Defining the classes labels\n",
    "    predTrain = clf.predict(features_train)\n",
    "    print('################### Training data ##################')\n",
    "    print(classification_report(labels_train, predTrain, target_names=classes))\n",
    "    \n",
    "    predTest = clf.predict(features_test)\n",
    "    print('################### Testing data ###################')\n",
    "    print(classification_report(labels_test, predTest, target_names=classes))\n",
    "    \n",
    "    return"
   ]
  },
  {
   "cell_type": "markdown",
   "metadata": {},
   "source": [
    "<a id='sec4.1'></a>\n",
    "#### 4.1. Naive Bayes classifier"
   ]
  },
  {
   "cell_type": "code",
   "execution_count": 131,
   "metadata": {},
   "outputs": [],
   "source": [
    "nb = GaussianNB()\n",
    "nb_parameters = {}"
   ]
  },
  {
   "cell_type": "code",
   "execution_count": 132,
   "metadata": {},
   "outputs": [
    {
     "data": {
      "text/plain": [
       "GridSearchCV(cv=None, error_score=nan,\n",
       "             estimator=GaussianNB(priors=None, var_smoothing=1e-09),\n",
       "             iid='deprecated', n_jobs=None, param_grid={},\n",
       "             pre_dispatch='2*n_jobs', refit=True, return_train_score=False,\n",
       "             scoring=None, verbose=0)"
      ]
     },
     "execution_count": 132,
     "metadata": {},
     "output_type": "execute_result"
    }
   ],
   "source": [
    "clf_nb = GridSearchCV(nb, nb_parameters)\n",
    "clf_nb.fit(features_train, labels_train)"
   ]
  },
  {
   "cell_type": "code",
   "execution_count": 133,
   "metadata": {},
   "outputs": [
    {
     "name": "stdout",
     "output_type": "stream",
     "text": [
      "################### Training data ##################\n",
      "              precision    recall  f1-score   support\n",
      "\n",
      "     Non-POI       0.94      0.96      0.95        70\n",
      "         POI       0.57      0.50      0.53         8\n",
      "\n",
      "    accuracy                           0.91        78\n",
      "   macro avg       0.76      0.73      0.74        78\n",
      "weighted avg       0.91      0.91      0.91        78\n",
      "\n",
      "################### Testing data ###################\n",
      "              precision    recall  f1-score   support\n",
      "\n",
      "     Non-POI       0.88      0.97      0.92        29\n",
      "         POI       0.50      0.20      0.29         5\n",
      "\n",
      "    accuracy                           0.85        34\n",
      "   macro avg       0.69      0.58      0.60        34\n",
      "weighted avg       0.82      0.85      0.83        34\n",
      "\n"
     ]
    }
   ],
   "source": [
    "evaluateClassif(clf_nb)"
   ]
  },
  {
   "cell_type": "code",
   "execution_count": 134,
   "metadata": {},
   "outputs": [
    {
     "data": {
      "text/plain": [
       "GridSearchCV(cv=None, error_score=nan,\n",
       "             estimator=GaussianNB(priors=None, var_smoothing=1e-09),\n",
       "             iid='deprecated', n_jobs=None, param_grid={},\n",
       "             pre_dispatch='2*n_jobs', refit=True, return_train_score=False,\n",
       "             scoring=None, verbose=0)"
      ]
     },
     "execution_count": 134,
     "metadata": {},
     "output_type": "execute_result"
    }
   ],
   "source": [
    "clf_nb = GridSearchCV(nb, nb_parameters)\n",
    "clf_nb.fit(features, labels)"
   ]
  },
  {
   "cell_type": "code",
   "execution_count": 135,
   "metadata": {},
   "outputs": [],
   "source": [
    "# 儲存預測結果(樸素貝葉斯分類器)\n",
    "output_path = 'output/'\n",
    "predicitons1 = clf_nb.predict_proba(test_X)[:, 1]\n",
    "submit = pd.DataFrame({'name': ids, 'poi': predicitons1})\n",
    "f_app_result = os.path.join(output_path, 'Day_051_To_053_V2_nbc.csv')\n",
    "submit.to_csv(f_app_result,index=False)"
   ]
  },
  {
   "cell_type": "markdown",
   "metadata": {},
   "source": [
    "<a id='sec4.2'></a>\n",
    "#### 4.2. AdaBoost classifier"
   ]
  },
  {
   "cell_type": "markdown",
   "metadata": {},
   "source": [
    "### http://scikit-learn.org/stable/auto_examples/ensemble/plot_adaboost_twoclass.html#sphx-glr-auto-examples-ensemble-plot-adaboost-twoclass-py"
   ]
  },
  {
   "cell_type": "code",
   "execution_count": 136,
   "metadata": {},
   "outputs": [],
   "source": [
    "## Defining the Adaboost parameters for GridSearch:\n",
    "abc_parameters = {\"learning_rate\" : [0.5, 1., 2., 5., 10., 100.],\n",
    "                 \"n_estimators\": [10,50,100,200,500,900,2000],\n",
    "                 \"algorithm\": ['SAMME','SAMME.R']}\n",
    "\n",
    "dtc = DecisionTreeClassifier(random_state = 42, max_features = \"auto\", max_depth = None)\n",
    "abc = AdaBoostClassifier(base_estimator=dtc)\n",
    "\n",
    "# run grid search\n",
    "clf_adaboost = GridSearchCV(abc, param_grid=abc_parameters)"
   ]
  },
  {
   "cell_type": "code",
   "execution_count": 137,
   "metadata": {},
   "outputs": [
    {
     "data": {
      "text/plain": [
       "GridSearchCV(cv=None, error_score=nan,\n",
       "             estimator=AdaBoostClassifier(algorithm='SAMME.R',\n",
       "                                          base_estimator=DecisionTreeClassifier(ccp_alpha=0.0,\n",
       "                                                                                class_weight=None,\n",
       "                                                                                criterion='gini',\n",
       "                                                                                max_depth=None,\n",
       "                                                                                max_features='auto',\n",
       "                                                                                max_leaf_nodes=None,\n",
       "                                                                                min_impurity_decrease=0.0,\n",
       "                                                                                min_impurity_split=None,\n",
       "                                                                                min_samples_leaf=1,\n",
       "                                                                                min_samples_split=2,\n",
       "                                                                                min_weight_fraction_leaf=0.0,\n",
       "                                                                                presort='deprecated',\n",
       "                                                                                random_state=42,\n",
       "                                                                                splitter='best'),\n",
       "                                          learning_rate=1.0, n_estimators=50,\n",
       "                                          random_state=None),\n",
       "             iid='deprecated', n_jobs=None,\n",
       "             param_grid={'algorithm': ['SAMME', 'SAMME.R'],\n",
       "                         'learning_rate': [0.5, 1.0, 2.0, 5.0, 10.0, 100.0],\n",
       "                         'n_estimators': [10, 50, 100, 200, 500, 900, 2000]},\n",
       "             pre_dispatch='2*n_jobs', refit=True, return_train_score=False,\n",
       "             scoring=None, verbose=0)"
      ]
     },
     "execution_count": 137,
     "metadata": {},
     "output_type": "execute_result"
    }
   ],
   "source": [
    "clf_adaboost.fit(features_train, labels_train)"
   ]
  },
  {
   "cell_type": "code",
   "execution_count": 138,
   "metadata": {},
   "outputs": [
    {
     "name": "stdout",
     "output_type": "stream",
     "text": [
      "################### Training data ##################\n",
      "              precision    recall  f1-score   support\n",
      "\n",
      "     Non-POI       1.00      1.00      1.00        70\n",
      "         POI       1.00      1.00      1.00         8\n",
      "\n",
      "    accuracy                           1.00        78\n",
      "   macro avg       1.00      1.00      1.00        78\n",
      "weighted avg       1.00      1.00      1.00        78\n",
      "\n",
      "################### Testing data ###################\n",
      "              precision    recall  f1-score   support\n",
      "\n",
      "     Non-POI       0.88      0.97      0.92        29\n",
      "         POI       0.50      0.20      0.29         5\n",
      "\n",
      "    accuracy                           0.85        34\n",
      "   macro avg       0.69      0.58      0.60        34\n",
      "weighted avg       0.82      0.85      0.83        34\n",
      "\n"
     ]
    }
   ],
   "source": [
    "evaluateClassif(clf_adaboost)"
   ]
  },
  {
   "cell_type": "code",
   "execution_count": 139,
   "metadata": {},
   "outputs": [
    {
     "data": {
      "text/plain": [
       "GridSearchCV(cv=None, error_score=nan,\n",
       "             estimator=AdaBoostClassifier(algorithm='SAMME.R',\n",
       "                                          base_estimator=DecisionTreeClassifier(ccp_alpha=0.0,\n",
       "                                                                                class_weight=None,\n",
       "                                                                                criterion='gini',\n",
       "                                                                                max_depth=None,\n",
       "                                                                                max_features='auto',\n",
       "                                                                                max_leaf_nodes=None,\n",
       "                                                                                min_impurity_decrease=0.0,\n",
       "                                                                                min_impurity_split=None,\n",
       "                                                                                min_samples_leaf=1,\n",
       "                                                                                min_samples_split=2,\n",
       "                                                                                min_weight_fraction_leaf=0.0,\n",
       "                                                                                presort='deprecated',\n",
       "                                                                                random_state=42,\n",
       "                                                                                splitter='best'),\n",
       "                                          learning_rate=1.0, n_estimators=50,\n",
       "                                          random_state=None),\n",
       "             iid='deprecated', n_jobs=None,\n",
       "             param_grid={'algorithm': ['SAMME', 'SAMME.R'],\n",
       "                         'learning_rate': [0.5, 1.0, 2.0, 5.0, 10.0, 100.0],\n",
       "                         'n_estimators': [10, 50, 100, 200, 500, 900, 2000]},\n",
       "             pre_dispatch='2*n_jobs', refit=True, return_train_score=False,\n",
       "             scoring=None, verbose=0)"
      ]
     },
     "execution_count": 139,
     "metadata": {},
     "output_type": "execute_result"
    }
   ],
   "source": [
    "clf_adaboost = GridSearchCV(abc, param_grid=abc_parameters)\n",
    "clf_adaboost.fit(features, labels)"
   ]
  },
  {
   "cell_type": "code",
   "execution_count": 140,
   "metadata": {},
   "outputs": [],
   "source": [
    "# 儲存預測結果(AdaBoost classifier)\n",
    "output_path = 'output/'\n",
    "predicitons1 = clf_adaboost.predict_proba(test_X)[:, 1]\n",
    "submit = pd.DataFrame({'name': ids, 'poi': predicitons1})\n",
    "f_app_result = os.path.join(output_path, 'Day_051_To_053_V2_abc.csv')\n",
    "submit.to_csv(f_app_result,index=False)"
   ]
  },
  {
   "cell_type": "markdown",
   "metadata": {},
   "source": [
    "<a id='sec4.3'></a>\n",
    "#### 4.3. SVM classifier"
   ]
  },
  {
   "cell_type": "code",
   "execution_count": 141,
   "metadata": {},
   "outputs": [],
   "source": [
    "svm_parameters = {'kernel':['linear','rbf','poly','sigmoid'], \n",
    "                  'C':[0.5,1.,5.,10.,50.,100.,1000.], 'gamma':['scale']}\n",
    "svr = svm.SVC()"
   ]
  },
  {
   "cell_type": "code",
   "execution_count": 142,
   "metadata": {},
   "outputs": [],
   "source": [
    "clf_svc = GridSearchCV(svr, svm_parameters);"
   ]
  },
  {
   "cell_type": "code",
   "execution_count": 143,
   "metadata": {},
   "outputs": [
    {
     "data": {
      "text/plain": [
       "GridSearchCV(cv=None, error_score=nan,\n",
       "             estimator=SVC(C=1.0, break_ties=False, cache_size=200,\n",
       "                           class_weight=None, coef0=0.0,\n",
       "                           decision_function_shape='ovr', degree=3,\n",
       "                           gamma='scale', kernel='rbf', max_iter=-1,\n",
       "                           probability=False, random_state=None, shrinking=True,\n",
       "                           tol=0.001, verbose=False),\n",
       "             iid='deprecated', n_jobs=None,\n",
       "             param_grid={'C': [0.5, 1.0, 5.0, 10.0, 50.0, 100.0, 1000.0],\n",
       "                         'gamma': ['scale'],\n",
       "                         'kernel': ['linear', 'rbf', 'poly', 'sigmoid']},\n",
       "             pre_dispatch='2*n_jobs', refit=True, return_train_score=False,\n",
       "             scoring=None, verbose=0)"
      ]
     },
     "execution_count": 143,
     "metadata": {},
     "output_type": "execute_result"
    }
   ],
   "source": [
    "clf_svc.fit(features_train, labels_train)"
   ]
  },
  {
   "cell_type": "code",
   "execution_count": 144,
   "metadata": {},
   "outputs": [
    {
     "name": "stdout",
     "output_type": "stream",
     "text": [
      "################### Training data ##################\n",
      "              precision    recall  f1-score   support\n",
      "\n",
      "     Non-POI       0.93      1.00      0.97        70\n",
      "         POI       1.00      0.38      0.55         8\n",
      "\n",
      "    accuracy                           0.94        78\n",
      "   macro avg       0.97      0.69      0.76        78\n",
      "weighted avg       0.94      0.94      0.92        78\n",
      "\n",
      "################### Testing data ###################\n",
      "              precision    recall  f1-score   support\n",
      "\n",
      "     Non-POI       0.88      0.97      0.92        29\n",
      "         POI       0.50      0.20      0.29         5\n",
      "\n",
      "    accuracy                           0.85        34\n",
      "   macro avg       0.69      0.58      0.60        34\n",
      "weighted avg       0.82      0.85      0.83        34\n",
      "\n"
     ]
    }
   ],
   "source": [
    "evaluateClassif(clf_svc)"
   ]
  },
  {
   "cell_type": "code",
   "execution_count": 145,
   "metadata": {},
   "outputs": [
    {
     "data": {
      "text/plain": [
       "GridSearchCV(cv=None, error_score=nan,\n",
       "             estimator=SVC(C=1.0, break_ties=False, cache_size=200,\n",
       "                           class_weight=None, coef0=0.0,\n",
       "                           decision_function_shape='ovr', degree=3,\n",
       "                           gamma='scale', kernel='rbf', max_iter=-1,\n",
       "                           probability=True, random_state=None, shrinking=True,\n",
       "                           tol=0.001, verbose=False),\n",
       "             iid='deprecated', n_jobs=None,\n",
       "             param_grid={'C': [0.5, 1.0, 5.0, 10.0, 50.0, 100.0, 1000.0],\n",
       "                         'gamma': ['scale'],\n",
       "                         'kernel': ['linear', 'rbf', 'poly', 'sigmoid']},\n",
       "             pre_dispatch='2*n_jobs', refit=True, return_train_score=False,\n",
       "             scoring=None, verbose=0)"
      ]
     },
     "execution_count": 145,
     "metadata": {},
     "output_type": "execute_result"
    }
   ],
   "source": [
    "svr = svm.SVC(probability=True)\n",
    "clf_svc = GridSearchCV(svr, svm_parameters)\n",
    "clf_svc.fit(features, labels)"
   ]
  },
  {
   "cell_type": "code",
   "execution_count": 146,
   "metadata": {},
   "outputs": [],
   "source": [
    "# 儲存預測結果(svm)\n",
    "output_path = 'output/'\n",
    "predicitons1 = clf_svc.predict_proba(test_X)[:, 1]\n",
    "submit = pd.DataFrame({'name': ids, 'poi': predicitons1})\n",
    "f_app_result = os.path.join(output_path, 'Day_051_To_053_V2_svm.csv')\n",
    "submit.to_csv(f_app_result,index=False)"
   ]
  },
  {
   "cell_type": "markdown",
   "metadata": {},
   "source": [
    "<a id='sec4.4'></a>\n",
    "####  4.4. Conclusions\n",
    "Evaluating the output of the classifiers above, it's effort to choose **Naive Bayes Classifier**, since it had the best considered metrics (precision and recall) for POI in the testing data. It must be considered, though, that we could use more strategies to iterate the test and to certify this would be the best machine learning algorithm to be used. "
   ]
  }
 ],
 "metadata": {
  "kernelspec": {
   "display_name": "Python 3",
   "language": "python",
   "name": "python3"
  },
  "language_info": {
   "codemirror_mode": {
    "name": "ipython",
    "version": 3
   },
   "file_extension": ".py",
   "mimetype": "text/x-python",
   "name": "python",
   "nbconvert_exporter": "python",
   "pygments_lexer": "ipython3",
   "version": "3.7.6"
  }
 },
 "nbformat": 4,
 "nbformat_minor": 2
}
