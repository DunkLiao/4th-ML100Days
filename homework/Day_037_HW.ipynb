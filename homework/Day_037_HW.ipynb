{
 "cells": [
  {
   "cell_type": "markdown",
   "metadata": {},
   "source": [
    "### 專案名稱: 第四屆機器學習百日馬拉松\n",
    "### 功能描述: 第37天作業\n",
    "### 版權所有: Dunk  \n",
    "### 程式撰寫: Dunk  \n",
    "### 撰寫日期：2020/04/07\n",
    "### 改版日期:  \n",
    "### 改版備註:"
   ]
  },
  {
   "cell_type": "markdown",
   "metadata": {},
   "source": [
    "## [作業重點]\n",
    "了解線性回歸的模型發展歷程，並了解優勢與劣勢，以及其使用情境"
   ]
  },
  {
   "cell_type": "markdown",
   "metadata": {},
   "source": [
    "## 作業"
   ]
  },
  {
   "cell_type": "markdown",
   "metadata": {},
   "source": [
    "請閱讀以下相關文獻，並回答以下問題\n",
    "\n",
    "[Linear Regression 詳細介紹](https://brohrer.mcknote.com/zh-Hant/how_machine_learning_works/how_linear_regression_works.html)\n",
    "\n",
    "[Logistics Regression 詳細介紹](https://medium.com/@yehjames/%E8%B3%87%E6%96%99%E5%88%86%E6%9E%90-%E6%A9%9F%E5%99%A8%E5%AD%B8%E7%BF%92-%E7%AC%AC3-3%E8%AC%9B-%E7%B7%9A%E6%80%A7%E5%88%86%E9%A1%9E-%E9%82%8F%E8%BC%AF%E6%96%AF%E5%9B%9E%E6%AD%B8-logistic-regression-%E4%BB%8B%E7%B4%B9-a1a5f47017e5)\n"
   ]
  },
  {
   "cell_type": "markdown",
   "metadata": {},
   "source": [
    "### ANS:"
   ]
  },
  {
   "cell_type": "markdown",
   "metadata": {},
   "source": [
    "1. 線性回歸模型能夠準確預測非線性關係的資料集嗎?\n",
    ">- 非線性回歸分析是線性回歸分析的擴展，也是傳統計量經濟學的結構模型法分析。在社會現實經濟生活中，很多現象之間的關係並不是線性關係，對這種類型現象的分析預測一般要應用非線性回歸預測，通過變數代換，可以將很多的非線性回歸轉化為線性回歸。因而，可以用線性回歸方法解決非線性回歸預測問題。選擇合適的曲線類型不是一件輕而易舉的工作，主要依靠專業知識和經驗。常用的曲線類型有冪函數，指數函數，拋物線函數，對數函數和S型函數。\n",
    ">- 線性回歸模型分析的線性經濟變數關係只是經濟變數關係中的特例，現實中的多數經濟變數關係是非線性的。對於無法通過初等數學變換轉化為線性回歸模型的非線性經濟變數關係，必須直接用非線性變數關係進行分析。即使非線性變數關係可以通過初等數學變換轉化為線性模型，也可能造成模型隨機誤差項性質的改變，這種情況下，常常也是直接作為非線性模型進行分析比較有利。非線性模型計量經濟分析的基本思路與線性模型是相似的，仍然可以以回歸分析為核心，稱為“非線性回歸分析”。\n",
    "\n",
    "2. 回歸模型是否對資料分布有基本假設?\n",
    ">有\n",
    ">\n",
    ">迴歸分析的五個基本假設\n",
    ">- 線性性 & 可加性:假設因變量爲Y ，自變量爲X1 ，X2 ，則迴歸分析的默認假設爲Y=b+a1X1+a2X2+ε 。\n",
    ">>- 線性性：X1 每變動一個單位，Y 相應變動a1 個單位，與X1 的絕對數值大小無關。\n",
    ">>- 可加性：X1 對Y 的影響是獨立於其他自變量（如X2 ）的。\n",
    ">- 誤差項（ε ）之間應相互獨立。\n",
    ">若不滿足這一特性，我們稱模型具有自相關性（Autocorrelation）。\n",
    ">- 自變量（X1，X2 ）之間應相互獨立。\n",
    ">若不滿足這一特性，我們稱模型具有多重共線性性（Multicollinearity）。\n",
    ">- 誤差項（ε ）的方差應爲常數。\n",
    ">若滿足這一特性，我們稱模型具有同方差性（Homoskedasticity），若不滿足，則爲異方差性（Heteroskedasticity）。\n",
    ">- 誤差項（ε ）應呈正態分佈。"
   ]
  },
  {
   "cell_type": "markdown",
   "metadata": {},
   "source": [
    "#### 參考資料\n",
    "非線性回歸預測法\n",
    "\n",
    "https://wiki.mbalib.com/zh-tw/%E9%9D%9E%E7%BA%BF%E6%80%A7%E5%9B%9E%E5%BD%92%E9%A2%84%E6%B5%8B%E6%B3%95\n",
    "\n",
    "Linear Regression | 線性迴歸模型| using AirQuality Dataset\n",
    "\n",
    "https://www.jamleecute.com/linear-regression-%E7%B7%9A%E6%80%A7%E8%BF%B4%E6%AD%B8%E6%A8%A1%E5%9E%8B/\n",
    "\n",
    "回歸分析的五個基本假設\n",
    "\n",
    "https://www.twblogs.net/a/5b8db4a22b71771883400e63\n",
    "\n",
    "https://medium.com/ai%25E5%258F%258D%25E6%2596%2597%25E5%259F%258E/learning-model-%25E5%259B%259E%25E6%25AD%25B8%25E5%2588%2586%25E6%259E%2590%25E7%259A%2584%25E5%259F%25BA%25E6%259C%25AC%25E5%2581%2587%25E8%25A8%25AD-37d9880f214d+"
   ]
  }
 ],
 "metadata": {
  "kernelspec": {
   "display_name": "Python 3",
   "language": "python",
   "name": "python3"
  },
  "language_info": {
   "codemirror_mode": {
    "name": "ipython",
    "version": 3
   },
   "file_extension": ".py",
   "mimetype": "text/x-python",
   "name": "python",
   "nbconvert_exporter": "python",
   "pygments_lexer": "ipython3",
   "version": "3.7.6"
  }
 },
 "nbformat": 4,
 "nbformat_minor": 2
}
