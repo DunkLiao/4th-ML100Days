{
 "cells": [
  {
   "cell_type": "markdown",
   "metadata": {},
   "source": [
    "### 專案名稱: 第四屆機器學習百日馬拉松\n",
    "### 功能描述: 第33天作業\n",
    "### 版權所有: Dunk  \n",
    "### 程式撰寫: Dunk  \n",
    "### 撰寫日期：2020/04/04\n",
    "### 改版日期:  \n",
    "### 改版備註:"
   ]
  },
  {
   "cell_type": "markdown",
   "metadata": {},
   "source": [
    "## 練習時間"
   ]
  },
  {
   "cell_type": "markdown",
   "metadata": {},
   "source": [
    "請觀看李宏毅教授以神奇寶貝進化 CP 值預測的範例，解說何謂機器學習與過擬合。並回答以下問題"
   ]
  },
  {
   "cell_type": "markdown",
   "metadata": {},
   "source": [
    "[youtube](https://www.youtube.com/watch?v=fegAeph9UaA)"
   ]
  },
  {
   "cell_type": "markdown",
   "metadata": {},
   "source": [
    "### ANS:"
   ]
  },
  {
   "cell_type": "markdown",
   "metadata": {},
   "source": [
    "### 1. 模型的泛化能力 (generalization) 是指什麼？ \n",
    ">泛化能力（generalization ability）是指機器學習算法對新鮮樣本的適應能力。 \n",
    ">>- 學習的目的是學到隱含在數據背後的規律，對具有同一規律的學習集以外的數據，經過訓練的網絡也能給出合適的輸出，該能力稱為泛化能力。\n",
    ">>- 通常期望經訓練樣本訓練的網絡具有較強的泛化能力，也就是對新輸入給出合理響應的能力。應當指出並非訓練的次數越多越能得到正確的輸入輸出映射關係。網絡的性能主要用它的泛化能力來衡量。\n",
    "\n",
    "##### 參考網址\n",
    "https://ithelp.ithome.com.tw/articles/10203371\n",
    "\n",
    "https://baike.baidu.com/item/%E6%B3%9B%E5%8C%96%E8%83%BD%E5%8A%9B\n",
    "\n",
    "### 2. 分類問題與回歸問題分別可用的目標函數有哪些？\n",
    ">分類問題可用的目標函數\n",
    ">>- 0-1損失函數\n",
    ">>- 交叉熵損失函數（Logistic迴歸)\n",
    ">>- 交叉熵損失函數（Softmax激活）\n",
    ">\n",
    "> 最常用的 5 個回歸損失函數\n",
    ">>- MAE 損失模型的預測結果受脈衝噪聲的影響較小，\n",
    ">>- MSE 損失函數的預測結果受此影響略有偏移。\n",
    ">>- Huber 損失模型預測結果對所選超參數不敏感。\n",
    ">>- 分位數損失模型在合適的置信水平下能給出很好的估計。\n",
    ">>- Log-Cosh 損失:Log-cosh 是另一種應用於回歸問題中的，且比 L2 更平滑的的損失函數。它的計算方式是預測誤差的雙曲餘弦的對數\n",
    "\n",
    "##### 參考網址\n",
    "https://www.twblogs.net/a/5c188f10bd9eee5e41847a50\n",
    "\n",
    "https://buzzorange.com/techorange/2018/06/22/computer-learning-5-tips/\n",
    "\n",
    "https://medium.com/@chih.sheng.huang821/%E6%A9%9F%E5%99%A8-%E6%B7%B1%E5%BA%A6%E5%AD%B8%E7%BF%92-%E5%9F%BA%E7%A4%8E%E4%BB%8B%E7%B4%B9-%E6%90%8D%E5%A4%B1%E5%87%BD%E6%95%B8-loss-function-2dcac5ebb6cb"
   ]
  }
 ],
 "metadata": {
  "kernelspec": {
   "display_name": "Python 3",
   "language": "python",
   "name": "python3"
  },
  "language_info": {
   "codemirror_mode": {
    "name": "ipython",
    "version": 3
   },
   "file_extension": ".py",
   "mimetype": "text/x-python",
   "name": "python",
   "nbconvert_exporter": "python",
   "pygments_lexer": "ipython3",
   "version": "3.7.6"
  }
 },
 "nbformat": 4,
 "nbformat_minor": 2
}
