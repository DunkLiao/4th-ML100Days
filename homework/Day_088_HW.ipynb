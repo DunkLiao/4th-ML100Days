{
 "cells": [
  {
   "cell_type": "markdown",
   "metadata": {},
   "source": [
    "### 專案名稱: 第四屆機器學習百日馬拉松\n",
    "### 功能描述: 第88天作業\n",
    "### 版權所有: Dunk  \n",
    "### 程式撰寫: Dunk  \n",
    "### 撰寫日期：2020/06/19\n",
    "### 改版日期:  \n",
    "### 改版備註:"
   ]
  },
  {
   "cell_type": "markdown",
   "metadata": {},
   "source": [
    "## Work\n",
    "1. 請嘗試寫一個 callback 用來記錄各類別在訓練過程中，對驗證集的 True Positive 與 True Negative"
   ]
  },
  {
   "cell_type": "markdown",
   "metadata": {},
   "source": [
    "### ANS:"
   ]
  },
  {
   "cell_type": "code",
   "execution_count": 28,
   "metadata": {},
   "outputs": [],
   "source": [
    "import os\n",
    "import keras\n",
    "\n",
    "# Disable GPU\n",
    "os.environ[\"CUDA_VISIBLE_DEVICES\"] = \"\""
   ]
  },
  {
   "cell_type": "code",
   "execution_count": 29,
   "metadata": {},
   "outputs": [],
   "source": [
    "train, test = keras.datasets.cifar10.load_data()"
   ]
  },
  {
   "cell_type": "code",
   "execution_count": 30,
   "metadata": {},
   "outputs": [],
   "source": [
    "## 資料前處理\n",
    "def preproc_x(x, flatten=True):\n",
    "    x = x / 255.\n",
    "    if flatten:\n",
    "        x = x.reshape((len(x), -1))\n",
    "    return x\n",
    "\n",
    "def preproc_y(y, num_classes=10):\n",
    "    if y.shape[-1] == 1:\n",
    "        y = keras.utils.to_categorical(y, num_classes)\n",
    "    return y    "
   ]
  },
  {
   "cell_type": "code",
   "execution_count": 31,
   "metadata": {},
   "outputs": [],
   "source": [
    "x_train, y_train = train\n",
    "x_test, y_test = test\n",
    "\n",
    "# Preproc the inputs\n",
    "x_train = preproc_x(x_train)\n",
    "x_test = preproc_x(x_test)\n",
    "\n",
    "# Preprc the outputs\n",
    "y_train = preproc_y(y_train)\n",
    "y_test = preproc_y(y_test)"
   ]
  },
  {
   "cell_type": "code",
   "execution_count": 32,
   "metadata": {},
   "outputs": [],
   "source": [
    "from keras.layers import BatchNormalization\n",
    "\n",
    "\"\"\"\n",
    "建立神經網路，並加入 BN layer\n",
    "\"\"\"\n",
    "def build_mlp(input_shape, output_units=10, num_neurons=[256, 256, 256]):\n",
    "    input_layer = keras.layers.Input(input_shape)\n",
    "    \n",
    "    for i, n_units in enumerate(num_neurons):\n",
    "        if i == 0:\n",
    "            x = keras.layers.Dense(units=n_units, \n",
    "                                   activation=\"relu\", \n",
    "                                   name=\"hidden_layer\"+str(i+1))(input_layer)\n",
    "            x = BatchNormalization()(x)\n",
    "        else:\n",
    "            x = keras.layers.Dense(units=n_units, \n",
    "                                   activation=\"relu\", \n",
    "                                   name=\"hidden_layer\"+str(i+1))(x)\n",
    "            x = BatchNormalization()(x)\n",
    "    \n",
    "    out = keras.layers.Dense(units=output_units, activation=\"softmax\", name=\"output\")(x)\n",
    "    \n",
    "    model = keras.models.Model(inputs=[input_layer], outputs=[out])\n",
    "    return model"
   ]
  },
  {
   "cell_type": "code",
   "execution_count": 33,
   "metadata": {},
   "outputs": [],
   "source": [
    "## 超參數設定\n",
    "LEARNING_RATE = 1e-3\n",
    "EPOCHS = 25\n",
    "BATCH_SIZE = 1024\n",
    "MOMENTUM = 0.95"
   ]
  },
  {
   "cell_type": "code",
   "execution_count": 34,
   "metadata": {},
   "outputs": [],
   "source": [
    "# 載入 Callbacks\n",
    "from keras.callbacks import Callback\n",
    "\n",
    "# Record_tp_tn\n",
    "class Record_tp_tn(Callback):\n",
    "    def on_train_begin(self, epoch, logs = {}):\n",
    "        logs = logs or {}\n",
    "        record_items = [\"val_tp\", \"val_fp\",\"val_tn\",\"val_fn\"]\n",
    "        for i in record_items:\n",
    "            if i not in self.params['metrics']:\n",
    "                self.params['metrics'].append(i)\n",
    "    \n",
    "    def on_epoch_end(self, epoch, logs = {}, thres=0.5):\n",
    "        logs = logs or {}\n",
    "        y_true = self.validation_data[1].argmax(axis = 1)\n",
    "        y_pred = self.model.predict(self.validation_data[0])\n",
    "        y_pred = (y_pred[:, 1] >= thres) * 1\n",
    "        \n",
    "        TP = 0\n",
    "        FP = 0\n",
    "        TN = 0\n",
    "        FN = 0\n",
    "        \n",
    "        for i in range(len(y_pred)):\n",
    "            if y_true[i] == y_pred[i] == 1:\n",
    "                TP += 1\n",
    "            if y_pred[i] == 1 and y_true[i] == 0:\n",
    "                FP += 1\n",
    "            if y_true[i] == y_pred[i] == 0:\n",
    "                TN += 1\n",
    "            if y_pred[i] == 0 and y_true[i] == 1:\n",
    "                FN += 1\n",
    "        \n",
    "        logs[\"val_tp\"] = TP\n",
    "        logs[\"val_fp\"] = FP\n",
    "        logs[\"val_tn\"] = TN\n",
    "        logs[\"val_fn\"] = FN\n",
    "        \n",
    "# 解答寫法        \n",
    "#         val_tp = sum(y_true*y_pred)\n",
    "#         val_tn = sum((y_true==0) & (y_pred==0))\n",
    "        \n",
    "#         logs[\"val_tp\"] = val_tp\n",
    "#         logs[\"val_tn\"] = val_tn\n",
    "        \n",
    "rec_tptn = Record_tp_tn()"
   ]
  },
  {
   "cell_type": "code",
   "execution_count": 35,
   "metadata": {
    "scrolled": true
   },
   "outputs": [
    {
     "name": "stdout",
     "output_type": "stream",
     "text": [
      "Model: \"model_4\"\n",
      "_________________________________________________________________\n",
      "Layer (type)                 Output Shape              Param #   \n",
      "=================================================================\n",
      "input_4 (InputLayer)         (None, 3072)              0         \n",
      "_________________________________________________________________\n",
      "hidden_layer1 (Dense)        (None, 256)               786688    \n",
      "_________________________________________________________________\n",
      "batch_normalization_10 (Batc (None, 256)               1024      \n",
      "_________________________________________________________________\n",
      "hidden_layer2 (Dense)        (None, 256)               65792     \n",
      "_________________________________________________________________\n",
      "batch_normalization_11 (Batc (None, 256)               1024      \n",
      "_________________________________________________________________\n",
      "hidden_layer3 (Dense)        (None, 256)               65792     \n",
      "_________________________________________________________________\n",
      "batch_normalization_12 (Batc (None, 256)               1024      \n",
      "_________________________________________________________________\n",
      "output (Dense)               (None, 10)                2570      \n",
      "=================================================================\n",
      "Total params: 923,914\n",
      "Trainable params: 922,378\n",
      "Non-trainable params: 1,536\n",
      "_________________________________________________________________\n",
      "Train on 50000 samples, validate on 10000 samples\n",
      "Epoch 1/25\n",
      "50000/50000 [==============================] - 10s 193us/step - loss: 2.2529 - accuracy: 0.2597 - val_loss: 2.1637 - val_accuracy: 0.1986\n",
      "Epoch 2/25\n",
      "50000/50000 [==============================] - 8s 168us/step - loss: 1.7746 - accuracy: 0.3808 - val_loss: 2.0015 - val_accuracy: 0.2914\n",
      "Epoch 3/25\n",
      "50000/50000 [==============================] - 9s 182us/step - loss: 1.6410 - accuracy: 0.4265 - val_loss: 1.8609 - val_accuracy: 0.3511\n",
      "Epoch 4/25\n",
      "50000/50000 [==============================] - 9s 187us/step - loss: 1.5665 - accuracy: 0.4528 - val_loss: 1.7492 - val_accuracy: 0.3859\n",
      "Epoch 5/25\n",
      "50000/50000 [==============================] - 10s 190us/step - loss: 1.5119 - accuracy: 0.4713 - val_loss: 1.6389 - val_accuracy: 0.4226\n",
      "Epoch 6/25\n",
      "50000/50000 [==============================] - 9s 179us/step - loss: 1.4676 - accuracy: 0.4881 - val_loss: 1.5946 - val_accuracy: 0.4391\n",
      "Epoch 7/25\n",
      "50000/50000 [==============================] - 10s 198us/step - loss: 1.4305 - accuracy: 0.5024 - val_loss: 1.5549 - val_accuracy: 0.4507\n",
      "Epoch 8/25\n",
      "50000/50000 [==============================] - 10s 193us/step - loss: 1.3982 - accuracy: 0.5150 - val_loss: 1.5274 - val_accuracy: 0.4557\n",
      "Epoch 9/25\n",
      "50000/50000 [==============================] - 10s 199us/step - loss: 1.3678 - accuracy: 0.5248 - val_loss: 1.5349 - val_accuracy: 0.4509\n",
      "Epoch 10/25\n",
      "50000/50000 [==============================] - 10s 196us/step - loss: 1.3419 - accuracy: 0.5337 - val_loss: 1.5039 - val_accuracy: 0.4671\n",
      "Epoch 11/25\n",
      "50000/50000 [==============================] - 9s 189us/step - loss: 1.3154 - accuracy: 0.5430 - val_loss: 1.5003 - val_accuracy: 0.4680\n",
      "Epoch 12/25\n",
      "50000/50000 [==============================] - 9s 188us/step - loss: 1.2923 - accuracy: 0.5504 - val_loss: 1.4761 - val_accuracy: 0.4774\n",
      "Epoch 13/25\n",
      "50000/50000 [==============================] - 9s 178us/step - loss: 1.2687 - accuracy: 0.5619 - val_loss: 1.4701 - val_accuracy: 0.4805\n",
      "Epoch 14/25\n",
      "50000/50000 [==============================] - 10s 195us/step - loss: 1.2464 - accuracy: 0.5679 - val_loss: 1.4660 - val_accuracy: 0.4829\n",
      "Epoch 15/25\n",
      "50000/50000 [==============================] - 10s 194us/step - loss: 1.2259 - accuracy: 0.5752 - val_loss: 1.4612 - val_accuracy: 0.4854\n",
      "Epoch 16/25\n",
      "50000/50000 [==============================] - 9s 184us/step - loss: 1.2076 - accuracy: 0.5827 - val_loss: 1.4507 - val_accuracy: 0.4888\n",
      "Epoch 17/25\n",
      "50000/50000 [==============================] - 9s 183us/step - loss: 1.1884 - accuracy: 0.5890 - val_loss: 1.4551 - val_accuracy: 0.4895\n",
      "Epoch 18/25\n",
      "50000/50000 [==============================] - 9s 179us/step - loss: 1.1682 - accuracy: 0.5976 - val_loss: 1.4468 - val_accuracy: 0.4925\n",
      "Epoch 19/25\n",
      "50000/50000 [==============================] - 10s 194us/step - loss: 1.1506 - accuracy: 0.6044 - val_loss: 1.4480 - val_accuracy: 0.4902\n",
      "Epoch 20/25\n",
      "50000/50000 [==============================] - 10s 193us/step - loss: 1.1323 - accuracy: 0.6105 - val_loss: 1.4392 - val_accuracy: 0.4962\n",
      "Epoch 21/25\n",
      "50000/50000 [==============================] - 10s 192us/step - loss: 1.1144 - accuracy: 0.6178 - val_loss: 1.4461 - val_accuracy: 0.4958\n",
      "Epoch 22/25\n",
      "50000/50000 [==============================] - 9s 173us/step - loss: 1.0962 - accuracy: 0.6259 - val_loss: 1.4449 - val_accuracy: 0.4925\n",
      "Epoch 23/25\n",
      "50000/50000 [==============================] - 7s 136us/step - loss: 1.0785 - accuracy: 0.6322 - val_loss: 1.4317 - val_accuracy: 0.4973\n",
      "Epoch 24/25\n",
      "50000/50000 [==============================] - 9s 185us/step - loss: 1.0613 - accuracy: 0.6391 - val_loss: 1.4304 - val_accuracy: 0.5013\n",
      "Epoch 25/25\n",
      "50000/50000 [==============================] - 9s 180us/step - loss: 1.0454 - accuracy: 0.6447 - val_loss: 1.4333 - val_accuracy: 0.5028\n"
     ]
    }
   ],
   "source": [
    "model = build_mlp(input_shape=x_train.shape[1:])\n",
    "model.summary()\n",
    "optimizer = keras.optimizers.SGD(lr=LEARNING_RATE, nesterov=True, momentum=MOMENTUM)\n",
    "model.compile(loss=\"categorical_crossentropy\", metrics=[\"accuracy\"], optimizer=optimizer)\n",
    "\n",
    "\"\"\"\n",
    "將 callbacks 放入模型訓練流程中\n",
    "\"\"\"\n",
    "model.fit(x_train, y_train, \n",
    "          epochs=EPOCHS, \n",
    "          batch_size=BATCH_SIZE, \n",
    "          validation_data=(x_test, y_test), \n",
    "          shuffle=True,\n",
    "          callbacks=[rec_tptn]\n",
    "         )\n",
    "\n",
    "# Collect results\n",
    "train_loss = model.history.history[\"loss\"]\n",
    "valid_loss = model.history.history[\"val_loss\"]\n",
    "train_acc = model.history.history[\"accuracy\"]\n",
    "valid_acc = model.history.history[\"val_accuracy\"]\n",
    "\n",
    "\"\"\"\n",
    "將 tp/tn 從訓練完的模型中取出\n",
    "\"\"\"\n",
    "valid_tp = model.history.history['val_tp']\n",
    "valid_tn = model.history.history['val_tn']"
   ]
  },
  {
   "cell_type": "code",
   "execution_count": 36,
   "metadata": {},
   "outputs": [
    {
     "data": {
      "image/png": "[encoded data removed]",
      "text/plain": [
       "<Figure size 432x288 with 1 Axes>"
      ]
     },
     "metadata": {
      "needs_background": "light"
     },
     "output_type": "display_data"
    },
    {
     "data": {
      "image/png": "[encoded data removed]",
      "text/plain": [
       "<Figure size 432x288 with 1 Axes>"
      ]
     },
     "metadata": {
      "needs_background": "light"
     },
     "output_type": "display_data"
    },
    {
     "data": {
      "image/png": "[encoded data removed]",
      "text/plain": [
       "<Figure size 432x288 with 1 Axes>"
      ]
     },
     "metadata": {
      "needs_background": "light"
     },
     "output_type": "display_data"
    }
   ],
   "source": [
    "import matplotlib.pyplot as plt\n",
    "%matplotlib inline\n",
    "\n",
    "plt.plot(range(len(train_loss)), train_loss, label=\"train loss\")\n",
    "plt.plot(range(len(valid_loss)), valid_loss, label=\"valid loss\")\n",
    "plt.legend()\n",
    "plt.title(\"Loss\")\n",
    "plt.show()\n",
    "\n",
    "plt.plot(range(len(train_acc)), train_acc, label=\"train accuracy\")\n",
    "plt.plot(range(len(valid_acc)), valid_acc, label=\"valid accuracy\")\n",
    "plt.legend()\n",
    "plt.title(\"Accuracy\")\n",
    "plt.show()\n",
    "\n",
    "plt.plot(range(len(valid_tp)), valid_tp, label=\"valid tp\", color=\"navy\")\n",
    "plt.plot(range(len(valid_tn)), valid_tn, label=\"valid tn\", color=\"red\")\n",
    "plt.legend()\n",
    "plt.title(\"True positives and True Negatives\")\n",
    "plt.show()\n"
   ]
  }
 ],
 "metadata": {
  "kernelspec": {
   "display_name": "Python 3",
   "language": "python",
   "name": "python3"
  },
  "language_info": {
   "codemirror_mode": {
    "name": "ipython",
    "version": 3
   },
   "file_extension": ".py",
   "mimetype": "text/x-python",
   "name": "python",
   "nbconvert_exporter": "python",
   "pygments_lexer": "ipython3",
   "version": "3.7.4"
  }
 },
 "nbformat": 4,
 "nbformat_minor": 2
}
