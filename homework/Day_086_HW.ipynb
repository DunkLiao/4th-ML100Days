{
 "cells": [
  {
   "cell_type": "markdown",
   "metadata": {},
   "source": [
    "### 專案名稱: 第四屆機器學習百日馬拉松\n",
    "### 功能描述: 第86天作業\n",
    "### 版權所有: Dunk  \n",
    "### 程式撰寫: Dunk  \n",
    "### 撰寫日期：2020/06/16\n",
    "### 改版日期:  \n",
    "### 改版備註:"
   ]
  },
  {
   "cell_type": "markdown",
   "metadata": {},
   "source": [
    "## Work\n",
    "1. 試比較 save_best_only 與否的差異\n",
    "2. 請僅存入將 save_weights_only 設定為 True, 並嘗試 reset ipynb 並將模型與權重重新建回並預測 x_test"
   ]
  },
  {
   "cell_type": "markdown",
   "metadata": {},
   "source": [
    "### ANS:"
   ]
  },
  {
   "cell_type": "code",
   "execution_count": 35,
   "metadata": {},
   "outputs": [],
   "source": [
    "import os\n",
    "import keras\n",
    "\n",
    "# Disable GPU\n",
    "os.environ[\"CUDA_VISIBLE_DEVICES\"] = \"\""
   ]
  },
  {
   "cell_type": "code",
   "execution_count": 36,
   "metadata": {},
   "outputs": [],
   "source": [
    "train, test = keras.datasets.cifar10.load_data()"
   ]
  },
  {
   "cell_type": "code",
   "execution_count": 37,
   "metadata": {},
   "outputs": [],
   "source": [
    "## 資料前處理\n",
    "def preproc_x(x, flatten=True):\n",
    "    x = x / 255.\n",
    "    if flatten:\n",
    "        x = x.reshape((len(x), -1))\n",
    "    return x\n",
    "\n",
    "def preproc_y(y, num_classes=10):\n",
    "    if y.shape[-1] == 1:\n",
    "        y = keras.utils.to_categorical(y, num_classes)\n",
    "    return y    "
   ]
  },
  {
   "cell_type": "code",
   "execution_count": 38,
   "metadata": {},
   "outputs": [],
   "source": [
    "x_train, y_train = train\n",
    "x_test, y_test = test\n",
    "\n",
    "# Preproc the inputs\n",
    "x_train = preproc_x(x_train)\n",
    "x_test = preproc_x(x_test)\n",
    "\n",
    "# Preprc the outputs\n",
    "y_train = preproc_y(y_train)\n",
    "y_test = preproc_y(y_test)"
   ]
  },
  {
   "cell_type": "code",
   "execution_count": 39,
   "metadata": {},
   "outputs": [],
   "source": [
    "from keras.layers import BatchNormalization\n",
    "\n",
    "\"\"\"\n",
    "建立神經網路，並加入 BN layer\n",
    "\"\"\"\n",
    "def build_mlp(input_shape, output_units=10, num_neurons=[512, 256, 128]):\n",
    "    input_layer = keras.layers.Input(input_shape)\n",
    "    \n",
    "    for i, n_units in enumerate(num_neurons):\n",
    "        if i == 0:\n",
    "            x = keras.layers.Dense(units=n_units, \n",
    "                                   activation=\"relu\", \n",
    "                                   name=\"hidden_layer\"+str(i+1))(input_layer)\n",
    "            x = BatchNormalization()(x)\n",
    "        else:\n",
    "            x = keras.layers.Dense(units=n_units, \n",
    "                                   activation=\"relu\", \n",
    "                                   name=\"hidden_layer\"+str(i+1))(x)\n",
    "            x = BatchNormalization()(x)\n",
    "    \n",
    "    out = keras.layers.Dense(units=output_units, activation=\"softmax\", name=\"output\")(x)\n",
    "    \n",
    "    model = keras.models.Model(inputs=[input_layer], outputs=[out])\n",
    "    return model"
   ]
  },
  {
   "cell_type": "code",
   "execution_count": 40,
   "metadata": {},
   "outputs": [],
   "source": [
    "## 超參數設定\n",
    "LEARNING_RATE = 1e-3\n",
    "EPOCHS = 50\n",
    "BATCH_SIZE = 1024\n",
    "MOMENTUM = 0.95\n",
    "MODEL_CHECK=[True,False]"
   ]
  },
  {
   "cell_type": "code",
   "execution_count": 41,
   "metadata": {},
   "outputs": [
    {
     "name": "stdout",
     "output_type": "stream",
     "text": [
      "Experiment with ModelCheckpoint = True, filepath = ./tmp_MODEL_CHECK_True.h5\n",
      "Model: \"model_1\"\n",
      "_________________________________________________________________\n",
      "Layer (type)                 Output Shape              Param #   \n",
      "=================================================================\n",
      "input_1 (InputLayer)         (None, 3072)              0         \n",
      "_________________________________________________________________\n",
      "hidden_layer1 (Dense)        (None, 512)               1573376   \n",
      "_________________________________________________________________\n",
      "batch_normalization_1 (Batch (None, 512)               2048      \n",
      "_________________________________________________________________\n",
      "hidden_layer2 (Dense)        (None, 256)               131328    \n",
      "_________________________________________________________________\n",
      "batch_normalization_2 (Batch (None, 256)               1024      \n",
      "_________________________________________________________________\n",
      "hidden_layer3 (Dense)        (None, 128)               32896     \n",
      "_________________________________________________________________\n",
      "batch_normalization_3 (Batch (None, 128)               512       \n",
      "_________________________________________________________________\n",
      "output (Dense)               (None, 10)                1290      \n",
      "=================================================================\n",
      "Total params: 1,742,474\n",
      "Trainable params: 1,740,682\n",
      "Non-trainable params: 1,792\n",
      "_________________________________________________________________\n",
      "Train on 50000 samples, validate on 10000 samples\n",
      "Epoch 1/50\n",
      "50000/50000 [==============================] - 14s 287us/step - loss: 2.1893 - accuracy: 0.2782 - val_loss: 2.1180 - val_accuracy: 0.2073\n",
      "Epoch 2/50\n",
      "50000/50000 [==============================] - 12s 246us/step - loss: 1.7343 - accuracy: 0.3943 - val_loss: 1.9434 - val_accuracy: 0.3033\n",
      "Epoch 3/50\n",
      "50000/50000 [==============================] - 12s 246us/step - loss: 1.6136 - accuracy: 0.4316 - val_loss: 1.7875 - val_accuracy: 0.3776\n",
      "Epoch 4/50\n",
      "50000/50000 [==============================] - 12s 243us/step - loss: 1.5404 - accuracy: 0.4574 - val_loss: 1.6929 - val_accuracy: 0.4136\n",
      "Epoch 5/50\n",
      "50000/50000 [==============================] - 12s 247us/step - loss: 1.4865 - accuracy: 0.4784 - val_loss: 1.6256 - val_accuracy: 0.4341\n",
      "Epoch 6/50\n",
      "50000/50000 [==============================] - 13s 252us/step - loss: 1.4406 - accuracy: 0.4930 - val_loss: 1.5640 - val_accuracy: 0.4463\n",
      "Epoch 7/50\n",
      "50000/50000 [==============================] - 13s 252us/step - loss: 1.4010 - accuracy: 0.5074 - val_loss: 1.5327 - val_accuracy: 0.4576\n",
      "Epoch 8/50\n",
      "50000/50000 [==============================] - 13s 250us/step - loss: 1.3665 - accuracy: 0.5198 - val_loss: 1.5084 - val_accuracy: 0.4607\n",
      "Epoch 9/50\n",
      "50000/50000 [==============================] - 12s 246us/step - loss: 1.3368 - accuracy: 0.5321 - val_loss: 1.5018 - val_accuracy: 0.4632\n",
      "Epoch 10/50\n",
      "50000/50000 [==============================] - 13s 251us/step - loss: 1.3052 - accuracy: 0.5433 - val_loss: 1.4799 - val_accuracy: 0.4712\n",
      "Epoch 11/50\n",
      "50000/50000 [==============================] - 13s 252us/step - loss: 1.2778 - accuracy: 0.5528 - val_loss: 1.4743 - val_accuracy: 0.4745\n",
      "Epoch 12/50\n",
      "50000/50000 [==============================] - 12s 246us/step - loss: 1.2501 - accuracy: 0.5644 - val_loss: 1.4711 - val_accuracy: 0.4754\n",
      "Epoch 13/50\n",
      "50000/50000 [==============================] - 12s 249us/step - loss: 1.2264 - accuracy: 0.5751 - val_loss: 1.4674 - val_accuracy: 0.4771\n",
      "Epoch 14/50\n",
      "50000/50000 [==============================] - 12s 249us/step - loss: 1.2026 - accuracy: 0.5816 - val_loss: 1.4553 - val_accuracy: 0.4816\n",
      "Epoch 15/50\n",
      "50000/50000 [==============================] - 13s 251us/step - loss: 1.1797 - accuracy: 0.5918 - val_loss: 1.4490 - val_accuracy: 0.4848\n",
      "Epoch 16/50\n",
      "50000/50000 [==============================] - 12s 249us/step - loss: 1.1552 - accuracy: 0.6010 - val_loss: 1.4456 - val_accuracy: 0.4913\n",
      "Epoch 17/50\n",
      "50000/50000 [==============================] - 12s 248us/step - loss: 1.1318 - accuracy: 0.6096 - val_loss: 1.4499 - val_accuracy: 0.4853\n",
      "Epoch 18/50\n",
      "50000/50000 [==============================] - 13s 252us/step - loss: 1.1085 - accuracy: 0.6208 - val_loss: 1.4514 - val_accuracy: 0.4907\n",
      "Epoch 19/50\n",
      "50000/50000 [==============================] - 12s 249us/step - loss: 1.0887 - accuracy: 0.6265 - val_loss: 1.4488 - val_accuracy: 0.4916\n",
      "Epoch 20/50\n",
      "50000/50000 [==============================] - 12s 250us/step - loss: 1.0668 - accuracy: 0.6366 - val_loss: 1.4658 - val_accuracy: 0.4866\n",
      "Epoch 21/50\n",
      "50000/50000 [==============================] - 12s 249us/step - loss: 1.0448 - accuracy: 0.6448 - val_loss: 1.4635 - val_accuracy: 0.4853\n",
      "Epoch 22/50\n",
      "50000/50000 [==============================] - 12s 249us/step - loss: 1.0249 - accuracy: 0.6509 - val_loss: 1.4498 - val_accuracy: 0.4976\n",
      "Epoch 23/50\n",
      "50000/50000 [==============================] - 13s 251us/step - loss: 1.0037 - accuracy: 0.6600 - val_loss: 1.4493 - val_accuracy: 0.4957\n",
      "Epoch 24/50\n",
      "50000/50000 [==============================] - 12s 245us/step - loss: 0.9834 - accuracy: 0.6676 - val_loss: 1.4633 - val_accuracy: 0.4897\n",
      "Epoch 25/50\n",
      "50000/50000 [==============================] - 13s 251us/step - loss: 0.9639 - accuracy: 0.6762 - val_loss: 1.4648 - val_accuracy: 0.4972\n",
      "Epoch 26/50\n",
      "50000/50000 [==============================] - 12s 247us/step - loss: 0.9436 - accuracy: 0.6839 - val_loss: 1.4601 - val_accuracy: 0.4948\n",
      "Epoch 27/50\n",
      "50000/50000 [==============================] - 13s 252us/step - loss: 0.9236 - accuracy: 0.6934 - val_loss: 1.4665 - val_accuracy: 0.4954\n",
      "Epoch 28/50\n",
      "50000/50000 [==============================] - 12s 247us/step - loss: 0.9055 - accuracy: 0.6988 - val_loss: 1.4767 - val_accuracy: 0.4923\n",
      "Epoch 29/50\n",
      "50000/50000 [==============================] - 13s 255us/step - loss: 0.8857 - accuracy: 0.7050 - val_loss: 1.4656 - val_accuracy: 0.4983\n",
      "Epoch 30/50\n",
      "50000/50000 [==============================] - 13s 261us/step - loss: 0.8643 - accuracy: 0.7149 - val_loss: 1.4803 - val_accuracy: 0.5010\n",
      "Epoch 31/50\n",
      "50000/50000 [==============================] - 13s 253us/step - loss: 0.8462 - accuracy: 0.7230 - val_loss: 1.4743 - val_accuracy: 0.4971\n",
      "Epoch 32/50\n",
      "50000/50000 [==============================] - 13s 251us/step - loss: 0.8254 - accuracy: 0.7306 - val_loss: 1.5018 - val_accuracy: 0.4887\n",
      "Epoch 33/50\n",
      "50000/50000 [==============================] - 13s 250us/step - loss: 0.8077 - accuracy: 0.7379 - val_loss: 1.4834 - val_accuracy: 0.4997\n",
      "Epoch 34/50\n",
      "50000/50000 [==============================] - 13s 252us/step - loss: 0.7877 - accuracy: 0.7451 - val_loss: 1.5161 - val_accuracy: 0.4900\n",
      "Epoch 35/50\n",
      "50000/50000 [==============================] - 13s 250us/step - loss: 0.7711 - accuracy: 0.7525 - val_loss: 1.5183 - val_accuracy: 0.4932\n",
      "Epoch 36/50\n",
      "50000/50000 [==============================] - 12s 245us/step - loss: 0.7527 - accuracy: 0.7600 - val_loss: 1.5195 - val_accuracy: 0.4969\n",
      "Epoch 37/50\n",
      "50000/50000 [==============================] - 12s 250us/step - loss: 0.7311 - accuracy: 0.7682 - val_loss: 1.5195 - val_accuracy: 0.4911\n",
      "Epoch 38/50\n",
      "50000/50000 [==============================] - 13s 251us/step - loss: 0.7162 - accuracy: 0.7731 - val_loss: 1.5178 - val_accuracy: 0.4986\n",
      "Epoch 39/50\n",
      "50000/50000 [==============================] - 12s 250us/step - loss: 0.6955 - accuracy: 0.7823 - val_loss: 1.5494 - val_accuracy: 0.4951\n",
      "Epoch 40/50\n",
      "50000/50000 [==============================] - 12s 244us/step - loss: 0.6795 - accuracy: 0.7890 - val_loss: 1.5639 - val_accuracy: 0.4965\n",
      "Epoch 41/50\n",
      "50000/50000 [==============================] - 13s 251us/step - loss: 0.6616 - accuracy: 0.7961 - val_loss: 1.5755 - val_accuracy: 0.4905\n",
      "Epoch 42/50\n",
      "50000/50000 [==============================] - 12s 250us/step - loss: 0.6428 - accuracy: 0.8035 - val_loss: 1.5754 - val_accuracy: 0.4939\n",
      "Epoch 43/50\n",
      "50000/50000 [==============================] - 13s 254us/step - loss: 0.6266 - accuracy: 0.8082 - val_loss: 1.5864 - val_accuracy: 0.4943\n",
      "Epoch 44/50\n",
      "50000/50000 [==============================] - 13s 255us/step - loss: 0.6093 - accuracy: 0.8159 - val_loss: 1.5986 - val_accuracy: 0.4934\n",
      "Epoch 45/50\n"
     ]
    },
    {
     "name": "stdout",
     "output_type": "stream",
     "text": [
      "50000/50000 [==============================] - 13s 259us/step - loss: 0.5903 - accuracy: 0.8241 - val_loss: 1.5918 - val_accuracy: 0.4977\n",
      "Epoch 46/50\n",
      "50000/50000 [==============================] - 13s 256us/step - loss: 0.5732 - accuracy: 0.8324 - val_loss: 1.6386 - val_accuracy: 0.4917\n",
      "Epoch 47/50\n",
      "50000/50000 [==============================] - 13s 254us/step - loss: 0.5575 - accuracy: 0.8364 - val_loss: 1.6268 - val_accuracy: 0.4905\n",
      "Epoch 48/50\n",
      "50000/50000 [==============================] - 13s 255us/step - loss: 0.5414 - accuracy: 0.8430 - val_loss: 1.6235 - val_accuracy: 0.4929\n",
      "Epoch 49/50\n",
      "50000/50000 [==============================] - 13s 258us/step - loss: 0.5239 - accuracy: 0.8496 - val_loss: 1.6692 - val_accuracy: 0.4810\n",
      "Epoch 50/50\n",
      "50000/50000 [==============================] - 13s 251us/step - loss: 0.5090 - accuracy: 0.8557 - val_loss: 1.6836 - val_accuracy: 0.4893\n",
      "Experiment with ModelCheckpoint = False, filepath = ./tmp_MODEL_CHECK_False.h5\n",
      "Model: \"model_1\"\n",
      "_________________________________________________________________\n",
      "Layer (type)                 Output Shape              Param #   \n",
      "=================================================================\n",
      "input_1 (InputLayer)         (None, 3072)              0         \n",
      "_________________________________________________________________\n",
      "hidden_layer1 (Dense)        (None, 512)               1573376   \n",
      "_________________________________________________________________\n",
      "batch_normalization_1 (Batch (None, 512)               2048      \n",
      "_________________________________________________________________\n",
      "hidden_layer2 (Dense)        (None, 256)               131328    \n",
      "_________________________________________________________________\n",
      "batch_normalization_2 (Batch (None, 256)               1024      \n",
      "_________________________________________________________________\n",
      "hidden_layer3 (Dense)        (None, 128)               32896     \n",
      "_________________________________________________________________\n",
      "batch_normalization_3 (Batch (None, 128)               512       \n",
      "_________________________________________________________________\n",
      "output (Dense)               (None, 10)                1290      \n",
      "=================================================================\n",
      "Total params: 1,742,474\n",
      "Trainable params: 1,740,682\n",
      "Non-trainable params: 1,792\n",
      "_________________________________________________________________\n",
      "Train on 50000 samples, validate on 10000 samples\n",
      "Epoch 1/50\n",
      "50000/50000 [==============================] - 15s 294us/step - loss: 2.2043 - accuracy: 0.2682 - val_loss: 2.1157 - val_accuracy: 0.2295\n",
      "Epoch 2/50\n",
      "50000/50000 [==============================] - 13s 255us/step - loss: 1.7466 - accuracy: 0.3920 - val_loss: 1.9572 - val_accuracy: 0.3108\n",
      "Epoch 3/50\n",
      "50000/50000 [==============================] - 12s 246us/step - loss: 1.6228 - accuracy: 0.4322 - val_loss: 1.8105 - val_accuracy: 0.3737\n",
      "Epoch 4/50\n",
      "50000/50000 [==============================] - 12s 248us/step - loss: 1.5479 - accuracy: 0.4587 - val_loss: 1.7151 - val_accuracy: 0.4076\n",
      "Epoch 5/50\n",
      "50000/50000 [==============================] - 12s 247us/step - loss: 1.4929 - accuracy: 0.4784 - val_loss: 1.6469 - val_accuracy: 0.4250\n",
      "Epoch 6/50\n",
      "50000/50000 [==============================] - 13s 256us/step - loss: 1.4480 - accuracy: 0.4974 - val_loss: 1.5888 - val_accuracy: 0.4408\n",
      "Epoch 7/50\n",
      "50000/50000 [==============================] - 13s 250us/step - loss: 1.4087 - accuracy: 0.5096 - val_loss: 1.5705 - val_accuracy: 0.4396\n",
      "Epoch 8/50\n",
      "50000/50000 [==============================] - 12s 248us/step - loss: 1.3734 - accuracy: 0.5226 - val_loss: 1.5268 - val_accuracy: 0.4603\n",
      "Epoch 9/50\n",
      "50000/50000 [==============================] - 12s 249us/step - loss: 1.3422 - accuracy: 0.5348 - val_loss: 1.5088 - val_accuracy: 0.4657\n",
      "Epoch 10/50\n",
      "50000/50000 [==============================] - 12s 249us/step - loss: 1.3111 - accuracy: 0.5434 - val_loss: 1.4908 - val_accuracy: 0.4712\n",
      "Epoch 11/50\n",
      "50000/50000 [==============================] - 13s 253us/step - loss: 1.2823 - accuracy: 0.5567 - val_loss: 1.4774 - val_accuracy: 0.4764\n",
      "Epoch 12/50\n",
      "50000/50000 [==============================] - 13s 260us/step - loss: 1.2563 - accuracy: 0.5644 - val_loss: 1.4734 - val_accuracy: 0.4776\n",
      "Epoch 13/50\n",
      "50000/50000 [==============================] - 13s 258us/step - loss: 1.2294 - accuracy: 0.5745 - val_loss: 1.4627 - val_accuracy: 0.4870\n",
      "Epoch 14/50\n",
      "50000/50000 [==============================] - 12s 246us/step - loss: 1.2049 - accuracy: 0.5841 - val_loss: 1.4555 - val_accuracy: 0.4902\n",
      "Epoch 15/50\n",
      "50000/50000 [==============================] - 13s 257us/step - loss: 1.1802 - accuracy: 0.5932 - val_loss: 1.4520 - val_accuracy: 0.4884\n",
      "Epoch 16/50\n",
      "50000/50000 [==============================] - 13s 257us/step - loss: 1.1558 - accuracy: 0.6016 - val_loss: 1.4605 - val_accuracy: 0.4843\n",
      "Epoch 17/50\n",
      "50000/50000 [==============================] - 12s 249us/step - loss: 1.1343 - accuracy: 0.6113 - val_loss: 1.4529 - val_accuracy: 0.4879\n",
      "Epoch 18/50\n",
      "50000/50000 [==============================] - 12s 248us/step - loss: 1.1093 - accuracy: 0.6202 - val_loss: 1.4460 - val_accuracy: 0.4962\n",
      "Epoch 19/50\n",
      "50000/50000 [==============================] - 12s 248us/step - loss: 1.0876 - accuracy: 0.6302 - val_loss: 1.4412 - val_accuracy: 0.4966\n",
      "Epoch 20/50\n",
      "50000/50000 [==============================] - 13s 262us/step - loss: 1.0636 - accuracy: 0.6373 - val_loss: 1.4423 - val_accuracy: 0.4967\n",
      "Epoch 21/50\n",
      "50000/50000 [==============================] - 12s 250us/step - loss: 1.0413 - accuracy: 0.6472 - val_loss: 1.4355 - val_accuracy: 0.5007\n",
      "Epoch 22/50\n",
      "50000/50000 [==============================] - 12s 246us/step - loss: 1.0200 - accuracy: 0.6558 - val_loss: 1.4446 - val_accuracy: 0.5007\n",
      "Epoch 23/50\n",
      "50000/50000 [==============================] - 12s 250us/step - loss: 0.9987 - accuracy: 0.6635 - val_loss: 1.4349 - val_accuracy: 0.5069\n",
      "Epoch 24/50\n",
      "50000/50000 [==============================] - 13s 251us/step - loss: 0.9774 - accuracy: 0.6714 - val_loss: 1.4495 - val_accuracy: 0.4970\n",
      "Epoch 25/50\n",
      "50000/50000 [==============================] - 13s 254us/step - loss: 0.9556 - accuracy: 0.6796 - val_loss: 1.4549 - val_accuracy: 0.4989\n",
      "Epoch 26/50\n",
      "50000/50000 [==============================] - 12s 249us/step - loss: 0.9355 - accuracy: 0.6889 - val_loss: 1.4537 - val_accuracy: 0.5025\n",
      "Epoch 27/50\n",
      "50000/50000 [==============================] - 13s 252us/step - loss: 0.9153 - accuracy: 0.6956 - val_loss: 1.4608 - val_accuracy: 0.5006\n",
      "Epoch 28/50\n",
      "50000/50000 [==============================] - 13s 251us/step - loss: 0.8946 - accuracy: 0.7049 - val_loss: 1.4474 - val_accuracy: 0.5037\n",
      "Epoch 29/50\n",
      "50000/50000 [==============================] - 13s 251us/step - loss: 0.8741 - accuracy: 0.7116 - val_loss: 1.4664 - val_accuracy: 0.4986\n",
      "Epoch 30/50\n",
      "50000/50000 [==============================] - 13s 251us/step - loss: 0.8559 - accuracy: 0.7201 - val_loss: 1.4695 - val_accuracy: 0.5009\n",
      "Epoch 31/50\n",
      "50000/50000 [==============================] - 13s 250us/step - loss: 0.8338 - accuracy: 0.7278 - val_loss: 1.4777 - val_accuracy: 0.5024\n",
      "Epoch 32/50\n",
      "50000/50000 [==============================] - 12s 249us/step - loss: 0.8136 - accuracy: 0.7356 - val_loss: 1.4752 - val_accuracy: 0.5044\n",
      "Epoch 33/50\n",
      "50000/50000 [==============================] - 12s 247us/step - loss: 0.7944 - accuracy: 0.7444 - val_loss: 1.4950 - val_accuracy: 0.4994\n",
      "Epoch 34/50\n",
      "50000/50000 [==============================] - 12s 248us/step - loss: 0.7745 - accuracy: 0.7523 - val_loss: 1.4928 - val_accuracy: 0.4991\n",
      "Epoch 35/50\n",
      "50000/50000 [==============================] - 13s 260us/step - loss: 0.7550 - accuracy: 0.7600 - val_loss: 1.5017 - val_accuracy: 0.5039\n",
      "Epoch 36/50\n",
      "50000/50000 [==============================] - 13s 252us/step - loss: 0.7387 - accuracy: 0.7663 - val_loss: 1.5114 - val_accuracy: 0.5022\n",
      "Epoch 37/50\n",
      "50000/50000 [==============================] - 12s 248us/step - loss: 0.7175 - accuracy: 0.7736 - val_loss: 1.5349 - val_accuracy: 0.4961\n",
      "Epoch 38/50\n",
      "50000/50000 [==============================] - 12s 244us/step - loss: 0.6987 - accuracy: 0.7808 - val_loss: 1.5422 - val_accuracy: 0.4957\n",
      "Epoch 39/50\n"
     ]
    },
    {
     "name": "stdout",
     "output_type": "stream",
     "text": [
      "50000/50000 [==============================] - 12s 250us/step - loss: 0.6793 - accuracy: 0.7912 - val_loss: 1.5479 - val_accuracy: 0.5031\n",
      "Epoch 40/50\n",
      "50000/50000 [==============================] - 13s 252us/step - loss: 0.6596 - accuracy: 0.7979 - val_loss: 1.5529 - val_accuracy: 0.4954\n",
      "Epoch 41/50\n",
      "50000/50000 [==============================] - 12s 248us/step - loss: 0.6416 - accuracy: 0.8044 - val_loss: 1.5715 - val_accuracy: 0.5029\n",
      "Epoch 42/50\n",
      "50000/50000 [==============================] - 12s 246us/step - loss: 0.6232 - accuracy: 0.8120 - val_loss: 1.5760 - val_accuracy: 0.4917\n",
      "Epoch 43/50\n",
      "50000/50000 [==============================] - 12s 246us/step - loss: 0.6068 - accuracy: 0.8182 - val_loss: 1.5878 - val_accuracy: 0.5018\n",
      "Epoch 44/50\n",
      "50000/50000 [==============================] - 13s 253us/step - loss: 0.5886 - accuracy: 0.8269 - val_loss: 1.5952 - val_accuracy: 0.4903\n",
      "Epoch 45/50\n",
      "50000/50000 [==============================] - 13s 251us/step - loss: 0.5704 - accuracy: 0.8339 - val_loss: 1.6060 - val_accuracy: 0.5019\n",
      "Epoch 46/50\n",
      "50000/50000 [==============================] - 9s 185us/step - loss: 0.5555 - accuracy: 0.8371 - val_loss: 1.5959 - val_accuracy: 0.4973\n",
      "Epoch 47/50\n",
      "50000/50000 [==============================] - 9s 174us/step - loss: 0.5375 - accuracy: 0.8458 - val_loss: 1.6230 - val_accuracy: 0.5018\n",
      "Epoch 48/50\n",
      "50000/50000 [==============================] - 12s 234us/step - loss: 0.5197 - accuracy: 0.8531 - val_loss: 1.6454 - val_accuracy: 0.4920\n",
      "Epoch 49/50\n",
      "50000/50000 [==============================] - 12s 248us/step - loss: 0.5033 - accuracy: 0.8585 - val_loss: 1.6666 - val_accuracy: 0.4934\n",
      "Epoch 50/50\n",
      "50000/50000 [==============================] - 13s 250us/step - loss: 0.4861 - accuracy: 0.8657 - val_loss: 1.6588 - val_accuracy: 0.4977\n"
     ]
    }
   ],
   "source": [
    "# 載入 Callbacks, 並將監控目標設為 validation loss, 且設定最佳參數時的模型\n",
    "from keras.callbacks import ModelCheckpoint\n",
    "\n",
    "\n",
    "results = {}\n",
    "for mlchk in MODEL_CHECK:\n",
    "    keras.backend.clear_session() # 把舊的 Graph 清掉\n",
    "    #存檔路徑\n",
    "    file_path = \"./tmp_MODEL_CHECK_{0}.h5\".format(str(mlchk))\n",
    "    print(\"Experiment with ModelCheckpoint = %s, filepath = %s\" % (mlchk, file_path))\n",
    "    \n",
    "    model = build_mlp(input_shape=x_train.shape[1:])\n",
    "    model.summary()\n",
    "    optimizer = keras.optimizers.SGD(lr=LEARNING_RATE, nesterov=True, momentum=MOMENTUM)\n",
    "    \n",
    "    model_ckpt = ModelCheckpoint(filepath=file_path,\n",
    "                             monitor=\"val_loss\",\n",
    "                             save_best_only=mlchk)\n",
    "    \n",
    "    model.compile(loss=\"categorical_crossentropy\", metrics=[\"accuracy\"], optimizer=optimizer)\n",
    "\n",
    "    model.fit(x_train, y_train, \n",
    "              epochs=EPOCHS, \n",
    "              batch_size=BATCH_SIZE, \n",
    "              validation_data=(x_test, y_test), \n",
    "              shuffle=True,\n",
    "              callbacks=[model_ckpt]\n",
    "             )\n",
    "    model.save(\"final_model_{0}.h5\".format(str(mlchk)))\n",
    "    model.save_weights(\"model_weights_{0}.h5\".format(str(mlchk)))\n",
    "    \n",
    "    # Collect results\n",
    "    train_loss = model.history.history[\"loss\"]\n",
    "    valid_loss = model.history.history[\"val_loss\"]\n",
    "    train_acc = model.history.history[\"accuracy\"]\n",
    "    valid_acc = model.history.history[\"val_accuracy\"]\n",
    "    \n",
    "    exp_name_tag = \"exp-mlchk-%s\" % (str(mlchk))\n",
    "    results[exp_name_tag] = {'train-loss': train_loss,\n",
    "                             'valid-loss': valid_loss,\n",
    "                             'train-acc': train_acc,\n",
    "                             'valid-acc': valid_acc}\n",
    "    if mlchk == True:\n",
    "        pred_final = model.predict(x_test)\n",
    "        # Load back\n",
    "        model = keras.models.load_model(file_path)\n",
    "        pred_loadback = model.predict(x_test)"
   ]
  },
  {
   "cell_type": "code",
   "execution_count": 49,
   "metadata": {
    "scrolled": true
   },
   "outputs": [
    {
     "data": {
      "image/png": "[encoded data removed]",
      "text/plain": [
       "<Figure size 576x432 with 1 Axes>"
      ]
     },
     "metadata": {
      "needs_background": "light"
     },
     "output_type": "display_data"
    },
    {
     "data": {
      "image/png": "[encoded data removed]",
      "text/plain": [
       "<Figure size 576x432 with 1 Axes>"
      ]
     },
     "metadata": {
      "needs_background": "light"
     },
     "output_type": "display_data"
    }
   ],
   "source": [
    "import matplotlib.pyplot as plt\n",
    "%matplotlib inline\n",
    "\n",
    "import matplotlib.cm as mplcm\n",
    "import matplotlib.colors as colors\n",
    "NUM_COLORS = 25\n",
    "\n",
    "cm = plt.get_cmap('gist_rainbow')\n",
    "cNorm  = colors.Normalize(vmin=0, vmax=NUM_COLORS-1)\n",
    "scalarMap = mplcm.ScalarMappable(norm=cNorm, cmap=cm)\n",
    "# color_bar = [scalarMap.to_rgba(i) for i in range(NUM_COLORS)]\n",
    "color_bar = [\"r\", \"g\", \"b\", \"y\", \"m\", \"k\"]\n",
    "plt.figure(figsize=(8,6))\n",
    "for i, cond in enumerate(results.keys()):\n",
    "    plt.plot(range(len(results[cond]['train-loss'])),results[cond]['train-loss'], '-', label=cond, color=color_bar[i])\n",
    "    plt.plot(range(len(results[cond]['valid-loss'])),results[cond]['valid-loss'], '--', label=cond, color=color_bar[i])\n",
    "plt.title(\"Loss\")\n",
    "plt.ylim([0, 5])\n",
    "plt.legend()\n",
    "plt.show()\n",
    "\n",
    "plt.figure(figsize=(8,6))\n",
    "for i, cond in enumerate(results.keys()):\n",
    "    plt.plot(range(len(results[cond]['train-acc'])),results[cond]['train-acc'], '-', label=cond, color=color_bar[i])\n",
    "    plt.plot(range(len(results[cond]['valid-acc'])),results[cond]['valid-acc'], '--', label=cond, color=color_bar[i])\n",
    "plt.title(\"Accuracy\")\n",
    "plt.legend()\n",
    "plt.show()"
   ]
  },
  {
   "cell_type": "markdown",
   "metadata": {},
   "source": [
    "#### 請僅存入將 save_weights_only 設定為 True, 並嘗試 reset ipynb 並將模型與權重重新建回並預測 x_test"
   ]
  },
  {
   "cell_type": "code",
   "execution_count": 43,
   "metadata": {},
   "outputs": [
    {
     "name": "stdout",
     "output_type": "stream",
     "text": [
      "10000/10000 [==============================] - 4s 353us/step\n"
     ]
    }
   ],
   "source": [
    "# Load back\n",
    "import os\n",
    "import keras\n",
    "model = keras.models.load_model(\"./final_model_True.h5\")\n",
    "loss_loadback, acc_loadback = model.evaluate(x_test, y_test)"
   ]
  },
  {
   "cell_type": "code",
   "execution_count": 44,
   "metadata": {},
   "outputs": [
    {
     "data": {
      "text/plain": [
       "1.6835782442092895"
      ]
     },
     "execution_count": 44,
     "metadata": {},
     "output_type": "execute_result"
    }
   ],
   "source": [
    "loss_loadback"
   ]
  },
  {
   "cell_type": "code",
   "execution_count": 45,
   "metadata": {},
   "outputs": [
    {
     "data": {
      "text/plain": [
       "0.489300012588501"
      ]
     },
     "execution_count": 45,
     "metadata": {},
     "output_type": "execute_result"
    }
   ],
   "source": [
    "acc_loadback"
   ]
  },
  {
   "cell_type": "code",
   "execution_count": 46,
   "metadata": {},
   "outputs": [
    {
     "name": "stdout",
     "output_type": "stream",
     "text": [
      "Accuracy of final weights: 0.489\n",
      "Accuracy of best weights: 0.491\n"
     ]
    }
   ],
   "source": [
    "from sklearn.metrics import accuracy_score\n",
    "\n",
    "final_model_acc = accuracy_score(y_true=y_test.argmax(axis=-1), y_pred=pred_final.argmax(axis=-1))\n",
    "loadback_acc = accuracy_score(y_true=y_test.argmax(axis=-1), y_pred=pred_loadback.argmax(axis=-1))\n",
    "\n",
    "print(\"Accuracy of final weights: %.3f\" % final_model_acc)\n",
    "print(\"Accuracy of best weights: %.3f\" % loadback_acc)"
   ]
  },
  {
   "cell_type": "code",
   "execution_count": 47,
   "metadata": {},
   "outputs": [
    {
     "name": "stdout",
     "output_type": "stream",
     "text": [
      "Accuracy of best weights: 0.092\n",
      "Accuracy of best weights: 0.489\n"
     ]
    }
   ],
   "source": [
    "new_model = build_mlp(input_shape=x_train.shape[1:])\n",
    "new_model_pred = new_model.predict(x_test)\n",
    "new_model_acc = accuracy_score(y_true=y_test.argmax(axis=-1), y_pred=new_model_pred.argmax(axis=-1))\n",
    "print(\"Accuracy of best weights: %.3f\" % new_model_acc)\n",
    "\n",
    "new_model.load_weights(\"./model_weights_True.h5\")\n",
    "new_model_pred = new_model.predict(x_test)\n",
    "new_model_loadback_acc = accuracy_score(y_true=y_test.argmax(axis=-1), y_pred=new_model_pred.argmax(axis=-1))\n",
    "print(\"Accuracy of best weights: %.3f\" % new_model_loadback_acc)"
   ]
  }
 ],
 "metadata": {
  "kernelspec": {
   "display_name": "Python 3",
   "language": "python",
   "name": "python3"
  },
  "language_info": {
   "codemirror_mode": {
    "name": "ipython",
    "version": 3
   },
   "file_extension": ".py",
   "mimetype": "text/x-python",
   "name": "python",
   "nbconvert_exporter": "python",
   "pygments_lexer": "ipython3",
   "version": "3.7.6"
  }
 },
 "nbformat": 4,
 "nbformat_minor": 2
}
