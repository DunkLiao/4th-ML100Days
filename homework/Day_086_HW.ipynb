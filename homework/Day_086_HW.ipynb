{
 "cells": [
  {
   "cell_type": "markdown",
   "metadata": {},
   "source": [
    "### 專案名稱: 第四屆機器學習百日馬拉松\n",
    "### 功能描述: 第86天作業\n",
    "### 版權所有: Dunk  \n",
    "### 程式撰寫: Dunk  \n",
    "### 撰寫日期：2020/06/16\n",
    "### 改版日期:  \n",
    "### 改版備註:"
   ]
  },
  {
   "cell_type": "markdown",
   "metadata": {},
   "source": [
    "## Work\n",
    "1. 試比較 save_best_only 與否的差異\n",
    "2. 請僅存入將 save_weights_only 設定為 True, 並嘗試 reset ipynb 並將模型與權重重新建回並預測 x_test"
   ]
  },
  {
   "cell_type": "markdown",
   "metadata": {},
   "source": [
    "### ANS:"
   ]
  },
  {
   "cell_type": "code",
   "execution_count": 1,
   "metadata": {},
   "outputs": [
    {
     "name": "stderr",
     "output_type": "stream",
     "text": [
      "Using TensorFlow backend.\n"
     ]
    }
   ],
   "source": [
    "import os\n",
    "import keras\n",
    "\n",
    "# Disable GPU\n",
    "os.environ[\"CUDA_VISIBLE_DEVICES\"] = \"\""
   ]
  },
  {
   "cell_type": "code",
   "execution_count": 2,
   "metadata": {},
   "outputs": [],
   "source": [
    "train, test = keras.datasets.cifar10.load_data()"
   ]
  },
  {
   "cell_type": "code",
   "execution_count": 3,
   "metadata": {},
   "outputs": [],
   "source": [
    "## 資料前處理\n",
    "def preproc_x(x, flatten=True):\n",
    "    x = x / 255.\n",
    "    if flatten:\n",
    "        x = x.reshape((len(x), -1))\n",
    "    return x\n",
    "\n",
    "def preproc_y(y, num_classes=10):\n",
    "    if y.shape[-1] == 1:\n",
    "        y = keras.utils.to_categorical(y, num_classes)\n",
    "    return y    "
   ]
  },
  {
   "cell_type": "code",
   "execution_count": 4,
   "metadata": {},
   "outputs": [],
   "source": [
    "x_train, y_train = train\n",
    "x_test, y_test = test\n",
    "\n",
    "# Preproc the inputs\n",
    "x_train = preproc_x(x_train)\n",
    "x_test = preproc_x(x_test)\n",
    "\n",
    "# Preprc the outputs\n",
    "y_train = preproc_y(y_train)\n",
    "y_test = preproc_y(y_test)"
   ]
  },
  {
   "cell_type": "code",
   "execution_count": 5,
   "metadata": {},
   "outputs": [],
   "source": [
    "from keras.layers import BatchNormalization\n",
    "\n",
    "\"\"\"\n",
    "建立神經網路，並加入 BN layer\n",
    "\"\"\"\n",
    "def build_mlp(input_shape, output_units=10, num_neurons=[512, 256, 128]):\n",
    "    input_layer = keras.layers.Input(input_shape)\n",
    "    \n",
    "    for i, n_units in enumerate(num_neurons):\n",
    "        if i == 0:\n",
    "            x = keras.layers.Dense(units=n_units, \n",
    "                                   activation=\"relu\", \n",
    "                                   name=\"hidden_layer\"+str(i+1))(input_layer)\n",
    "            x = BatchNormalization()(x)\n",
    "        else:\n",
    "            x = keras.layers.Dense(units=n_units, \n",
    "                                   activation=\"relu\", \n",
    "                                   name=\"hidden_layer\"+str(i+1))(x)\n",
    "            x = BatchNormalization()(x)\n",
    "    \n",
    "    out = keras.layers.Dense(units=output_units, activation=\"softmax\", name=\"output\")(x)\n",
    "    \n",
    "    model = keras.models.Model(inputs=[input_layer], outputs=[out])\n",
    "    return model"
   ]
  },
  {
   "cell_type": "code",
   "execution_count": 6,
   "metadata": {},
   "outputs": [],
   "source": [
    "## 超參數設定\n",
    "LEARNING_RATE = 1e-3\n",
    "EPOCHS = 50\n",
    "BATCH_SIZE = 1024\n",
    "MOMENTUM = 0.95\n",
    "MODEL_CHECK=[True,False]"
   ]
  },
  {
   "cell_type": "code",
   "execution_count": 7,
   "metadata": {},
   "outputs": [
    {
     "name": "stdout",
     "output_type": "stream",
     "text": [
      "Experiment with ModelCheckpoint = True, filepath = ./tmp_MODEL_CHECK_True.h5\n",
      "Model: \"model_1\"\n",
      "_________________________________________________________________\n",
      "Layer (type)                 Output Shape              Param #   \n",
      "=================================================================\n",
      "input_1 (InputLayer)         (None, 3072)              0         \n",
      "_________________________________________________________________\n",
      "hidden_layer1 (Dense)        (None, 512)               1573376   \n",
      "_________________________________________________________________\n",
      "batch_normalization_1 (Batch (None, 512)               2048      \n",
      "_________________________________________________________________\n",
      "hidden_layer2 (Dense)        (None, 256)               131328    \n",
      "_________________________________________________________________\n",
      "batch_normalization_2 (Batch (None, 256)               1024      \n",
      "_________________________________________________________________\n",
      "hidden_layer3 (Dense)        (None, 128)               32896     \n",
      "_________________________________________________________________\n",
      "batch_normalization_3 (Batch (None, 128)               512       \n",
      "_________________________________________________________________\n",
      "output (Dense)               (None, 10)                1290      \n",
      "=================================================================\n",
      "Total params: 1,742,474\n",
      "Trainable params: 1,740,682\n",
      "Non-trainable params: 1,792\n",
      "_________________________________________________________________\n",
      "Train on 50000 samples, validate on 10000 samples\n",
      "Epoch 1/50\n",
      "50000/50000 [==============================] - 7s 149us/step - loss: 2.2385 - accuracy: 0.2736 - val_loss: 2.1544 - val_accuracy: 0.1951\n",
      "Epoch 2/50\n",
      "50000/50000 [==============================] - 7s 140us/step - loss: 1.7571 - accuracy: 0.3894 - val_loss: 2.0030 - val_accuracy: 0.2792\n",
      "Epoch 3/50\n",
      "50000/50000 [==============================] - 7s 136us/step - loss: 1.6230 - accuracy: 0.4334 - val_loss: 1.8502 - val_accuracy: 0.3547\n",
      "Epoch 4/50\n",
      "50000/50000 [==============================] - 7s 136us/step - loss: 1.5504 - accuracy: 0.4573 - val_loss: 1.7299 - val_accuracy: 0.4022\n",
      "Epoch 5/50\n",
      "50000/50000 [==============================] - 7s 137us/step - loss: 1.4951 - accuracy: 0.4772 - val_loss: 1.6467 - val_accuracy: 0.4240\n",
      "Epoch 6/50\n",
      "50000/50000 [==============================] - 7s 144us/step - loss: 1.4492 - accuracy: 0.4953 - val_loss: 1.6036 - val_accuracy: 0.4443\n",
      "Epoch 7/50\n",
      "50000/50000 [==============================] - 7s 145us/step - loss: 1.4089 - accuracy: 0.5087 - val_loss: 1.5480 - val_accuracy: 0.4559\n",
      "Epoch 8/50\n",
      "50000/50000 [==============================] - 8s 159us/step - loss: 1.3753 - accuracy: 0.5213 - val_loss: 1.5336 - val_accuracy: 0.4587\n",
      "Epoch 9/50\n",
      "50000/50000 [==============================] - 8s 158us/step - loss: 1.3420 - accuracy: 0.5336 - val_loss: 1.5221 - val_accuracy: 0.4627\n",
      "Epoch 10/50\n",
      "50000/50000 [==============================] - 8s 154us/step - loss: 1.3109 - accuracy: 0.5457 - val_loss: 1.4994 - val_accuracy: 0.4731\n",
      "Epoch 11/50\n",
      "50000/50000 [==============================] - 8s 154us/step - loss: 1.2808 - accuracy: 0.5567 - val_loss: 1.4885 - val_accuracy: 0.4796\n",
      "Epoch 12/50\n",
      "50000/50000 [==============================] - 7s 150us/step - loss: 1.2544 - accuracy: 0.5667 - val_loss: 1.4746 - val_accuracy: 0.4839\n",
      "Epoch 13/50\n",
      "50000/50000 [==============================] - 8s 159us/step - loss: 1.2276 - accuracy: 0.5758 - val_loss: 1.4842 - val_accuracy: 0.4792\n",
      "Epoch 14/50\n",
      "50000/50000 [==============================] - 8s 170us/step - loss: 1.2026 - accuracy: 0.5870 - val_loss: 1.4790 - val_accuracy: 0.4754\n",
      "Epoch 15/50\n",
      "50000/50000 [==============================] - 8s 152us/step - loss: 1.1795 - accuracy: 0.5935 - val_loss: 1.4867 - val_accuracy: 0.4797\n",
      "Epoch 16/50\n",
      "50000/50000 [==============================] - 8s 167us/step - loss: 1.1547 - accuracy: 0.6055 - val_loss: 1.4710 - val_accuracy: 0.4859\n",
      "Epoch 17/50\n",
      "50000/50000 [==============================] - 8s 153us/step - loss: 1.1317 - accuracy: 0.6127 - val_loss: 1.4606 - val_accuracy: 0.4852\n",
      "Epoch 18/50\n",
      "50000/50000 [==============================] - 8s 151us/step - loss: 1.1086 - accuracy: 0.6228 - val_loss: 1.4732 - val_accuracy: 0.4885\n",
      "Epoch 19/50\n",
      "50000/50000 [==============================] - 8s 151us/step - loss: 1.0876 - accuracy: 0.6280 - val_loss: 1.4655 - val_accuracy: 0.4881\n",
      "Epoch 20/50\n",
      "50000/50000 [==============================] - 8s 151us/step - loss: 1.0656 - accuracy: 0.6375 - val_loss: 1.4602 - val_accuracy: 0.4893\n",
      "Epoch 21/50\n",
      "50000/50000 [==============================] - 8s 153us/step - loss: 1.0430 - accuracy: 0.6462 - val_loss: 1.4782 - val_accuracy: 0.4874\n",
      "Epoch 22/50\n",
      "50000/50000 [==============================] - 8s 152us/step - loss: 1.0221 - accuracy: 0.6531 - val_loss: 1.4638 - val_accuracy: 0.4914\n",
      "Epoch 23/50\n",
      "50000/50000 [==============================] - 8s 155us/step - loss: 1.0014 - accuracy: 0.6617 - val_loss: 1.4681 - val_accuracy: 0.4914\n",
      "Epoch 24/50\n",
      "50000/50000 [==============================] - 8s 155us/step - loss: 0.9799 - accuracy: 0.6702 - val_loss: 1.4642 - val_accuracy: 0.4935\n",
      "Epoch 25/50\n",
      "50000/50000 [==============================] - 8s 151us/step - loss: 0.9613 - accuracy: 0.6764 - val_loss: 1.4718 - val_accuracy: 0.4922\n",
      "Epoch 26/50\n",
      "50000/50000 [==============================] - 8s 152us/step - loss: 0.9423 - accuracy: 0.6847 - val_loss: 1.4708 - val_accuracy: 0.4883\n",
      "Epoch 27/50\n",
      "50000/50000 [==============================] - 8s 152us/step - loss: 0.9197 - accuracy: 0.6946 - val_loss: 1.4673 - val_accuracy: 0.4953\n",
      "Epoch 28/50\n",
      "50000/50000 [==============================] - 8s 152us/step - loss: 0.8997 - accuracy: 0.7021 - val_loss: 1.4737 - val_accuracy: 0.4926\n",
      "Epoch 29/50\n",
      "50000/50000 [==============================] - 8s 150us/step - loss: 0.8815 - accuracy: 0.7087 - val_loss: 1.4842 - val_accuracy: 0.4923\n",
      "Epoch 30/50\n",
      "50000/50000 [==============================] - 8s 150us/step - loss: 0.8606 - accuracy: 0.7157 - val_loss: 1.4833 - val_accuracy: 0.4976\n",
      "Epoch 31/50\n",
      "50000/50000 [==============================] - 8s 156us/step - loss: 0.8416 - accuracy: 0.7220 - val_loss: 1.5001 - val_accuracy: 0.4918\n",
      "Epoch 32/50\n",
      "50000/50000 [==============================] - 8s 156us/step - loss: 0.8218 - accuracy: 0.7313 - val_loss: 1.5085 - val_accuracy: 0.4913\n",
      "Epoch 33/50\n",
      "50000/50000 [==============================] - 8s 156us/step - loss: 0.8025 - accuracy: 0.7388 - val_loss: 1.5114 - val_accuracy: 0.4973\n",
      "Epoch 34/50\n",
      "50000/50000 [==============================] - 8s 154us/step - loss: 0.7825 - accuracy: 0.7482 - val_loss: 1.5245 - val_accuracy: 0.4892\n",
      "Epoch 35/50\n",
      "50000/50000 [==============================] - 8s 151us/step - loss: 0.7646 - accuracy: 0.7552 - val_loss: 1.5223 - val_accuracy: 0.4877\n",
      "Epoch 36/50\n",
      "50000/50000 [==============================] - 8s 153us/step - loss: 0.7449 - accuracy: 0.7618 - val_loss: 1.5278 - val_accuracy: 0.4930\n",
      "Epoch 37/50\n",
      "50000/50000 [==============================] - 8s 151us/step - loss: 0.7246 - accuracy: 0.7701 - val_loss: 1.5562 - val_accuracy: 0.4876\n",
      "Epoch 38/50\n",
      "50000/50000 [==============================] - 8s 152us/step - loss: 0.7085 - accuracy: 0.7758 - val_loss: 1.5628 - val_accuracy: 0.4848\n",
      "Epoch 39/50\n",
      "50000/50000 [==============================] - 8s 159us/step - loss: 0.6879 - accuracy: 0.7863 - val_loss: 1.5557 - val_accuracy: 0.4922\n",
      "Epoch 40/50\n",
      "50000/50000 [==============================] - 8s 152us/step - loss: 0.6706 - accuracy: 0.7912 - val_loss: 1.5740 - val_accuracy: 0.4885\n",
      "Epoch 41/50\n",
      "50000/50000 [==============================] - 8s 152us/step - loss: 0.6532 - accuracy: 0.7992 - val_loss: 1.5892 - val_accuracy: 0.4884\n",
      "Epoch 42/50\n",
      "50000/50000 [==============================] - 7s 150us/step - loss: 0.6358 - accuracy: 0.8039 - val_loss: 1.6072 - val_accuracy: 0.4792\n",
      "Epoch 43/50\n",
      "50000/50000 [==============================] - 8s 152us/step - loss: 0.6178 - accuracy: 0.8135 - val_loss: 1.6118 - val_accuracy: 0.4900\n",
      "Epoch 44/50\n",
      "50000/50000 [==============================] - 8s 153us/step - loss: 0.6003 - accuracy: 0.8208 - val_loss: 1.6270 - val_accuracy: 0.4850\n",
      "Epoch 45/50\n",
      "50000/50000 [==============================] - 8s 152us/step - loss: 0.5841 - accuracy: 0.8265 - val_loss: 1.6359 - val_accuracy: 0.4847\n"
     ]
    },
    {
     "name": "stdout",
     "output_type": "stream",
     "text": [
      "Epoch 46/50\n",
      "50000/50000 [==============================] - 8s 151us/step - loss: 0.5677 - accuracy: 0.8328 - val_loss: 1.6200 - val_accuracy: 0.4940\n",
      "Epoch 47/50\n",
      "50000/50000 [==============================] - 8s 158us/step - loss: 0.5470 - accuracy: 0.8406 - val_loss: 1.6503 - val_accuracy: 0.4877\n",
      "Epoch 48/50\n",
      "50000/50000 [==============================] - 7s 150us/step - loss: 0.5322 - accuracy: 0.8462 - val_loss: 1.6707 - val_accuracy: 0.4884\n",
      "Epoch 49/50\n",
      "50000/50000 [==============================] - 8s 159us/step - loss: 0.5153 - accuracy: 0.8535 - val_loss: 1.6631 - val_accuracy: 0.4916\n",
      "Epoch 50/50\n",
      "50000/50000 [==============================] - 7s 150us/step - loss: 0.4991 - accuracy: 0.8607 - val_loss: 1.6799 - val_accuracy: 0.4877\n",
      "Experiment with ModelCheckpoint = False, filepath = ./tmp_MODEL_CHECK_False.h5\n",
      "Model: \"model_1\"\n",
      "_________________________________________________________________\n",
      "Layer (type)                 Output Shape              Param #   \n",
      "=================================================================\n",
      "input_1 (InputLayer)         (None, 3072)              0         \n",
      "_________________________________________________________________\n",
      "hidden_layer1 (Dense)        (None, 512)               1573376   \n",
      "_________________________________________________________________\n",
      "batch_normalization_1 (Batch (None, 512)               2048      \n",
      "_________________________________________________________________\n",
      "hidden_layer2 (Dense)        (None, 256)               131328    \n",
      "_________________________________________________________________\n",
      "batch_normalization_2 (Batch (None, 256)               1024      \n",
      "_________________________________________________________________\n",
      "hidden_layer3 (Dense)        (None, 128)               32896     \n",
      "_________________________________________________________________\n",
      "batch_normalization_3 (Batch (None, 128)               512       \n",
      "_________________________________________________________________\n",
      "output (Dense)               (None, 10)                1290      \n",
      "=================================================================\n",
      "Total params: 1,742,474\n",
      "Trainable params: 1,740,682\n",
      "Non-trainable params: 1,792\n",
      "_________________________________________________________________\n",
      "Train on 50000 samples, validate on 10000 samples\n",
      "Epoch 1/50\n",
      "50000/50000 [==============================] - 8s 153us/step - loss: 2.1749 - accuracy: 0.2793 - val_loss: 2.1505 - val_accuracy: 0.1906\n",
      "Epoch 2/50\n",
      "50000/50000 [==============================] - 7s 150us/step - loss: 1.7383 - accuracy: 0.3941 - val_loss: 1.9641 - val_accuracy: 0.2952\n",
      "Epoch 3/50\n",
      "50000/50000 [==============================] - 7s 150us/step - loss: 1.6164 - accuracy: 0.4348 - val_loss: 1.8198 - val_accuracy: 0.3656\n",
      "Epoch 4/50\n",
      "50000/50000 [==============================] - 8s 152us/step - loss: 1.5450 - accuracy: 0.4587 - val_loss: 1.7099 - val_accuracy: 0.4013\n",
      "Epoch 5/50\n",
      "50000/50000 [==============================] - 8s 156us/step - loss: 1.4900 - accuracy: 0.4774 - val_loss: 1.6568 - val_accuracy: 0.4144\n",
      "Epoch 6/50\n",
      "50000/50000 [==============================] - 8s 150us/step - loss: 1.4459 - accuracy: 0.4926 - val_loss: 1.5918 - val_accuracy: 0.4323\n",
      "Epoch 7/50\n",
      "50000/50000 [==============================] - 8s 150us/step - loss: 1.4065 - accuracy: 0.5092 - val_loss: 1.5579 - val_accuracy: 0.4484\n",
      "Epoch 8/50\n",
      "50000/50000 [==============================] - 7s 150us/step - loss: 1.3699 - accuracy: 0.5207 - val_loss: 1.5261 - val_accuracy: 0.4561\n",
      "Epoch 9/50\n",
      "50000/50000 [==============================] - 8s 151us/step - loss: 1.3371 - accuracy: 0.5320 - val_loss: 1.5041 - val_accuracy: 0.4631\n",
      "Epoch 10/50\n",
      "50000/50000 [==============================] - 8s 151us/step - loss: 1.3068 - accuracy: 0.5429 - val_loss: 1.4907 - val_accuracy: 0.4689\n",
      "Epoch 11/50\n",
      "50000/50000 [==============================] - 8s 150us/step - loss: 1.2799 - accuracy: 0.5549 - val_loss: 1.4768 - val_accuracy: 0.4742\n",
      "Epoch 12/50\n",
      "50000/50000 [==============================] - 8s 153us/step - loss: 1.2532 - accuracy: 0.5651 - val_loss: 1.4812 - val_accuracy: 0.4722\n",
      "Epoch 13/50\n",
      "50000/50000 [==============================] - 8s 155us/step - loss: 1.2276 - accuracy: 0.5748 - val_loss: 1.4638 - val_accuracy: 0.4797\n",
      "Epoch 14/50\n",
      "50000/50000 [==============================] - 8s 150us/step - loss: 1.2032 - accuracy: 0.5837 - val_loss: 1.4636 - val_accuracy: 0.4817\n",
      "Epoch 15/50\n",
      "50000/50000 [==============================] - 8s 157us/step - loss: 1.1790 - accuracy: 0.5936 - val_loss: 1.4524 - val_accuracy: 0.4853\n",
      "Epoch 16/50\n",
      "50000/50000 [==============================] - 8s 152us/step - loss: 1.1561 - accuracy: 0.6030 - val_loss: 1.4524 - val_accuracy: 0.4873\n",
      "Epoch 17/50\n",
      "50000/50000 [==============================] - 8s 150us/step - loss: 1.1315 - accuracy: 0.6115 - val_loss: 1.4475 - val_accuracy: 0.4927\n",
      "Epoch 18/50\n",
      "50000/50000 [==============================] - 8s 151us/step - loss: 1.1093 - accuracy: 0.6215 - val_loss: 1.4521 - val_accuracy: 0.4889\n",
      "Epoch 19/50\n",
      "50000/50000 [==============================] - 8s 151us/step - loss: 1.0877 - accuracy: 0.6289 - val_loss: 1.4491 - val_accuracy: 0.4897\n",
      "Epoch 20/50\n",
      "50000/50000 [==============================] - 8s 155us/step - loss: 1.0657 - accuracy: 0.6379 - val_loss: 1.4503 - val_accuracy: 0.4915\n",
      "Epoch 21/50\n",
      "50000/50000 [==============================] - 8s 153us/step - loss: 1.0438 - accuracy: 0.6448 - val_loss: 1.4510 - val_accuracy: 0.4897\n",
      "Epoch 22/50\n",
      "50000/50000 [==============================] - 8s 151us/step - loss: 1.0228 - accuracy: 0.6546 - val_loss: 1.4541 - val_accuracy: 0.4875\n",
      "Epoch 23/50\n",
      "50000/50000 [==============================] - 8s 151us/step - loss: 1.0047 - accuracy: 0.6612 - val_loss: 1.4653 - val_accuracy: 0.4910\n",
      "Epoch 24/50\n",
      "50000/50000 [==============================] - 8s 151us/step - loss: 0.9827 - accuracy: 0.6695 - val_loss: 1.4613 - val_accuracy: 0.4959\n",
      "Epoch 25/50\n",
      "50000/50000 [==============================] - 8s 151us/step - loss: 0.9615 - accuracy: 0.6791 - val_loss: 1.4467 - val_accuracy: 0.4993\n",
      "Epoch 26/50\n",
      "50000/50000 [==============================] - 8s 150us/step - loss: 0.9414 - accuracy: 0.6873 - val_loss: 1.4642 - val_accuracy: 0.4968\n",
      "Epoch 27/50\n",
      "50000/50000 [==============================] - 8s 151us/step - loss: 0.9209 - accuracy: 0.6944 - val_loss: 1.4596 - val_accuracy: 0.4968\n",
      "Epoch 28/50\n",
      "50000/50000 [==============================] - 8s 157us/step - loss: 0.9004 - accuracy: 0.7027 - val_loss: 1.4635 - val_accuracy: 0.4962\n",
      "Epoch 29/50\n",
      "50000/50000 [==============================] - 8s 152us/step - loss: 0.8813 - accuracy: 0.7105 - val_loss: 1.4652 - val_accuracy: 0.5019\n",
      "Epoch 30/50\n",
      "50000/50000 [==============================] - 8s 151us/step - loss: 0.8618 - accuracy: 0.7182 - val_loss: 1.4711 - val_accuracy: 0.4976\n",
      "Epoch 31/50\n",
      "50000/50000 [==============================] - 8s 154us/step - loss: 0.8413 - accuracy: 0.7248 - val_loss: 1.4692 - val_accuracy: 0.5027\n",
      "Epoch 32/50\n",
      "50000/50000 [==============================] - 8s 156us/step - loss: 0.8214 - accuracy: 0.7347 - val_loss: 1.4818 - val_accuracy: 0.4949\n",
      "Epoch 33/50\n",
      "50000/50000 [==============================] - 8s 151us/step - loss: 0.8020 - accuracy: 0.7408 - val_loss: 1.4827 - val_accuracy: 0.5011\n",
      "Epoch 34/50\n",
      "50000/50000 [==============================] - 8s 151us/step - loss: 0.7831 - accuracy: 0.7480 - val_loss: 1.5112 - val_accuracy: 0.4979\n",
      "Epoch 35/50\n",
      "50000/50000 [==============================] - 8s 151us/step - loss: 0.7653 - accuracy: 0.7553 - val_loss: 1.5036 - val_accuracy: 0.4976\n",
      "Epoch 36/50\n",
      "50000/50000 [==============================] - 8s 159us/step - loss: 0.7462 - accuracy: 0.7623 - val_loss: 1.5079 - val_accuracy: 0.4979\n",
      "Epoch 37/50\n",
      "50000/50000 [==============================] - 8s 151us/step - loss: 0.7273 - accuracy: 0.7705 - val_loss: 1.5080 - val_accuracy: 0.4982\n",
      "Epoch 38/50\n",
      "50000/50000 [==============================] - 8s 150us/step - loss: 0.7099 - accuracy: 0.7771 - val_loss: 1.5307 - val_accuracy: 0.5035\n",
      "Epoch 39/50\n",
      "50000/50000 [==============================] - 8s 151us/step - loss: 0.6916 - accuracy: 0.7842 - val_loss: 1.5279 - val_accuracy: 0.4976\n",
      "Epoch 40/50\n"
     ]
    },
    {
     "name": "stdout",
     "output_type": "stream",
     "text": [
      "50000/50000 [==============================] - 7s 149us/step - loss: 0.6705 - accuracy: 0.7933 - val_loss: 1.5348 - val_accuracy: 0.4968\n",
      "Epoch 41/50\n",
      "50000/50000 [==============================] - 8s 150us/step - loss: 0.6531 - accuracy: 0.8005 - val_loss: 1.5438 - val_accuracy: 0.4994\n",
      "Epoch 42/50\n",
      "50000/50000 [==============================] - 7s 148us/step - loss: 0.6364 - accuracy: 0.8055 - val_loss: 1.5698 - val_accuracy: 0.4989\n",
      "Epoch 43/50\n",
      "50000/50000 [==============================] - 7s 150us/step - loss: 0.6173 - accuracy: 0.8137 - val_loss: 1.5679 - val_accuracy: 0.4967\n",
      "Epoch 44/50\n",
      "50000/50000 [==============================] - 8s 156us/step - loss: 0.5984 - accuracy: 0.8226 - val_loss: 1.6003 - val_accuracy: 0.4920\n",
      "Epoch 45/50\n",
      "50000/50000 [==============================] - 7s 149us/step - loss: 0.5815 - accuracy: 0.8288 - val_loss: 1.5936 - val_accuracy: 0.4941\n",
      "Epoch 46/50\n",
      "50000/50000 [==============================] - 7s 149us/step - loss: 0.5661 - accuracy: 0.8353 - val_loss: 1.6179 - val_accuracy: 0.4954\n",
      "Epoch 47/50\n",
      "50000/50000 [==============================] - 7s 149us/step - loss: 0.5483 - accuracy: 0.8403 - val_loss: 1.6151 - val_accuracy: 0.4995\n",
      "Epoch 48/50\n",
      "50000/50000 [==============================] - 8s 158us/step - loss: 0.5329 - accuracy: 0.8483 - val_loss: 1.6381 - val_accuracy: 0.4882\n",
      "Epoch 49/50\n",
      "50000/50000 [==============================] - 7s 149us/step - loss: 0.5149 - accuracy: 0.8535 - val_loss: 1.6614 - val_accuracy: 0.4920\n",
      "Epoch 50/50\n",
      "50000/50000 [==============================] - 7s 149us/step - loss: 0.4987 - accuracy: 0.8600 - val_loss: 1.6578 - val_accuracy: 0.4906\n"
     ]
    }
   ],
   "source": [
    "# 載入 Callbacks, 並將監控目標設為 validation loss, 且設定最佳參數時的模型\n",
    "from keras.callbacks import ModelCheckpoint\n",
    "\n",
    "\n",
    "results = {}\n",
    "for mlchk in MODEL_CHECK:\n",
    "    keras.backend.clear_session() # 把舊的 Graph 清掉\n",
    "    #存檔路徑\n",
    "    file_path = \"./tmp_MODEL_CHECK_{0}.h5\".format(str(mlchk))\n",
    "    print(\"Experiment with ModelCheckpoint = %s, filepath = %s\" % (mlchk, file_path))\n",
    "    \n",
    "    model = build_mlp(input_shape=x_train.shape[1:])\n",
    "    model.summary()\n",
    "    optimizer = keras.optimizers.SGD(lr=LEARNING_RATE, nesterov=True, momentum=MOMENTUM)\n",
    "    \n",
    "    model_ckpt = ModelCheckpoint(filepath=file_path,\n",
    "                             monitor=\"val_loss\",\n",
    "                             save_best_only=mlchk)\n",
    "    \n",
    "    model.compile(loss=\"categorical_crossentropy\", metrics=[\"accuracy\"], optimizer=optimizer)\n",
    "\n",
    "    model.fit(x_train, y_train, \n",
    "              epochs=EPOCHS, \n",
    "              batch_size=BATCH_SIZE, \n",
    "              validation_data=(x_test, y_test), \n",
    "              shuffle=True,\n",
    "              callbacks=[model_ckpt]\n",
    "             )\n",
    "\n",
    "    # Collect results\n",
    "    train_loss = model.history.history[\"loss\"]\n",
    "    valid_loss = model.history.history[\"val_loss\"]\n",
    "    train_acc = model.history.history[\"accuracy\"]\n",
    "    valid_acc = model.history.history[\"val_accuracy\"]\n",
    "    \n",
    "    exp_name_tag = \"exp-mlchk-%s\" % (str(mlchk))\n",
    "    results[exp_name_tag] = {'train-loss': train_loss,\n",
    "                             'valid-loss': valid_loss,\n",
    "                             'train-acc': train_acc,\n",
    "                             'valid-acc': valid_acc}"
   ]
  },
  {
   "cell_type": "code",
   "execution_count": 8,
   "metadata": {
    "scrolled": true
   },
   "outputs": [
    {
     "data": {
      "image/png": "[encoded data removed]",
      "text/plain": [
       "<Figure size 576x432 with 1 Axes>"
      ]
     },
     "metadata": {
      "needs_background": "light"
     },
     "output_type": "display_data"
    },
    {
     "data": {
      "image/png": "[encoded data removed]",
      "text/plain": [
       "<Figure size 576x432 with 1 Axes>"
      ]
     },
     "metadata": {
      "needs_background": "light"
     },
     "output_type": "display_data"
    }
   ],
   "source": [
    "import matplotlib.pyplot as plt\n",
    "%matplotlib inline\n",
    "\n",
    "import matplotlib.cm as mplcm\n",
    "import matplotlib.colors as colors\n",
    "NUM_COLORS = 25\n",
    "\n",
    "cm = plt.get_cmap('gist_rainbow')\n",
    "cNorm  = colors.Normalize(vmin=0, vmax=NUM_COLORS-1)\n",
    "scalarMap = mplcm.ScalarMappable(norm=cNorm, cmap=cm)\n",
    "color_bar = [scalarMap.to_rgba(i) for i in range(NUM_COLORS)]\n",
    "\n",
    "plt.figure(figsize=(8,6))\n",
    "for i, cond in enumerate(results.keys()):\n",
    "    plt.plot(range(len(results[cond]['train-loss'])),results[cond]['train-loss'], '-', label=cond, color=color_bar[i])\n",
    "    plt.plot(range(len(results[cond]['valid-loss'])),results[cond]['valid-loss'], '--', label=cond, color=color_bar[i])\n",
    "plt.title(\"Loss\")\n",
    "plt.ylim([0, 5])\n",
    "plt.legend()\n",
    "plt.show()\n",
    "\n",
    "plt.figure(figsize=(8,6))\n",
    "for i, cond in enumerate(results.keys()):\n",
    "    plt.plot(range(len(results[cond]['train-acc'])),results[cond]['train-acc'], '-', label=cond, color=color_bar[i])\n",
    "    plt.plot(range(len(results[cond]['valid-acc'])),results[cond]['valid-acc'], '--', label=cond, color=color_bar[i])\n",
    "plt.title(\"Accuracy\")\n",
    "plt.legend()\n",
    "plt.show()"
   ]
  },
  {
   "cell_type": "markdown",
   "metadata": {},
   "source": [
    "#### 請僅存入將 save_weights_only 設定為 True, 並嘗試 reset ipynb 並將模型與權重重新建回並預測 x_test"
   ]
  },
  {
   "cell_type": "code",
   "execution_count": 9,
   "metadata": {},
   "outputs": [
    {
     "name": "stdout",
     "output_type": "stream",
     "text": [
      "10000/10000 [==============================] - 2s 219us/step\n"
     ]
    }
   ],
   "source": [
    "# Load back\n",
    "import os\n",
    "import keras\n",
    "model = keras.models.load_model(\"./tmp_MODEL_CHECK_True.h5\")\n",
    "loss_loadback, acc_loadback = model.evaluate(x_test, y_test)"
   ]
  },
  {
   "cell_type": "code",
   "execution_count": 10,
   "metadata": {},
   "outputs": [
    {
     "data": {
      "text/plain": [
       "1.460200845336914"
      ]
     },
     "execution_count": 10,
     "metadata": {},
     "output_type": "execute_result"
    }
   ],
   "source": [
    "loss_loadback"
   ]
  },
  {
   "cell_type": "code",
   "execution_count": 11,
   "metadata": {},
   "outputs": [
    {
     "data": {
      "text/plain": [
       "0.489300012588501"
      ]
     },
     "execution_count": 11,
     "metadata": {},
     "output_type": "execute_result"
    }
   ],
   "source": [
    "acc_loadback"
   ]
  }
 ],
 "metadata": {
  "kernelspec": {
   "display_name": "Python 3",
   "language": "python",
   "name": "python3"
  },
  "language_info": {
   "codemirror_mode": {
    "name": "ipython",
    "version": 3
   },
   "file_extension": ".py",
   "mimetype": "text/x-python",
   "name": "python",
   "nbconvert_exporter": "python",
   "pygments_lexer": "ipython3",
   "version": "3.7.6"
  }
 },
 "nbformat": 4,
 "nbformat_minor": 2
}
